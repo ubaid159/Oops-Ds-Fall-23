{
 "cells": [
  {
   "cell_type": "markdown",
   "id": "9527a150",
   "metadata": {},
   "source": [
    "<center><span style=\"\n",
    "    font-size: 30px;\n",
    "    font-family: castellar;\n",
    "    color: BLUE;\n",
    "    font-weight: bold;\n",
    "    letter-spacing: 1px;\n",
    "    text-shadow: 3px 1px 0px rgba(0, ,0, 1, 1)\n",
    "\">\n",
    "   LAB TASK NO.4\n",
    "</span></center>"
   ]
  },
  {
   "cell_type": "markdown",
   "id": "f0fdf3ba",
   "metadata": {},
   "source": [
    "# CLASS"
   ]
  },
  {
   "cell_type": "markdown",
   "id": "ec829129",
   "metadata": {},
   "source": [
    "**1. Motivation\n",
    "Interest is to make a list that can store employee data.**\n",
    "[name, age, position, the year they started working]\n",
    "For example\n",
    "* kirk = [\"James Kirk\", 34, \"Captain\", 2265]\n",
    "* spock = [\"Spock\", 35, \"Science Officer\", 2254]\n",
    "* mccoy = [\"Leonard McCoy\", \"Chief Medical Officer\", 2266]\n"
   ]
  },
  {
   "cell_type": "code",
   "execution_count": 1,
   "id": "4febfb95",
   "metadata": {},
   "outputs": [],
   "source": [
    "kirk = [\"James Kirk\", 24, \"Captain\", 2368]\n",
    "spock = [\"Spock\", 45, \"Science Officer\", 3426]\n",
    "mccoy = [\"Leonard McCoy\", \"Chief Medical Officer\", 5422]"
   ]
  },
  {
   "cell_type": "markdown",
   "id": "c679ee97",
   "metadata": {},
   "source": [
    "* Print(kirk[0])"
   ]
  },
  {
   "cell_type": "code",
   "execution_count": 2,
   "id": "c7c5ed6b",
   "metadata": {},
   "outputs": [
    {
     "name": "stdout",
     "output_type": "stream",
     "text": [
      "James Kirk\n"
     ]
    }
   ],
   "source": [
    "print(kirk[0])"
   ]
  },
  {
   "cell_type": "markdown",
   "id": "e9c74540",
   "metadata": {},
   "source": [
    "print(moocy[1])"
   ]
  },
  {
   "cell_type": "code",
   "execution_count": 3,
   "id": "2b7915c8",
   "metadata": {},
   "outputs": [
    {
     "name": "stdout",
     "output_type": "stream",
     "text": [
      "Chief Medical Officer\n"
     ]
    }
   ],
   "source": [
    "print(mccoy[1])"
   ]
  },
  {
   "cell_type": "markdown",
   "id": "638876a2",
   "metadata": {},
   "source": [
    "## 2. Dog class"
   ]
  },
  {
   "cell_type": "code",
   "execution_count": 4,
   "id": "fa997482",
   "metadata": {},
   "outputs": [],
   "source": [
    "# Define the Dog class\n",
    "class Dog:\n",
    "    pass  # The Dog class is currently an empty class\n"
   ]
  },
  {
   "cell_type": "code",
   "execution_count": 5,
   "id": "3f71fd02-e3bf-4d11-9699-39c24bc31b86",
   "metadata": {},
   "outputs": [],
   "source": [
    "# a. Create a new object from the class\n",
    "dog1 = Dog()\n",
    "\n",
    "# b. Assign the new object to a variable\n",
    "Inst = Dog()\n"
   ]
  },
  {
   "cell_type": "code",
   "execution_count": 6,
   "id": "cf5abdfd-9785-44b2-8125-1c675dc85dea",
   "metadata": {},
   "outputs": [],
   "source": [
    "# c. Create two new Dog objects and assign them to the variables a and b\n",
    "a = Dog()\n",
    "b = Dog()\n"
   ]
  },
  {
   "cell_type": "code",
   "execution_count": 7,
   "id": "c8fd399a-6e39-4024-82e3-7ec1b62e14ac",
   "metadata": {},
   "outputs": [
    {
     "name": "stdout",
     "output_type": "stream",
     "text": [
      "Comparing a and b using ==: False\n"
     ]
    }
   ],
   "source": [
    "# d. Comparing a and b using the == operator\n",
    "# Since a and b are distinct objects, the result will be False\n",
    "print(f\"Comparing a and b using ==: {a == b}\")  # Expected output: False"
   ]
  },
  {
   "cell_type": "code",
   "execution_count": 8,
   "id": "8352bb38-5738-439a-bc3b-6567b0ec3c1a",
   "metadata": {},
   "outputs": [
    {
     "name": "stdout",
     "output_type": "stream",
     "text": [
      "Object a: <__main__.Dog object at 0x00000249DE3789A0>\n",
      "Object b: <__main__.Dog object at 0x00000249DE378EB0>\n"
     ]
    }
   ],
   "source": [
    "# e. Use the print command to print both instances/objects\n",
    "print(f\"Object a: {a}\")\n",
    "print(f\"Object b: {b}\")\n"
   ]
  },
  {
   "cell_type": "markdown",
   "id": "728db0ae-e54d-4f24-9923-78145432d9e0",
   "metadata": {},
   "source": [
    "## MyFirstClass"
   ]
  },
  {
   "cell_type": "code",
   "execution_count": 9,
   "id": "9ac75e75-b88a-491f-8571-3d96c2fc45f5",
   "metadata": {},
   "outputs": [
    {
     "name": "stdout",
     "output_type": "stream",
     "text": [
      "FC1 and FC2 are the same object: False\n",
      "FC1: <__main__.MyFirstClass object at 0x00000249DE360040>\n",
      "FC2: <__main__.MyFirstClass object at 0x00000249DE378C10>\n"
     ]
    }
   ],
   "source": [
    "# Define the class MyFirstClass\n",
    "class MyFirstClass:\n",
    "    pass  # No implementation inside the class, just a placeholder\n",
    "\n",
    "# a. Make two instances named FC1 and FC2\n",
    "FC1 = MyFirstClass()\n",
    "FC2 = MyFirstClass()\n",
    "\n",
    "# b. Check whether FC1 and FC2 represent the same object or not\n",
    "print(f\"FC1 and FC2 are the same object: {FC1 is FC2}\")  # The `is` operator checks if both refer to the same object\n",
    "\n",
    "# c. Use the print command and print both instances\n",
    "print(f\"FC1: {FC1}\")\n",
    "print(f\"FC2: {FC2}\")\n"
   ]
  },
  {
   "cell_type": "markdown",
   "id": "332fb76b-bcf7-4cd6-878f-914ec4293f46",
   "metadata": {},
   "source": [
    "## Point class"
   ]
  },
  {
   "cell_type": "code",
   "execution_count": 10,
   "id": "1cacc261-f93c-4cf1-bada-1c7a58ef7f2c",
   "metadata": {},
   "outputs": [],
   "source": [
    "# Define the Point class\n",
    "class Point:\n",
    "    pass  # No implementation, just a placeholder for now\n"
   ]
  },
  {
   "cell_type": "code",
   "execution_count": 11,
   "id": "32a7bedf-3c95-4f98-a58c-25ce725354b6",
   "metadata": {},
   "outputs": [],
   "source": [
    "# a. Make two instances named p1 and p2\n",
    "p1 = Point()\n",
    "p2 = Point()\n",
    "\n",
    "# Assigning attributes to the objects\n",
    "p1.x = 3\n",
    "p1.y = 4\n",
    "\n",
    "p2.x = 6\n",
    "p2.y = 8"
   ]
  },
  {
   "cell_type": "code",
   "execution_count": 12,
   "id": "5eb0fc8c-9d02-4fa7-b695-2b62909dfdd2",
   "metadata": {},
   "outputs": [
    {
     "name": "stdout",
     "output_type": "stream",
     "text": [
      "p1: <__main__.Point object at 0x00000249DE378A30>, p1.x = 3, p1.y = 4\n",
      "p2: <__main__.Point object at 0x00000249DE372040>, p2.x = 6, p2.y = 8\n"
     ]
    }
   ],
   "source": [
    "# b. Print both objects p1 and p2\n",
    "print(f\"p1: {p1}, p1.x = {p1.x}, p1.y = {p1.y}\")\n",
    "print(f\"p2: {p2}, p2.x = {p2.x}, p2.y = {p2.y}\")\n"
   ]
  },
  {
   "cell_type": "code",
   "execution_count": 13,
   "id": "1b39a1ca-afa8-454b-828c-bd6bda56c4a4",
   "metadata": {},
   "outputs": [],
   "source": [
    "# c. Try different names for objects, instead of p1 and p2\n",
    "# and also use different attribute names\n",
    "obj1 = Point()\n",
    "obj2 = Point()\n"
   ]
  },
  {
   "cell_type": "code",
   "execution_count": 14,
   "id": "02622f29-8753-4806-ad39-cc53e312030b",
   "metadata": {},
   "outputs": [
    {
     "name": "stdout",
     "output_type": "stream",
     "text": [
      "obj1: <__main__.Point object at 0x00000249DE378310>, obj1.latitude = 50.0, obj1.longitude = 75.0\n",
      "obj2: <__main__.Point object at 0x00000249DE372D30>, obj2.latitude = 55.0, obj2.longitude = 80.0\n",
      "obj1.greeting(): Hello!\n"
     ]
    }
   ],
   "source": [
    "# Assigning different attributes\n",
    "obj1.latitude = 50.0\n",
    "obj1.longitude = 75.0\n",
    "\n",
    "obj2.latitude = 55.0\n",
    "obj2.longitude = 80.0\n",
    "\n",
    "# Print the objects with the new names and attributes\n",
    "print(f\"obj1: {obj1}, obj1.latitude = {obj1.latitude}, obj1.longitude = {obj1.longitude}\")\n",
    "print(f\"obj2: {obj2}, obj2.latitude = {obj2.latitude}, obj2.longitude = {obj2.longitude}\")\n",
    "\n",
    "# Assign a function as an attribute\n",
    "def greet():\n",
    "    return \"Hello!\"\n",
    "\n",
    "obj1.greeting = greet  # Assigning a function as an attribute\n",
    "\n",
    "# Print the function attribute\n",
    "print(f\"obj1.greeting(): {obj1.greeting()}\")  # Calling the function stored in obj1\n"
   ]
  },
  {
   "cell_type": "markdown",
   "id": "30aa7ca5-dbab-4e2d-b18b-b0432dacc1d7",
   "metadata": {},
   "source": [
    "# Dog"
   ]
  },
  {
   "cell_type": "code",
   "execution_count": 15,
   "id": "3d66084f-7062-47e9-9391-0bd4f4efb144",
   "metadata": {},
   "outputs": [],
   "source": [
    "# Define the Dog class with an __init__() method\n",
    "class Dog:\n",
    "    def __init__(self, name, age):\n",
    "        \"\"\"Initialize the Dog object with a name and age.\"\"\"\n",
    "        self.name = name\n",
    "        self.age = age"
   ]
  },
  {
   "cell_type": "code",
   "execution_count": 16,
   "id": "fbbe0f4c-86f7-49d1-88c1-91a89d71c58a",
   "metadata": {},
   "outputs": [
    {
     "name": "stdout",
     "output_type": "stream",
     "text": [
      "<__main__.Dog object at 0x00000249DE378BE0>\n"
     ]
    }
   ],
   "source": [
    "\n",
    "# a. Run: miles = Dog(\"Miles\", 4)\n",
    "miles = Dog(\"Miles\", 4)\n",
    "\n",
    "# b. Print miles\n",
    "print(miles)\n"
   ]
  },
  {
   "cell_type": "markdown",
   "id": "1fcabc94-623a-4d44-8bb2-2b77319e74b9",
   "metadata": {},
   "source": [
    "## DOG"
   ]
  },
  {
   "cell_type": "code",
   "execution_count": 17,
   "id": "a140682e",
   "metadata": {},
   "outputs": [],
   "source": [
    "# Define the Dog class with class and instance attributes\n",
    "class Dog:\n",
    "    species = \"Canis familiaris\"  # Class attribute\n",
    "\n",
    "    def __init__(self, name, age):\n",
    "        \"\"\"Initialize the Dog object with a name and age.\"\"\"\n",
    "        self.name = name  # Instance attribute\n",
    "        self.age = age    # Instance attribute\n",
    "\n"
   ]
  },
  {
   "cell_type": "code",
   "execution_count": 18,
   "id": "d34840af",
   "metadata": {},
   "outputs": [
    {
     "name": "stdout",
     "output_type": "stream",
     "text": [
      "Miles' name: Miles, age: 4\n",
      "Buddy's name: Buddy, age: 9\n"
     ]
    }
   ],
   "source": [
    "# a. To instantiate this Dog class, you need to provide values for name and age. \n",
    "# b. Instantiate Dog objects with name and age\n",
    "miles = Dog(\"Miles\", 4)\n",
    "buddy = Dog(\"Buddy\", 9)\n",
    "\n",
    "# c. Accessing instance attributes (name and age)\n",
    "print(f\"Miles' name: {miles.name}, age: {miles.age}\")\n",
    "print(f\"Buddy's name: {buddy.name}, age: {buddy.age}\")"
   ]
  },
  {
   "cell_type": "code",
   "execution_count": 19,
   "id": "8577c73b",
   "metadata": {},
   "outputs": [
    {
     "name": "stdout",
     "output_type": "stream",
     "text": [
      "Buddy's new age: 10\n",
      "Miles' species: Felis silvestris\n",
      "Buddy's species (class attribute): Canis familiaris\n"
     ]
    }
   ],
   "source": [
    "# d. Modifying attributes\n",
    "buddy.age = 10  # Changing Buddy's age\n",
    "print(f\"Buddy's new age: {buddy.age}\")\n",
    "\n",
    "# Changing species at the instance level (this will only affect miles)\n",
    "miles.species = \"Felis silvestris\"\n",
    "print(f\"Miles' species: {miles.species}\")\n",
    "\n",
    "# Checking the class attribute for species, which is unchanged for Buddy\n",
    "print(f\"Buddy's species (class attribute): {buddy.species}\")\n"
   ]
  },
  {
   "cell_type": "markdown",
   "id": "190df577-967f-47d2-8132-9923d9d73a61",
   "metadata": {},
   "source": [
    "## POINT 2D"
   ]
  },
  {
   "cell_type": "code",
   "execution_count": 20,
   "id": "f4d52518-8816-4918-b038-3c8eed017af5",
   "metadata": {},
   "outputs": [],
   "source": [
    "import math\n",
    "\n",
    "class Point:\n",
    "\n",
    "    def __init__(self, x: float, y: float) -> None:\n",
    "        self.x = x\n",
    "        self.y = y\n",
    "\n",
    "    def distance(self, p2: 'Point') -> float:\n",
    "        return math.sqrt((self.x - p2.x)**2 + (self.y - p2.y)**2)\n",
    "\n",
    "    def locate(self) -> str:\n",
    "        if self.x > 0 and self.y > 0:\n",
    "            return f\"The point ({self.x}, {self.y}) is in Quadrant I.\"\n",
    "        elif self.x < 0 and self.y > 0:\n",
    "            return f\"The point ({self.x}, {self.y}) is in Quadrant II.\"\n",
    "        elif self.x < 0 and self.y < 0:\n",
    "            return f\"The point ({self.x}, {self.y}) is in Quadrant III.\"\n",
    "        elif self.x > 0 and self.y < 0:\n",
    "            return f\"The point ({self.x}, {self.y}) is in Quadrant IV.\"\n",
    "        elif self.x == 0 and self.y != 0:\n",
    "            return f\"The point ({self.x}, {self.y}) is on the Y-axis.\"\n",
    "        elif self.y == 0 and self.x != 0:\n",
    "            return f\"The point ({self.x}, {self.y}) is on the X-axis.\"\n",
    "        else:\n",
    "            return f\"The point ({self.x}, {self.y}) is at the Origin.\"\n",
    "\n",
    "    def display(self) -> tuple:\n",
    "        return (self.x, self.y)\n",
    "\n",
    "\n"
   ]
  },
  {
   "cell_type": "code",
   "execution_count": 21,
   "id": "6106cb0e-73d8-4159-99c2-2e4d442bb941",
   "metadata": {},
   "outputs": [
    {
     "name": "stdout",
     "output_type": "stream",
     "text": [
      "Point 1: (3, 4)\n",
      "Point 2: (-5, 7)\n",
      "Location of Point 1: The point (3, 4) is in Quadrant I.\n",
      "Location of Point 2: The point (-5, 7) is in Quadrant II.\n",
      "Point 1 coordinates: 3 4\n",
      "Point 2 coordinates: -5 7\n"
     ]
    }
   ],
   "source": [
    "# a. Define point1 and pass two numbers.\n",
    "p1 = Point(3, 4)\n",
    "\n",
    "# b. Create another instance of the Point class, say its name is p2.\n",
    "p2 = Point(-5, 7)\n",
    "\n",
    "# c. Print p1 and p2 using the print command and passing the point as input.\n",
    "print(\"Point 1:\", p1.display())\n",
    "print(\"Point 2:\", p2.display())\n",
    "\n",
    "# d. Print the location of both points (quadrants or axes).\n",
    "print(\"Location of Point 1:\", p1.locate())\n",
    "print(\"Location of Point 2:\", p2.locate())\n",
    "\n",
    "# e. Print the coordinate by using the object and dot operator.\n",
    "print(\"Point 1 coordinates:\", p1.x, p1.y)\n",
    "print(\"Point 2 coordinates:\", p2.x, p2.y)"
   ]
  },
  {
   "cell_type": "code",
   "execution_count": 22,
   "id": "72a37195-4a26-459b-9ea1-7f7383ceb0ff",
   "metadata": {},
   "outputs": [
    {
     "name": "stdout",
     "output_type": "stream",
     "text": [
      "Using display method for Point 1: (3, 4)\n",
      "Using display method for Point 2: (-5, 7)\n",
      "The distance between Point 1 and Point 2 is: 8.54\n"
     ]
    }
   ],
   "source": [
    "\n",
    "# f. Add a new method to effectively print the points.\n",
    "print(\"Using display method for Point 1:\", p1.display())\n",
    "print(\"Using display method for Point 2:\", p2.display())\n",
    "\n",
    "# g. Calculate the distance between these two points.\n",
    "distance = p1.distance(p2)\n",
    "print(f\"The distance between Point 1 and Point 2 is: {distance:.2f}\")"
   ]
  },
  {
   "cell_type": "code",
   "execution_count": 23,
   "id": "90dc188e-d090-4556-84fd-f82b3232a36c",
   "metadata": {},
   "outputs": [
    {
     "name": "stdout",
     "output_type": "stream",
     "text": [
      "\n",
      "Class __dict__: {'__module__': '__main__', '__init__': <function Point.__init__ at 0x00000249DE39D310>, 'distance': <function Point.distance at 0x00000249DE39DA60>, 'locate': <function Point.locate at 0x00000249DE39DAF0>, 'display': <function Point.display at 0x00000249DE39DB80>, '__dict__': <attribute '__dict__' of 'Point' objects>, '__weakref__': <attribute '__weakref__' of 'Point' objects>, '__doc__': None}\n",
      "\n",
      "Object __dict__ for p1: {'x': 3, 'y': 4}\n",
      "Object __dict__ for p2: {'x': -5, 'y': 7}\n",
      "Help on class Point in module __main__:\n",
      "\n",
      "class Point(builtins.object)\n",
      " |  Point(x: float, y: float) -> None\n",
      " |  \n",
      " |  Methods defined here:\n",
      " |  \n",
      " |  __init__(self, x: float, y: float) -> None\n",
      " |      Initialize self.  See help(type(self)) for accurate signature.\n",
      " |  \n",
      " |  display(self) -> tuple\n",
      " |  \n",
      " |  distance(self, p2: 'Point') -> float\n",
      " |  \n",
      " |  locate(self) -> str\n",
      " |  \n",
      " |  ----------------------------------------------------------------------\n",
      " |  Data descriptors defined here:\n",
      " |  \n",
      " |  __dict__\n",
      " |      dictionary for instance variables (if defined)\n",
      " |  \n",
      " |  __weakref__\n",
      " |      list of weak references to the object (if defined)\n",
      "\n",
      "\n",
      "Class doc-string: None\n",
      "Constructor doc-string: None\n",
      "Distance method doc-string: None\n",
      "Locate method doc-string: None\n",
      "Display method doc-string: None\n",
      "\n",
      "Constructor annotations: {'x': <class 'float'>, 'y': <class 'float'>, 'return': None}\n",
      "Distance method annotations: {'p2': 'Point', 'return': <class 'float'>}\n",
      "Locate method annotations: {'return': <class 'str'>}\n",
      "Display method annotations: {'return': <class 'tuple'>}\n"
     ]
    }
   ],
   "source": [
    "\n",
    "\n",
    "# h. Call the __dict__ by the class name.\n",
    "print(\"\\nClass __dict__:\", Point.__dict__)\n",
    "\n",
    "# i. Call the __dict__ on the object of the class.\n",
    "print(\"\\nObject __dict__ for p1:\", p1.__dict__)\n",
    "print(\"Object __dict__ for p2:\", p2.__dict__)\n",
    "\n",
    "# j. Pass the class name to help.\n",
    "help(Point)\n",
    "\n",
    "# k. Print the doc-string and annotations of both the class and each instance method.\n",
    "print(\"\\nClass doc-string:\", Point.__doc__)\n",
    "print(\"Constructor doc-string:\", Point.__init__.__doc__)\n",
    "print(\"Distance method doc-string:\", Point.distance.__doc__)\n",
    "print(\"Locate method doc-string:\", Point.locate.__doc__)\n",
    "print(\"Display method doc-string:\", Point.display.__doc__)\n",
    "\n",
    "# Print annotations for the methods\n",
    "print(\"\\nConstructor annotations:\", Point.__init__.__annotations__)\n",
    "print(\"Distance method annotations:\", Point.distance.__annotations__)\n",
    "print(\"Locate method annotations:\", Point.locate.__annotations__)\n",
    "print(\"Display method annotations:\", Point.display.__annotations__)\n"
   ]
  },
  {
   "cell_type": "code",
   "execution_count": null,
   "id": "dd028b63-8814-49fd-a6c0-fa7192982641",
   "metadata": {},
   "outputs": [],
   "source": []
  },
  {
   "cell_type": "code",
   "execution_count": 24,
   "id": "5a5eb215-be70-44b7-b407-2be219fcdeb9",
   "metadata": {},
   "outputs": [
    {
     "name": "stdout",
     "output_type": "stream",
     "text": [
      "Point 1 coordinates using dot operator: (3, 4)\n",
      "Point Coordinates: (3, 4)\n",
      "Point Coordinates: (5, 0)\n",
      "Point Coordinates: (0, 0)\n"
     ]
    }
   ],
   "source": [
    "import math\n",
    "\n",
    "class Point:\n",
    "    def __init__(self, x: float = 0, y: float = 0) -> None:\n",
    "        self.x = x\n",
    "        self.y = y\n",
    "\n",
    "    def distance(self, p2: 'Point') -> float:\n",
    "        return math.sqrt((self.x - p2.x)**2 + (self.y - p2.y)**2)\n",
    "\n",
    "    def locate(self) -> str:\n",
    "        if self.x > 0 and self.y > 0:\n",
    "            return f\"The point ({self.x}, {self.y}) is in Quadrant I.\"\n",
    "        elif self.x < 0 and self.y > 0:\n",
    "            return f\"The point ({self.x}, {self.y}) is in Quadrant II.\"\n",
    "        elif self.x < 0 and self.y < 0:\n",
    "            return f\"The point ({self.x}, {self.y}) is in Quadrant III.\"\n",
    "        elif self.x > 0 and self.y < 0:\n",
    "            return f\"The point ({self.x}, {self.y}) is in Quadrant IV.\"\n",
    "        elif self.x == 0 and self.y != 0:\n",
    "            return f\"The point ({self.x}, {self.y}) is on the Y-axis.\"\n",
    "        elif self.y == 0 and self.x != 0:\n",
    "            return f\"The point ({self.x}, {self.y}) is on the X-axis.\"\n",
    "        else:\n",
    "            return f\"The point ({self.x}, {self.y}) is at the Origin.\"\n",
    "\n",
    "    def display(self) -> tuple:\n",
    "        return (self.x, self.y)\n",
    "\n",
    "    def show(self) -> None:\n",
    "        \n",
    "        print(f\"Point Coordinates: ({self.x}, {self.y})\")\n",
    "\n",
    "# a. Define point_1 by passing two arguments and print their values by using the dot operator\n",
    "point_1 = Point(3, 4)\n",
    "print(f\"Point 1 coordinates using dot operator: ({point_1.x}, {point_1.y})\")\n",
    "point_1.show()  # Using the show method to display the point\n",
    "\n",
    "# b. Define another object with the name point_2 and pass one argument. Display its value by calling the show method.\n",
    "point_2 = Point(5)  # Only the x-coordinate is passed, y will default to 0\n",
    "point_2.show()  # Using the show method to display the point\n",
    "\n",
    "# c. Define another object with the name point_3 and pass no argument. Display its value by calling the show method.\n",
    "point_3 = Point()  # No arguments passed, so it defaults to the origin (0, 0)\n",
    "point_3.show()  # Using the show method to display the point\n"
   ]
  },
  {
   "cell_type": "code",
   "execution_count": null,
   "id": "64d480dc-66af-4dc6-999e-62e19bc871c4",
   "metadata": {},
   "outputs": [],
   "source": []
  },
  {
   "cell_type": "code",
   "execution_count": null,
   "id": "6f25d9bb-7333-4819-94f9-7710827f5384",
   "metadata": {},
   "outputs": [],
   "source": []
  },
  {
   "cell_type": "code",
   "execution_count": null,
   "id": "ac66bca6-ce2c-46f2-b3cc-f5838e3cba60",
   "metadata": {},
   "outputs": [],
   "source": []
  },
  {
   "cell_type": "code",
   "execution_count": null,
   "id": "b76bdc23-4e61-4d77-b6e7-f5845c71dcf3",
   "metadata": {},
   "outputs": [],
   "source": []
  },
  {
   "cell_type": "code",
   "execution_count": null,
   "id": "fb22cb5e-25c0-4b40-8da8-2a85d8c2cdce",
   "metadata": {},
   "outputs": [],
   "source": []
  }
 ],
 "metadata": {
  "kernelspec": {
   "display_name": "Python 3 (ipykernel)",
   "language": "python",
   "name": "python3"
  },
  "language_info": {
   "codemirror_mode": {
    "name": "ipython",
    "version": 3
   },
   "file_extension": ".py",
   "mimetype": "text/x-python",
   "name": "python",
   "nbconvert_exporter": "python",
   "pygments_lexer": "ipython3",
   "version": "3.9.19"
  }
 },
 "nbformat": 4,
 "nbformat_minor": 5
}
