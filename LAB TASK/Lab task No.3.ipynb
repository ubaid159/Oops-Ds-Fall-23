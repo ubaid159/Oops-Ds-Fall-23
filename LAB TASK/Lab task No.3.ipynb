{
 "cells": [
  {
   "cell_type": "markdown",
   "id": "140b7534-7f1a-44e2-9832-0ed63c53bc4b",
   "metadata": {
    "jp-MarkdownHeadingCollapsed": true
   },
   "source": [
    "# Name : MUHAMMAD KASHIF\n",
    "# Reg No : 23jzeleo517\n",
    "# Lab Task : 03"
   ]
  },
  {
   "cell_type": "markdown",
   "id": "b0e9b785-f1a6-4be9-a9a3-15c78dbdaacb",
   "metadata": {},
   "source": [
    "# Lab practice "
   ]
  },
  {
   "cell_type": "markdown",
   "id": "78d57ce9-a65b-40e6-a941-920e455819ee",
   "metadata": {},
   "source": [
    "# List:"
   ]
  },
  {
   "cell_type": "markdown",
   "id": "af8dfd63-f11d-4f8e-b620-2b80c0f6ba43",
   "metadata": {},
   "source": [
    "1. Make a list of 5 any integers. "
   ]
  },
  {
   "cell_type": "code",
   "execution_count": 1,
   "id": "f2722fc4-4463-4fa6-b626-dfe7bbd08927",
   "metadata": {},
   "outputs": [
    {
     "data": {
      "text/plain": [
       "[1, 2, 3, 4, 5]"
      ]
     },
     "execution_count": 1,
     "metadata": {},
     "output_type": "execute_result"
    }
   ],
   "source": [
    "lst1 = [1,2,3,4,5]\n",
    "lst1"
   ]
  },
  {
   "cell_type": "markdown",
   "id": "0971b5cd-2c8d-4478-8c4e-b9692fef854b",
   "metadata": {},
   "source": [
    "2. Make a list that contains the student's name, the last four digits of the registration number\n",
    "as an integer, CGPA as a float, and a list that contains the GPA of all semesters. (Nested List)"
   ]
  },
  {
   "cell_type": "code",
   "execution_count": 2,
   "id": "40fa42fe-f458-432b-9a38-dddaa98abf1b",
   "metadata": {},
   "outputs": [
    {
     "data": {
      "text/plain": [
       "['M.KASHIF', 528, 3.91, [3.86, 3.95]]"
      ]
     },
     "execution_count": 2,
     "metadata": {},
     "output_type": "execute_result"
    }
   ],
   "source": [
    "student = ['M.KASHIF', 528, 3.91, [3.86,3.95]]\n",
    "student"
   ]
  },
  {
   "cell_type": "markdown",
   "id": "6fe1776a-fb16-4065-9040-8ac6425fd77a",
   "metadata": {},
   "source": [
    "3. In the above list print the student's CGPA. (Index)"
   ]
  },
  {
   "cell_type": "code",
   "execution_count": 3,
   "id": "55707759-30f9-46d9-a536-6790460f78e8",
   "metadata": {},
   "outputs": [
    {
     "data": {
      "text/plain": [
       "3.91"
      ]
     },
     "execution_count": 3,
     "metadata": {},
     "output_type": "execute_result"
    }
   ],
   "source": [
    "student[2]"
   ]
  },
  {
   "cell_type": "markdown",
   "id": "3d7dfcc4-39c2-495d-95b7-c8009067112e",
   "metadata": {},
   "source": [
    "4. Print the list elements using the while loop and use the length function. (len)"
   ]
  },
  {
   "cell_type": "code",
   "execution_count": 4,
   "id": "cb1447ac-3660-4f16-ad69-4cc341e73a36",
   "metadata": {},
   "outputs": [
    {
     "name": "stdout",
     "output_type": "stream",
     "text": [
      "M.KASHIF\n",
      "528\n",
      "3.91\n",
      "[3.86, 3.95]\n"
     ]
    }
   ],
   "source": [
    "a = 0\n",
    "while a < len(student):\n",
    "    print(student[a])\n",
    "    a += 1"
   ]
  },
  {
   "cell_type": "code",
   "execution_count": 5,
   "id": "0cab98df-c512-4c17-8235-3ffe8243618f",
   "metadata": {},
   "outputs": [
    {
     "data": {
      "text/plain": [
       "['M.KASHIF', 528, 3.91, [3.86, 3.95]]"
      ]
     },
     "execution_count": 5,
     "metadata": {},
     "output_type": "execute_result"
    }
   ],
   "source": [
    "student"
   ]
  },
  {
   "cell_type": "markdown",
   "id": "16c05201-0cd9-46cb-adaf-ee2b3a0cea58",
   "metadata": {},
   "source": [
    "5. Access the list of all semester GPAs using negative indexing. "
   ]
  },
  {
   "cell_type": "code",
   "execution_count": 6,
   "id": "5e1d599d-2905-4620-ba91-dc10b4590ab8",
   "metadata": {},
   "outputs": [
    {
     "data": {
      "text/plain": [
       "[3.86, 3.95]"
      ]
     },
     "execution_count": 6,
     "metadata": {},
     "output_type": "execute_result"
    }
   ],
   "source": [
    "student[-1]"
   ]
  },
  {
   "cell_type": "markdown",
   "id": "71dfd543-a026-4bc1-a45c-795641b9d9b3",
   "metadata": {},
   "source": [
    "6. Make a list of the first 20 integers using the range function. "
   ]
  },
  {
   "cell_type": "code",
   "execution_count": 7,
   "id": "2f9f45cd-8cdd-4d54-98a2-18a979269a5d",
   "metadata": {},
   "outputs": [
    {
     "name": "stdout",
     "output_type": "stream",
     "text": [
      "[1, 2, 3, 4, 5, 6, 7, 8, 9, 10, 11, 12, 13, 14, 15, 16, 17, 18, 19, 20]\n"
     ]
    }
   ],
   "source": [
    "lst2 = [x for x in range(1,21)]\n",
    "print(lst2)"
   ]
  },
  {
   "cell_type": "markdown",
   "id": "289bed7c-cb9a-4424-a6ac-4a633d4c5596",
   "metadata": {},
   "source": [
    "7. Make a list of odd integers from 20 to 40 using the range function. "
   ]
  },
  {
   "cell_type": "code",
   "execution_count": 8,
   "id": "f5f082c4-e3d8-40b0-9e40-ac20efe5eacf",
   "metadata": {},
   "outputs": [
    {
     "name": "stdout",
     "output_type": "stream",
     "text": [
      "[21, 23, 25, 27, 29, 31, 33, 35, 37, 39]\n"
     ]
    }
   ],
   "source": [
    "lst3 = [x for x in range(20,40) if x % 2 == 1]\n",
    "print(lst3)"
   ]
  },
  {
   "cell_type": "markdown",
   "id": "01a62455-8389-4973-9499-6939e61eacae",
   "metadata": {},
   "source": [
    "Consider the student list.\n",
    "Student = [Ibrahim, Husain, Irfan, Ayub, Usman]\n",
    "Use in and not in operators to ensure that the student is in the list or not. "
   ]
  },
  {
   "cell_type": "code",
   "execution_count": 9,
   "id": "84e0783a-7980-4568-85b7-e9d6138ba11b",
   "metadata": {},
   "outputs": [],
   "source": [
    "Students = ['waqas', 'abbas', 'yahya', 'noman', 'kashif']"
   ]
  },
  {
   "cell_type": "code",
   "execution_count": 10,
   "id": "92952bb6-7f2d-4ae2-8b40-48bc55ac4735",
   "metadata": {},
   "outputs": [
    {
     "name": "stdout",
     "output_type": "stream",
     "text": [
      "True\n",
      "False\n",
      "True\n",
      "False\n"
     ]
    }
   ],
   "source": [
    "print('waqas' in Students)\n",
    "print('yahya' not in Students)\n",
    "print('noman' in Students)\n",
    "print('kashif' not in Students)"
   ]
  },
  {
   "cell_type": "markdown",
   "id": "49912396-5519-4609-9b0d-2dda29df9b92",
   "metadata": {},
   "source": [
    "9. Print all the student lists in task 8 using the for loop."
   ]
  },
  {
   "cell_type": "code",
   "execution_count": 11,
   "id": "263f684f-0240-493a-815f-06ae220b6c62",
   "metadata": {},
   "outputs": [
    {
     "data": {
      "text/plain": [
       "['waqas', 'abbas', 'yahya', 'noman', 'kashif']"
      ]
     },
     "execution_count": 11,
     "metadata": {},
     "output_type": "execute_result"
    }
   ],
   "source": [
    "Students = [ x for x in Students]\n",
    "Students"
   ]
  },
  {
   "cell_type": "markdown",
   "id": "e6192cb1-5329-4519-aea4-8df68f92de56",
   "metadata": {},
   "source": [
    "10. Observe what is print, what is the first thing print, what the last thing print. Consider task 8\n",
    "for the student list.\n",
    "Student [1:3] and student [2:4]"
   ]
  },
  {
   "cell_type": "code",
   "execution_count": 12,
   "id": "507c005c-261e-4a4f-9fda-512eb0cd1213",
   "metadata": {},
   "outputs": [
    {
     "data": {
      "text/plain": [
       "['abbas', 'yahya']"
      ]
     },
     "execution_count": 12,
     "metadata": {},
     "output_type": "execute_result"
    }
   ],
   "source": [
    "Students [1:3]"
   ]
  },
  {
   "cell_type": "code",
   "execution_count": 13,
   "id": "56f4a846-add4-492a-8baf-285c9a2c21e8",
   "metadata": {},
   "outputs": [
    {
     "data": {
      "text/plain": [
       "['yahya', 'noman']"
      ]
     },
     "execution_count": 13,
     "metadata": {},
     "output_type": "execute_result"
    }
   ],
   "source": [
    "Students [2:4]"
   ]
  },
  {
   "cell_type": "raw",
   "id": "ddc2981b-dae4-4325-bdf6-a77de39f3208",
   "metadata": {},
   "source": [
    "11. Make an appropriate list and use and demonstrate the use of the following mutator\n",
    "Methods.\n",
    "a. .append(obj)\n",
    "b. .extend(iterable)\n",
    "c. .insert(index, obj)\n",
    "d. .remove(obj)\n",
    "e. .pop([index=-1])\n"
   ]
  },
  {
   "cell_type": "code",
   "execution_count": 14,
   "id": "b745df8d-6893-41d7-a048-e10cea3e961c",
   "metadata": {},
   "outputs": [
    {
     "data": {
      "text/plain": [
       "['a', 'b', 'c', 'd', 'e', 'f']"
      ]
     },
     "execution_count": 14,
     "metadata": {},
     "output_type": "execute_result"
    }
   ],
   "source": [
    "lst5 = ['a','b','c','d','e','f']\n",
    "lst5"
   ]
  },
  {
   "cell_type": "markdown",
   "id": "3ff400a3-2f6e-40cf-aef6-3d6ade34d9b0",
   "metadata": {},
   "source": [
    "a. .append(obj)"
   ]
  },
  {
   "cell_type": "code",
   "execution_count": 15,
   "id": "e16d05d1-40aa-4765-8ada-92db0b49fe67",
   "metadata": {},
   "outputs": [
    {
     "data": {
      "text/plain": [
       "['a', 'b', 'c', 'd', 'e', 'f', 'g']"
      ]
     },
     "execution_count": 15,
     "metadata": {},
     "output_type": "execute_result"
    }
   ],
   "source": [
    "lst5.append('g')\n",
    "lst5"
   ]
  },
  {
   "cell_type": "markdown",
   "id": "cead44cb-57f8-43e6-a217-6dcc65cd38b3",
   "metadata": {},
   "source": [
    "b. .extend(iterable)"
   ]
  },
  {
   "cell_type": "code",
   "execution_count": 16,
   "id": "0f14bfde-7c52-4a6a-bcf1-4a8eeb377ee3",
   "metadata": {},
   "outputs": [
    {
     "data": {
      "text/plain": [
       "['a', 'b', 'c', 'd', 'e', 'f', 'g', 'h']"
      ]
     },
     "execution_count": 16,
     "metadata": {},
     "output_type": "execute_result"
    }
   ],
   "source": [
    "lst5.extend('h')\n",
    "lst5"
   ]
  },
  {
   "cell_type": "markdown",
   "id": "5320c99f-0fbf-45d4-8b2f-7b01e4820831",
   "metadata": {},
   "source": [
    "c. .insert(index, obj)"
   ]
  },
  {
   "cell_type": "code",
   "execution_count": 17,
   "id": "eee9684b-ce09-490e-9426-4cc625c6cd88",
   "metadata": {},
   "outputs": [
    {
     "data": {
      "text/plain": [
       "['a', 'b', 'x', 'c', 'd', 'e', 'f', 'g', 'h']"
      ]
     },
     "execution_count": 17,
     "metadata": {},
     "output_type": "execute_result"
    }
   ],
   "source": [
    "lst5.insert(2, 'x')\n",
    "lst5"
   ]
  },
  {
   "cell_type": "markdown",
   "id": "3df8d553-d5c8-4a72-9bb3-e6233684387d",
   "metadata": {},
   "source": [
    "d. .remove(obj)"
   ]
  },
  {
   "cell_type": "code",
   "execution_count": 18,
   "id": "65e644a1-bcd5-48c9-8387-2d8777e7c019",
   "metadata": {},
   "outputs": [
    {
     "data": {
      "text/plain": [
       "['a', 'b', 'c', 'd', 'e', 'f', 'g', 'h']"
      ]
     },
     "execution_count": 18,
     "metadata": {},
     "output_type": "execute_result"
    }
   ],
   "source": [
    "lst5.remove('x')\n",
    "lst5"
   ]
  },
  {
   "cell_type": "markdown",
   "id": "71601017-e0bb-4e68-989a-7e965fc41b06",
   "metadata": {},
   "source": [
    "e. .pop([index=-1])"
   ]
  },
  {
   "cell_type": "code",
   "execution_count": 19,
   "id": "37f7bdf9-bc80-4cc7-af0e-7dc80dba35d8",
   "metadata": {},
   "outputs": [
    {
     "data": {
      "text/plain": [
       "'h'"
      ]
     },
     "execution_count": 19,
     "metadata": {},
     "output_type": "execute_result"
    }
   ],
   "source": [
    "lst5.pop(-1)"
   ]
  },
  {
   "cell_type": "raw",
   "id": "33929a68-a566-44ab-8c55-12458a20456b",
   "metadata": {},
   "source": [
    "12. Use list inducing in the following nested list and access each and every element.\n",
    "x = [\"a\", [\"bb\", [\"ccc\", \"ddd\"], \"ee\", \"ff\"], \"g\", [\"hh\", \"ii\"], \"j\"]"
   ]
  },
  {
   "cell_type": "code",
   "execution_count": 20,
   "id": "35ad1d12-03aa-4fe2-b7c6-30cb660d77fc",
   "metadata": {},
   "outputs": [],
   "source": [
    "x = [\"a\", [\"bb\", [\"ccc\", \"ddd\"], \"ee\", \"ff\"], \"g\", [\"hh\", \"ii\"], \"j\"]"
   ]
  },
  {
   "cell_type": "code",
   "execution_count": 21,
   "id": "c5c50377-a43e-4116-834b-f5321ede5b69",
   "metadata": {},
   "outputs": [
    {
     "name": "stdout",
     "output_type": "stream",
     "text": [
      "a\n"
     ]
    }
   ],
   "source": [
    "print(x[0])"
   ]
  },
  {
   "cell_type": "code",
   "execution_count": 22,
   "id": "8679250d-5562-4522-aec9-3bb9e6f5376b",
   "metadata": {},
   "outputs": [
    {
     "name": "stdout",
     "output_type": "stream",
     "text": [
      "bb\n"
     ]
    }
   ],
   "source": [
    "print(x[1][0])"
   ]
  },
  {
   "cell_type": "code",
   "execution_count": 23,
   "id": "85b6eadf-64f6-4d1b-a8ff-2d1cdc2416fb",
   "metadata": {},
   "outputs": [
    {
     "name": "stdout",
     "output_type": "stream",
     "text": [
      "ccc\n"
     ]
    }
   ],
   "source": [
    "print(x[1][1][0])"
   ]
  },
  {
   "cell_type": "code",
   "execution_count": 24,
   "id": "4ad9b574-dc02-4f20-98e9-d589da705cca",
   "metadata": {},
   "outputs": [
    {
     "name": "stdout",
     "output_type": "stream",
     "text": [
      "ddd\n"
     ]
    }
   ],
   "source": [
    "print(x[1][1][1])"
   ]
  },
  {
   "cell_type": "code",
   "execution_count": 25,
   "id": "092d2116-3d64-4a76-9d43-3935c67e1bb5",
   "metadata": {},
   "outputs": [
    {
     "name": "stdout",
     "output_type": "stream",
     "text": [
      "a\n"
     ]
    }
   ],
   "source": [
    "print(x[0])"
   ]
  },
  {
   "cell_type": "code",
   "execution_count": 26,
   "id": "f85ac34f-6faa-44a3-b770-e214449279df",
   "metadata": {},
   "outputs": [
    {
     "name": "stdout",
     "output_type": "stream",
     "text": [
      "a\n"
     ]
    }
   ],
   "source": [
    "print(x[0])"
   ]
  },
  {
   "cell_type": "code",
   "execution_count": 27,
   "id": "6edfab2f-ac0e-4c2c-82cb-232ed5d2401b",
   "metadata": {},
   "outputs": [
    {
     "name": "stdout",
     "output_type": "stream",
     "text": [
      "a\n"
     ]
    }
   ],
   "source": [
    "print(x[0])"
   ]
  },
  {
   "cell_type": "markdown",
   "id": "c18153bf-6d7e-4c93-bd15-5e4c02a0b82b",
   "metadata": {},
   "source": [
    "# Tuple:"
   ]
  },
  {
   "cell_type": "markdown",
   "id": "a8165a5d-0c7c-4f07-9a83-a511b8119931",
   "metadata": {},
   "source": [
    "1. Make a tuple containing first five letters of English. (definition)\n"
   ]
  },
  {
   "cell_type": "code",
   "execution_count": 28,
   "id": "47dedb2d-1eeb-4b94-ad47-97ea1df70af3",
   "metadata": {},
   "outputs": [],
   "source": [
    "tpl1 = ('a','b','c','d','e')"
   ]
  },
  {
   "cell_type": "code",
   "execution_count": 29,
   "id": "bdf93c8a-6f45-4c4c-bbf9-5f0443d220c3",
   "metadata": {},
   "outputs": [
    {
     "data": {
      "text/plain": [
       "('a', 'b', 'c', 'd', 'e')"
      ]
     },
     "execution_count": 29,
     "metadata": {},
     "output_type": "execute_result"
    }
   ],
   "source": [
    "tpl1"
   ]
  },
  {
   "cell_type": "markdown",
   "id": "39df28b6-9bcc-4263-ac38-7185986d7f84",
   "metadata": {},
   "source": [
    "2. Use the index to access the third and last element.\n"
   ]
  },
  {
   "cell_type": "code",
   "execution_count": 30,
   "id": "9e88a1a9-3766-45a0-b7dd-97da46f8cabe",
   "metadata": {},
   "outputs": [
    {
     "data": {
      "text/plain": [
       "'c'"
      ]
     },
     "execution_count": 30,
     "metadata": {},
     "output_type": "execute_result"
    }
   ],
   "source": [
    "tpl1[2]"
   ]
  },
  {
   "cell_type": "code",
   "execution_count": 31,
   "id": "1ad5c1e1-3cc4-43a1-99b2-c38ff8d7b682",
   "metadata": {},
   "outputs": [
    {
     "data": {
      "text/plain": [
       "'e'"
      ]
     },
     "execution_count": 31,
     "metadata": {},
     "output_type": "execute_result"
    }
   ],
   "source": [
    "tpl1[4]"
   ]
  },
  {
   "cell_type": "markdown",
   "id": "d9653b07-0749-4b78-8741-b3a61f0ca4f2",
   "metadata": {},
   "source": [
    "3. Make an appropriate list and tuple and use different operations that will show that list is\n",
    "mutable and tuple is immutable. "
   ]
  },
  {
   "cell_type": "code",
   "execution_count": 32,
   "id": "6b692fa4-fc7e-4736-9302-e3fa0967f380",
   "metadata": {},
   "outputs": [],
   "source": [
    "lst1 = ['a', 'b', 'c', 'd', 'e']"
   ]
  },
  {
   "cell_type": "code",
   "execution_count": 33,
   "id": "a15c5f9d-10d3-4ece-acaf-163e6b5f51df",
   "metadata": {},
   "outputs": [
    {
     "data": {
      "text/plain": [
       "['a', 'b', 'c', 'd', 'e']"
      ]
     },
     "execution_count": 33,
     "metadata": {},
     "output_type": "execute_result"
    }
   ],
   "source": [
    "lst1"
   ]
  },
  {
   "cell_type": "code",
   "execution_count": 34,
   "id": "e3fd50b7-13a2-497d-951e-01b42107b97f",
   "metadata": {},
   "outputs": [
    {
     "name": "stdout",
     "output_type": "stream",
     "text": [
      "['a', 'b', 'c', 'd', 'e', 'f']\n"
     ]
    }
   ],
   "source": [
    "# .append()\n",
    "lst1.append('f')    # list is mutable\n",
    "print(lst1)"
   ]
  },
  {
   "cell_type": "code",
   "execution_count": 35,
   "id": "d60ea03e-b356-4b2e-9acb-1597e4b5a494",
   "metadata": {},
   "outputs": [
    {
     "ename": "AttributeError",
     "evalue": "'tuple' object has no attribute 'append'",
     "output_type": "error",
     "traceback": [
      "\u001b[1;31m---------------------------------------------------------------------------\u001b[0m",
      "\u001b[1;31mAttributeError\u001b[0m                            Traceback (most recent call last)",
      "Cell \u001b[1;32mIn[35], line 2\u001b[0m\n\u001b[0;32m      1\u001b[0m \u001b[38;5;66;03m# .append()\u001b[39;00m\n\u001b[1;32m----> 2\u001b[0m \u001b[43mtpl1\u001b[49m\u001b[38;5;241;43m.\u001b[39;49m\u001b[43mappend\u001b[49m(\u001b[38;5;124m'\u001b[39m\u001b[38;5;124mf\u001b[39m\u001b[38;5;124m'\u001b[39m)    \u001b[38;5;66;03m# tuple is immutable\u001b[39;00m\n\u001b[0;32m      3\u001b[0m \u001b[38;5;28mprint\u001b[39m(tpl1)\n",
      "\u001b[1;31mAttributeError\u001b[0m: 'tuple' object has no attribute 'append'"
     ]
    }
   ],
   "source": [
    "# .append()\n",
    "tpl1.append('f')    # tuple is immutable\n",
    "print(tpl1)"
   ]
  },
  {
   "cell_type": "code",
   "execution_count": null,
   "id": "573e5a70-8fe9-4bc1-9ab8-759872fbd3af",
   "metadata": {},
   "outputs": [],
   "source": [
    "# .remvoe()\n",
    "lst1.remove('e')   # mutabled\n",
    "print(lst1)"
   ]
  },
  {
   "cell_type": "code",
   "execution_count": null,
   "id": "38d4f0cb-9290-4ca3-b7b4-aa432d5b129f",
   "metadata": {
    "scrolled": true
   },
   "outputs": [],
   "source": [
    "tpl1.remvoe('e')    # immutable\n",
    "print(tpl1)"
   ]
  },
  {
   "cell_type": "code",
   "execution_count": null,
   "id": "c58f8e05-d560-4f6b-bc6b-c243f691afb0",
   "metadata": {},
   "outputs": [],
   "source": [
    "lst1[2] = 'e'   # mutable\n",
    "lst1"
   ]
  },
  {
   "cell_type": "code",
   "execution_count": null,
   "id": "2b376ea4-ff77-4fc5-b73c-1ddad7f5730b",
   "metadata": {},
   "outputs": [],
   "source": [
    "tpl1[0] = 'x'   # immutable\n",
    "tpl1"
   ]
  },
  {
   "cell_type": "markdown",
   "id": "6597d52d-c111-4f84-a2d1-c93939bc250c",
   "metadata": {},
   "source": [
    "4. Make a tuple num = (1, 2, 3, 4).\n",
    "a. Observe the output num[2] = 9"
   ]
  },
  {
   "cell_type": "code",
   "execution_count": null,
   "id": "f4a2d47c-6723-44ae-b48b-e71b34d67663",
   "metadata": {},
   "outputs": [],
   "source": [
    "num = (1, 2, 3, 4)   # immutable\n",
    "num"
   ]
  },
  {
   "cell_type": "code",
   "execution_count": null,
   "id": "6f8ab332-a73f-4d63-a973-af5d79cfdc70",
   "metadata": {},
   "outputs": [],
   "source": [
    "num[2] = 9"
   ]
  },
  {
   "cell_type": "markdown",
   "id": "b0c29c7a-db70-4cfd-a2e8-f95ed104d934",
   "metadata": {},
   "source": [
    "# Dictionary"
   ]
  },
  {
   "cell_type": "markdown",
   "id": "e175d7e9-78c2-48e0-b022-6fbec85bbfde",
   "metadata": {},
   "source": [
    "1. Consider the following structure and observe.\n",
    " Fd= { ‘one’: ‘aik’, , ‘three’: ‘teen’, ‘ten’ : ‘das’, ‘fifteen’ : ‘pandra’}\n",
    "* Bracket type\n",
    "* Print Fd\n",
    "* Fd[‘one’]\n",
    "* Fd[‘ten’]\n",
    "* del Fd[‘three’] and then print Fd.\n",
    "* Len(Fd).\n",
    "* Use the key method and print the list of keys.\n",
    "* Use the value function to print the list of values.\n",
    "* Observe the output of Fd.items().\n",
    "* Observe the output Fd.has_key(‘one) and Fd.has_key(‘two’) and think where such\n",
    "type of output will help and required.\n",
    "* To copy the dictionary, one may use one of the following. Verify by printing copy\n",
    "and alias.\n",
    "* copy = Fd.copy()\n",
    "* alias = Fd\n",
    "* Now let alias[‘three’] = ‘3’, now print alias and observe the result.\n",
    "* Also let copy[‘three’] = ‘3’, now print copy and observe the result. "
   ]
  },
  {
   "cell_type": "markdown",
   "id": "cf24c0d9-2cb5-4932-82b3-0ff7ec91c6d4",
   "metadata": {},
   "source": [
    " Bracket type"
   ]
  },
  {
   "cell_type": "code",
   "execution_count": 36,
   "id": "ca544096-4078-4ea6-8810-c9b2c42a1cc8",
   "metadata": {},
   "outputs": [
    {
     "data": {
      "text/plain": [
       "dict"
      ]
     },
     "execution_count": 36,
     "metadata": {},
     "output_type": "execute_result"
    }
   ],
   "source": [
    "fd= { 'one': 'aik', 'three': 'teen', 'ten' : 'das', 'fifteen' : 'pandra'}\n",
    "type({})"
   ]
  },
  {
   "cell_type": "markdown",
   "id": "6bdb0bb5-6b4e-4f9a-887c-51a1cc2a82eb",
   "metadata": {},
   "source": [
    "print(Fd.item)"
   ]
  },
  {
   "cell_type": "code",
   "execution_count": 37,
   "id": "8a581b20-58d9-4cf2-8414-f2078b655e2b",
   "metadata": {},
   "outputs": [
    {
     "data": {
      "text/plain": [
       "dict_items([('one', 'aik'), ('three', 'teen'), ('ten', 'das'), ('fifteen', 'pandra')])"
      ]
     },
     "execution_count": 37,
     "metadata": {},
     "output_type": "execute_result"
    }
   ],
   "source": [
    "fd.items()"
   ]
  },
  {
   "cell_type": "code",
   "execution_count": 38,
   "id": "00880399-bc4c-4157-a25e-f02f5a9c7ece",
   "metadata": {},
   "outputs": [
    {
     "name": "stdout",
     "output_type": "stream",
     "text": [
      "{'one': 'aik', 'three': 'teen', 'ten': 'das', 'fifteen': 'pandra'}\n"
     ]
    }
   ],
   "source": [
    "print(fd)"
   ]
  },
  {
   "cell_type": "markdown",
   "id": "e568fa1b-8293-488f-8077-f4c31ca2f2f2",
   "metadata": {},
   "source": [
    "Fd[‘one’]"
   ]
  },
  {
   "cell_type": "code",
   "execution_count": 39,
   "id": "87401bcd-d52c-4e90-a313-2971c1806302",
   "metadata": {},
   "outputs": [
    {
     "data": {
      "text/plain": [
       "'aik'"
      ]
     },
     "execution_count": 39,
     "metadata": {},
     "output_type": "execute_result"
    }
   ],
   "source": [
    "fd['one']"
   ]
  },
  {
   "cell_type": "markdown",
   "id": "c81a18de-8591-4059-bf55-48501c472c19",
   "metadata": {},
   "source": [
    "Fd[‘ten’]"
   ]
  },
  {
   "cell_type": "code",
   "execution_count": 40,
   "id": "3c4d3568-9170-44e3-b8eb-5a81c26e7bbc",
   "metadata": {},
   "outputs": [
    {
     "data": {
      "text/plain": [
       "'das'"
      ]
     },
     "execution_count": 40,
     "metadata": {},
     "output_type": "execute_result"
    }
   ],
   "source": [
    "fd['ten']"
   ]
  },
  {
   "cell_type": "markdown",
   "id": "1e6e3450-4183-4c64-9b47-c4695e53ede6",
   "metadata": {},
   "source": [
    "del Fd[‘three’] and then print Fd."
   ]
  },
  {
   "cell_type": "code",
   "execution_count": 41,
   "id": "8594c297-67d4-4e86-a861-bb06d812f3af",
   "metadata": {},
   "outputs": [
    {
     "name": "stdout",
     "output_type": "stream",
     "text": [
      "{'one': 'aik', 'ten': 'das', 'fifteen': 'pandra'}\n"
     ]
    }
   ],
   "source": [
    "del fd['three']\n",
    "print(fd)"
   ]
  },
  {
   "cell_type": "markdown",
   "id": "a8e933e8-881e-49ec-8ef6-ed9425b3ac3f",
   "metadata": {},
   "source": [
    "Len(Fd)."
   ]
  },
  {
   "cell_type": "code",
   "execution_count": 42,
   "id": "2ce42427-51d1-450f-9f2c-84c32e7f0e5e",
   "metadata": {},
   "outputs": [
    {
     "data": {
      "text/plain": [
       "3"
      ]
     },
     "execution_count": 42,
     "metadata": {},
     "output_type": "execute_result"
    }
   ],
   "source": [
    "len(fd)"
   ]
  },
  {
   "cell_type": "markdown",
   "id": "521d1634-b008-412a-8ff8-d0d37441b40d",
   "metadata": {},
   "source": [
    "Use the key method and print the list of keys."
   ]
  },
  {
   "cell_type": "code",
   "execution_count": 43,
   "id": "164bfe60-1af5-42ec-b403-5a34ae81f6fd",
   "metadata": {},
   "outputs": [
    {
     "data": {
      "text/plain": [
       "dict_keys(['one', 'ten', 'fifteen'])"
      ]
     },
     "execution_count": 43,
     "metadata": {},
     "output_type": "execute_result"
    }
   ],
   "source": [
    "fd.keys()"
   ]
  },
  {
   "cell_type": "markdown",
   "id": "efbe2fc3-7603-4787-8917-83a38ae3a474",
   "metadata": {},
   "source": [
    "Use the value function to print the list of values."
   ]
  },
  {
   "cell_type": "code",
   "execution_count": 44,
   "id": "d49c667e-aab7-4dd9-b8d3-876e13833202",
   "metadata": {},
   "outputs": [
    {
     "data": {
      "text/plain": [
       "dict_values(['aik', 'das', 'pandra'])"
      ]
     },
     "execution_count": 44,
     "metadata": {},
     "output_type": "execute_result"
    }
   ],
   "source": [
    "fd.values()"
   ]
  },
  {
   "cell_type": "markdown",
   "id": "849f8e5e-4dea-4938-9081-ae99b6869368",
   "metadata": {},
   "source": [
    " Observe the output of Fd.items()."
   ]
  },
  {
   "cell_type": "code",
   "execution_count": 45,
   "id": "d4b54128-eecf-4271-a1fc-0d8e83c197e6",
   "metadata": {},
   "outputs": [
    {
     "data": {
      "text/plain": [
       "dict_items([('one', 'aik'), ('ten', 'das'), ('fifteen', 'pandra')])"
      ]
     },
     "execution_count": 45,
     "metadata": {},
     "output_type": "execute_result"
    }
   ],
   "source": [
    "fd.items()"
   ]
  },
  {
   "cell_type": "markdown",
   "id": "8c3331f2-daec-43e0-8bc4-25f5225e093d",
   "metadata": {},
   "source": [
    "Observe the output Fd.has_key(‘one) and Fd.has_key(‘two’) and think where such"
   ]
  },
  {
   "cell_type": "code",
   "execution_count": 46,
   "id": "d8cbcbc1-5ff7-473c-8bb2-f49667af93d6",
   "metadata": {},
   "outputs": [
    {
     "ename": "AttributeError",
     "evalue": "'dict' object has no attribute 'has_key'",
     "output_type": "error",
     "traceback": [
      "\u001b[1;31m---------------------------------------------------------------------------\u001b[0m",
      "\u001b[1;31mAttributeError\u001b[0m                            Traceback (most recent call last)",
      "Cell \u001b[1;32mIn[46], line 1\u001b[0m\n\u001b[1;32m----> 1\u001b[0m \u001b[43mfd\u001b[49m\u001b[38;5;241;43m.\u001b[39;49m\u001b[43mhas_key\u001b[49m(\u001b[38;5;124m'\u001b[39m\u001b[38;5;124mone\u001b[39m\u001b[38;5;124m'\u001b[39m)   \u001b[38;5;66;03m# in ptython 3 .has_key methode were remove\u001b[39;00m\n\u001b[0;32m      2\u001b[0m fd\u001b[38;5;241m.\u001b[39mhas_key(\u001b[38;5;124m'\u001b[39m\u001b[38;5;124mtwo\u001b[39m\u001b[38;5;124m'\u001b[39m)\n",
      "\u001b[1;31mAttributeError\u001b[0m: 'dict' object has no attribute 'has_key'"
     ]
    }
   ],
   "source": [
    "fd.has_key('one')   # in ptython 3 .has_key methode were remove\n",
    "fd.has_key('two')"
   ]
  },
  {
   "cell_type": "markdown",
   "id": "cb50036f-4a72-4d47-a88f-ab18800c5d9c",
   "metadata": {},
   "source": [
    "**  Observe the output Fd.has_key(‘one) and Fd.has_key(‘two’) and think where such\n",
    "    type of output will help and required."
   ]
  },
  {
   "cell_type": "markdown",
   "id": "805b788e-6c42-46a5-b2f4-c3d825e0e6d3",
   "metadata": {},
   "source": [
    "To copy the dictionary, one may use one of the following. Verify by printing copy\n",
    "and alias.\n",
    "* copy = Fd.copy()\n",
    "* alias = Fd\n",
    "* Now let alias[‘three’] = ‘3’, now print alias and observe the result.\n",
    "* Also let copy[‘three’] = ‘3’, now print copy and observe the result. "
   ]
  },
  {
   "cell_type": "markdown",
   "id": "a2c8a664-69e7-41a6-bc70-99460f1cd6de",
   "metadata": {},
   "source": [
    "copy = Fd.copy()"
   ]
  },
  {
   "cell_type": "code",
   "execution_count": 47,
   "id": "e6020db2-abba-4a69-a13e-02c94976ed26",
   "metadata": {},
   "outputs": [],
   "source": [
    "copy = fd.copy()"
   ]
  },
  {
   "cell_type": "markdown",
   "id": "2ff8e68f-2c6f-4ba3-a904-1442279ee863",
   "metadata": {},
   "source": [
    "alias = Fd"
   ]
  },
  {
   "cell_type": "code",
   "execution_count": 48,
   "id": "9cf60606-478d-446d-9aa1-3fae3246b43e",
   "metadata": {},
   "outputs": [
    {
     "data": {
      "text/plain": [
       "{'one': 'aik', 'ten': 'das', 'fifteen': 'pandra'}"
      ]
     },
     "execution_count": 48,
     "metadata": {},
     "output_type": "execute_result"
    }
   ],
   "source": [
    "alias = fd\n",
    "alias"
   ]
  },
  {
   "cell_type": "markdown",
   "id": "ea17b6be-4bd8-4985-93dc-5c182f1de920",
   "metadata": {},
   "source": [
    "Now let alias[‘three’] = ‘3’, now print alias and observe the result."
   ]
  },
  {
   "cell_type": "code",
   "execution_count": 49,
   "id": "b15d4cba-5e56-456b-9aa0-cda2476904a0",
   "metadata": {},
   "outputs": [
    {
     "data": {
      "text/plain": [
       "{'one': 'aik', 'ten': 'das', 'fifteen': 'pandra', 'three': '3'}"
      ]
     },
     "execution_count": 49,
     "metadata": {},
     "output_type": "execute_result"
    }
   ],
   "source": [
    "alias['three'] = '3'\n",
    "alias"
   ]
  },
  {
   "cell_type": "markdown",
   "id": "f8b5e32c-6276-47bf-8db3-921bdeaca265",
   "metadata": {},
   "source": [
    "Also let copy[‘three’] = ‘3’, now print copy and observe the result. "
   ]
  },
  {
   "cell_type": "code",
   "execution_count": 50,
   "id": "b8ff7b11-0fb4-4a35-b367-cdaaf1f4aca2",
   "metadata": {},
   "outputs": [
    {
     "data": {
      "text/plain": [
       "{'one': 'aik', 'ten': 'das', 'fifteen': 'pandra', 'three': '3'}"
      ]
     },
     "execution_count": 50,
     "metadata": {},
     "output_type": "execute_result"
    }
   ],
   "source": [
    "copy['three'] = '3'\n",
    "copy"
   ]
  },
  {
   "cell_type": "raw",
   "id": "f227ae36-0055-4760-bc13-2d092ca8619f",
   "metadata": {},
   "source": [
    "Make an appropriate dictionary and use the following built-in function and observe the\n",
    "result.\n",
    "a. .clear()\n",
    "b. .get()\n",
    "c. .item()\n",
    "d. .keys()\n",
    "e. .vallues()"
   ]
  },
  {
   "cell_type": "code",
   "execution_count": 51,
   "id": "af1b2ff0-be40-4339-ae80-8b992d2015a0",
   "metadata": {},
   "outputs": [
    {
     "data": {
      "text/plain": [
       "{'a': 1, 'b': 2, 'c': 3, 'd': 4, 'f': 5}"
      ]
     },
     "execution_count": 51,
     "metadata": {},
     "output_type": "execute_result"
    }
   ],
   "source": [
    "dict1 = {'a': 1, 'b': 2, 'c': 3, 'd': 4, 'f':5}\n",
    "dict1"
   ]
  },
  {
   "cell_type": "code",
   "execution_count": 52,
   "id": "388793c9-b92d-4753-b994-0a5a86815664",
   "metadata": {},
   "outputs": [
    {
     "data": {
      "text/plain": [
       "2"
      ]
     },
     "execution_count": 52,
     "metadata": {},
     "output_type": "execute_result"
    }
   ],
   "source": [
    "dict1.get('b')    #.get()"
   ]
  },
  {
   "cell_type": "code",
   "execution_count": 53,
   "id": "3de2d2e1-fd3c-4a10-8189-b50b3ce779dd",
   "metadata": {},
   "outputs": [
    {
     "data": {
      "text/plain": [
       "5"
      ]
     },
     "execution_count": 53,
     "metadata": {},
     "output_type": "execute_result"
    }
   ],
   "source": [
    "dict1.get('f')  # .get()"
   ]
  },
  {
   "cell_type": "code",
   "execution_count": 54,
   "id": "a3b28654-ef39-4cea-a975-6561b60da765",
   "metadata": {},
   "outputs": [
    {
     "data": {
      "text/plain": [
       "3"
      ]
     },
     "execution_count": 54,
     "metadata": {},
     "output_type": "execute_result"
    }
   ],
   "source": [
    "dict1.get('c')      # .get()"
   ]
  },
  {
   "cell_type": "code",
   "execution_count": 55,
   "id": "d1ead54a-789b-4c2b-9139-f3dd02abdf1a",
   "metadata": {},
   "outputs": [
    {
     "data": {
      "text/plain": [
       "1"
      ]
     },
     "execution_count": 55,
     "metadata": {},
     "output_type": "execute_result"
    }
   ],
   "source": [
    "dict1.get('a')      # .get()"
   ]
  },
  {
   "cell_type": "code",
   "execution_count": 56,
   "id": "9b79df6c-8c62-4697-80be-6b1b90a9cee7",
   "metadata": {},
   "outputs": [
    {
     "data": {
      "text/plain": [
       "dict_items([('a', 1), ('b', 2), ('c', 3), ('d', 4), ('f', 5)])"
      ]
     },
     "execution_count": 56,
     "metadata": {},
     "output_type": "execute_result"
    }
   ],
   "source": [
    "dict1.items()     #  .items()"
   ]
  },
  {
   "cell_type": "code",
   "execution_count": 57,
   "id": "3aaaf37a-470e-40d3-814b-a6ac466f33a8",
   "metadata": {},
   "outputs": [
    {
     "data": {
      "text/plain": [
       "dict_keys(['a', 'b', 'c', 'd', 'f'])"
      ]
     },
     "execution_count": 57,
     "metadata": {},
     "output_type": "execute_result"
    }
   ],
   "source": [
    "dict1.keys()     # .keys()"
   ]
  },
  {
   "cell_type": "code",
   "execution_count": 58,
   "id": "eccc3d30-7774-4fd5-97c2-20a29091ecbb",
   "metadata": {},
   "outputs": [
    {
     "data": {
      "text/plain": [
       "dict_values([1, 2, 3, 4, 5])"
      ]
     },
     "execution_count": 58,
     "metadata": {},
     "output_type": "execute_result"
    }
   ],
   "source": [
    "dict1.values()       # .values()"
   ]
  },
  {
   "cell_type": "code",
   "execution_count": 59,
   "id": "2c4643bc-e99d-4330-84cc-11acc27cfcef",
   "metadata": {},
   "outputs": [],
   "source": [
    "dict1.clear()          # .clear()"
   ]
  },
  {
   "cell_type": "code",
   "execution_count": 60,
   "id": "7990e881-8309-44e5-86be-c2a90650042e",
   "metadata": {},
   "outputs": [
    {
     "data": {
      "text/plain": [
       "{}"
      ]
     },
     "execution_count": 60,
     "metadata": {},
     "output_type": "execute_result"
    }
   ],
   "source": [
    "dict1"
   ]
  },
  {
   "cell_type": "markdown",
   "id": "43958fe1-9227-4a69-9a51-757014f54437",
   "metadata": {},
   "source": [
    "# List comprehensions:"
   ]
  },
  {
   "cell_type": "markdown",
   "id": "5144ffa3-3acf-4e0f-b69b-8696bff25321",
   "metadata": {},
   "source": [
    "a. Consider the following code and print the square."
   ]
  },
  {
   "cell_type": "code",
   "execution_count": 61,
   "id": "8ea3ac97-fe67-4da8-ab10-0d79f809bc7e",
   "metadata": {},
   "outputs": [
    {
     "data": {
      "text/plain": [
       "[0, 1, 4, 9, 16, 25, 36, 49, 64, 81]"
      ]
     },
     "execution_count": 61,
     "metadata": {},
     "output_type": "execute_result"
    }
   ],
   "source": [
    "squares = []   # this simple way to print squares of number  from 1 to 10\n",
    "for x in range(10):\n",
    " squares.append(x * x)\n",
    "squares"
   ]
  },
  {
   "cell_type": "markdown",
   "id": "51e57c2a-75ca-4b5b-853c-ec905aaf552c",
   "metadata": {},
   "source": [
    "Replace the above code with the following. Print the square. This sample one-line code is\n",
    "called list comprehension."
   ]
  },
  {
   "cell_type": "code",
   "execution_count": 62,
   "id": "5f78c695-edb1-41b9-858e-4899ea133b13",
   "metadata": {},
   "outputs": [
    {
     "data": {
      "text/plain": [
       "[0, 1, 4, 9, 16, 25, 36, 49, 64, 81]"
      ]
     },
     "execution_count": 62,
     "metadata": {},
     "output_type": "execute_result"
    }
   ],
   "source": [
    "squares = [x * x for x in range(10)]  # this list comprehension way to print squares of number  from 1 to 10\n",
    "squares"
   ]
  },
  {
   "cell_type": "markdown",
   "id": "d56ebde6-2b2e-4d7d-b499-74acac7a3dcd",
   "metadata": {},
   "source": [
    "Chane x*x by any function of x and observe the resulting list.\n"
   ]
  },
  {
   "cell_type": "code",
   "execution_count": 63,
   "id": "7077f7b9-3ccb-4476-b3c7-5734b65a5cb5",
   "metadata": {},
   "outputs": [
    {
     "data": {
      "text/plain": [
       "[0, 1, 2, 3, 4, 5, 6, 7, 8, 9]"
      ]
     },
     "execution_count": 63,
     "metadata": {},
     "output_type": "execute_result"
    }
   ],
   "source": [
    "squares = [x for x in range(10)] \n",
    "squares"
   ]
  },
  {
   "cell_type": "markdown",
   "id": "8b9a32e1-4c38-4bcf-b56d-39eecddeaa4c",
   "metadata": {},
   "source": [
    "List comprehensions can filter values based on some arbitrary condition that decides\n",
    "whether or not the resulting value becomes a part of the output list."
   ]
  },
  {
   "cell_type": "code",
   "execution_count": 64,
   "id": "19654286-2f25-45c7-beca-ef6fa29154dc",
   "metadata": {},
   "outputs": [
    {
     "data": {
      "text/plain": [
       "[0, 4, 16, 36, 64]"
      ]
     },
     "execution_count": 64,
     "metadata": {},
     "output_type": "execute_result"
    }
   ],
   "source": [
    "even_squares = [x * x for x in range(10) if x % 2 == 0]   # list  comperhension\n",
    "even_squares"
   ]
  },
  {
   "cell_type": "markdown",
   "id": "49b4ff16-0d4a-47a9-be97-a03a589c52dc",
   "metadata": {},
   "source": [
    "1. The generalized syntax:\n",
    "              values = [expression for item in collection if condition]"
   ]
  },
  {
   "cell_type": "markdown",
   "id": "4d3ae946-00dd-4a37-9d17-73e39ba0dda9",
   "metadata": {},
   "source": [
    "This new list comprehension can be transformed into an equivalent for-loop:"
   ]
  },
  {
   "cell_type": "code",
   "execution_count": 65,
   "id": "323a56d1-b674-421e-ab8c-bd53081e29d2",
   "metadata": {},
   "outputs": [
    {
     "data": {
      "text/plain": [
       "[0, 4, 16, 36, 64]"
      ]
     },
     "execution_count": 65,
     "metadata": {},
     "output_type": "execute_result"
    }
   ],
   "source": [
    "even_squares = []           #  simple form to print number with for loop\n",
    "for x in range(10):\n",
    "    if x % 2 == 0:\n",
    "        even_squares.append(x * x)\n",
    "even_squares"
   ]
  },
  {
   "cell_type": "markdown",
   "id": "e6a7604b-0079-44b8-9cda-3dfeb364e616",
   "metadata": {},
   "source": [
    "# Dictionary comprehension:"
   ]
  },
  {
   "cell_type": "markdown",
   "id": "db41e837-52fa-45cd-af30-18441ca7cb9e",
   "metadata": {},
   "source": [
    "a. { x: x * x for x in range(5) }"
   ]
  },
  {
   "cell_type": "code",
   "execution_count": 66,
   "id": "3390e633-df2e-4186-aaee-e1cc1ef2e007",
   "metadata": {},
   "outputs": [
    {
     "data": {
      "text/plain": [
       "{0: 0, 1: 1, 2: 4, 3: 9, 4: 16}"
      ]
     },
     "execution_count": 66,
     "metadata": {},
     "output_type": "execute_result"
    }
   ],
   "source": [
    "{ x: x * x for x in range(5) } "
   ]
  },
  {
   "cell_type": "markdown",
   "id": "4f37efce-3888-4ba7-8d84-c84bb85705b2",
   "metadata": {},
   "source": [
    "## CSV FILE"
   ]
  },
  {
   "cell_type": "code",
   "execution_count": 67,
   "id": "da5a115c-4803-41d1-b1bb-d187e62bf1c4",
   "metadata": {},
   "outputs": [
    {
     "ename": "FileNotFoundError",
     "evalue": "[Errno 2] No such file or directory: 'D:\\\\LABS\\\\pythone labs\\\\OOP AND D.S LAB\\\\Result_CSV.csv'",
     "output_type": "error",
     "traceback": [
      "\u001b[1;31m---------------------------------------------------------------------------\u001b[0m",
      "\u001b[1;31mFileNotFoundError\u001b[0m                         Traceback (most recent call last)",
      "Cell \u001b[1;32mIn[67], line 2\u001b[0m\n\u001b[0;32m      1\u001b[0m \u001b[38;5;28;01mimport\u001b[39;00m \u001b[38;5;21;01mcsv\u001b[39;00m\n\u001b[1;32m----> 2\u001b[0m \u001b[38;5;28;01mwith\u001b[39;00m \u001b[38;5;28;43mopen\u001b[39;49m\u001b[43m(\u001b[49m\u001b[38;5;124;43m'\u001b[39;49m\u001b[38;5;124;43mD:\u001b[39;49m\u001b[38;5;124;43m\\\u001b[39;49m\u001b[38;5;124;43mLABS\u001b[39;49m\u001b[38;5;124;43m\\\u001b[39;49m\u001b[38;5;124;43mpythone labs\u001b[39;49m\u001b[38;5;124;43m\\\u001b[39;49m\u001b[38;5;124;43mOOP AND D.S LAB\u001b[39;49m\u001b[38;5;124;43m\\\u001b[39;49m\u001b[38;5;124;43mResult_CSV.csv\u001b[39;49m\u001b[38;5;124;43m'\u001b[39;49m\u001b[43m,\u001b[49m\u001b[43m \u001b[49m\u001b[43mmode\u001b[49m\u001b[43m \u001b[49m\u001b[38;5;241;43m=\u001b[39;49m\u001b[38;5;124;43m'\u001b[39;49m\u001b[38;5;124;43mr\u001b[39;49m\u001b[38;5;124;43m'\u001b[39;49m\u001b[43m)\u001b[49m\u001b[38;5;28;01mas\u001b[39;00m file:\n\u001b[0;32m      3\u001b[0m   csvFile \u001b[38;5;241m=\u001b[39m csv\u001b[38;5;241m.\u001b[39mreader(file)\n\u001b[0;32m      4\u001b[0m   \u001b[38;5;28;01mfor\u001b[39;00m lines \u001b[38;5;129;01min\u001b[39;00m csvFile:\n",
      "File \u001b[1;32m~\\anaconda3\\envs\\abbas\\lib\\site-packages\\IPython\\core\\interactiveshell.py:286\u001b[0m, in \u001b[0;36m_modified_open\u001b[1;34m(file, *args, **kwargs)\u001b[0m\n\u001b[0;32m    279\u001b[0m \u001b[38;5;28;01mif\u001b[39;00m file \u001b[38;5;129;01min\u001b[39;00m {\u001b[38;5;241m0\u001b[39m, \u001b[38;5;241m1\u001b[39m, \u001b[38;5;241m2\u001b[39m}:\n\u001b[0;32m    280\u001b[0m     \u001b[38;5;28;01mraise\u001b[39;00m \u001b[38;5;167;01mValueError\u001b[39;00m(\n\u001b[0;32m    281\u001b[0m         \u001b[38;5;124mf\u001b[39m\u001b[38;5;124m\"\u001b[39m\u001b[38;5;124mIPython won\u001b[39m\u001b[38;5;124m'\u001b[39m\u001b[38;5;124mt let you open fd=\u001b[39m\u001b[38;5;132;01m{\u001b[39;00mfile\u001b[38;5;132;01m}\u001b[39;00m\u001b[38;5;124m by default \u001b[39m\u001b[38;5;124m\"\u001b[39m\n\u001b[0;32m    282\u001b[0m         \u001b[38;5;124m\"\u001b[39m\u001b[38;5;124mas it is likely to crash IPython. If you know what you are doing, \u001b[39m\u001b[38;5;124m\"\u001b[39m\n\u001b[0;32m    283\u001b[0m         \u001b[38;5;124m\"\u001b[39m\u001b[38;5;124myou can use builtins\u001b[39m\u001b[38;5;124m'\u001b[39m\u001b[38;5;124m open.\u001b[39m\u001b[38;5;124m\"\u001b[39m\n\u001b[0;32m    284\u001b[0m     )\n\u001b[1;32m--> 286\u001b[0m \u001b[38;5;28;01mreturn\u001b[39;00m io_open(file, \u001b[38;5;241m*\u001b[39margs, \u001b[38;5;241m*\u001b[39m\u001b[38;5;241m*\u001b[39mkwargs)\n",
      "\u001b[1;31mFileNotFoundError\u001b[0m: [Errno 2] No such file or directory: 'D:\\\\LABS\\\\pythone labs\\\\OOP AND D.S LAB\\\\Result_CSV.csv'"
     ]
    }
   ],
   "source": [
    "import csv\n",
    "with open('D:\\LABS\\pythone labs\\OOP AND D.S LAB\\Result_CSV.csv', mode ='r')as file:\n",
    "  csvFile = csv.reader(file)\n",
    "  for lines in csvFile:\n",
    "        print(lines)"
   ]
  },
  {
   "cell_type": "code",
   "execution_count": null,
   "id": "ea739aa4-1600-46da-84cd-737cf66a51c6",
   "metadata": {},
   "outputs": [],
   "source": []
  },
  {
   "cell_type": "code",
   "execution_count": null,
   "id": "6a692c5b-7316-47a4-92ac-2514e24cf1a6",
   "metadata": {},
   "outputs": [],
   "source": []
  },
  {
   "cell_type": "code",
   "execution_count": null,
   "id": "ee377250",
   "metadata": {},
   "outputs": [],
   "source": []
  },
  {
   "cell_type": "code",
   "execution_count": null,
   "id": "78d20d4b",
   "metadata": {},
   "outputs": [],
   "source": []
  },
  {
   "cell_type": "code",
   "execution_count": null,
   "id": "8203036f-6e1a-4a54-8670-e63b24030fad",
   "metadata": {},
   "outputs": [],
   "source": []
  },
  {
   "cell_type": "code",
   "execution_count": null,
   "id": "7d2a7032-6fa8-4cbb-ae4d-7d421aa2cd01",
   "metadata": {},
   "outputs": [],
   "source": []
  }
 ],
 "metadata": {
  "kernelspec": {
   "display_name": "Python 3 (ipykernel)",
   "language": "python",
   "name": "python3"
  },
  "language_info": {
   "codemirror_mode": {
    "name": "ipython",
    "version": 3
   },
   "file_extension": ".py",
   "mimetype": "text/x-python",
   "name": "python",
   "nbconvert_exporter": "python",
   "pygments_lexer": "ipython3",
   "version": "3.9.19"
  }
 },
 "nbformat": 4,
 "nbformat_minor": 5
}
