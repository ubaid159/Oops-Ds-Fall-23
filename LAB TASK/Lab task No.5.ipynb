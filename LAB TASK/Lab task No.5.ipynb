{
 "cells": [
  {
   "cell_type": "markdown",
   "id": "b5c37d8b",
   "metadata": {},
   "source": [
    "<center><span style=\"\n",
    "    font-size: 30px;\n",
    "    font-family: castellar;\n",
    "    color: BLUE;\n",
    "    font-weight: bold;\n",
    "    letter-spacing: 1px;\n",
    "    text-shadow: 3px 1px 0px rgba(0, ,0, 1, 1)\n",
    "\">\n",
    "   LAB TASK NO.5\n",
    "</span></center>"
   ]
  },
  {
   "cell_type": "markdown",
   "id": "16f1bdde",
   "metadata": {},
   "source": [
    "## Lab work tasks:\n"
   ]
  },
  {
   "cell_type": "markdown",
   "id": "b87ea9c3-03f8-4dec-8273-ce2eb36c169d",
   "metadata": {},
   "source": [
    "# 1. Define a class point in 2 dimension coordinate system. Your class must have the appropriate \n",
    "__init__ method.  \n",
    "i. Add appropriate property methods. (@property and @property.setter)  \n",
    "ii. In addition, add instance method for the distance between points. \n",
    "iii. Add another instance method for calculating the distance from origin. \n",
    "iv. Add another method with the name locate to display the coordinate in which \n",
    "the point is located.  \n",
    "v. Add __repr__ and __str__ to the class.  \n",
    "vi. Add proper annotation and doc string to every class and instance method.  "
   ]
  },
  {
   "cell_type": "code",
   "execution_count": 14,
   "id": "4837a1ea-186f-4275-9bff-dc28a960c434",
   "metadata": {},
   "outputs": [],
   "source": [
    "import  math \n",
    "\n",
    "class Point:\n",
    "    def __init__(self, x: float = 0, y: float = 0):\n",
    "        self.x = x\n",
    "        self.y = y\n",
    "\n",
    "    def distance_to(self, other: 'Point') -> float:\n",
    "        return sqrt((self.x - other.x) ** 2 + (self.y - other.y) ** 2)\n",
    "\n",
    "    def distance_from_origin(self) -> float:\n",
    "        return sqrt(self.x ** 2 + self.y ** 2)\n",
    "\n",
    "    def locate(self) -> str:\n",
    "        if self.x > 0 and self.y > 0:\n",
    "            return \n",
    "        elif self.x < 0 and self.y > 0:\n",
    "            return \n",
    "        elif self.x < 0 and self.y < 0:\n",
    "            return \n",
    "        elif self.x > 0 and self.y < 0:\n",
    "            return\n",
    "        elif self.x == 0 and self.y != 0:\n",
    "            return \n",
    "        elif self.y == 0 and self.x != 0:\n",
    "            return\n",
    "        else:\n",
    "            return\n",
    "\n",
    "    def __repr__(self) -> str:\n",
    "        return f\"Point(x={self.x}, y={self.y})\"\n",
    "\n",
    "    def __str__(self) -> str:\n",
    "        return f\"({self.x}, {self.y})\""
   ]
  },
  {
   "cell_type": "code",
   "execution_count": 15,
   "id": "d4a60aa5-59e7-4fbc-bf86-24e14bd2cd93",
   "metadata": {},
   "outputs": [],
   "source": [
    "inst_1 = Point(3, 4)\n",
    "inst_2 = Point(-5, 2)\n"
   ]
  },
  {
   "cell_type": "code",
   "execution_count": 16,
   "id": "1f0ffc87-b32f-42cf-af75-990565b1bd88",
   "metadata": {},
   "outputs": [
    {
     "name": "stdout",
     "output_type": "stream",
     "text": [
      "(3, 4)\n",
      "(-5, 2)\n"
     ]
    }
   ],
   "source": [
    "print(inst_1)  \n",
    "print(inst_2)"
   ]
  },
  {
   "cell_type": "code",
   "execution_count": 17,
   "id": "0bcce62e-db4d-46b2-91a0-f6a4cb2fefe3",
   "metadata": {},
   "outputs": [
    {
     "name": "stdout",
     "output_type": "stream",
     "text": [
      "None\n",
      "None\n"
     ]
    }
   ],
   "source": [
    "print(inst_1.locate())\n",
    "print(inst_2.locate())"
   ]
  },
  {
   "cell_type": "code",
   "execution_count": 18,
   "id": "d384713d-79a6-443a-91b2-a54b6e5eef4f",
   "metadata": {},
   "outputs": [
    {
     "name": "stdout",
     "output_type": "stream",
     "text": [
      "Distance between inst_1 and inst_2: 8.246211251235321\n",
      "Distance of inst_1 from origin: 5.0\n"
     ]
    }
   ],
   "source": [
    "print(f\"Distance between inst_1 and inst_2: {inst_1.distance_to(inst_2)}\")\n",
    "print(f\"Distance of inst_1 from origin: {inst_1.distance_from_origin()}\")"
   ]
  },
  {
   "cell_type": "code",
   "execution_count": 19,
   "id": "7176cea5-ec55-46d0-9227-c2ea5e75b26b",
   "metadata": {},
   "outputs": [
    {
     "data": {
      "text/plain": [
       "mappingproxy({'__module__': '__main__',\n",
       "              '__init__': <function __main__.Point.__init__(self, x: float = 0, y: float = 0)>,\n",
       "              'distance_to': <function __main__.Point.distance_to(self, other: 'Point') -> float>,\n",
       "              'distance_from_origin': <function __main__.Point.distance_from_origin(self) -> float>,\n",
       "              'locate': <function __main__.Point.locate(self) -> str>,\n",
       "              '__repr__': <function __main__.Point.__repr__(self) -> str>,\n",
       "              '__str__': <function __main__.Point.__str__(self) -> str>,\n",
       "              '__dict__': <attribute '__dict__' of 'Point' objects>,\n",
       "              '__weakref__': <attribute '__weakref__' of 'Point' objects>,\n",
       "              '__doc__': None})"
      ]
     },
     "execution_count": 19,
     "metadata": {},
     "output_type": "execute_result"
    }
   ],
   "source": [
    "Point.__dict__\n",
    "vars(Point)"
   ]
  },
  {
   "cell_type": "code",
   "execution_count": 20,
   "id": "6e3c45f7-f6b9-48f4-b7bc-f7980b1753a5",
   "metadata": {},
   "outputs": [
    {
     "data": {
      "text/plain": [
       "{'x': 3, 'y': 4}"
      ]
     },
     "execution_count": 20,
     "metadata": {},
     "output_type": "execute_result"
    }
   ],
   "source": [
    "inst_1.__dict__\n",
    "vars(inst_1)"
   ]
  },
  {
   "cell_type": "code",
   "execution_count": 21,
   "id": "4f53a8fa-8240-48e1-b8b3-84de7eb34fbb",
   "metadata": {},
   "outputs": [
    {
     "name": "stdout",
     "output_type": "stream",
     "text": [
      "Help on class Point in module __main__:\n",
      "\n",
      "class Point(builtins.object)\n",
      " |  Point(x: float = 0, y: float = 0)\n",
      " |  \n",
      " |  Methods defined here:\n",
      " |  \n",
      " |  __init__(self, x: float = 0, y: float = 0)\n",
      " |      Initialize self.  See help(type(self)) for accurate signature.\n",
      " |  \n",
      " |  __repr__(self) -> str\n",
      " |      Return repr(self).\n",
      " |  \n",
      " |  __str__(self) -> str\n",
      " |      Return str(self).\n",
      " |  \n",
      " |  distance_from_origin(self) -> float\n",
      " |  \n",
      " |  distance_to(self, other: 'Point') -> float\n",
      " |  \n",
      " |  locate(self) -> str\n",
      " |  \n",
      " |  ----------------------------------------------------------------------\n",
      " |  Data descriptors defined here:\n",
      " |  \n",
      " |  __dict__\n",
      " |      dictionary for instance variables (if defined)\n",
      " |  \n",
      " |  __weakref__\n",
      " |      list of weak references to the object (if defined)\n",
      "\n"
     ]
    }
   ],
   "source": [
    "help(Point)"
   ]
  },
  {
   "cell_type": "markdown",
   "id": "8d74acf9-032c-4283-bded-46f96fd941c2",
   "metadata": {},
   "source": [
    "# 2. Define a class circle. Your class must have the appropriate __init__ method.  \n",
    "i. Add appropriate property methods. (@property and @property.setter) \n",
    "ii. In addition, add an instance method for the volume of a cylinder with the given \n",
    "radius. \n",
    "iii. Add property method for area, circumference, and diameter.   \n",
    "iv. Add __repr__ and __str__ to the class.  \n",
    "v. Add proper annotation and doc string to every class and instance method. "
   ]
  },
  {
   "cell_type": "code",
   "execution_count": 32,
   "id": "712ab034-2b99-467d-8efb-2f163e5cadca",
   "metadata": {},
   "outputs": [],
   "source": [
    "from math import pi\n",
    "\n",
    "class Circle:\n",
    "    def __init__(self, radius: float = 1.0):\n",
    "        self.radius = radius\n",
    "\n",
    "    def cylinder_volume(self, height: float) -> float:\n",
    "        return pi * self.radius ** 2 * height\n",
    "\n",
    "    def area(self) -> float:\n",
    "        return pi * self.radius ** 2\n",
    "\n",
    "    def circumference(self) -> float:\n",
    "        return 2 * pi * self.radius\n",
    "\n",
    "    def diameter(self) -> float:\n",
    "        return 2 * self.radius\n",
    "\n",
    "    def __repr__(self) -> str:\n",
    "        return f\"Circle(radius={self.radius})\"\n",
    "\n",
    "    def __str__(self) -> str:\n",
    "        return f\"Circle with radius {self.radius}\""
   ]
  },
  {
   "cell_type": "code",
   "execution_count": 33,
   "id": "b31710fb-8f08-468f-81e6-a913333fe930",
   "metadata": {},
   "outputs": [],
   "source": [
    "inst_1 = Circle(3)\n",
    "inst_2 = Circle(5)"
   ]
  },
  {
   "cell_type": "code",
   "execution_count": 34,
   "id": "d392dd3e-bd84-437e-a03b-91c047835e6c",
   "metadata": {},
   "outputs": [
    {
     "name": "stdout",
     "output_type": "stream",
     "text": [
      "Circle with radius 3\n",
      "Circle with radius 5\n"
     ]
    }
   ],
   "source": [
    "print(inst_1)\n",
    "print(inst_2)"
   ]
  },
  {
   "cell_type": "code",
   "execution_count": 35,
   "id": "c7992fc0-1d10-4a37-b109-234099417f89",
   "metadata": {},
   "outputs": [
    {
     "name": "stdout",
     "output_type": "stream",
     "text": [
      "Area of inst_1: 28.274333882308138\n",
      "Circumference of inst_1: 18.84955592153876\n",
      "Diameter of inst_1: 6\n"
     ]
    }
   ],
   "source": [
    "print(f\"Area of inst_1: {inst_1.area()}\")\n",
    "print(f\"Circumference of inst_1: {inst_1.circumference()}\")\n",
    "print(f\"Diameter of inst_1: {inst_1.diameter()}\")\n"
   ]
  },
  {
   "cell_type": "code",
   "execution_count": 36,
   "id": "e809a058-5a1e-4c49-9f14-0162d18191b8",
   "metadata": {},
   "outputs": [
    {
     "name": "stdout",
     "output_type": "stream",
     "text": [
      "Volume of a cylinder with inst_1 as base and height 7: 197.92033717615698\n"
     ]
    }
   ],
   "source": [
    "print(f\"Volume of a cylinder with inst_1 as base and height 7: {inst_1.cylinder_volume(7)}\")"
   ]
  },
  {
   "cell_type": "code",
   "execution_count": 37,
   "id": "7192c5bc-efc8-4d76-a83f-8b51bdf8152b",
   "metadata": {},
   "outputs": [
    {
     "data": {
      "text/plain": [
       "mappingproxy({'__module__': '__main__',\n",
       "              '__init__': <function __main__.Circle.__init__(self, radius: float = 1.0)>,\n",
       "              'cylinder_volume': <function __main__.Circle.cylinder_volume(self, height: float) -> float>,\n",
       "              'area': <function __main__.Circle.area(self) -> float>,\n",
       "              'circumference': <function __main__.Circle.circumference(self) -> float>,\n",
       "              'diameter': <function __main__.Circle.diameter(self) -> float>,\n",
       "              '__repr__': <function __main__.Circle.__repr__(self) -> str>,\n",
       "              '__str__': <function __main__.Circle.__str__(self) -> str>,\n",
       "              '__dict__': <attribute '__dict__' of 'Circle' objects>,\n",
       "              '__weakref__': <attribute '__weakref__' of 'Circle' objects>,\n",
       "              '__doc__': None})"
      ]
     },
     "execution_count": 37,
     "metadata": {},
     "output_type": "execute_result"
    }
   ],
   "source": [
    "Circle.__dict__\n",
    "vars(Circle)"
   ]
  },
  {
   "cell_type": "code",
   "execution_count": 38,
   "id": "34e639c6-d230-4f23-8b84-eb79a0fcf726",
   "metadata": {},
   "outputs": [
    {
     "data": {
      "text/plain": [
       "{'radius': 3}"
      ]
     },
     "execution_count": 38,
     "metadata": {},
     "output_type": "execute_result"
    }
   ],
   "source": [
    "inst_1.__dict__\n",
    "vars(inst_1)"
   ]
  },
  {
   "cell_type": "code",
   "execution_count": 39,
   "id": "6b7cd2b5",
   "metadata": {},
   "outputs": [
    {
     "name": "stdout",
     "output_type": "stream",
     "text": [
      "Help on class Circle in module __main__:\n",
      "\n",
      "class Circle(builtins.object)\n",
      " |  Circle(radius: float = 1.0)\n",
      " |  \n",
      " |  Methods defined here:\n",
      " |  \n",
      " |  __init__(self, radius: float = 1.0)\n",
      " |      Initialize self.  See help(type(self)) for accurate signature.\n",
      " |  \n",
      " |  __repr__(self) -> str\n",
      " |      Return repr(self).\n",
      " |  \n",
      " |  __str__(self) -> str\n",
      " |      Return str(self).\n",
      " |  \n",
      " |  area(self) -> float\n",
      " |  \n",
      " |  circumference(self) -> float\n",
      " |  \n",
      " |  cylinder_volume(self, height: float) -> float\n",
      " |  \n",
      " |  diameter(self) -> float\n",
      " |  \n",
      " |  ----------------------------------------------------------------------\n",
      " |  Data descriptors defined here:\n",
      " |  \n",
      " |  __dict__\n",
      " |      dictionary for instance variables (if defined)\n",
      " |  \n",
      " |  __weakref__\n",
      " |      list of weak references to the object (if defined)\n",
      "\n"
     ]
    }
   ],
   "source": [
    "help(Circle)"
   ]
  },
  {
   "cell_type": "markdown",
   "id": "116996cf-2bb4-4cca-a516-1fd431ab62ba",
   "metadata": {},
   "source": [
    "# 3. Define a class RLC for a series RLC circuit. Your class must have the appropriate __init__ method.  \n",
    "i. \n",
    "Add appropriate property methods. (@property and @property.setter) \n",
    "ii. Add property method for impedance, phase, and power factor.   \n",
    "iii.In addition, add an instance method for the current in the circuit with a given \n",
    "input voltage.  \n",
    "iv. Add __repr__ and __str__ to the class.  \n",
    "v. Add proper annotation and doc string to every class and instance method.  "
   ]
  },
  {
   "cell_type": "code",
   "execution_count": 40,
   "id": "fb9bf831",
   "metadata": {},
   "outputs": [],
   "source": [
    "from math import sqrt, atan, cos, pi\n",
    "\n",
    "class RLC:\n",
    "\n",
    "    def __init__(self, R: float = 1.0, L: float = 1e-3, C: float = 1e-6, f: float = 50):\n",
    "        self.R = R\n",
    "        self.L = L\n",
    "        self.C = C\n",
    "        self.f = f\n",
    "\n",
    "    def impedance(self) -> float:\n",
    "        omega = 2 * pi * self.f\n",
    "        XL = omega * self.L  # Inductive reactance\n",
    "        XC = 1 / (omega * self.C)  # Capacitive reactance\n",
    "        return sqrt(self.R ** 2 + (XL - XC) ** 2)\n",
    "\n",
    "    def phase(self) -> float:\n",
    "        omega = 2 * pi * self.f\n",
    "        XL = omega * self.L\n",
    "        XC = 1 / (omega * self.C)\n",
    "        return atan((XL - XC) / self.R)\n",
    "\n",
    "    def power_factor(self) -> float:\n",
    "        return cos(self.phase())\n",
    "\n",
    "    def current(self, voltage: float) -> float:\n",
    "        return voltage / self.impedance()\n",
    "\n",
    "    def __repr__(self) -> str:\n",
    "        return f\"RLC(R={self.R}, L={self.L}, C={self.C}, f={self.f})\"\n",
    "\n",
    "    def __str__(self) -> str:\n",
    "        return f\"RLC Circuit: R={self.R} Ω, L={self.L} H, C={self.C} F, f={self.f} Hz\""
   ]
  },
  {
   "cell_type": "code",
   "execution_count": 41,
   "id": "83fab032",
   "metadata": {},
   "outputs": [],
   "source": [
    "inst_1 = RLC(10, 0.01, 1e-6, 60) \n",
    "inst_2 = RLC()"
   ]
  },
  {
   "cell_type": "code",
   "execution_count": 42,
   "id": "8e6c30db",
   "metadata": {},
   "outputs": [
    {
     "name": "stdout",
     "output_type": "stream",
     "text": [
      "RLC Circuit: R=10 Ω, L=0.01 H, C=1e-06 F, f=60 Hz\n",
      "RLC Circuit: R=1.0 Ω, L=0.001 H, C=1e-06 F, f=50 Hz\n"
     ]
    }
   ],
   "source": [
    "print(inst_1)\n",
    "print(inst_2)"
   ]
  },
  {
   "cell_type": "code",
   "execution_count": 43,
   "id": "06b5658f",
   "metadata": {},
   "outputs": [
    {
     "name": "stdout",
     "output_type": "stream",
     "text": [
      "Impedance of inst_1: 2648.831349996828 Ω\n",
      "Phase angle of inst_1: -1.5670210680362182 radians\n",
      "Power factor of inst_1: 0.003775249790822706\n",
      "Current in inst_1 with 120 V input: 0.04530299748987179 A\n"
     ]
    }
   ],
   "source": [
    "print(f\"Impedance of inst_1: {inst_1.impedance()} Ω\")\n",
    "print(f\"Phase angle of inst_1: {inst_1.phase()} radians\")\n",
    "print(f\"Power factor of inst_1: {inst_1.power_factor()}\")\n",
    "print(f\"Current in inst_1 with 120 V input: {inst_1.current(120)} A\")"
   ]
  },
  {
   "cell_type": "code",
   "execution_count": 47,
   "id": "1aed8ac8",
   "metadata": {},
   "outputs": [
    {
     "name": "stdout",
     "output_type": "stream",
     "text": [
      "{'__module__': '__main__', '__init__': <function RLC.__init__ at 0x000001A6B34A7160>, 'impedance': <function RLC.impedance at 0x000001A6B34A7310>, 'phase': <function RLC.phase at 0x000001A6B34A7790>, 'power_factor': <function RLC.power_factor at 0x000001A6B34A7940>, 'current': <function RLC.current at 0x000001A6B34A7B80>, '__repr__': <function RLC.__repr__ at 0x000001A6B34A7C10>, '__str__': <function RLC.__str__ at 0x000001A6B34A7CA0>, '__dict__': <attribute '__dict__' of 'RLC' objects>, '__weakref__': <attribute '__weakref__' of 'RLC' objects>, '__doc__': None}\n",
      "{'__module__': '__main__', '__init__': <function RLC.__init__ at 0x000001A6B34A7160>, 'impedance': <function RLC.impedance at 0x000001A6B34A7310>, 'phase': <function RLC.phase at 0x000001A6B34A7790>, 'power_factor': <function RLC.power_factor at 0x000001A6B34A7940>, 'current': <function RLC.current at 0x000001A6B34A7B80>, '__repr__': <function RLC.__repr__ at 0x000001A6B34A7C10>, '__str__': <function RLC.__str__ at 0x000001A6B34A7CA0>, '__dict__': <attribute '__dict__' of 'RLC' objects>, '__weakref__': <attribute '__weakref__' of 'RLC' objects>, '__doc__': None}\n"
     ]
    }
   ],
   "source": [
    "print(RLC.__dict__)\n",
    "print(vars(RLC))"
   ]
  },
  {
   "cell_type": "code",
   "execution_count": 45,
   "id": "f5f32008",
   "metadata": {},
   "outputs": [
    {
     "name": "stdout",
     "output_type": "stream",
     "text": [
      "{'R': 10, 'L': 0.01, 'C': 1e-06, 'f': 60}\n",
      "{'R': 10, 'L': 0.01, 'C': 1e-06, 'f': 60}\n"
     ]
    }
   ],
   "source": [
    "print(inst_1.__dict__)\n",
    "print(vars(inst_1))"
   ]
  },
  {
   "cell_type": "code",
   "execution_count": 48,
   "id": "63a64006-fb9e-4bb0-a61a-f186b1e932a3",
   "metadata": {},
   "outputs": [
    {
     "name": "stdout",
     "output_type": "stream",
     "text": [
      "Help on class RLC in module __main__:\n",
      "\n",
      "class RLC(builtins.object)\n",
      " |  RLC(R: float = 1.0, L: float = 0.001, C: float = 1e-06, f: float = 50)\n",
      " |  \n",
      " |  Methods defined here:\n",
      " |  \n",
      " |  __init__(self, R: float = 1.0, L: float = 0.001, C: float = 1e-06, f: float = 50)\n",
      " |      Initialize self.  See help(type(self)) for accurate signature.\n",
      " |  \n",
      " |  __repr__(self) -> str\n",
      " |      Return repr(self).\n",
      " |  \n",
      " |  __str__(self) -> str\n",
      " |      Return str(self).\n",
      " |  \n",
      " |  current(self, voltage: float) -> float\n",
      " |  \n",
      " |  impedance(self) -> float\n",
      " |  \n",
      " |  phase(self) -> float\n",
      " |  \n",
      " |  power_factor(self) -> float\n",
      " |  \n",
      " |  ----------------------------------------------------------------------\n",
      " |  Data descriptors defined here:\n",
      " |  \n",
      " |  __dict__\n",
      " |      dictionary for instance variables (if defined)\n",
      " |  \n",
      " |  __weakref__\n",
      " |      list of weak references to the object (if defined)\n",
      "\n"
     ]
    }
   ],
   "source": [
    "help(RLC)"
   ]
  },
  {
   "cell_type": "markdown",
   "id": "195a3583-34d3-48f6-bfe8-e9937da67892",
   "metadata": {},
   "source": [
    "# 4. Square: A four-sided polygon (quadrilateral) with all sides of equal length and all angles 90 degrees. "
   ]
  },
  {
   "cell_type": "code",
   "execution_count": 57,
   "id": "ab2a0a2f-3133-4f42-a0bb-2a90fdbf33c5",
   "metadata": {},
   "outputs": [],
   "source": [
    "from math import sqrt\n",
    "\n",
    "class Point:\n",
    "\n",
    "    def __init__(self, x: float = 0, y: float = 0):\n",
    "        self.x = x\n",
    "        self.y = y\n",
    "\n",
    "    def distance_to(self, other: 'Point') -> float:\n",
    "        return sqrt((self.x - other.x) ** 2 + (self.y - other.y) ** 2)\n",
    "\n",
    "    def distance_from_origin(self) -> float:\n",
    "        return sqrt(self.x ** 2 + self.y ** 2)\n",
    "\n",
    "    def locate(self) -> str:\n",
    "        if self.x > 0 and self.y > 0:\n",
    "            return \n",
    "        elif self.x < 0 and self.y > 0:\n",
    "            return \n",
    "        elif self.x < 0 and self.y < 0:\n",
    "            return\n",
    "        elif self.x > 0 and self.y < 0:\n",
    "            return \n",
    "        elif self.x == 0 and self.y != 0:\n",
    "            return \n",
    "        elif self.y == 0 and self.x != 0:\n",
    "            return \n",
    "        else:\n",
    "            return \n",
    "\n",
    "    def __repr__(self) -> str:\n",
    "        return f\"Point(x={self.x}, y={self.y})\"\n",
    "\n",
    "    def __str__(self) -> str:\n",
    "        return f\"({self.x}, {self.y})\""
   ]
  },
  {
   "cell_type": "code",
   "execution_count": 58,
   "id": "c160975c-6b20-4843-8d25-cdbcd4f977aa",
   "metadata": {},
   "outputs": [],
   "source": [
    "inst_1 = Point(3, 4)\n",
    "inst_2 = Point(-5, 2)"
   ]
  },
  {
   "cell_type": "code",
   "execution_count": 63,
   "id": "03a79554-9ba5-4d7f-b269-cd9791f6f7ab",
   "metadata": {},
   "outputs": [
    {
     "name": "stdout",
     "output_type": "stream",
     "text": [
      "(3, 4)\n",
      "(-5, 2)\n"
     ]
    }
   ],
   "source": [
    "print(inst_1)  \n",
    "print(inst_2)"
   ]
  },
  {
   "cell_type": "code",
   "execution_count": 64,
   "id": "04499a22-8713-462a-9a7b-9d6c698d220a",
   "metadata": {},
   "outputs": [
    {
     "name": "stdout",
     "output_type": "stream",
     "text": [
      "Location of inst_1: None\n",
      "Location of inst_2: None\n"
     ]
    }
   ],
   "source": [
    "print(f\"Location of inst_1: {inst_1.locate()}\")\n",
    "print(f\"Location of inst_2: {inst_2.locate()}\")"
   ]
  },
  {
   "cell_type": "code",
   "execution_count": 65,
   "id": "e5cd370f-aaa6-4c44-b455-9bbfdeb1c44c",
   "metadata": {},
   "outputs": [
    {
     "name": "stdout",
     "output_type": "stream",
     "text": [
      "Distance between inst_1 and inst_2: 8.246211251235321\n"
     ]
    }
   ],
   "source": [
    "print(f\"Distance between inst_1 and inst_2: {inst_1.distance_to(inst_2)}\")"
   ]
  },
  {
   "cell_type": "code",
   "execution_count": 66,
   "id": "964cf117-455b-470c-b619-ab459ebe12ef",
   "metadata": {},
   "outputs": [
    {
     "name": "stdout",
     "output_type": "stream",
     "text": [
      "Distance of inst_1 from origin: 5.0\n"
     ]
    }
   ],
   "source": [
    "print(f\"Distance of inst_1 from origin: {inst_1.distance_from_origin()}\")"
   ]
  },
  {
   "cell_type": "code",
   "execution_count": 70,
   "id": "ae6ac265-e713-45a5-b9f2-f19278a605e9",
   "metadata": {},
   "outputs": [
    {
     "name": "stdout",
     "output_type": "stream",
     "text": [
      "Class __dict__: {'__module__': '__main__', '__init__': <function Point.__init__ at 0x000001A6B33DC9D0>, 'distance_to': <function Point.distance_to at 0x000001A6B34A7E50>, 'distance_from_origin': <function Point.distance_from_origin at 0x000001A6B34BF160>, 'locate': <function Point.locate at 0x000001A6B34BF0D0>, '__repr__': <function Point.__repr__ at 0x000001A6B34BF1F0>, '__str__': <function Point.__str__ at 0x000001A6B34BF430>, '__dict__': <attribute '__dict__' of 'Point' objects>, '__weakref__': <attribute '__weakref__' of 'Point' objects>, '__doc__': None}\n",
      "Class vars: {'__module__': '__main__', '__init__': <function Point.__init__ at 0x000001A6B33DC9D0>, 'distance_to': <function Point.distance_to at 0x000001A6B34A7E50>, 'distance_from_origin': <function Point.distance_from_origin at 0x000001A6B34BF160>, 'locate': <function Point.locate at 0x000001A6B34BF0D0>, '__repr__': <function Point.__repr__ at 0x000001A6B34BF1F0>, '__str__': <function Point.__str__ at 0x000001A6B34BF430>, '__dict__': <attribute '__dict__' of 'Point' objects>, '__weakref__': <attribute '__weakref__' of 'Point' objects>, '__doc__': None}\n"
     ]
    }
   ],
   "source": [
    "print(f\"Class __dict__: {Point.__dict__}\")\n",
    "print(f\"Class vars: {vars(Point)}\")"
   ]
  },
  {
   "cell_type": "code",
   "execution_count": 71,
   "id": "7775b387-6480-4628-b764-1294278bedc5",
   "metadata": {},
   "outputs": [
    {
     "name": "stdout",
     "output_type": "stream",
     "text": [
      "Instance __dict__ for inst_1: {'x': 3, 'y': 4}\n",
      "Instance vars for inst_1: {'x': 3, 'y': 4}\n"
     ]
    }
   ],
   "source": [
    "print(f\"Instance __dict__ for inst_1: {inst_1.__dict__}\")\n",
    "print(f\"Instance vars for inst_1: {vars(inst_1)}\")"
   ]
  },
  {
   "cell_type": "code",
   "execution_count": 72,
   "id": "e633f101-f856-428c-b4bf-701d144e6ccf",
   "metadata": {},
   "outputs": [
    {
     "name": "stdout",
     "output_type": "stream",
     "text": [
      "Help on class Point in module __main__:\n",
      "\n",
      "class Point(builtins.object)\n",
      " |  Point(x: float = 0, y: float = 0)\n",
      " |  \n",
      " |  Methods defined here:\n",
      " |  \n",
      " |  __init__(self, x: float = 0, y: float = 0)\n",
      " |      Initialize self.  See help(type(self)) for accurate signature.\n",
      " |  \n",
      " |  __repr__(self) -> str\n",
      " |      Return repr(self).\n",
      " |  \n",
      " |  __str__(self) -> str\n",
      " |      Return str(self).\n",
      " |  \n",
      " |  distance_from_origin(self) -> float\n",
      " |  \n",
      " |  distance_to(self, other: 'Point') -> float\n",
      " |  \n",
      " |  locate(self) -> str\n",
      " |  \n",
      " |  ----------------------------------------------------------------------\n",
      " |  Data descriptors defined here:\n",
      " |  \n",
      " |  __dict__\n",
      " |      dictionary for instance variables (if defined)\n",
      " |  \n",
      " |  __weakref__\n",
      " |      list of weak references to the object (if defined)\n",
      "\n"
     ]
    }
   ],
   "source": [
    "help(Point)"
   ]
  },
  {
   "cell_type": "markdown",
   "id": "66e011ae-9e90-41eb-923f-30b989d09554",
   "metadata": {},
   "source": [
    "# 5. Rectangle: A four-sided polygon where opposite sides are equal in length and all angles are 90 degrees. "
   ]
  },
  {
   "cell_type": "code",
   "execution_count": 80,
   "id": "53af123e-955e-47b3-9544-9c48385352d1",
   "metadata": {},
   "outputs": [],
   "source": [
    "from math import pi\n",
    "\n",
    "class Circle:\n",
    "\n",
    "    def __init__(self, radius: float = 1.0):\n",
    "        self.radius = radius\n",
    "\n",
    "    def cylinder_volume(self, height: float) -> float:\n",
    "        return pi * self.radius ** 2 * height\n",
    "\n",
    "    def area(self) -> float:\n",
    "        return pi * self.radius ** 2\n",
    "\n",
    "    def circumference(self) -> float:\n",
    "        return 2 * pi * self.radius\n",
    "\n",
    "    def diameter(self) -> float:\n",
    "        return 2 * self.radius\n",
    "\n",
    "    def __repr__(self) -> str:\n",
    "        return f\"Circle(radius={self.radius})\"\n",
    "\n",
    "    def __str__(self) -> str:\n",
    "        return f\"A circle with radius {self.radius}\""
   ]
  },
  {
   "cell_type": "code",
   "execution_count": 81,
   "id": "fc46a341-beb3-437c-bf6e-f4668584c256",
   "metadata": {},
   "outputs": [],
   "source": [
    "inst_1 = Circle(3)\n",
    "inst_2 = Circle(5)"
   ]
  },
  {
   "cell_type": "code",
   "execution_count": 82,
   "id": "4f3b7aa8-3d1a-493c-9824-e59f4083b71e",
   "metadata": {},
   "outputs": [
    {
     "name": "stdout",
     "output_type": "stream",
     "text": [
      "A circle with radius 3\n",
      "A circle with radius 5\n"
     ]
    }
   ],
   "source": [
    "print(inst_1)\n",
    "print(inst_2)"
   ]
  },
  {
   "cell_type": "code",
   "execution_count": 83,
   "id": "5389e3ae-faa3-4845-b104-9b7589c56bea",
   "metadata": {},
   "outputs": [
    {
     "name": "stdout",
     "output_type": "stream",
     "text": [
      "Area of inst_1: 28.274333882308138 square units\n",
      "Circumference of inst_1: 18.84955592153876 units\n",
      "Diameter of inst_1: 6 units\n",
      "Volume of a cylinder with inst_1 as base and height 10: 282.7433388230814 cubic units\n"
     ]
    }
   ],
   "source": [
    "print(f\"Area of inst_1: {inst_1.area()} square units\")\n",
    "print(f\"Circumference of inst_1: {inst_1.circumference()} units\")\n",
    "print(f\"Diameter of inst_1: {inst_1.diameter()} units\")\n",
    "print(f\"Volume of a cylinder with inst_1 as base and height 10: {inst_1.cylinder_volume(10)} cubic units\")"
   ]
  },
  {
   "cell_type": "code",
   "execution_count": 84,
   "id": "d815e4f7-0d60-415f-912c-77a73ec22d7a",
   "metadata": {},
   "outputs": [
    {
     "name": "stdout",
     "output_type": "stream",
     "text": [
      "Class __dict__: {'__module__': '__main__', '__init__': <function Circle.__init__ at 0x000001A6B343DEE0>, 'cylinder_volume': <function Circle.cylinder_volume at 0x000001A6B343DA60>, 'area': <function Circle.area at 0x000001A6B34C0310>, 'circumference': <function Circle.circumference at 0x000001A6B34C0280>, 'diameter': <function Circle.diameter at 0x000001A6B34C0160>, '__repr__': <function Circle.__repr__ at 0x000001A6B34C0040>, '__str__': <function Circle.__str__ at 0x000001A6B34C0550>, '__dict__': <attribute '__dict__' of 'Circle' objects>, '__weakref__': <attribute '__weakref__' of 'Circle' objects>, '__doc__': None}\n",
      "Class vars: {'__module__': '__main__', '__init__': <function Circle.__init__ at 0x000001A6B343DEE0>, 'cylinder_volume': <function Circle.cylinder_volume at 0x000001A6B343DA60>, 'area': <function Circle.area at 0x000001A6B34C0310>, 'circumference': <function Circle.circumference at 0x000001A6B34C0280>, 'diameter': <function Circle.diameter at 0x000001A6B34C0160>, '__repr__': <function Circle.__repr__ at 0x000001A6B34C0040>, '__str__': <function Circle.__str__ at 0x000001A6B34C0550>, '__dict__': <attribute '__dict__' of 'Circle' objects>, '__weakref__': <attribute '__weakref__' of 'Circle' objects>, '__doc__': None}\n"
     ]
    }
   ],
   "source": [
    "print(f\"Class __dict__: {Circle.__dict__}\")\n",
    "print(f\"Class vars: {vars(Circle)}\")"
   ]
  },
  {
   "cell_type": "code",
   "execution_count": 85,
   "id": "72361cce-88bd-43b7-9ae0-0699258bb02b",
   "metadata": {},
   "outputs": [
    {
     "name": "stdout",
     "output_type": "stream",
     "text": [
      "Instance __dict__ for inst_1: {'radius': 3}\n",
      "Instance vars for inst_1: {'radius': 3}\n"
     ]
    }
   ],
   "source": [
    "print(f\"Instance __dict__ for inst_1: {inst_1.__dict__}\")\n",
    "print(f\"Instance vars for inst_1: {vars(inst_1)}\")"
   ]
  },
  {
   "cell_type": "code",
   "execution_count": 86,
   "id": "000ab8b9-7579-41e5-bd15-3ac6a3d1d841",
   "metadata": {},
   "outputs": [
    {
     "name": "stdout",
     "output_type": "stream",
     "text": [
      "Help on class Circle in module __main__:\n",
      "\n",
      "class Circle(builtins.object)\n",
      " |  Circle(radius: float = 1.0)\n",
      " |  \n",
      " |  Methods defined here:\n",
      " |  \n",
      " |  __init__(self, radius: float = 1.0)\n",
      " |      Initialize self.  See help(type(self)) for accurate signature.\n",
      " |  \n",
      " |  __repr__(self) -> str\n",
      " |      Return repr(self).\n",
      " |  \n",
      " |  __str__(self) -> str\n",
      " |      Return str(self).\n",
      " |  \n",
      " |  area(self) -> float\n",
      " |  \n",
      " |  circumference(self) -> float\n",
      " |  \n",
      " |  cylinder_volume(self, height: float) -> float\n",
      " |  \n",
      " |  diameter(self) -> float\n",
      " |  \n",
      " |  ----------------------------------------------------------------------\n",
      " |  Data descriptors defined here:\n",
      " |  \n",
      " |  __dict__\n",
      " |      dictionary for instance variables (if defined)\n",
      " |  \n",
      " |  __weakref__\n",
      " |      list of weak references to the object (if defined)\n",
      "\n"
     ]
    }
   ],
   "source": [
    "help(Circle)"
   ]
  },
  {
   "cell_type": "markdown",
   "id": "ab7a2e2e-3fc1-49bc-8436-484462701c2f",
   "metadata": {},
   "source": [
    "# 6. Triangle: A three-sided polygon with three edges and three vertices. There are various types of triangles (e.g., equilateral, isosceles, scalene). "
   ]
  },
  {
   "cell_type": "code",
   "execution_count": 94,
   "id": "6fc7fc18-9a71-4584-bb80-beb2d15c909a",
   "metadata": {},
   "outputs": [],
   "source": [
    "class Triangle:\n",
    "    def __init__(self, p1: Point, p2: Point, p3: Point):\n",
    "        self.p1 = p1\n",
    "        self.p2 = p2\n",
    "        self.p3 = p3\n",
    "\n",
    "    def perimeter(self) -> float:\n",
    "        side1 = self.p1.distance_to(self.p2)\n",
    "        side2 = self.p2.distance_to(self.p3)\n",
    "        side3 = self.p3.distance_to(self.p1)\n",
    "        return side1 + side2 + side3\n",
    "\n",
    "    def area(self) -> float:\n",
    "        x1, y1 = self.p1.x, self.p1.y\n",
    "        x2, y2 = self.p2.x, self.p2.y\n",
    "        x3, y3 = self.p3.x, self.p3.y\n",
    "        return abs(x1 * (y2 - y3) + x2 * (y3 - y1) + x3 * (y1 - y2)) / 2\n",
    "\n",
    "    def __repr__(self) -> str:\n",
    "        return f\"Triangle(p1={self.p1}, p2={self.p2}, p3={self.p3})\"\n",
    "\n",
    "    def __str__(self) -> str:\n",
    "        return f\"Triangle with vertices {self.p1}, {self.p2}, and {self.p3}\""
   ]
  },
  {
   "cell_type": "code",
   "execution_count": 95,
   "id": "be9f8918-5080-4a9a-8351-bf5a7a6146d7",
   "metadata": {},
   "outputs": [],
   "source": [
    "p1 = Point(0, 0)\n",
    "p2 = Point(3, 0)\n",
    "p3 = Point(3, 4)"
   ]
  },
  {
   "cell_type": "code",
   "execution_count": 96,
   "id": "35a011da-d5a9-4b4d-b9b5-20c992cf5498",
   "metadata": {},
   "outputs": [],
   "source": [
    "triangle = Triangle(p1, p2, p3)"
   ]
  },
  {
   "cell_type": "code",
   "execution_count": 97,
   "id": "8dec9e33-fe75-4410-b9ef-706cc79d4038",
   "metadata": {},
   "outputs": [
    {
     "name": "stdout",
     "output_type": "stream",
     "text": [
      "Triangle with vertices (0, 0), (3, 0), and (3, 4)\n"
     ]
    }
   ],
   "source": [
    "print(triangle)"
   ]
  },
  {
   "cell_type": "code",
   "execution_count": 98,
   "id": "31bdf855-24d0-4d61-8131-fb4a0f83bcb8",
   "metadata": {},
   "outputs": [
    {
     "name": "stdout",
     "output_type": "stream",
     "text": [
      "Perimeter of the triangle: 12.0 units\n",
      "Area of the triangle: 6.0 square units\n"
     ]
    }
   ],
   "source": [
    "print(f\"Perimeter of the triangle: {triangle.perimeter()} units\")\n",
    "print(f\"Area of the triangle: {triangle.area()} square units\")\n"
   ]
  },
  {
   "cell_type": "code",
   "execution_count": 99,
   "id": "0b3a665b-6ac1-4f84-84ee-17dc5ea5e833",
   "metadata": {},
   "outputs": [
    {
     "name": "stdout",
     "output_type": "stream",
     "text": [
      "Class __dict__: {'__module__': '__main__', '__init__': <function Triangle.__init__ at 0x000001A6B34C0EE0>, 'perimeter': <function Triangle.perimeter at 0x000001A6B34CA1F0>, 'area': <function Triangle.area at 0x000001A6B34CA280>, '__repr__': <function Triangle.__repr__ at 0x000001A6B34CA040>, '__str__': <function Triangle.__str__ at 0x000001A6B34CA160>, '__dict__': <attribute '__dict__' of 'Triangle' objects>, '__weakref__': <attribute '__weakref__' of 'Triangle' objects>, '__doc__': None}\n",
      "Instance __dict__ for triangle: {'p1': Point(x=0, y=0), 'p2': Point(x=3, y=0), 'p3': Point(x=3, y=4)}\n"
     ]
    }
   ],
   "source": [
    "print(f\"Class __dict__: {Triangle.__dict__}\")\n",
    "print(f\"Instance __dict__ for triangle: {triangle.__dict__}\")\n"
   ]
  },
  {
   "cell_type": "code",
   "execution_count": 100,
   "id": "79fecf4a-8663-4338-85a1-4147e1042f40",
   "metadata": {},
   "outputs": [
    {
     "name": "stdout",
     "output_type": "stream",
     "text": [
      "Help on class Triangle in module __main__:\n",
      "\n",
      "class Triangle(builtins.object)\n",
      " |  Triangle(p1: __main__.Point, p2: __main__.Point, p3: __main__.Point)\n",
      " |  \n",
      " |  Methods defined here:\n",
      " |  \n",
      " |  __init__(self, p1: __main__.Point, p2: __main__.Point, p3: __main__.Point)\n",
      " |      Initialize self.  See help(type(self)) for accurate signature.\n",
      " |  \n",
      " |  __repr__(self) -> str\n",
      " |      Return repr(self).\n",
      " |  \n",
      " |  __str__(self) -> str\n",
      " |      Return str(self).\n",
      " |  \n",
      " |  area(self) -> float\n",
      " |  \n",
      " |  perimeter(self) -> float\n",
      " |  \n",
      " |  ----------------------------------------------------------------------\n",
      " |  Data descriptors defined here:\n",
      " |  \n",
      " |  __dict__\n",
      " |      dictionary for instance variables (if defined)\n",
      " |  \n",
      " |  __weakref__\n",
      " |      list of weak references to the object (if defined)\n",
      "\n"
     ]
    }
   ],
   "source": [
    "help(Triangle)"
   ]
  },
  {
   "cell_type": "markdown",
   "id": "6b34b994-470f-461b-9539-ee50f7993415",
   "metadata": {},
   "source": [
    "# 7. Trapezoid (US) / Trapezium (UK): A four-sided figure with at least one pair of parallel sides. "
   ]
  },
  {
   "cell_type": "code",
   "execution_count": 101,
   "id": "bf73994d-9f8a-4717-a3ff-d16d3d171208",
   "metadata": {},
   "outputs": [],
   "source": [
    "class Trapezoid:\n",
    "\n",
    "    def __init__(self, base1: float = 1.0, base2: float = 1.0, side1: float = 1.0, side2: float = 1.0, height: float = 1.0):\n",
    "        self.base1 = base1\n",
    "        self.base2 = base2\n",
    "        self.side1 = side1\n",
    "        self.side2 = side2\n",
    "        self.height = height\n",
    "\n",
    "    def area(self) -> float:\n",
    "        return 0.5 * (self.base1 + self.base2) * self.height\n",
    "\n",
    "    def perimeter(self) -> float:\n",
    "        return self.base1 + self.base2 + self.side1 + self.side2\n",
    "\n",
    "    def __repr__(self) -> str:\n",
    "        return (f\"Trapezoid(base1={self.base1}, base2={self.base2}, \"\n",
    "                f\"side1={self.side1}, side2={self.side2}, height={self.height})\")\n",
    "\n",
    "    def __str__(self) -> str:\n",
    "        return (f\"Trapezoid with bases {self.base1} and {self.base2}, \"\n",
    "                f\"sides {self.side1} and {self.side2}, and height {self.height}\")"
   ]
  },
  {
   "cell_type": "code",
   "execution_count": 102,
   "id": "45de05b4-9126-4f15-ab8d-fdf98011e876",
   "metadata": {},
   "outputs": [],
   "source": [
    "inst_1 = Trapezoid(base1=3, base2=5, side1=4, side2=4, height=6)\n",
    "inst_2 = Trapezoid(base1=4, base2=6, side1=5, side2=5, height=8)"
   ]
  },
  {
   "cell_type": "code",
   "execution_count": 103,
   "id": "f3c9361e-7801-40c4-b983-102e547ada84",
   "metadata": {},
   "outputs": [
    {
     "name": "stdout",
     "output_type": "stream",
     "text": [
      "Trapezoid with bases 3 and 5, sides 4 and 4, and height 6\n",
      "Trapezoid with bases 4 and 6, sides 5 and 5, and height 8\n"
     ]
    }
   ],
   "source": [
    "print(inst_1)\n",
    "print(inst_2)"
   ]
  },
  {
   "cell_type": "code",
   "execution_count": 104,
   "id": "4c6a076f-2a81-4623-ac23-b9b06fc50e89",
   "metadata": {},
   "outputs": [
    {
     "name": "stdout",
     "output_type": "stream",
     "text": [
      "Area of inst_1: 24.0 square units\n",
      "Perimeter of inst_1: 16 units\n"
     ]
    }
   ],
   "source": [
    "print(f\"Area of inst_1: {inst_1.area()} square units\")\n",
    "print(f\"Perimeter of inst_1: {inst_1.perimeter()} units\")"
   ]
  },
  {
   "cell_type": "code",
   "execution_count": 105,
   "id": "081a4511-3d1b-405a-b88d-821c7a3bac0b",
   "metadata": {},
   "outputs": [
    {
     "name": "stdout",
     "output_type": "stream",
     "text": [
      "Area of inst_2: 40.0 square units\n",
      "Perimeter of inst_2: 20 units\n"
     ]
    }
   ],
   "source": [
    "print(f\"Area of inst_2: {inst_2.area()} square units\")\n",
    "print(f\"Perimeter of inst_2: {inst_2.perimeter()} units\")"
   ]
  },
  {
   "cell_type": "code",
   "execution_count": 106,
   "id": "88714243-b5b3-42df-ae5e-fc2a089f0469",
   "metadata": {},
   "outputs": [
    {
     "name": "stdout",
     "output_type": "stream",
     "text": [
      "Class __dict__: {'__module__': '__main__', '__init__': <function Trapezoid.__init__ at 0x000001A6B34C03A0>, 'area': <function Trapezoid.area at 0x000001A6B34CA310>, 'perimeter': <function Trapezoid.perimeter at 0x000001A6B34CA550>, '__repr__': <function Trapezoid.__repr__ at 0x000001A6B34CA4C0>, '__str__': <function Trapezoid.__str__ at 0x000001A6B34CA5E0>, '__dict__': <attribute '__dict__' of 'Trapezoid' objects>, '__weakref__': <attribute '__weakref__' of 'Trapezoid' objects>, '__doc__': None}\n",
      "Class vars: {'__module__': '__main__', '__init__': <function Trapezoid.__init__ at 0x000001A6B34C03A0>, 'area': <function Trapezoid.area at 0x000001A6B34CA310>, 'perimeter': <function Trapezoid.perimeter at 0x000001A6B34CA550>, '__repr__': <function Trapezoid.__repr__ at 0x000001A6B34CA4C0>, '__str__': <function Trapezoid.__str__ at 0x000001A6B34CA5E0>, '__dict__': <attribute '__dict__' of 'Trapezoid' objects>, '__weakref__': <attribute '__weakref__' of 'Trapezoid' objects>, '__doc__': None}\n",
      "Instance __dict__ for inst_1: {'base1': 3, 'base2': 5, 'side1': 4, 'side2': 4, 'height': 6}\n",
      "Instance vars for inst_1: {'base1': 3, 'base2': 5, 'side1': 4, 'side2': 4, 'height': 6}\n"
     ]
    }
   ],
   "source": [
    "print(f\"Class __dict__: {Trapezoid.__dict__}\")\n",
    "print(f\"Class vars: {vars(Trapezoid)}\")\n",
    "print(f\"Instance __dict__ for inst_1: {inst_1.__dict__}\")\n",
    "print(f\"Instance vars for inst_1: {vars(inst_1)}\")\n"
   ]
  },
  {
   "cell_type": "code",
   "execution_count": 107,
   "id": "7dea73f6-c116-4c4e-8927-8d774048e493",
   "metadata": {},
   "outputs": [
    {
     "name": "stdout",
     "output_type": "stream",
     "text": [
      "Help on class Trapezoid in module __main__:\n",
      "\n",
      "class Trapezoid(builtins.object)\n",
      " |  Trapezoid(base1: float = 1.0, base2: float = 1.0, side1: float = 1.0, side2: float = 1.0, height: float = 1.0)\n",
      " |  \n",
      " |  Methods defined here:\n",
      " |  \n",
      " |  __init__(self, base1: float = 1.0, base2: float = 1.0, side1: float = 1.0, side2: float = 1.0, height: float = 1.0)\n",
      " |      Initialize self.  See help(type(self)) for accurate signature.\n",
      " |  \n",
      " |  __repr__(self) -> str\n",
      " |      Return repr(self).\n",
      " |  \n",
      " |  __str__(self) -> str\n",
      " |      Return str(self).\n",
      " |  \n",
      " |  area(self) -> float\n",
      " |  \n",
      " |  perimeter(self) -> float\n",
      " |  \n",
      " |  ----------------------------------------------------------------------\n",
      " |  Data descriptors defined here:\n",
      " |  \n",
      " |  __dict__\n",
      " |      dictionary for instance variables (if defined)\n",
      " |  \n",
      " |  __weakref__\n",
      " |      list of weak references to the object (if defined)\n",
      "\n"
     ]
    }
   ],
   "source": [
    "help(Trapezoid)"
   ]
  },
  {
   "cell_type": "markdown",
   "id": "9d4279f6-6fc7-4a54-b3fa-25075fe4ab7a",
   "metadata": {},
   "source": [
    "# 8. Parallelogram: A four-sided shape with opposite sides that are equal and parallel. "
   ]
  },
  {
   "cell_type": "code",
   "execution_count": 108,
   "id": "4a0287ef-0c4a-4c6c-b3e9-bc507fba9bed",
   "metadata": {},
   "outputs": [],
   "source": [
    "import math\n",
    "\n",
    "class Point:\n",
    "    \n",
    "    def __init__(self, x: float = 0.0, y: float = 0.0):\n",
    "        self.x = x\n",
    "        self.y = y\n",
    "\n",
    "    def distance_from_origin(self) -> float:\n",
    "        return math.sqrt(self.x**2 + self.y**2)\n",
    "\n",
    "    def distance_to(self, other: 'Point') -> float:\n",
    "        return math.sqrt((self.x - other.x) ** 2 + (self.y - other.y) ** 2)\n",
    "\n",
    "    def locate(self) -> str:\n",
    "        return f\"({self.x}, {self.y})\"\n",
    "\n",
    "    def __repr__(self) -> str:\n",
    "\n",
    "        return f\"Point(x={self.x}, y={self.y})\"\n",
    "    \n",
    "    def __str__(self) -> str:\n",
    "        return f\"Point at ({self.x}, {self.y})\"\n",
    "\n",
    "\n",
    "class Parallelogram:\n",
    "    def __init__(self, p1: Point, p2: Point, p3: Point, p4: Point):\n",
    "        self.p1 = p1\n",
    "        self.p2 = p2\n",
    "        self.p3 = p3\n",
    "        self.p4 = p4\n",
    "\n",
    "    def area(self) -> float:\n",
    "        base = self.p1.distance_to(self.p2)\n",
    "        height = abs(self.p1.y - self.p3.y)  \n",
    "        return base * height\n",
    "\n",
    "    def perimeter(self) -> float:\n",
    "        side1 = self.p1.distance_to(self.p2)\n",
    "        side2 = self.p2.distance_to(self.p3)\n",
    "        return 2 * (side1 + side2)\n",
    "\n",
    "    def display_points(self) -> str:\n",
    "        return f\"Vertices: {self.p1.locate()}, {self.p2.locate()}, {self.p3.locate()}, {self.p4.locate()}\"\n",
    "\n",
    "    def __repr__(self) -> str:\n",
    "        return (f\"Parallelogram(p1={repr(self.p1)}, p2={repr(self.p2)}, \"\n",
    "                f\"p3={repr(self.p3)}, p4={repr(self.p4)})\")\n",
    "\n",
    "    def __str__(self) -> str:\n",
    "        return (f\"Parallelogram with vertices {self.p1}, {self.p2}, {self.p3}, {self.p4}\")"
   ]
  },
  {
   "cell_type": "code",
   "execution_count": 109,
   "id": "19a9becc-83b2-4199-a1e7-4a3266f9e342",
   "metadata": {},
   "outputs": [],
   "source": [
    "p1 = Point(0, 0)\n",
    "p2 = Point(4, 0)\n",
    "p3 = Point(5, 3)\n",
    "p4 = Point(1, 3)"
   ]
  },
  {
   "cell_type": "code",
   "execution_count": 110,
   "id": "b1359738-fed6-4552-a8b4-61c47a916c79",
   "metadata": {},
   "outputs": [],
   "source": [
    "parallelogram = Parallelogram(p1, p2, p3, p4)"
   ]
  },
  {
   "cell_type": "code",
   "execution_count": 111,
   "id": "6245f7c8-5020-4943-80b0-12f63fcec26d",
   "metadata": {},
   "outputs": [
    {
     "name": "stdout",
     "output_type": "stream",
     "text": [
      "Parallelogram with vertices Point at (0, 0), Point at (4, 0), Point at (5, 3), Point at (1, 3)\n"
     ]
    }
   ],
   "source": [
    "print(parallelogram)"
   ]
  },
  {
   "cell_type": "code",
   "execution_count": 112,
   "id": "1d0b24f8-78b9-4471-a3fc-76b5922adb12",
   "metadata": {},
   "outputs": [
    {
     "name": "stdout",
     "output_type": "stream",
     "text": [
      "Vertices: (0, 0), (4, 0), (5, 3), (1, 3)\n"
     ]
    }
   ],
   "source": [
    "print(parallelogram.display_points())"
   ]
  },
  {
   "cell_type": "code",
   "execution_count": 113,
   "id": "12482790-2426-4b89-b0b9-8a0fd17a7ed6",
   "metadata": {},
   "outputs": [
    {
     "name": "stdout",
     "output_type": "stream",
     "text": [
      "Area of the Parallelogram: 12.0 square units\n",
      "Perimeter of the Parallelogram: 14.32455532033676 units\n"
     ]
    }
   ],
   "source": [
    "print(f\"Area of the Parallelogram: {parallelogram.area()} square units\")\n",
    "print(f\"Perimeter of the Parallelogram: {parallelogram.perimeter()} units\")"
   ]
  },
  {
   "cell_type": "code",
   "execution_count": 114,
   "id": "b26e90c5-46f9-4fb4-86e5-fd076237bd2c",
   "metadata": {},
   "outputs": [
    {
     "name": "stdout",
     "output_type": "stream",
     "text": [
      "Class __dict__: {'__module__': '__main__', '__init__': <function Parallelogram.__init__ at 0x000001A6B34C01F0>, 'area': <function Parallelogram.area at 0x000001A6B34C00D0>, 'perimeter': <function Parallelogram.perimeter at 0x000001A6B34C0430>, 'display_points': <function Parallelogram.display_points at 0x000001A6B34BFE50>, '__repr__': <function Parallelogram.__repr__ at 0x000001A6B34BF550>, '__str__': <function Parallelogram.__str__ at 0x000001A6B34BFEE0>, '__dict__': <attribute '__dict__' of 'Parallelogram' objects>, '__weakref__': <attribute '__weakref__' of 'Parallelogram' objects>, '__doc__': None}\n",
      "Instance __dict__ for parallelogram: {'p1': Point(x=0, y=0), 'p2': Point(x=4, y=0), 'p3': Point(x=5, y=3), 'p4': Point(x=1, y=3)}\n",
      "Class vars: {'__module__': '__main__', '__init__': <function Parallelogram.__init__ at 0x000001A6B34C01F0>, 'area': <function Parallelogram.area at 0x000001A6B34C00D0>, 'perimeter': <function Parallelogram.perimeter at 0x000001A6B34C0430>, 'display_points': <function Parallelogram.display_points at 0x000001A6B34BFE50>, '__repr__': <function Parallelogram.__repr__ at 0x000001A6B34BF550>, '__str__': <function Parallelogram.__str__ at 0x000001A6B34BFEE0>, '__dict__': <attribute '__dict__' of 'Parallelogram' objects>, '__weakref__': <attribute '__weakref__' of 'Parallelogram' objects>, '__doc__': None}\n",
      "Instance vars for parallelogram: {'p1': Point(x=0, y=0), 'p2': Point(x=4, y=0), 'p3': Point(x=5, y=3), 'p4': Point(x=1, y=3)}\n"
     ]
    }
   ],
   "source": [
    "print(f\"Class __dict__: {Parallelogram.__dict__}\")\n",
    "print(f\"Instance __dict__ for parallelogram: {parallelogram.__dict__}\")\n",
    "print(f\"Class vars: {vars(Parallelogram)}\")\n",
    "print(f\"Instance vars for parallelogram: {vars(parallelogram)}\")"
   ]
  },
  {
   "cell_type": "code",
   "execution_count": 115,
   "id": "1e926ab9-5081-4454-89c6-0b24a4f50f23",
   "metadata": {},
   "outputs": [
    {
     "name": "stdout",
     "output_type": "stream",
     "text": [
      "Help on class Parallelogram in module __main__:\n",
      "\n",
      "class Parallelogram(builtins.object)\n",
      " |  Parallelogram(p1: __main__.Point, p2: __main__.Point, p3: __main__.Point, p4: __main__.Point)\n",
      " |  \n",
      " |  Methods defined here:\n",
      " |  \n",
      " |  __init__(self, p1: __main__.Point, p2: __main__.Point, p3: __main__.Point, p4: __main__.Point)\n",
      " |      Initialize self.  See help(type(self)) for accurate signature.\n",
      " |  \n",
      " |  __repr__(self) -> str\n",
      " |      Return repr(self).\n",
      " |  \n",
      " |  __str__(self) -> str\n",
      " |      Return str(self).\n",
      " |  \n",
      " |  area(self) -> float\n",
      " |  \n",
      " |  display_points(self) -> str\n",
      " |  \n",
      " |  perimeter(self) -> float\n",
      " |  \n",
      " |  ----------------------------------------------------------------------\n",
      " |  Data descriptors defined here:\n",
      " |  \n",
      " |  __dict__\n",
      " |      dictionary for instance variables (if defined)\n",
      " |  \n",
      " |  __weakref__\n",
      " |      list of weak references to the object (if defined)\n",
      "\n"
     ]
    }
   ],
   "source": [
    "help(Parallelogram)"
   ]
  },
  {
   "cell_type": "code",
   "execution_count": 116,
   "id": "414591f6-9ff9-4044-abe3-36b31b44497f",
   "metadata": {},
   "outputs": [
    {
     "name": "stdout",
     "output_type": "stream",
     "text": [
      "Distance from p1 to p5: 8.06225774829855\n"
     ]
    }
   ],
   "source": [
    "p5 = Point(7, 4)\n",
    "print(f\"Distance from p1 to p5: {p1.distance_to(p5)}\")"
   ]
  },
  {
   "cell_type": "markdown",
   "id": "f3390973-b5f5-4013-8573-1d38a81faddd",
   "metadata": {},
   "source": [
    "# 9. Rhombus: A parallelogram where all sides are of equal length, but the angles are not necessarily 90 degrees. "
   ]
  },
  {
   "cell_type": "code",
   "execution_count": 117,
   "id": "9544ec3d-268d-44b7-ae84-9ca865049d5b",
   "metadata": {},
   "outputs": [],
   "source": [
    "import math\n",
    "\n",
    "class Point:\n",
    "    \n",
    "    def __init__(self, x: float = 0.0, y: float = 0.0):\n",
    "        self.x = x\n",
    "        self.y = y\n",
    "\n",
    "    def distance_from_origin(self) -> float:\n",
    "        return math.sqrt(self.x**2 + self.y**2)\n",
    "\n",
    "    def distance_to(self, other: 'Point') -> float:\n",
    "        return math.sqrt((self.x - other.x) ** 2 + (self.y - other.y) ** 2)\n",
    "\n",
    "    def locate(self) -> str:\n",
    "        return f\"({self.x}, {self.y})\"\n",
    "\n",
    "    def __repr__(self) -> str:\n",
    "        return f\"Point(x={self.x}, y={self.y})\"\n",
    "    \n",
    "    def __str__(self) -> str:\n",
    "        return f\"Point at ({self.x}, {self.y})\"\n",
    "\n",
    "\n",
    "class Rhombus:\n",
    "    \n",
    "    def __init__(self, p1: Point, p2: Point, p3: Point, p4: Point):\n",
    "        self.p1 = p1\n",
    "        self.p2 = p2\n",
    "        self.p3 = p3\n",
    "        self.p4 = p4\n",
    "\n",
    "    def area(self) -> float:\n",
    "        d1 = self.p1.distance_to(self.p3)\n",
    "        d2 = self.p2.distance_to(self.p4)\n",
    "        \n",
    "        # Area formula: (1/2) * d1 * d2\n",
    "        return 0.5 * d1 * d2\n",
    "\n",
    "    def perimeter(self) -> float:\n",
    "        side = self.p1.distance_to(self.p2)\n",
    "        return 4 * side\n",
    "\n",
    "    def display_points(self) -> str:\n",
    "        return f\"Vertices: {self.p1.locate()}, {self.p2.locate()}, {self.p3.locate()}, {self.p4.locate()}\"\n",
    "\n",
    "    def __repr__(self) -> str:\n",
    "        return (f\"Rhombus(p1={repr(self.p1)}, p2={repr(self.p2)}, \"\n",
    "                f\"p3={repr(self.p3)}, p4={repr(self.p4)})\")\n",
    "\n",
    "    def __str__(self) -> str:\n",
    "        return (f\"Rhombus with vertices {self.p1}, {self.p2}, {self.p3}, {self.p4}\")"
   ]
  },
  {
   "cell_type": "code",
   "execution_count": 118,
   "id": "b45753c5-a7e1-4552-9b2f-2a62778370e2",
   "metadata": {},
   "outputs": [],
   "source": [
    "p1 = Point(0, 0)\n",
    "p2 = Point(4, 0)\n",
    "p3 = Point(5, 3)\n",
    "p4 = Point(1, 3)"
   ]
  },
  {
   "cell_type": "code",
   "execution_count": 119,
   "id": "0cafe5e4-0fc0-4827-bbd5-c2dd8ce53a51",
   "metadata": {},
   "outputs": [],
   "source": [
    "rhombus = Rhombus(p1, p2, p3, p4)"
   ]
  },
  {
   "cell_type": "code",
   "execution_count": 120,
   "id": "0d8309c8-fc3a-420f-9069-9b64f3626eb1",
   "metadata": {},
   "outputs": [
    {
     "name": "stdout",
     "output_type": "stream",
     "text": [
      "Rhombus with vertices Point at (0, 0), Point at (4, 0), Point at (5, 3), Point at (1, 3)\n"
     ]
    }
   ],
   "source": [
    "print(rhombus)"
   ]
  },
  {
   "cell_type": "code",
   "execution_count": 121,
   "id": "245b3de3-4bce-4427-b135-3ea92a22bad1",
   "metadata": {},
   "outputs": [
    {
     "name": "stdout",
     "output_type": "stream",
     "text": [
      "Vertices: (0, 0), (4, 0), (5, 3), (1, 3)\n"
     ]
    }
   ],
   "source": [
    "print(rhombus.display_points())"
   ]
  },
  {
   "cell_type": "code",
   "execution_count": 122,
   "id": "3b8b5a48-7ead-4d1d-ae9f-1b3ddcc58c1d",
   "metadata": {},
   "outputs": [
    {
     "name": "stdout",
     "output_type": "stream",
     "text": [
      "Area of the Rhombus: 12.36931687685298 square units\n",
      "Perimeter of the Rhombus: 16.0 units\n"
     ]
    }
   ],
   "source": [
    "print(f\"Area of the Rhombus: {rhombus.area()} square units\")\n",
    "print(f\"Perimeter of the Rhombus: {rhombus.perimeter()} units\")"
   ]
  },
  {
   "cell_type": "code",
   "execution_count": 123,
   "id": "da2a6f49-83db-4378-ad56-75392f31b6ed",
   "metadata": {},
   "outputs": [
    {
     "name": "stdout",
     "output_type": "stream",
     "text": [
      "Class __dict__: {'__module__': '__main__', '__init__': <function Rhombus.__init__ at 0x000001A6B34BF280>, 'area': <function Rhombus.area at 0x000001A6B34BF310>, 'perimeter': <function Rhombus.perimeter at 0x000001A6B34BF3A0>, 'display_points': <function Rhombus.display_points at 0x000001A6B346B5E0>, '__repr__': <function Rhombus.__repr__ at 0x000001A6B346B670>, '__str__': <function Rhombus.__str__ at 0x000001A6B346BAF0>, '__dict__': <attribute '__dict__' of 'Rhombus' objects>, '__weakref__': <attribute '__weakref__' of 'Rhombus' objects>, '__doc__': None}\n",
      "Instance __dict__ for rhombus: {'p1': Point(x=0, y=0), 'p2': Point(x=4, y=0), 'p3': Point(x=5, y=3), 'p4': Point(x=1, y=3)}\n",
      "Class vars: {'__module__': '__main__', '__init__': <function Rhombus.__init__ at 0x000001A6B34BF280>, 'area': <function Rhombus.area at 0x000001A6B34BF310>, 'perimeter': <function Rhombus.perimeter at 0x000001A6B34BF3A0>, 'display_points': <function Rhombus.display_points at 0x000001A6B346B5E0>, '__repr__': <function Rhombus.__repr__ at 0x000001A6B346B670>, '__str__': <function Rhombus.__str__ at 0x000001A6B346BAF0>, '__dict__': <attribute '__dict__' of 'Rhombus' objects>, '__weakref__': <attribute '__weakref__' of 'Rhombus' objects>, '__doc__': None}\n",
      "Instance vars for rhombus: {'p1': Point(x=0, y=0), 'p2': Point(x=4, y=0), 'p3': Point(x=5, y=3), 'p4': Point(x=1, y=3)}\n"
     ]
    }
   ],
   "source": [
    "print(f\"Class __dict__: {Rhombus.__dict__}\")\n",
    "print(f\"Instance __dict__ for rhombus: {rhombus.__dict__}\")\n",
    "print(f\"Class vars: {vars(Rhombus)}\")\n",
    "print(f\"Instance vars for rhombus: {vars(rhombus)}\")"
   ]
  },
  {
   "cell_type": "code",
   "execution_count": 124,
   "id": "d1fa5e93-01b1-438b-803a-b8e076cbcdf4",
   "metadata": {},
   "outputs": [
    {
     "name": "stdout",
     "output_type": "stream",
     "text": [
      "Help on class Rhombus in module __main__:\n",
      "\n",
      "class Rhombus(builtins.object)\n",
      " |  Rhombus(p1: __main__.Point, p2: __main__.Point, p3: __main__.Point, p4: __main__.Point)\n",
      " |  \n",
      " |  Methods defined here:\n",
      " |  \n",
      " |  __init__(self, p1: __main__.Point, p2: __main__.Point, p3: __main__.Point, p4: __main__.Point)\n",
      " |      Initialize self.  See help(type(self)) for accurate signature.\n",
      " |  \n",
      " |  __repr__(self) -> str\n",
      " |      Return repr(self).\n",
      " |  \n",
      " |  __str__(self) -> str\n",
      " |      Return str(self).\n",
      " |  \n",
      " |  area(self) -> float\n",
      " |  \n",
      " |  display_points(self) -> str\n",
      " |  \n",
      " |  perimeter(self) -> float\n",
      " |  \n",
      " |  ----------------------------------------------------------------------\n",
      " |  Data descriptors defined here:\n",
      " |  \n",
      " |  __dict__\n",
      " |      dictionary for instance variables (if defined)\n",
      " |  \n",
      " |  __weakref__\n",
      " |      list of weak references to the object (if defined)\n",
      "\n"
     ]
    }
   ],
   "source": [
    "help(Rhombus)"
   ]
  },
  {
   "cell_type": "code",
   "execution_count": 125,
   "id": "50b2ef74-d56d-46a8-8c9f-7876256ce11c",
   "metadata": {},
   "outputs": [
    {
     "name": "stdout",
     "output_type": "stream",
     "text": [
      "Distance from p1 to p5: 8.06225774829855\n"
     ]
    }
   ],
   "source": [
    "p5 = Point(7, 4)\n",
    "print(f\"Distance from p1 to p5: {p1.distance_to(p5)}\")"
   ]
  },
  {
   "cell_type": "markdown",
   "id": "f0d65f91-2734-4529-9fb7-39f13b3fbce3",
   "metadata": {},
   "source": [
    "# 10. These shapes serve as building blocks for more complex forms in geometry and design. "
   ]
  },
  {
   "cell_type": "code",
   "execution_count": 126,
   "id": "38dd3e49-f620-429b-998d-1b1518a77019",
   "metadata": {},
   "outputs": [],
   "source": [
    "import math\n",
    "\n",
    "class Circle:\n",
    "\n",
    "    def __init__(self, radius: float = 1.0):\n",
    "        self.radius = radius\n",
    "\n",
    "    @property\n",
    "    def diameter(self) -> float:\n",
    "        return 2 * self.radius\n",
    "\n",
    "    @property\n",
    "    def circumference(self) -> float:\n",
    "        return 2 * math.pi * self.radius\n",
    "\n",
    "    @property\n",
    "    def area(self) -> float:\n",
    "        return math.pi * self.radius ** 2\n",
    "\n",
    "    def volume_of_cylinder(self, height: float) -> float:\n",
    "        return math.pi * self.radius ** 2 * height\n",
    "\n",
    "    def __repr__(self) -> str:\n",
    "        return f\"Circle(radius={self.radius})\"\n",
    "\n",
    "    def __str__(self) -> str:\n",
    "        return f\"Circle with radius {self.radius}\""
   ]
  },
  {
   "cell_type": "code",
   "execution_count": 127,
   "id": "1c894de5-5647-4240-9b28-889e96e91dde",
   "metadata": {},
   "outputs": [],
   "source": [
    "inst_1 = Circle(3)\n",
    "inst_2 = Circle(5)"
   ]
  },
  {
   "cell_type": "code",
   "execution_count": 128,
   "id": "b5e7d7c7-d4ee-4090-b6ad-ead0ca6e21c6",
   "metadata": {},
   "outputs": [
    {
     "name": "stdout",
     "output_type": "stream",
     "text": [
      "Circle with radius 3\n",
      "Circle with radius 5\n"
     ]
    }
   ],
   "source": [
    "print(inst_1)\n",
    "print(inst_2)"
   ]
  },
  {
   "cell_type": "code",
   "execution_count": 129,
   "id": "bcbbabc8-1b04-47a3-ad4a-f8d6e61d7e81",
   "metadata": {},
   "outputs": [
    {
     "name": "stdout",
     "output_type": "stream",
     "text": [
      "Diameter of inst_1: 6\n",
      "Circumference of inst_1: 18.84955592153876\n",
      "Area of inst_1: 28.274333882308138\n"
     ]
    }
   ],
   "source": [
    "print(f\"Diameter of inst_1: {inst_1.diameter}\")\n",
    "print(f\"Circumference of inst_1: {inst_1.circumference}\")\n",
    "print(f\"Area of inst_1: {inst_1.area}\")"
   ]
  },
  {
   "cell_type": "code",
   "execution_count": 130,
   "id": "9bfe0b30-ee55-43d7-ad13-9a9f73f5a7a0",
   "metadata": {},
   "outputs": [
    {
     "name": "stdout",
     "output_type": "stream",
     "text": [
      "Volume of cylinder with inst_1: 282.7433388230814\n"
     ]
    }
   ],
   "source": [
    "print(f\"Volume of cylinder with inst_1: {inst_1.volume_of_cylinder(10)}\")"
   ]
  },
  {
   "cell_type": "code",
   "execution_count": 131,
   "id": "72dcdb8c-74fe-450f-894c-89d4a2f8a4b1",
   "metadata": {},
   "outputs": [
    {
     "name": "stdout",
     "output_type": "stream",
     "text": [
      "Class __dict__: {'__module__': '__main__', '__init__': <function Circle.__init__ at 0x000001A6B34C0B80>, 'diameter': <property object at 0x000001A6B34CC630>, 'circumference': <property object at 0x000001A6B34E4EF0>, 'area': <property object at 0x000001A6B34E4F40>, 'volume_of_cylinder': <function Circle.volume_of_cylinder at 0x000001A6B34A7EE0>, '__repr__': <function Circle.__repr__ at 0x000001A6B34A7D30>, '__str__': <function Circle.__str__ at 0x000001A6B34A71F0>, '__dict__': <attribute '__dict__' of 'Circle' objects>, '__weakref__': <attribute '__weakref__' of 'Circle' objects>, '__doc__': None}\n",
      "Instance __dict__ for inst_1: {'radius': 3}\n",
      "Instance __dict__ for inst_2: {'radius': 5}\n"
     ]
    }
   ],
   "source": [
    "print(f\"Class __dict__: {Circle.__dict__}\")\n",
    "print(f\"Instance __dict__ for inst_1: {inst_1.__dict__}\")\n",
    "print(f\"Instance __dict__ for inst_2: {inst_2.__dict__}\")"
   ]
  },
  {
   "cell_type": "code",
   "execution_count": 132,
   "id": "b59946e7-f8c4-431d-a751-b5319bbb8f67",
   "metadata": {},
   "outputs": [
    {
     "name": "stdout",
     "output_type": "stream",
     "text": [
      "Class vars: {'__module__': '__main__', '__init__': <function Circle.__init__ at 0x000001A6B34C0B80>, 'diameter': <property object at 0x000001A6B34CC630>, 'circumference': <property object at 0x000001A6B34E4EF0>, 'area': <property object at 0x000001A6B34E4F40>, 'volume_of_cylinder': <function Circle.volume_of_cylinder at 0x000001A6B34A7EE0>, '__repr__': <function Circle.__repr__ at 0x000001A6B34A7D30>, '__str__': <function Circle.__str__ at 0x000001A6B34A71F0>, '__dict__': <attribute '__dict__' of 'Circle' objects>, '__weakref__': <attribute '__weakref__' of 'Circle' objects>, '__doc__': None}\n",
      "Instance vars for inst_1: {'radius': 3}\n"
     ]
    }
   ],
   "source": [
    "print(f\"Class vars: {vars(Circle)}\")\n",
    "print(f\"Instance vars for inst_1: {vars(inst_1)}\")"
   ]
  },
  {
   "cell_type": "code",
   "execution_count": 133,
   "id": "96aa19ca",
   "metadata": {},
   "outputs": [
    {
     "name": "stdout",
     "output_type": "stream",
     "text": [
      "Help on class Circle in module __main__:\n",
      "\n",
      "class Circle(builtins.object)\n",
      " |  Circle(radius: float = 1.0)\n",
      " |  \n",
      " |  Methods defined here:\n",
      " |  \n",
      " |  __init__(self, radius: float = 1.0)\n",
      " |      Initialize self.  See help(type(self)) for accurate signature.\n",
      " |  \n",
      " |  __repr__(self) -> str\n",
      " |      Return repr(self).\n",
      " |  \n",
      " |  __str__(self) -> str\n",
      " |      Return str(self).\n",
      " |  \n",
      " |  volume_of_cylinder(self, height: float) -> float\n",
      " |  \n",
      " |  ----------------------------------------------------------------------\n",
      " |  Readonly properties defined here:\n",
      " |  \n",
      " |  area\n",
      " |  \n",
      " |  circumference\n",
      " |  \n",
      " |  diameter\n",
      " |  \n",
      " |  ----------------------------------------------------------------------\n",
      " |  Data descriptors defined here:\n",
      " |  \n",
      " |  __dict__\n",
      " |      dictionary for instance variables (if defined)\n",
      " |  \n",
      " |  __weakref__\n",
      " |      list of weak references to the object (if defined)\n",
      "\n"
     ]
    }
   ],
   "source": [
    "help(Circle)"
   ]
  },
  {
   "cell_type": "code",
   "execution_count": 134,
   "id": "217e5d32-1dc4-4fc0-9d14-701f64e08265",
   "metadata": {},
   "outputs": [
    {
     "name": "stdout",
     "output_type": "stream",
     "text": [
      "None\n",
      "Method: area - None\n",
      "Method: circumference - None\n",
      "Method: diameter - None\n",
      "Method: volume_of_cylinder - None\n"
     ]
    }
   ],
   "source": [
    "print(Circle.__doc__)\n",
    "for method in dir(Circle):\n",
    "    if not method.startswith('__'):\n",
    "        print(f\"Method: {method} - {getattr(Circle, method).__doc__}\")"
   ]
  },
  {
   "cell_type": "code",
   "execution_count": 135,
   "id": "238df313-1dbb-49a9-90ca-221c3574d57f",
   "metadata": {},
   "outputs": [
    {
     "name": "stdout",
     "output_type": "stream",
     "text": [
      "Circle with radius 1.0\n"
     ]
    }
   ],
   "source": [
    "inst_3 = Circle()\n",
    "print(inst_3)"
   ]
  },
  {
   "cell_type": "markdown",
   "id": "6a179c3e-1615-431e-b0ee-44882a36651a",
   "metadata": {},
   "source": [
    "# Circuit: "
   ]
  },
  {
   "cell_type": "markdown",
   "id": "f98eda1d-c380-491b-86a3-5e7b08dbb086",
   "metadata": {},
   "source": [
    "# 11. Make a class for a circuit with only one resistor.  "
   ]
  },
  {
   "cell_type": "code",
   "execution_count": 11,
   "id": "0b8b793e-df8a-431d-80c2-d82005701e6c",
   "metadata": {},
   "outputs": [],
   "source": [
    "import math \n",
    "\n",
    "class Resistor:\n",
    "    def __init__(self, resistance: float = 1.0):\n",
    "        self.resistance = resistance\n",
    "\n",
    "    def __repr__(self) -> str:\n",
    "        return f\"Resistor(resistance={self.resistance})\"\n",
    "\n",
    "    def __str__(self) -> str:\n",
    "        return f\"Resistor with resistance: {self.resistance} Ω\"\n",
    "\n",
    "\n",
    "class RLC:\n",
    "\n",
    "    def __init__(self, resistance: float = 1.0, inductance: float = 1.0, capacitance: float = 1.0):\n",
    "        self.resistance = resistance\n",
    "        self.inductance = inductance\n",
    "        self.capacitance = capacitance\n",
    "\n",
    "    @property\n",
    "    def impedance(self) -> float:\n",
    "        return sqrt(self.resistance ** 2 + (self.inductive_reactance - self.capacitive_reactance) ** 2)\n",
    "\n",
    "    @property\n",
    "    def inductive_reactance(self) -> float:\n",
    "        return 2 * pi * self.frequency * self.inductance\n",
    "\n",
    "    @property\n",
    "    def capacitive_reactance(self) -> float:\n",
    "        return 1 / (2 * pi * self.frequency * self.capacitance)\n",
    "\n",
    "    @property\n",
    "    def phase(self) -> float:\n",
    "        return atan((self.inductive_reactance - self.capacitive_reactance) / self.resistance)\n",
    "\n",
    "    @property\n",
    "    def power_factor(self) -> float:\n",
    "        return self.resistance / self.impedance\n",
    "\n",
    "    def current(self, voltage: float, frequency: float) -> float:\n",
    "        self.frequency = frequency\n",
    "        return voltage / self.impedance\n",
    "\n",
    "    def __repr__(self) -> str:\n",
    "        return f\"RLC(resistance={self.resistance}, inductance={self.inductance}, capacitance={self.capacitance})\"\n",
    "\n",
    "    def __str__(self) -> str:\n",
    "        return (f\"RLC Circuit: Resistance={self.resistance} Ω, \"\n",
    "                f\"Inductance={self.inductance} H, Capacitance={self.capacitance} F\")"
   ]
  },
  {
   "cell_type": "code",
   "execution_count": 2,
   "id": "3c5b2c29-6d56-4daf-84b6-3bb3e3f7a6e3",
   "metadata": {},
   "outputs": [],
   "source": [
    "inst_1 = RLC(5.0, 2.0, 0.01)\n",
    "inst_2 = RLC(10.0, 1.5, 0.02)"
   ]
  },
  {
   "cell_type": "code",
   "execution_count": 3,
   "id": "20a08606-43b5-45e5-a7ec-9c25564e71cd",
   "metadata": {},
   "outputs": [
    {
     "name": "stdout",
     "output_type": "stream",
     "text": [
      "RLC Circuit: Resistance=5.0 Ω, Inductance=2.0 H, Capacitance=0.01 F\n",
      "RLC Circuit: Resistance=10.0 Ω, Inductance=1.5 H, Capacitance=0.02 F\n"
     ]
    }
   ],
   "source": [
    "print(inst_1)\n",
    "print(inst_2)"
   ]
  },
  {
   "cell_type": "code",
   "execution_count": 4,
   "id": "22b788b5-4f94-4a5b-bff3-9527af4e4c62",
   "metadata": {},
   "outputs": [
    {
     "name": "stdout",
     "output_type": "stream",
     "text": [
      "{'__module__': '__main__', '__init__': <function RLC.__init__ at 0x000001E3FD81FA60>, 'impedance': <property object at 0x000001E3FD837B80>, 'inductive_reactance': <property object at 0x000001E3FD837D10>, 'capacitive_reactance': <property object at 0x000001E3FD837D60>, 'phase': <property object at 0x000001E3FD837DB0>, 'power_factor': <property object at 0x000001E3FD837E00>, 'current': <function RLC.current at 0x000001E3FD81F280>, '__repr__': <function RLC.__repr__ at 0x000001E3FD81F9D0>, '__str__': <function RLC.__str__ at 0x000001E3FD81F700>, '__dict__': <attribute '__dict__' of 'RLC' objects>, '__weakref__': <attribute '__weakref__' of 'RLC' objects>, '__doc__': None}\n"
     ]
    }
   ],
   "source": [
    "print(RLC.__dict__)"
   ]
  },
  {
   "cell_type": "code",
   "execution_count": 5,
   "id": "afd31bd5-0cef-49af-a788-51553087f2cd",
   "metadata": {},
   "outputs": [
    {
     "name": "stdout",
     "output_type": "stream",
     "text": [
      "{'__module__': '__main__', '__init__': <function RLC.__init__ at 0x000001E3FD81FA60>, 'impedance': <property object at 0x000001E3FD837B80>, 'inductive_reactance': <property object at 0x000001E3FD837D10>, 'capacitive_reactance': <property object at 0x000001E3FD837D60>, 'phase': <property object at 0x000001E3FD837DB0>, 'power_factor': <property object at 0x000001E3FD837E00>, 'current': <function RLC.current at 0x000001E3FD81F280>, '__repr__': <function RLC.__repr__ at 0x000001E3FD81F9D0>, '__str__': <function RLC.__str__ at 0x000001E3FD81F700>, '__dict__': <attribute '__dict__' of 'RLC' objects>, '__weakref__': <attribute '__weakref__' of 'RLC' objects>, '__doc__': None}\n"
     ]
    }
   ],
   "source": [
    "print(vars(RLC))"
   ]
  },
  {
   "cell_type": "code",
   "execution_count": 6,
   "id": "1ebb1373-132d-47a8-b808-072837986f29",
   "metadata": {},
   "outputs": [
    {
     "name": "stdout",
     "output_type": "stream",
     "text": [
      "{'resistance': 5.0, 'inductance': 2.0, 'capacitance': 0.01}\n",
      "{'resistance': 10.0, 'inductance': 1.5, 'capacitance': 0.02}\n"
     ]
    }
   ],
   "source": [
    "print(inst_1.__dict__)\n",
    "print(inst_2.__dict__)\n"
   ]
  },
  {
   "cell_type": "code",
   "execution_count": 7,
   "id": "37e475b3-2e31-4ca5-85a8-626454cf4456",
   "metadata": {},
   "outputs": [
    {
     "name": "stdout",
     "output_type": "stream",
     "text": [
      "Help on class RLC in module __main__:\n",
      "\n",
      "class RLC(builtins.object)\n",
      " |  RLC(resistance: float = 1.0, inductance: float = 1.0, capacitance: float = 1.0)\n",
      " |  \n",
      " |  Methods defined here:\n",
      " |  \n",
      " |  __init__(self, resistance: float = 1.0, inductance: float = 1.0, capacitance: float = 1.0)\n",
      " |      Initialize self.  See help(type(self)) for accurate signature.\n",
      " |  \n",
      " |  __repr__(self) -> str\n",
      " |      Return repr(self).\n",
      " |  \n",
      " |  __str__(self) -> str\n",
      " |      Return str(self).\n",
      " |  \n",
      " |  current(self, voltage: float, frequency: float) -> float\n",
      " |  \n",
      " |  ----------------------------------------------------------------------\n",
      " |  Readonly properties defined here:\n",
      " |  \n",
      " |  capacitive_reactance\n",
      " |  \n",
      " |  impedance\n",
      " |  \n",
      " |  inductive_reactance\n",
      " |  \n",
      " |  phase\n",
      " |  \n",
      " |  power_factor\n",
      " |  \n",
      " |  ----------------------------------------------------------------------\n",
      " |  Data descriptors defined here:\n",
      " |  \n",
      " |  __dict__\n",
      " |      dictionary for instance variables (if defined)\n",
      " |  \n",
      " |  __weakref__\n",
      " |      list of weak references to the object (if defined)\n",
      "\n"
     ]
    }
   ],
   "source": [
    "help(RLC)"
   ]
  },
  {
   "cell_type": "code",
   "execution_count": 8,
   "id": "4b62ba44-66db-47c7-aacf-141c1ad2ee57",
   "metadata": {},
   "outputs": [
    {
     "name": "stdout",
     "output_type": "stream",
     "text": [
      "None\n",
      "{'resistance': <class 'float'>, 'inductance': <class 'float'>, 'capacitance': <class 'float'>}\n",
      "{'voltage': <class 'float'>, 'frequency': <class 'float'>, 'return': <class 'float'>}\n"
     ]
    }
   ],
   "source": [
    "print(RLC.__doc__)\n",
    "print(RLC.__init__.__annotations__)\n",
    "print(RLC.current.__annotations__)"
   ]
  },
  {
   "cell_type": "code",
   "execution_count": 9,
   "id": "ac47cd6d-a2f9-47b3-8f87-098acc22e064",
   "metadata": {},
   "outputs": [],
   "source": [
    "inst_default = RLC()"
   ]
  },
  {
   "cell_type": "code",
   "execution_count": 10,
   "id": "d76e1cba-c6af-4bd3-8ee8-9c53acd40fcc",
   "metadata": {},
   "outputs": [
    {
     "name": "stdout",
     "output_type": "stream",
     "text": [
      "RLC Circuit: Resistance=1.0 Ω, Inductance=1.0 H, Capacitance=1.0 F\n"
     ]
    }
   ],
   "source": [
    "print(inst_default)"
   ]
  },
  {
   "cell_type": "markdown",
   "id": "d5c4ae2b-8bb5-4772-8214-a8881c435d05",
   "metadata": {},
   "source": [
    "# 12. Making a class for the RL circuit.  "
   ]
  },
  {
   "cell_type": "code",
   "execution_count": 20,
   "id": "5ac355f9-2264-482d-a372-1f9d455ee280",
   "metadata": {},
   "outputs": [],
   "source": [
    "import  math \n",
    "class RL:\n",
    "\n",
    "    def __init__(self, resistance: float = 1.0, inductance: float = 1.0):\n",
    "        self.resistance = resistance\n",
    "        self.inductance = inductance\n",
    "\n",
    "    @property\n",
    "    def inductive_reactance(self, frequency: float) -> float:\n",
    "        return 2 * pi * frequency * self.inductance\n",
    "\n",
    "    @property\n",
    "    def impedance(self) -> float:\n",
    "        return sqrt(self.resistance**2 + self.inductive_reactance**2)\n",
    "\n",
    "    @property\n",
    "    def phase(self, frequency: float) -> float:\n",
    "        return atan(self.inductive_reactance / self.resistance)\n",
    "\n",
    "    @property\n",
    "    def power_factor(self, frequency: float) -> float:\n",
    "        return self.resistance / self.impedance\n",
    "\n",
    "    def current(self, voltage: float, frequency: float) -> float:\n",
    "        self.frequency = frequency\n",
    "        return voltage / self.impedance\n",
    "\n",
    "    def __repr__(self) -> str:\n",
    "        return f\"RL(resistance={self.resistance}, inductance={self.inductance})\"\n",
    "\n",
    "    def __str__(self) -> str:\n",
    "        return f\"RL Circuit: Resistance={self.resistance} Ω, Inductance={self.inductance} H\"\n",
    "\n",
    "\n",
    "class RLC:\n",
    "    def __init__(self, resistance: float = 1.0, inductance: float = 1.0, capacitance: float = 1.0):\n",
    "        self.resistance = resistance\n",
    "        self.inductance = inductance\n",
    "        self.capacitance = capacitance\n",
    "\n",
    "    @property\n",
    "    def inductive_reactance(self, frequency: float) -> float:\n",
    "        return 2 * pi * frequency * self.inductance\n",
    "\n",
    "    @property\n",
    "    def capacitive_reactance(self, frequency: float) -> float:\n",
    "        return 1 / (2 * pi * frequency * self.capacitance)\n",
    "\n",
    "    @property\n",
    "    def impedance(self, frequency: float) -> float:\n",
    "        return sqrt(self.resistance**2 + (self.inductive_reactance - self.capacitive_reactance)**2)\n",
    "\n",
    "    @property\n",
    "    def phase(self, frequency: float) -> float:\n",
    "        return atan((self.inductive_reactance - self.capacitive_reactance) / self.resistance)\n",
    "\n",
    "    @property\n",
    "    def power_factor(self, frequency: float) -> float:\n",
    "        return self.resistance / self.impedance\n",
    "\n",
    "    def current(self, voltage: float, frequency: float) -> float:\n",
    "        self.frequency = frequency\n",
    "        return voltage / self.impedance\n",
    "\n",
    "    def __repr__(self) -> str:\n",
    "        return f\"RLC(resistance={self.resistance}, inductance={self.inductance}, capacitance={self.capacitance})\"\n",
    "\n",
    "    def __str__(self) -> str:\n",
    "        return (f\"RLC Circuit: Resistance={self.resistance} Ω, \"\n",
    "                f\"Inductance={self.inductance} H, Capacitance={self.capacitance} F\")\n",
    "\n"
   ]
  },
  {
   "cell_type": "code",
   "execution_count": 14,
   "id": "8c746b1e-7535-4353-ad7c-fb40a6d9f80d",
   "metadata": {},
   "outputs": [],
   "source": [
    "inst_rl = RL(10, 0.5)"
   ]
  },
  {
   "cell_type": "code",
   "execution_count": 15,
   "id": "07007bc7-b12d-47e2-8e5d-cc363997d27c",
   "metadata": {},
   "outputs": [
    {
     "name": "stdout",
     "output_type": "stream",
     "text": [
      "RL Circuit: Resistance=10 Ω, Inductance=0.5 H\n"
     ]
    }
   ],
   "source": [
    "print(inst_rl)"
   ]
  },
  {
   "cell_type": "code",
   "execution_count": 16,
   "id": "4edfdbb1-230b-4c70-9ad2-a2d9b8a5f610",
   "metadata": {},
   "outputs": [],
   "source": [
    "inst_rlc = RLC(10, 0.5, 0.01)"
   ]
  },
  {
   "cell_type": "code",
   "execution_count": 17,
   "id": "58e1e89c-b90d-4513-9053-efefc21f3fa7",
   "metadata": {},
   "outputs": [
    {
     "name": "stdout",
     "output_type": "stream",
     "text": [
      "RLC Circuit: Resistance=10 Ω, Inductance=0.5 H, Capacitance=0.01 F\n"
     ]
    }
   ],
   "source": [
    "print(inst_rlc)"
   ]
  },
  {
   "cell_type": "code",
   "execution_count": 18,
   "id": "43a24a58-3cc9-4071-b830-cd3a721a0504",
   "metadata": {},
   "outputs": [
    {
     "name": "stdout",
     "output_type": "stream",
     "text": [
      "{'__module__': '__main__', '__init__': <function RLC.__init__ at 0x000001E3FD7EDD30>, 'inductive_reactance': <property object at 0x000001E3FD851C70>, 'capacitive_reactance': <property object at 0x000001E3FD84FF40>, 'impedance': <property object at 0x000001E3FD84FF90>, 'phase': <property object at 0x000001E3FD855040>, 'power_factor': <property object at 0x000001E3FD855090>, 'current': <function RLC.current at 0x000001E3FD8528B0>, '__repr__': <function RLC.__repr__ at 0x000001E3FD852940>, '__str__': <function RLC.__str__ at 0x000001E3FD8529D0>, '__dict__': <attribute '__dict__' of 'RLC' objects>, '__weakref__': <attribute '__weakref__' of 'RLC' objects>, '__doc__': None}\n",
      "{'__module__': '__main__', '__init__': <function RLC.__init__ at 0x000001E3FD7EDD30>, 'inductive_reactance': <property object at 0x000001E3FD851C70>, 'capacitive_reactance': <property object at 0x000001E3FD84FF40>, 'impedance': <property object at 0x000001E3FD84FF90>, 'phase': <property object at 0x000001E3FD855040>, 'power_factor': <property object at 0x000001E3FD855090>, 'current': <function RLC.current at 0x000001E3FD8528B0>, '__repr__': <function RLC.__repr__ at 0x000001E3FD852940>, '__str__': <function RLC.__str__ at 0x000001E3FD8529D0>, '__dict__': <attribute '__dict__' of 'RLC' objects>, '__weakref__': <attribute '__weakref__' of 'RLC' objects>, '__doc__': None}\n",
      "{'resistance': 10, 'inductance': 0.5, 'capacitance': 0.01}\n"
     ]
    }
   ],
   "source": [
    "print(RLC.__dict__)\n",
    "print(vars(RLC))\n",
    "print(inst_rlc.__dict__)"
   ]
  },
  {
   "cell_type": "code",
   "execution_count": 19,
   "id": "0f58bbff-0600-4a77-a2a2-12343d204eb6",
   "metadata": {},
   "outputs": [
    {
     "name": "stdout",
     "output_type": "stream",
     "text": [
      "Help on class RLC in module __main__:\n",
      "\n",
      "class RLC(builtins.object)\n",
      " |  RLC(resistance: float = 1.0, inductance: float = 1.0, capacitance: float = 1.0)\n",
      " |  \n",
      " |  Methods defined here:\n",
      " |  \n",
      " |  __init__(self, resistance: float = 1.0, inductance: float = 1.0, capacitance: float = 1.0)\n",
      " |      Initialize self.  See help(type(self)) for accurate signature.\n",
      " |  \n",
      " |  __repr__(self) -> str\n",
      " |      Return repr(self).\n",
      " |  \n",
      " |  __str__(self) -> str\n",
      " |      Return str(self).\n",
      " |  \n",
      " |  current(self, voltage: float, frequency: float) -> float\n",
      " |  \n",
      " |  ----------------------------------------------------------------------\n",
      " |  Readonly properties defined here:\n",
      " |  \n",
      " |  capacitive_reactance\n",
      " |  \n",
      " |  impedance\n",
      " |  \n",
      " |  inductive_reactance\n",
      " |  \n",
      " |  phase\n",
      " |  \n",
      " |  power_factor\n",
      " |  \n",
      " |  ----------------------------------------------------------------------\n",
      " |  Data descriptors defined here:\n",
      " |  \n",
      " |  __dict__\n",
      " |      dictionary for instance variables (if defined)\n",
      " |  \n",
      " |  __weakref__\n",
      " |      list of weak references to the object (if defined)\n",
      "\n"
     ]
    }
   ],
   "source": [
    "help(RLC)"
   ]
  },
  {
   "cell_type": "markdown",
   "id": "325f09b1-3852-4d16-94cb-d090a798d25f",
   "metadata": {},
   "source": [
    "# 13. Making a class for the RC circuits. "
   ]
  },
  {
   "cell_type": "code",
   "execution_count": 25,
   "id": "c2e95b69-2d26-4c30-9bf4-13af7f05a215",
   "metadata": {},
   "outputs": [],
   "source": [
    " import math\n",
    "\n",
    "\n",
    "class RC:\n",
    "\n",
    "    def __init__(self, resistance: float = 1.0, capacitance: float = 1.0):\n",
    "        self.resistance = resistance\n",
    "        self.capacitance = capacitance\n",
    "\n",
    "    @property\n",
    "    def resistance(self) -> float:\n",
    "        return self._resistance\n",
    "\n",
    "    @resistance.setter\n",
    "    def resistance(self, value: float):\n",
    "        if value < 0:\n",
    "            raise ValueError()\n",
    "        self._resistance = value\n",
    "\n",
    "    @property\n",
    "    def capacitance(self) -> float:\n",
    "        return self._capacitance\n",
    "\n",
    "    @capacitance.setter\n",
    "    def capacitance(self, value: float):\n",
    "\n",
    "        if value <= 0:\n",
    "            raise ValueError()\n",
    "        self._capacitance = value\n",
    "\n",
    "    @property\n",
    "    def capacitive_reactance(self, frequency: float) -> float:\n",
    "        return 1 / (2 * pi * frequency * self.capacitance)\n",
    "\n",
    "    @property\n",
    "    def impedance(self) -> float:\n",
    "        return sqrt(self.resistance ** 2 + self.capacitive_reactance ** 2)\n",
    "\n",
    "    @property\n",
    "    def phase(self) -> float:\n",
    "        return -atan(self.capacitive_reactance / self.resistance)\n",
    "\n",
    "    @property\n",
    "    def power_factor(self) -> float:\n",
    "        return self.resistance / self.impedance\n",
    "\n",
    "    def current(self, voltage: float, frequency: float) -> float:\n",
    "        self.frequency = frequency\n",
    "        return voltage / self.impedance\n",
    "\n",
    "    def __repr__(self) -> str:\n",
    "        return f\"RC(resistance={self.resistance}, capacitance={self.capacitance})\"\n",
    "\n",
    "    def __str__(self) -> str:\n",
    "        return f\"RC Circuit: Resistance={self.resistance} Ω, Capacitance={self.capacitance} F\"\n",
    "\n",
    "\n",
    "class RLC:\n",
    "\n",
    "    def __init__(\n",
    "        self, resistance: float = 1.0, inductance: float = 1.0, capacitance: float = 1.0\n",
    "    ):\n",
    "        self.resistance = resistance\n",
    "        self.inductance = inductance\n",
    "        self.capacitance = capacitance\n",
    "        \n",
    "    def __repr__(self) -> str:\n",
    "        return f\"RLC(resistance={self.resistance}, inductance={self.inductance}, capacitance={self.capacitance})\"\n",
    "\n",
    "    def __str__(self) -> str:\n",
    "        return (\n",
    "            f\"RLC Circuit: Resistance={self.resistance} Ω, \"\n",
    "            f\"Inductance={self.inductance} H, Capacitance={self.capacitance} F\"\n",
    "        )"
   ]
  },
  {
   "cell_type": "code",
   "execution_count": 26,
   "id": "d7bbe7e4-209a-446e-977f-ad3475b3675b",
   "metadata": {},
   "outputs": [],
   "source": [
    "inst_1 = RC(5.0, 0.001)\n",
    "inst_2 = RC(10.0, 0.002)"
   ]
  },
  {
   "cell_type": "code",
   "execution_count": 27,
   "id": "814012b8-354d-45da-8b47-92f8c0208359",
   "metadata": {},
   "outputs": [
    {
     "name": "stdout",
     "output_type": "stream",
     "text": [
      "RC Circuit: Resistance=5.0 Ω, Capacitance=0.001 F\n",
      "RC Circuit: Resistance=10.0 Ω, Capacitance=0.002 F\n"
     ]
    }
   ],
   "source": [
    "print(inst_1)\n",
    "print(inst_2)"
   ]
  },
  {
   "cell_type": "code",
   "execution_count": 28,
   "id": "298ed86e-60c7-420a-9461-4ff7b1a6a848",
   "metadata": {},
   "outputs": [
    {
     "name": "stdout",
     "output_type": "stream",
     "text": [
      "{'__module__': '__main__', '__init__': <function RC.__init__ at 0x000001E3FD852040>, 'resistance': <property object at 0x000001E3FD872DB0>, 'capacitance': <property object at 0x000001E3FD872E00>, 'capacitive_reactance': <property object at 0x000001E3FD837540>, 'impedance': <property object at 0x000001E3FD872D60>, 'phase': <property object at 0x000001E3FD872E50>, 'power_factor': <property object at 0x000001E3FD872EA0>, 'current': <function RC.current at 0x000001E3FD876280>, '__repr__': <function RC.__repr__ at 0x000001E3FD876310>, '__str__': <function RC.__str__ at 0x000001E3FD8763A0>, '__dict__': <attribute '__dict__' of 'RC' objects>, '__weakref__': <attribute '__weakref__' of 'RC' objects>, '__doc__': None}\n"
     ]
    }
   ],
   "source": [
    "print(RC.__dict__)"
   ]
  },
  {
   "cell_type": "code",
   "execution_count": 29,
   "id": "fbb8047f-bc58-4fd9-b327-872ebe22324e",
   "metadata": {},
   "outputs": [
    {
     "name": "stdout",
     "output_type": "stream",
     "text": [
      "{'__module__': '__main__', '__init__': <function RC.__init__ at 0x000001E3FD852040>, 'resistance': <property object at 0x000001E3FD872DB0>, 'capacitance': <property object at 0x000001E3FD872E00>, 'capacitive_reactance': <property object at 0x000001E3FD837540>, 'impedance': <property object at 0x000001E3FD872D60>, 'phase': <property object at 0x000001E3FD872E50>, 'power_factor': <property object at 0x000001E3FD872EA0>, 'current': <function RC.current at 0x000001E3FD876280>, '__repr__': <function RC.__repr__ at 0x000001E3FD876310>, '__str__': <function RC.__str__ at 0x000001E3FD8763A0>, '__dict__': <attribute '__dict__' of 'RC' objects>, '__weakref__': <attribute '__weakref__' of 'RC' objects>, '__doc__': None}\n"
     ]
    }
   ],
   "source": [
    "print(vars(RC))"
   ]
  },
  {
   "cell_type": "code",
   "execution_count": 30,
   "id": "cce8a6b7-90dc-48aa-9870-5723bccd4b5e",
   "metadata": {},
   "outputs": [
    {
     "name": "stdout",
     "output_type": "stream",
     "text": [
      "{'_resistance': 5.0, '_capacitance': 0.001}\n",
      "{'_resistance': 10.0, '_capacitance': 0.002}\n"
     ]
    }
   ],
   "source": [
    "print(inst_1.__dict__)\n",
    "print(inst_2.__dict__)"
   ]
  },
  {
   "cell_type": "code",
   "execution_count": 31,
   "id": "a92c3706-963b-41d0-8616-c72259789e3d",
   "metadata": {},
   "outputs": [
    {
     "name": "stdout",
     "output_type": "stream",
     "text": [
      "Help on class RC in module __main__:\n",
      "\n",
      "class RC(builtins.object)\n",
      " |  RC(resistance: float = 1.0, capacitance: float = 1.0)\n",
      " |  \n",
      " |  Methods defined here:\n",
      " |  \n",
      " |  __init__(self, resistance: float = 1.0, capacitance: float = 1.0)\n",
      " |      Initialize self.  See help(type(self)) for accurate signature.\n",
      " |  \n",
      " |  __repr__(self) -> str\n",
      " |      Return repr(self).\n",
      " |  \n",
      " |  __str__(self) -> str\n",
      " |      Return str(self).\n",
      " |  \n",
      " |  current(self, voltage: float, frequency: float) -> float\n",
      " |  \n",
      " |  ----------------------------------------------------------------------\n",
      " |  Readonly properties defined here:\n",
      " |  \n",
      " |  capacitive_reactance\n",
      " |  \n",
      " |  impedance\n",
      " |  \n",
      " |  phase\n",
      " |  \n",
      " |  power_factor\n",
      " |  \n",
      " |  ----------------------------------------------------------------------\n",
      " |  Data descriptors defined here:\n",
      " |  \n",
      " |  __dict__\n",
      " |      dictionary for instance variables (if defined)\n",
      " |  \n",
      " |  __weakref__\n",
      " |      list of weak references to the object (if defined)\n",
      " |  \n",
      " |  capacitance\n",
      " |  \n",
      " |  resistance\n",
      "\n"
     ]
    }
   ],
   "source": [
    "help(RC)"
   ]
  },
  {
   "cell_type": "code",
   "execution_count": 32,
   "id": "9fb44c3d-abaa-4196-9f7c-dc3dfe894501",
   "metadata": {},
   "outputs": [
    {
     "name": "stdout",
     "output_type": "stream",
     "text": [
      "None\n",
      "{'resistance': <class 'float'>, 'capacitance': <class 'float'>}\n"
     ]
    }
   ],
   "source": [
    "print(RC.__doc__)\n",
    "print(RC.__init__.__annotations__)"
   ]
  },
  {
   "cell_type": "code",
   "execution_count": 33,
   "id": "3f77d65d-a6e2-4297-9a07-a23a89b99fdb",
   "metadata": {},
   "outputs": [
    {
     "name": "stdout",
     "output_type": "stream",
     "text": [
      "RC Circuit: Resistance=1.0 Ω, Capacitance=1.0 F\n"
     ]
    }
   ],
   "source": [
    "inst_default_rc = RC()\n",
    "print(inst_default_rc)"
   ]
  },
  {
   "cell_type": "markdown",
   "id": "4e67c10d-aae7-4c39-a088-fe3a94f9790c",
   "metadata": {},
   "source": [
    "# 14. Making a class for RLC parallel circuits.  "
   ]
  },
  {
   "cell_type": "code",
   "execution_count": 57,
   "id": "5071fc48-b832-45be-a104-402a8433cf64",
   "metadata": {},
   "outputs": [],
   "source": [
    "import math \n",
    "\n",
    "\n",
    "class ParallelRLC:\n",
    "\n",
    "    def __init__(\n",
    "        self, resistance: float = 1.0, inductance: float = 1.0, capacitance: float = 1.0\n",
    "    ):\n",
    "        self.resistance = resistance\n",
    "        self.inductance = inductance\n",
    "        self.capacitance = capacitance\n",
    "\n",
    "    def inductive_reactance(self, frequency: float) -> float:\n",
    "        if frequency <= 0:\n",
    "            raise ValueError()\n",
    "        return 2 * pi * frequency * self.inductance\n",
    "\n",
    "    def capacitive_reactance(self, frequency: float) -> float:\n",
    "        if frequency <= 0:\n",
    "            raise ValueError()\n",
    "        return 1 / (2 * pi * frequency * self.capacitance)\n",
    "\n",
    "    def impedance(self, frequency: float) -> float:\n",
    "        xl = self.inductive_reactance(frequency)\n",
    "        xc = self.capacitive_reactance(frequency)\n",
    "\n",
    "        if xl == xc:  \n",
    "            return self.resistance\n",
    "\n",
    "        y_resistance = 1 / self.resistance\n",
    "        y_inductance = 1 / xl\n",
    "        y_capacitance = 1 / xc\n",
    "        y_total = sqrt((y_resistance) ** 2 + (y_inductance - y_capacitance) ** 2)\n",
    "\n",
    "        return 1 / y_total\n",
    "\n",
    "    def phase(self, frequency: float) -> float:\n",
    "        xl = self.inductive_reactance(frequency)\n",
    "        xc = self.capacitive_reactance(frequency)\n",
    "\n",
    "        return atan((1 / xl - 1 / xc) / (1 / self.resistance))\n",
    "\n",
    "    def power_factor(self, frequency: float) -> float:\n",
    "        return abs(self.resistance / self.impedance(frequency))\n",
    "\n",
    "    def current(self, voltage: float, frequency: float) -> float:\n",
    "        return voltage / self.impedance(frequency)\n",
    "\n",
    "    def __repr__(self) -> str:\n",
    "        return (\n",
    "            f\"ParallelRLC(resistance={self.resistance}, \"\n",
    "            f\"inductance={self.inductance}, capacitance={self.capacitance})\"\n",
    "        )\n",
    "\n",
    "    def __str__(self) -> str:\n",
    "        return (\n",
    "            f\"Parallel RLC Circuit: Resistance={self.resistance} Ω, \"\n",
    "            f\"Inductance={self.inductance} H, Capacitance={self.capacitance} F\"\n",
    "        )"
   ]
  },
  {
   "cell_type": "code",
   "execution_count": 58,
   "id": "41f083a8-8510-40b8-a83b-acebac2e0c1f",
   "metadata": {},
   "outputs": [],
   "source": [
    "inst_1 = ParallelRLC(resistance=50, inductance=0.1, capacitance=0.001)\n",
    "inst_2 = ParallelRLC(resistance=100, inductance=0.2, capacitance=0.002)"
   ]
  },
  {
   "cell_type": "code",
   "execution_count": 59,
   "id": "0d6812a0-896a-4129-9828-b2444e46739c",
   "metadata": {},
   "outputs": [
    {
     "name": "stdout",
     "output_type": "stream",
     "text": [
      "Parallel RLC Circuit: Resistance=50 Ω, Inductance=0.1 H, Capacitance=0.001 F\n",
      "Parallel RLC Circuit: Resistance=100 Ω, Inductance=0.2 H, Capacitance=0.002 F\n"
     ]
    }
   ],
   "source": [
    "print(inst_1)\n",
    "print(inst_2)"
   ]
  },
  {
   "cell_type": "code",
   "execution_count": 60,
   "id": "d642a855-8013-4db5-ba52-4a0e63c425e9",
   "metadata": {},
   "outputs": [],
   "source": [
    "frequency = 60  \n",
    "voltage = 220 "
   ]
  },
  {
   "cell_type": "code",
   "execution_count": 61,
   "id": "b4a1b0f1-f1eb-4404-b714-0e7c0cb25c6d",
   "metadata": {},
   "outputs": [
    {
     "name": "stdout",
     "output_type": "stream",
     "text": [
      "Impedance: 2.85 Ω\n",
      "Phase Angle: -1.51 radians\n",
      "Power Factor: 17.55\n",
      "Current: 77.23 A\n"
     ]
    }
   ],
   "source": [
    "print(f\"Impedance: {inst_1.impedance(frequency):.2f} Ω\")\n",
    "print(f\"Phase Angle: {inst_1.phase(frequency):.2f} radians\")\n",
    "print(f\"Power Factor: {inst_1.power_factor(frequency):.2f}\")\n",
    "print(f\"Current: {inst_1.current(voltage, frequency):.2f} A\")"
   ]
  },
  {
   "cell_type": "code",
   "execution_count": 62,
   "id": "777d02d9-d822-44e5-80c6-35b87e6e1d41",
   "metadata": {},
   "outputs": [
    {
     "name": "stdout",
     "output_type": "stream",
     "text": [
      "{'__module__': '__main__', '__init__': <function ParallelRLC.__init__ at 0x000001E3FD852DC0>, 'inductive_reactance': <function ParallelRLC.inductive_reactance at 0x000001E3FF4E7F70>, 'capacitive_reactance': <function ParallelRLC.capacitive_reactance at 0x000001E3FF4E7AF0>, 'impedance': <function ParallelRLC.impedance at 0x000001E3FF4E7D30>, 'phase': <function ParallelRLC.phase at 0x000001E3FF4E7DC0>, 'power_factor': <function ParallelRLC.power_factor at 0x000001E3FF4E7E50>, 'current': <function ParallelRLC.current at 0x000001E3FF4DD040>, '__repr__': <function ParallelRLC.__repr__ at 0x000001E3FF4DD0D0>, '__str__': <function ParallelRLC.__str__ at 0x000001E3FF4DD160>, '__dict__': <attribute '__dict__' of 'ParallelRLC' objects>, '__weakref__': <attribute '__weakref__' of 'ParallelRLC' objects>, '__doc__': None}\n",
      "{'__module__': '__main__', '__init__': <function ParallelRLC.__init__ at 0x000001E3FD852DC0>, 'inductive_reactance': <function ParallelRLC.inductive_reactance at 0x000001E3FF4E7F70>, 'capacitive_reactance': <function ParallelRLC.capacitive_reactance at 0x000001E3FF4E7AF0>, 'impedance': <function ParallelRLC.impedance at 0x000001E3FF4E7D30>, 'phase': <function ParallelRLC.phase at 0x000001E3FF4E7DC0>, 'power_factor': <function ParallelRLC.power_factor at 0x000001E3FF4E7E50>, 'current': <function ParallelRLC.current at 0x000001E3FF4DD040>, '__repr__': <function ParallelRLC.__repr__ at 0x000001E3FF4DD0D0>, '__str__': <function ParallelRLC.__str__ at 0x000001E3FF4DD160>, '__dict__': <attribute '__dict__' of 'ParallelRLC' objects>, '__weakref__': <attribute '__weakref__' of 'ParallelRLC' objects>, '__doc__': None}\n",
      "{'resistance': 50, 'inductance': 0.1, 'capacitance': 0.001}\n",
      "\n"
     ]
    }
   ],
   "source": [
    "print(ParallelRLC.__dict__)\n",
    "print(vars(ParallelRLC))\n",
    "print(inst_1.__dict__)\n",
    "print()"
   ]
  },
  {
   "cell_type": "code",
   "execution_count": 63,
   "id": "7f760c97-954a-4cae-aed4-f4f79f197317",
   "metadata": {},
   "outputs": [
    {
     "name": "stdout",
     "output_type": "stream",
     "text": [
      "Help on class ParallelRLC in module __main__:\n",
      "\n",
      "class ParallelRLC(builtins.object)\n",
      " |  ParallelRLC(resistance: float = 1.0, inductance: float = 1.0, capacitance: float = 1.0)\n",
      " |  \n",
      " |  Methods defined here:\n",
      " |  \n",
      " |  __init__(self, resistance: float = 1.0, inductance: float = 1.0, capacitance: float = 1.0)\n",
      " |      Initialize self.  See help(type(self)) for accurate signature.\n",
      " |  \n",
      " |  __repr__(self) -> str\n",
      " |      Return repr(self).\n",
      " |  \n",
      " |  __str__(self) -> str\n",
      " |      Return str(self).\n",
      " |  \n",
      " |  capacitive_reactance(self, frequency: float) -> float\n",
      " |  \n",
      " |  current(self, voltage: float, frequency: float) -> float\n",
      " |  \n",
      " |  impedance(self, frequency: float) -> float\n",
      " |  \n",
      " |  inductive_reactance(self, frequency: float) -> float\n",
      " |  \n",
      " |  phase(self, frequency: float) -> float\n",
      " |  \n",
      " |  power_factor(self, frequency: float) -> float\n",
      " |  \n",
      " |  ----------------------------------------------------------------------\n",
      " |  Data descriptors defined here:\n",
      " |  \n",
      " |  __dict__\n",
      " |      dictionary for instance variables (if defined)\n",
      " |  \n",
      " |  __weakref__\n",
      " |      list of weak references to the object (if defined)\n",
      "\n"
     ]
    }
   ],
   "source": [
    "help(ParallelRLC)"
   ]
  },
  {
   "cell_type": "code",
   "execution_count": 64,
   "id": "c1358caa-c00d-4d9e-aa19-d07c2b237b3b",
   "metadata": {},
   "outputs": [
    {
     "name": "stdout",
     "output_type": "stream",
     "text": [
      "Parallel RLC Circuit: Resistance=1.0 Ω, Inductance=1.0 H, Capacitance=1.0 F\n"
     ]
    }
   ],
   "source": [
    "default_rlc = ParallelRLC()\n",
    "print(default_rlc)"
   ]
  },
  {
   "cell_type": "markdown",
   "id": "05bbe2d5-b6b3-4396-9fff-382b6e970cab",
   "metadata": {},
   "source": [
    "# 15. Modify the RLC series for the series resonance case. "
   ]
  },
  {
   "cell_type": "code",
   "execution_count": 65,
   "id": "e4684b90-656a-4f11-b628-3334c414fafa",
   "metadata": {},
   "outputs": [],
   "source": [
    "import math\n",
    "\n",
    "\n",
    "class RLCSeriesCircuit:\n",
    "    def __init__(\n",
    "        self, resistance: float = 1.0, inductance: float = 1.0, capacitance: float = 1.0\n",
    "    ):\n",
    "        if resistance < 0:\n",
    "            raise ValueError()\n",
    "        if inductance <= 0:\n",
    "            raise ValueError()\n",
    "        if capacitance <= 0:\n",
    "            raise ValueError()\n",
    "\n",
    "        self.resistance = resistance\n",
    "        self.inductance = inductance\n",
    "        self.capacitance = capacitance\n",
    "\n",
    "    @property\n",
    "    def resonant_frequency(self) -> float:\n",
    "        return 1 / (2 * math.pi * math.sqrt(self.inductance * self.capacitance))\n",
    "\n",
    "    def impedance(self, frequency: float) -> float:\n",
    "        if frequency <= 0:\n",
    "            raise ValueError()\n",
    "\n",
    "        xl = 2 * math.pi * frequency * self.inductance\n",
    "        xc = 1 / (2 * math.pi * frequency * self.capacitance)\n",
    "        z = math.sqrt(self.resistance**2 + (xl - xc) ** 2)\n",
    "\n",
    "        return z\n",
    "\n",
    "    def phase(self, frequency: float) -> float:\n",
    "        if frequency <= 0:\n",
    "            raise ValueError()\n",
    "\n",
    "        xl = 2 * math.pi * frequency * self.inductance\n",
    "        xc = 1 / (2 * math.pi * frequency * self.capacitance)\n",
    "        return math.atan((xl - xc) / self.resistance)\n",
    "\n",
    "    def power_factor(self, frequency: float) -> float:\n",
    "        return abs(self.resistance / self.impedance(frequency))\n",
    "\n",
    "    def current(self, voltage: float, frequency: float) -> float:\n",
    "        return voltage / self.impedance(frequency)\n",
    "\n",
    "    def __repr__(self) -> str:\n",
    "        return (\n",
    "            f\"RLCSeriesCircuit(resistance={self.resistance}, \"\n",
    "            f\"inductance={self.inductance}, capacitance={self.capacitance})\"\n",
    "        )\n",
    "\n",
    "    def __str__(self) -> str:\n",
    "        return (\n",
    "            f\"Series RLC Circuit: Resistance={self.resistance} Ω, \"\n",
    "            f\"Inductance={self.inductance} H, Capacitance={self.capacitance} F\"\n",
    "        )"
   ]
  },
  {
   "cell_type": "code",
   "execution_count": 66,
   "id": "63245055-eb67-492a-a2f1-9fcab99af7cb",
   "metadata": {},
   "outputs": [],
   "source": [
    "inst_1 = RLCSeriesCircuit(resistance=10, inductance=0.01, capacitance=0.001)\n",
    "inst_2 = RLCSeriesCircuit(resistance=5, inductance=0.02, capacitance=0.002)"
   ]
  },
  {
   "cell_type": "code",
   "execution_count": 67,
   "id": "7ee075b7-8caf-4e35-814d-66cb84614bae",
   "metadata": {},
   "outputs": [
    {
     "name": "stdout",
     "output_type": "stream",
     "text": [
      "Series RLC Circuit: Resistance=10 Ω, Inductance=0.01 H, Capacitance=0.001 F\n",
      "Series RLC Circuit: Resistance=5 Ω, Inductance=0.02 H, Capacitance=0.002 F\n"
     ]
    }
   ],
   "source": [
    "print(inst_1)\n",
    "print(inst_2)"
   ]
  },
  {
   "cell_type": "code",
   "execution_count": 68,
   "id": "c4c9a101-0775-44c4-8572-f0d6a8d79da6",
   "metadata": {},
   "outputs": [],
   "source": [
    "frequency = 50  \n",
    "voltage = 230 "
   ]
  },
  {
   "cell_type": "code",
   "execution_count": 69,
   "id": "4c874ceb-5512-482d-8c4d-9af116f9592f",
   "metadata": {},
   "outputs": [
    {
     "name": "stdout",
     "output_type": "stream",
     "text": [
      "Resonant Frequency (inst_1): 50.33 Hz\n",
      "Impedance (inst_1): 10.00 Ω\n",
      "Phase Angle (inst_1): -0.00 radians\n",
      "Power Factor (inst_1): 1.00\n",
      "Current (inst_1): 23.00 A\n"
     ]
    }
   ],
   "source": [
    "print(f\"Resonant Frequency (inst_1): {inst_1.resonant_frequency:.2f} Hz\")\n",
    "print(f\"Impedance (inst_1): {inst_1.impedance(frequency):.2f} Ω\")\n",
    "print(f\"Phase Angle (inst_1): {inst_1.phase(frequency):.2f} radians\")\n",
    "print(f\"Power Factor (inst_1): {inst_1.power_factor(frequency):.2f}\")\n",
    "print(f\"Current (inst_1): {inst_1.current(voltage, frequency):.2f} A\")"
   ]
  },
  {
   "cell_type": "code",
   "execution_count": 70,
   "id": "6d7762f6-c2b6-4f51-910e-6263f191d94b",
   "metadata": {},
   "outputs": [
    {
     "name": "stdout",
     "output_type": "stream",
     "text": [
      "{'__module__': '__main__', '__init__': <function RLCSeriesCircuit.__init__ at 0x000001E3FF4DD280>, 'resonant_frequency': <property object at 0x000001E3FF4CADB0>, 'impedance': <function RLCSeriesCircuit.impedance at 0x000001E3FF4DDAF0>, 'phase': <function RLCSeriesCircuit.phase at 0x000001E3FF4DD8B0>, 'power_factor': <function RLCSeriesCircuit.power_factor at 0x000001E3FF4DD940>, 'current': <function RLCSeriesCircuit.current at 0x000001E3FF4DD9D0>, '__repr__': <function RLCSeriesCircuit.__repr__ at 0x000001E3FF4DDB80>, '__str__': <function RLCSeriesCircuit.__str__ at 0x000001E3FF4DDC10>, '__dict__': <attribute '__dict__' of 'RLCSeriesCircuit' objects>, '__weakref__': <attribute '__weakref__' of 'RLCSeriesCircuit' objects>, '__doc__': None}\n",
      "{'resistance': 10, 'inductance': 0.01, 'capacitance': 0.001}\n"
     ]
    }
   ],
   "source": [
    "print( RLCSeriesCircuit.__dict__)\n",
    "print( inst_1.__dict__)"
   ]
  },
  {
   "cell_type": "code",
   "execution_count": 71,
   "id": "c01169cd-c9e9-4b2b-906b-4aa312a8df87",
   "metadata": {},
   "outputs": [
    {
     "name": "stdout",
     "output_type": "stream",
     "text": [
      "{'__module__': '__main__', '__init__': <function RLCSeriesCircuit.__init__ at 0x000001E3FF4DD280>, 'resonant_frequency': <property object at 0x000001E3FF4CADB0>, 'impedance': <function RLCSeriesCircuit.impedance at 0x000001E3FF4DDAF0>, 'phase': <function RLCSeriesCircuit.phase at 0x000001E3FF4DD8B0>, 'power_factor': <function RLCSeriesCircuit.power_factor at 0x000001E3FF4DD940>, 'current': <function RLCSeriesCircuit.current at 0x000001E3FF4DD9D0>, '__repr__': <function RLCSeriesCircuit.__repr__ at 0x000001E3FF4DDB80>, '__str__': <function RLCSeriesCircuit.__str__ at 0x000001E3FF4DDC10>, '__dict__': <attribute '__dict__' of 'RLCSeriesCircuit' objects>, '__weakref__': <attribute '__weakref__' of 'RLCSeriesCircuit' objects>, '__doc__': None}\n",
      "{'resistance': 10, 'inductance': 0.01, 'capacitance': 0.001}\n"
     ]
    }
   ],
   "source": [
    "print(vars(RLCSeriesCircuit))\n",
    "print(vars(inst_1))"
   ]
  },
  {
   "cell_type": "code",
   "execution_count": 72,
   "id": "0db03c4d-34b2-4516-b2da-496f946ce343",
   "metadata": {},
   "outputs": [
    {
     "name": "stdout",
     "output_type": "stream",
     "text": [
      "Help on class RLCSeriesCircuit in module __main__:\n",
      "\n",
      "class RLCSeriesCircuit(builtins.object)\n",
      " |  RLCSeriesCircuit(resistance: float = 1.0, inductance: float = 1.0, capacitance: float = 1.0)\n",
      " |  \n",
      " |  Methods defined here:\n",
      " |  \n",
      " |  __init__(self, resistance: float = 1.0, inductance: float = 1.0, capacitance: float = 1.0)\n",
      " |      Initialize self.  See help(type(self)) for accurate signature.\n",
      " |  \n",
      " |  __repr__(self) -> str\n",
      " |      Return repr(self).\n",
      " |  \n",
      " |  __str__(self) -> str\n",
      " |      Return str(self).\n",
      " |  \n",
      " |  current(self, voltage: float, frequency: float) -> float\n",
      " |  \n",
      " |  impedance(self, frequency: float) -> float\n",
      " |  \n",
      " |  phase(self, frequency: float) -> float\n",
      " |  \n",
      " |  power_factor(self, frequency: float) -> float\n",
      " |  \n",
      " |  ----------------------------------------------------------------------\n",
      " |  Readonly properties defined here:\n",
      " |  \n",
      " |  resonant_frequency\n",
      " |  \n",
      " |  ----------------------------------------------------------------------\n",
      " |  Data descriptors defined here:\n",
      " |  \n",
      " |  __dict__\n",
      " |      dictionary for instance variables (if defined)\n",
      " |  \n",
      " |  __weakref__\n",
      " |      list of weak references to the object (if defined)\n",
      "\n"
     ]
    }
   ],
   "source": [
    "help(RLCSeriesCircuit)"
   ]
  },
  {
   "cell_type": "markdown",
   "id": "b24f9089-7b6e-4165-8edb-f3fb5459d27f",
   "metadata": {},
   "source": [
    "# 16. Modify the RLC parallel for the parallel resonance case."
   ]
  },
  {
   "cell_type": "code",
   "execution_count": 73,
   "id": "4f8e1aa2-d0b0-4a26-b18a-f60d0248ee3e",
   "metadata": {},
   "outputs": [],
   "source": [
    "import math\n",
    "\n",
    "\n",
    "class RLCParallelCircuit:\n",
    "\n",
    "    def __init__(\n",
    "        self, resistance: float = 1.0, inductance: float = 1.0, capacitance: float = 1.0\n",
    "    ):\n",
    "        if resistance < 0:\n",
    "            raise ValueError()\n",
    "        if inductance <= 0:\n",
    "            raise ValueError()\n",
    "        if capacitance <= 0:\n",
    "            raise ValueError()\n",
    "\n",
    "        self.resistance = resistance\n",
    "        self.inductance = inductance\n",
    "        self.capacitance = capacitance\n",
    "\n",
    "    @property\n",
    "    def resonant_frequency(self) -> float:\n",
    "        return 1 / (2 * math.pi * math.sqrt(self.inductance * self.capacitance))\n",
    "\n",
    "    def inductive_reactance(self, frequency: float) -> float:\n",
    "        if frequency <= 0:\n",
    "            raise ValueError()\n",
    "        return 2 * math.pi * frequency * self.inductance\n",
    "\n",
    "    def capacitive_reactance(self, frequency: float) -> float:\n",
    "        if frequency <= 0:\n",
    "            raise ValueError()\n",
    "        return 1 / (2 * math.pi * frequency * self.capacitance)\n",
    "\n",
    "    def impedance(self, frequency: float) -> float:\n",
    "        xl = self.inductive_reactance(frequency)\n",
    "        xc = self.capacitive_reactance(frequency)\n",
    "\n",
    "        if xl == xc: \n",
    "            return self.resistance\n",
    "\n",
    "        y_resistance = 1 / self.resistance\n",
    "        y_inductance = 1 / xl\n",
    "        y_capacitance = 1 / xc\n",
    "        y_total = math.sqrt((y_resistance) ** 2 + (y_inductance - y_capacitance) ** 2)\n",
    "\n",
    "        return 1 / y_total\n",
    "\n",
    "    def phase(self, frequency: float) -> float:\n",
    "        xl = self.inductive_reactance(frequency)\n",
    "        xc = self.capacitive_reactance(frequency)\n",
    "        return math.atan((1 / xl - 1 / xc) / (1 / self.resistance))\n",
    "\n",
    "    def power_factor(self, frequency: float) -> float:\n",
    "        return abs(self.resistance / self.impedance(frequency))\n",
    "\n",
    "    def current(self, voltage: float, frequency: float) -> float:\n",
    "        return voltage / self.impedance(frequency)\n",
    "\n",
    "    def __repr__(self) -> str:\n",
    "        return (\n",
    "            f\"RLCParallelCircuit(resistance={self.resistance}, \"\n",
    "            f\"inductance={self.inductance}, capacitance={self.capacitance})\"\n",
    "        )\n",
    "\n",
    "    def __str__(self) -> str:\n",
    "        return (\n",
    "            f\"Parallel RLC Circuit: Resistance={self.resistance} Ω, \"\n",
    "            f\"Inductance={self.inductance} H, Capacitance={self.capacitance} F\"\n",
    "        )"
   ]
  },
  {
   "cell_type": "code",
   "execution_count": 74,
   "id": "3326fe22-01c2-4e7f-94a2-37e9afd0a6de",
   "metadata": {},
   "outputs": [],
   "source": [
    "inst_1 = RLCParallelCircuit(resistance=10, inductance=0.01, capacitance=0.001)\n",
    "inst_2 = RLCParallelCircuit(resistance=5, inductance=0.02, capacitance=0.002)"
   ]
  },
  {
   "cell_type": "code",
   "execution_count": 75,
   "id": "ba73da47-5c87-4f54-938e-fef48b957f85",
   "metadata": {},
   "outputs": [
    {
     "name": "stdout",
     "output_type": "stream",
     "text": [
      "Parallel RLC Circuit: Resistance=10 Ω, Inductance=0.01 H, Capacitance=0.001 F\n",
      "Parallel RLC Circuit: Resistance=5 Ω, Inductance=0.02 H, Capacitance=0.002 F\n"
     ]
    }
   ],
   "source": [
    "print(inst_1)\n",
    "print(inst_2)"
   ]
  },
  {
   "cell_type": "code",
   "execution_count": 76,
   "id": "7413b7eb-19a5-4ad0-9732-e1ba2d83acaa",
   "metadata": {},
   "outputs": [],
   "source": [
    "frequency = 50 \n",
    "voltage = 230 "
   ]
  },
  {
   "cell_type": "code",
   "execution_count": 77,
   "id": "31ca5e2b-81ae-4e99-8398-0917207d7149",
   "metadata": {},
   "outputs": [
    {
     "name": "stdout",
     "output_type": "stream",
     "text": [
      "Resonant Frequency (inst_1): 50.33 Hz\n",
      "Impedance (inst_1): 9.99 Ω\n",
      "Phase Angle (inst_1): 0.04 radians\n",
      "Power Factor (inst_1): 1.00\n",
      "Current (inst_1): 23.02 A\n"
     ]
    }
   ],
   "source": [
    "print(f\"Resonant Frequency (inst_1): {inst_1.resonant_frequency:.2f} Hz\")\n",
    "print(f\"Impedance (inst_1): {inst_1.impedance(frequency):.2f} Ω\")\n",
    "print(f\"Phase Angle (inst_1): {inst_1.phase(frequency):.2f} radians\")\n",
    "print(f\"Power Factor (inst_1): {inst_1.power_factor(frequency):.2f}\")\n",
    "print(f\"Current (inst_1): {inst_1.current(voltage, frequency):.2f} A\")"
   ]
  },
  {
   "cell_type": "code",
   "execution_count": 78,
   "id": "7b6ce020-c255-46b8-bce8-3febfa50820a",
   "metadata": {},
   "outputs": [
    {
     "name": "stdout",
     "output_type": "stream",
     "text": [
      "Class __dict__: {'__module__': '__main__', '__init__': <function RLCParallelCircuit.__init__ at 0x000001E3FF4DD1F0>, 'resonant_frequency': <property object at 0x000001E3FF4CBB80>, 'inductive_reactance': <function RLCParallelCircuit.inductive_reactance at 0x000001E3FF4DD4C0>, 'capacitive_reactance': <function RLCParallelCircuit.capacitive_reactance at 0x000001E3FF4DD790>, 'impedance': <function RLCParallelCircuit.impedance at 0x000001E3FF4DD700>, 'phase': <function RLCParallelCircuit.phase at 0x000001E3FF4E7700>, 'power_factor': <function RLCParallelCircuit.power_factor at 0x000001E3FF4E78B0>, 'current': <function RLCParallelCircuit.current at 0x000001E3FF4E7790>, '__repr__': <function RLCParallelCircuit.__repr__ at 0x000001E3FF4E7C10>, '__str__': <function RLCParallelCircuit.__str__ at 0x000001E3FF4E7CA0>, '__dict__': <attribute '__dict__' of 'RLCParallelCircuit' objects>, '__weakref__': <attribute '__weakref__' of 'RLCParallelCircuit' objects>, '__doc__': None}\n",
      "Instance 1 __dict__: {'resistance': 10, 'inductance': 0.01, 'capacitance': 0.001}\n"
     ]
    }
   ],
   "source": [
    "print( RLCParallelCircuit.__dict__)\n",
    "print( inst_1.__dict__)"
   ]
  },
  {
   "cell_type": "code",
   "execution_count": 79,
   "id": "1ce4c093-5d01-4a66-ab7c-e90a167024ed",
   "metadata": {},
   "outputs": [
    {
     "name": "stdout",
     "output_type": "stream",
     "text": [
      "Class vars(): {'__module__': '__main__', '__init__': <function RLCParallelCircuit.__init__ at 0x000001E3FF4DD1F0>, 'resonant_frequency': <property object at 0x000001E3FF4CBB80>, 'inductive_reactance': <function RLCParallelCircuit.inductive_reactance at 0x000001E3FF4DD4C0>, 'capacitive_reactance': <function RLCParallelCircuit.capacitive_reactance at 0x000001E3FF4DD790>, 'impedance': <function RLCParallelCircuit.impedance at 0x000001E3FF4DD700>, 'phase': <function RLCParallelCircuit.phase at 0x000001E3FF4E7700>, 'power_factor': <function RLCParallelCircuit.power_factor at 0x000001E3FF4E78B0>, 'current': <function RLCParallelCircuit.current at 0x000001E3FF4E7790>, '__repr__': <function RLCParallelCircuit.__repr__ at 0x000001E3FF4E7C10>, '__str__': <function RLCParallelCircuit.__str__ at 0x000001E3FF4E7CA0>, '__dict__': <attribute '__dict__' of 'RLCParallelCircuit' objects>, '__weakref__': <attribute '__weakref__' of 'RLCParallelCircuit' objects>, '__doc__': None}\n",
      "Instance vars(): {'resistance': 10, 'inductance': 0.01, 'capacitance': 0.001}\n"
     ]
    }
   ],
   "source": [
    "print(vars(RLCParallelCircuit))\n",
    "print(vars(inst_1))"
   ]
  },
  {
   "cell_type": "code",
   "execution_count": 80,
   "id": "4d379997-6fe0-4e59-ba2d-09a7bd0635cb",
   "metadata": {},
   "outputs": [
    {
     "name": "stdout",
     "output_type": "stream",
     "text": [
      "Help on class RLCParallelCircuit in module __main__:\n",
      "\n",
      "class RLCParallelCircuit(builtins.object)\n",
      " |  RLCParallelCircuit(resistance: float = 1.0, inductance: float = 1.0, capacitance: float = 1.0)\n",
      " |  \n",
      " |  Methods defined here:\n",
      " |  \n",
      " |  __init__(self, resistance: float = 1.0, inductance: float = 1.0, capacitance: float = 1.0)\n",
      " |      Initialize self.  See help(type(self)) for accurate signature.\n",
      " |  \n",
      " |  __repr__(self) -> str\n",
      " |      Return repr(self).\n",
      " |  \n",
      " |  __str__(self) -> str\n",
      " |      Return str(self).\n",
      " |  \n",
      " |  capacitive_reactance(self, frequency: float) -> float\n",
      " |  \n",
      " |  current(self, voltage: float, frequency: float) -> float\n",
      " |  \n",
      " |  impedance(self, frequency: float) -> float\n",
      " |  \n",
      " |  inductive_reactance(self, frequency: float) -> float\n",
      " |  \n",
      " |  phase(self, frequency: float) -> float\n",
      " |  \n",
      " |  power_factor(self, frequency: float) -> float\n",
      " |  \n",
      " |  ----------------------------------------------------------------------\n",
      " |  Readonly properties defined here:\n",
      " |  \n",
      " |  resonant_frequency\n",
      " |  \n",
      " |  ----------------------------------------------------------------------\n",
      " |  Data descriptors defined here:\n",
      " |  \n",
      " |  __dict__\n",
      " |      dictionary for instance variables (if defined)\n",
      " |  \n",
      " |  __weakref__\n",
      " |      list of weak references to the object (if defined)\n",
      "\n"
     ]
    }
   ],
   "source": [
    "help(RLCParallelCircuit)"
   ]
  },
  {
   "cell_type": "markdown",
   "id": "5472d7ee-b14b-497b-b91c-678c8c2f22d7",
   "metadata": {},
   "source": [
    "---------------------------"
   ]
  },
  {
   "cell_type": "code",
   "execution_count": null,
   "id": "d80442e8-00fe-4bf4-874b-b86693fe88e8",
   "metadata": {},
   "outputs": [],
   "source": []
  },
  {
   "cell_type": "code",
   "execution_count": null,
   "id": "1e255fb2-e8e5-4373-9a38-2667c232ab07",
   "metadata": {},
   "outputs": [],
   "source": []
  },
  {
   "cell_type": "code",
   "execution_count": null,
   "id": "51036076-f444-4601-b588-e2c24e82bbc6",
   "metadata": {},
   "outputs": [],
   "source": []
  },
  {
   "cell_type": "code",
   "execution_count": null,
   "id": "e6f66d5b-723b-4af9-95a3-2cc2ff2737dc",
   "metadata": {},
   "outputs": [],
   "source": []
  },
  {
   "cell_type": "code",
   "execution_count": null,
   "id": "d8ca5f1f",
   "metadata": {},
   "outputs": [],
   "source": []
  }
 ],
 "metadata": {
  "kernelspec": {
   "display_name": "Python 3 (ipykernel)",
   "language": "python",
   "name": "python3"
  },
  "language_info": {
   "codemirror_mode": {
    "name": "ipython",
    "version": 3
   },
   "file_extension": ".py",
   "mimetype": "text/x-python",
   "name": "python",
   "nbconvert_exporter": "python",
   "pygments_lexer": "ipython3",
   "version": "3.11.5"
  }
 },
 "nbformat": 4,
 "nbformat_minor": 5
}
