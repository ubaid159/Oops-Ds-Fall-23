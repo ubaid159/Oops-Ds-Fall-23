{
 "cells": [
  {
   "cell_type": "markdown",
   "id": "9625cb2d-11ba-4388-8df9-2ef86da5ef45",
   "metadata": {},
   "source": [
    "<center><span style=\"\n",
    "    font-size: 30px;\n",
    "    font-family: castellar;\n",
    "    color: BLUE;\n",
    "    font-weight: bold;\n",
    "    letter-spacing: 1px;\n",
    "    text-shadow: 3px 1px 0px rgba(0, ,0, 1, 1)\n",
    "\">\n",
    "    LAB TASK NO.7\n",
    "</span></center>"
   ]
  },
  {
   "cell_type": "markdown",
   "id": "ebda0476-b4f5-4df5-8fb3-2ea6604f2aa0",
   "metadata": {},
   "source": [
    "<center><span style=\"\n",
    "    font-size: 25px;\n",
    "    font-family: Arial Black;\n",
    "    color: light green;\n",
    "    font-weight: bold;\n",
    "    letter-spacing: 1px;\n",
    "    text-shadow: 3px 1px 0px rgba(0, ,0, 1, 1)\n",
    "\">\n",
    "   Inheritance\n",
    "</span></center>"
   ]
  },
  {
   "cell_type": "markdown",
   "id": "4dfa9edb-e250-40c5-a6f5-85785cc737cf",
   "metadata": {},
   "source": [
    "## Problem 1:\n",
    "#### c.\tTake the example of the rectangle class in the last lab and inherit a square class from the rectangle class.  \n",
    "#### d.\tCreate two instances of the square class and call the instance methods.\n"
   ]
  },
  {
   "cell_type": "code",
   "execution_count": 2,
   "id": "63bdfa60-6e46-4814-8a38-875d5d1c18b8",
   "metadata": {},
   "outputs": [],
   "source": [
    "class Rectangle:\n",
    "    def __init__(self, length, width):\n",
    "        self.length = length\n",
    "        self.width = width\n",
    "\n",
    "    def area(self):\n",
    "        return self.length * self.width\n",
    "\n",
    "    def perimeter(self):\n",
    "        return 2 * (self.length + self.width)\n",
    "\n",
    "    def display(self):\n",
    "        return f\"Length: {self.length}, Width: {self.width}, Area: {self.area()}, Perimeter: {self.perimeter()}\""
   ]
  },
  {
   "cell_type": "code",
   "execution_count": 3,
   "id": "8d9330f7-a418-46e9-804d-5216c69d182f",
   "metadata": {},
   "outputs": [],
   "source": [
    "class Square(Rectangle):\n",
    "    def __init__(self, side):\n",
    "        super().__init__(side, side)  \n",
    "\n",
    "    def display(self):\n",
    "        return f\"Side: {self.length}, Area: {self.area()}, Perimeter: {self.perimeter()}\"\n"
   ]
  },
  {
   "cell_type": "code",
   "execution_count": 4,
   "id": "e7af9f19-6ca8-47e5-b142-33fa127a83ff",
   "metadata": {},
   "outputs": [],
   "source": [
    "square1 = Square(4)\n",
    "square2 = Square(6)"
   ]
  },
  {
   "cell_type": "code",
   "execution_count": 7,
   "id": "4acd87a2-b8de-4211-9199-5cc65537cca8",
   "metadata": {},
   "outputs": [
    {
     "name": "stdout",
     "output_type": "stream",
     "text": [
      "Side: 4, Area: 16, Perimeter: 16\n"
     ]
    }
   ],
   "source": [
    "\n",
    "print(square1.display())"
   ]
  },
  {
   "cell_type": "code",
   "execution_count": 6,
   "id": "58150834-028f-4bfa-9ed0-d65d6296c07f",
   "metadata": {},
   "outputs": [
    {
     "name": "stdout",
     "output_type": "stream",
     "text": [
      "Side: 6, Area: 36, Perimeter: 24\n"
     ]
    }
   ],
   "source": [
    "\n",
    "print(square2.display())"
   ]
  },
  {
   "cell_type": "markdown",
   "id": "9cec6778-f202-4a24-9646-83b3b45239a4",
   "metadata": {},
   "source": [
    "_____________________________________________"
   ]
  },
  {
   "cell_type": "markdown",
   "id": "7791d163-bcd8-4182-87f9-544de00fe648",
   "metadata": {},
   "source": [
    "## Problem 2:\n",
    "#### a.\tTake the example of the square class in the last lab and inherit a cube class with its own volume and surface area instance method that utilizes the base class method effectively. \n",
    "#### b.\tCreate two instances of the cube class and call both the instance methods. Verify manually or with an online calculator. "
   ]
  },
  {
   "cell_type": "code",
   "execution_count": 13,
   "id": "5c526181-a12c-4f50-b732-fd273dc815d9",
   "metadata": {},
   "outputs": [],
   "source": [
    "class Square:\n",
    "    def __init__(self, side):\n",
    "        self.side = side  \n",
    "\n",
    "    def area(self):\n",
    "        return self.side ** 2 \n",
    "\n",
    "    def display(self):\n",
    "        return f\"Side: {self.side}, Area: {self.area()}\""
   ]
  },
  {
   "cell_type": "code",
   "execution_count": 14,
   "id": "170f5324-9e33-40c7-8699-d58ab2b2252c",
   "metadata": {},
   "outputs": [],
   "source": [
    "class Cube(Square):\n",
    "    def __init__(self, side):\n",
    "        super().__init__(side)  \n",
    "\n",
    "    def volume(self):\n",
    "        return self.side ** 3\n",
    "\n",
    "    def surface_area(self):\n",
    "        return 6 * (self.side ** 2)  \n",
    "\n",
    "    def display(self):\n",
    "        return f\"Side: {self.side}, Volume: {self.volume()}, Surface Area: {self.surface_area()}\""
   ]
  },
  {
   "cell_type": "code",
   "execution_count": 15,
   "id": "44c6ef8d-7c08-4c6e-a18d-fc59367ee891",
   "metadata": {},
   "outputs": [],
   "source": [
    "cube1 = Cube(4)\n",
    "cube2 = Cube(6)"
   ]
  },
  {
   "cell_type": "code",
   "execution_count": 16,
   "id": "6bcdea38-06b7-40c3-a48e-94506d7cc108",
   "metadata": {},
   "outputs": [
    {
     "name": "stdout",
     "output_type": "stream",
     "text": [
      "Cube 1:\n",
      "Side: 4, Volume: 64, Surface Area: 96\n"
     ]
    }
   ],
   "source": [
    "print(\"Cube 1:\")\n",
    "print(cube1.display())"
   ]
  },
  {
   "cell_type": "code",
   "execution_count": 17,
   "id": "5c64f69a-7e9e-4b87-bf60-74ee778e7f59",
   "metadata": {},
   "outputs": [
    {
     "name": "stdout",
     "output_type": "stream",
     "text": [
      "\n",
      "Cube 2:\n",
      "Side: 6, Volume: 216, Surface Area: 216\n"
     ]
    }
   ],
   "source": [
    "print(\"\\nCube 2:\")\n",
    "print(cube2.display())"
   ]
  },
  {
   "cell_type": "markdown",
   "id": "ac41ab51-044c-42fd-9159-97f6b60f9c93",
   "metadata": {},
   "source": [
    "____________________________"
   ]
  },
  {
   "cell_type": "markdown",
   "id": "5b00e79c-db04-4e97-bc03-ebb2ba242762",
   "metadata": {},
   "source": [
    "## Problem 3:\n",
    "#### a.\tTake the example of the circle class in the last lab and inherit a sphere class with its own volume and surface area instance method. \n",
    "#### b.\tCreate two instances of the sphere class and call both the instance methods."
   ]
  },
  {
   "cell_type": "code",
   "execution_count": 18,
   "id": "97cd46c1-bc1e-4edf-9625-fd13bbea5d97",
   "metadata": {},
   "outputs": [],
   "source": [
    "import math\n",
    "\n",
    "class Circle:\n",
    "    def __init__(self, radius):\n",
    "        self.radius = radius \n",
    "\n",
    "    def area(self):\n",
    "        return math.pi * (self.radius ** 2)  \n",
    "\n",
    "    def display(self):\n",
    "        return f\"Radius: {self.radius}, Area: {self.area()}\""
   ]
  },
  {
   "cell_type": "code",
   "execution_count": 19,
   "id": "3e601dd3-4c4f-494f-a8a4-fbe79d6ee46e",
   "metadata": {},
   "outputs": [],
   "source": [
    "class Sphere(Circle):\n",
    "    def __init__(self, radius):\n",
    "        super().__init__(radius)  \n",
    "\n",
    "    def volume(self):\n",
    "        return (4 / 3) * math.pi * (self.radius ** 3)  \n",
    "\n",
    "    def surface_area(self):\n",
    "        return 4 * math.pi * (self.radius ** 2) \n",
    "\n",
    "    def display(self):\n",
    "        return f\"Radius: {self.radius}, Volume: {self.volume()}, Surface Area: {self.surface_area()}\"\n"
   ]
  },
  {
   "cell_type": "code",
   "execution_count": 20,
   "id": "d0613c88-c06b-4523-8b43-eab53e2fac5e",
   "metadata": {},
   "outputs": [],
   "source": [
    "sphere1 = Sphere(4)\n",
    "sphere2 = Sphere(6)"
   ]
  },
  {
   "cell_type": "code",
   "execution_count": 21,
   "id": "2f9c96f7-ec59-4c40-b504-dc2df7b59eb5",
   "metadata": {},
   "outputs": [
    {
     "name": "stdout",
     "output_type": "stream",
     "text": [
      "Sphere 1:\n",
      "Radius: 4, Volume: 268.082573106329, Surface Area: 201.06192982974676\n"
     ]
    }
   ],
   "source": [
    "print(\"Sphere 1:\")\n",
    "print(sphere1.display())"
   ]
  },
  {
   "cell_type": "code",
   "execution_count": 22,
   "id": "d501d0b7-7829-4068-885c-bf8ca87bed44",
   "metadata": {},
   "outputs": [
    {
     "name": "stdout",
     "output_type": "stream",
     "text": [
      "\n",
      "Sphere 2:\n",
      "Radius: 6, Volume: 904.7786842338603, Surface Area: 452.3893421169302\n"
     ]
    }
   ],
   "source": [
    "print(\"\\nSphere 2:\")\n",
    "print(sphere2.display())"
   ]
  },
  {
   "cell_type": "markdown",
   "id": "c36247f6-685f-4cee-9366-d32e86219ede",
   "metadata": {},
   "source": [
    "--------------------------------------"
   ]
  },
  {
   "cell_type": "markdown",
   "id": "57a9dc0e-f632-49be-9600-e789b74665ad",
   "metadata": {},
   "source": [
    "## Problem 4:\n",
    "#### a.\tTake the example of the Point2D class in the last lab and inherit a cube class with its own distance_from_origin instance methods. \n",
    "#### b.\tCreate two instances and call the instance methods.\n"
   ]
  },
  {
   "cell_type": "code",
   "execution_count": 12,
   "id": "aeaf7004-1eeb-46be-a2ba-fe0200f27047",
   "metadata": {},
   "outputs": [],
   "source": [
    "import math\n",
    "\n",
    "class Point2D:\n",
    "    def __init__(self, x, y):\n",
    "        self.x = x\n",
    "        self.y = y\n",
    "    \n",
    "    def distance_from_origin(self):\n",
    "        return math.sqrt(self.x ** 2 + self.y ** 2)\n",
    "\n",
    "class Point3D(Point2D):\n",
    "    def __init__(self, x, y, z):\n",
    "        super().__init__(x, y)  \n",
    "        self.z = z             \n",
    "        \n",
    "    def distance_from_origin(self):\n",
    "        return math.sqrt(self.x ** 2 + self.y ** 2 + self.z ** 2)"
   ]
  },
  {
   "cell_type": "code",
   "execution_count": 13,
   "id": "0d1e60c2-765c-47a2-a352-f8d26ca52f64",
   "metadata": {},
   "outputs": [],
   "source": [
    "point1 = Point3D(3, 4, 5)  \n",
    "point2 = Point3D(1, 2, 2)  "
   ]
  },
  {
   "cell_type": "code",
   "execution_count": 14,
   "id": "6dff268d-8af9-4b68-b25b-b2358b312e84",
   "metadata": {},
   "outputs": [
    {
     "name": "stdout",
     "output_type": "stream",
     "text": [
      "Point1 at coordinates (3, 4, 5):\n",
      "Distance from origin: 7.0710678118654755\n"
     ]
    }
   ],
   "source": [
    "print(f\"Point1 at coordinates ({point1.x}, {point1.y}, {point1.z}):\")\n",
    "print(f\"Distance from origin: {point1.distance_from_origin()}\")"
   ]
  },
  {
   "cell_type": "code",
   "execution_count": 15,
   "id": "227df250-cb84-4a8c-b2b2-a165fa8880a0",
   "metadata": {},
   "outputs": [
    {
     "name": "stdout",
     "output_type": "stream",
     "text": [
      "\n",
      "Point2 at coordinates (1, 2, 2):\n",
      "Distance from origin: 3.0\n"
     ]
    }
   ],
   "source": [
    "print(f\"\\nPoint2 at coordinates ({point2.x}, {point2.y}, {point2.z}):\")\n",
    "print(f\"Distance from origin: {point2.distance_from_origin()}\")"
   ]
  },
  {
   "cell_type": "markdown",
   "id": "4dca49b1-9431-4bba-ae5f-ac3d4baa98cb",
   "metadata": {},
   "source": [
    "-----------------------------------------------------"
   ]
  },
  {
   "cell_type": "markdown",
   "id": "6f106b30-2911-4e69-806a-649e470dd282",
   "metadata": {},
   "source": [
    "## Problem 5:\n",
    "### The HR system needs to process payroll for the company’s employees, but there are different types of employees depending on how their payroll is calculated.\n",
    "#### 1.\tImplement a base class, Employee, that handles the common interface for every employee.\n",
    "#### 2.\tAdministrative workers have a fixed salary, so every week they get paid the same amount.\n",
    "#### a)\tYou create a derived class, SalaryEmployee, that inherits from Employee. The class initializes with the .id and .name required by the base class, and you use super() to initialize the members of the base class. \n",
    "#### b)\tSalaryEmployee also requires a weekly_salary initialization parameter that represents the amount that the employee makes per week.\n",
    "#### c)\tThe class provides the required .calculate_payroll() method that the HR system uses. The implementation just returns the amount stored in weekly_salary.\n",
    "#### 3.\tThe company also employs manufacturing workers who are paid by the hour, so you add HourlyEmployee to the HR system\n",
    "#### a)\tYou create a derived class, HourlyEmployee, that inherits from Employee. The class initializes with the .id and .name required by the base class, and you use super() to initialize the members of the base class. \n",
    "#### b)\tHourlyEmployee also requires hours_worked and the hourly_rate required to calculate the payroll. \n",
    "#### c)\tThe class provides the required .calculate_payroll() method by returning the hours worked times the hourly rate.\n",
    "#### 4.\tthe company employs sales associates who are paid through a fixed salary plus a commission based on their sales, so you create a CommissionEmployee class\n",
    "#### a)\tDerive CommissionEmployee from SalaryEmployee because both classes have a weekly_salary to consider. At the same time, you initialize CommissionEmployee with a commission value that’s based on the sales for the employee.\n",
    "#### b)\tIn .calculate_payroll(), you leverage the implementation of the base class to retrieve the fixed salary, and you add the commission value.\n",
    "#### 5.\tImplementing a PayrollSystem class that processes payroll.\n",
    "#### a)\tPayrollSystem implements a .calculate_payroll() method that takes a collection of employees and prints their .id, .name, and check amount using the .calculate_payroll() method exposed on each employee object.\n",
    "### Task:  creates the employees and passes them to the payroll system to process payroll\n"
   ]
  },
  {
   "cell_type": "code",
   "execution_count": 8,
   "id": "6f8dcad4-541c-43a6-9cf0-f45c3230ab9d",
   "metadata": {},
   "outputs": [],
   "source": [
    "class PayrollSystem:\n",
    "    def calculate_payroll(self, employees):\n",
    "        print(\"Calculating Payroll\")\n",
    "        print(\"===================\")\n",
    "        for employee in employees:\n",
    "            print(f\"Payroll for: {employee.id} - {employee.name}\")\n",
    "            print(f\"- Check amount: {employee.calculate_payroll()}\")\n",
    "            print(\"\")"
   ]
  },
  {
   "cell_type": "code",
   "execution_count": 9,
   "id": "54bc2f04-0c28-4b78-9245-ab192d22a761",
   "metadata": {},
   "outputs": [],
   "source": [
    "class Employee:\n",
    "    def __init__(self, id, name):\n",
    "        self.id = id\n",
    "        self.name = name"
   ]
  },
  {
   "cell_type": "code",
   "execution_count": 10,
   "id": "759bd93c-8b66-4d60-ac85-66dbd480348e",
   "metadata": {},
   "outputs": [],
   "source": [
    "class SalaryEmployee(Employee):\n",
    "    def __init__(self, id, name, weekly_salary):\n",
    "        super().__init__(id, name)\n",
    "        self.weekly_salary = weekly_salary\n",
    "\n",
    "    def calculate_payroll(self):\n",
    "        return self.weekly_salary"
   ]
  },
  {
   "cell_type": "code",
   "execution_count": 11,
   "id": "325fd1c6-844d-4f98-89f2-8889911175a0",
   "metadata": {},
   "outputs": [],
   "source": [
    "class HourlyEmployee(Employee):\n",
    "    def __init__(self, id, name, hours_worked, hourly_rate):\n",
    "        super().__init__(id, name)\n",
    "        self.hours_worked = hours_worked\n",
    "        self.hourly_rate = hourly_rate\n",
    "\n",
    "    def calculate_payroll(self):\n",
    "        return self.hours_worked * self.hourly_rate"
   ]
  },
  {
   "cell_type": "code",
   "execution_count": 12,
   "id": "ee68af35-f842-49a9-91b3-70a8ae0aa41b",
   "metadata": {},
   "outputs": [],
   "source": [
    "class CommissionEmployee(SalaryEmployee):\n",
    "    def __init__(self, id, name, weekly_salary, commission):\n",
    "        super().__init__(id, name, weekly_salary)\n",
    "        self.commission = commission\n",
    "\n",
    "    def calculate_payroll(self):\n",
    "        fixed = super().calculate_payroll()\n",
    "        return fixed + self.commission"
   ]
  },
  {
   "cell_type": "code",
   "execution_count": 13,
   "id": "f192e5ba-fc6d-425f-bb51-2bbda0153928",
   "metadata": {},
   "outputs": [
    {
     "name": "stdout",
     "output_type": "stream",
     "text": [
      "Calculating Payroll\n",
      "===================\n",
      "Payroll for: 1 - abbas\n",
      "- Check amount: 1500\n",
      "\n",
      "Payroll for: 2 - asim\n",
      "- Check amount: 600\n",
      "\n",
      "Payroll for: 3 - Kashif\n",
      "- Check amount: 1250\n",
      "\n"
     ]
    }
   ],
   "source": [
    "salary_employee = SalaryEmployee(1, \"abbas\", 1500)\n",
    "hourly_employee = HourlyEmployee(2, \"asim\", 40, 15)\n",
    "commission_employee = CommissionEmployee(3, \"Kashif\", 1000, 250)\n",
    "\n",
    "payroll_system = PayrollSystem()\n",
    "payroll_system.calculate_payroll([salary_employee, hourly_employee, commission_employee])"
   ]
  },
  {
   "cell_type": "markdown",
   "id": "c0e85437-c004-4a94-ac0b-6321b5320b73",
   "metadata": {},
   "source": [
    "---------------------------------------"
   ]
  },
  {
   "cell_type": "markdown",
   "id": "79554edf-894a-4be9-a0c4-d95519a9462f",
   "metadata": {},
   "source": [
    "## Problem 6:"
   ]
  },
  {
   "cell_type": "markdown",
   "id": "efb81e52-7a0f-4ade-b633-dd2cfd2e004b",
   "metadata": {},
   "source": [
    "## Problem 6:\n",
    "### Design a class for the employees of the electrical department. \n",
    "#### a.\tBase class on the name of staff.\n",
    "#### b.\tThere are admin and faculty staff. \n",
    "#### c.\tThe faculty contains Lecturers, Assistant professors, Associate Professors, and Professors.\n",
    "#### d.\tThe admin staff contains Lab Engineers, Lab technicians, Lab assistants, and lab attendants. \n"
   ]
  },
  {
   "cell_type": "code",
   "execution_count": 14,
   "id": "7849a8d0-49fd-43a6-9961-92e60df0ddbf",
   "metadata": {},
   "outputs": [],
   "source": [
    "class Staff:\n",
    "    def __init__(self, fname, lname, email, pay):\n",
    "        self.fname = fname\n",
    "        self.lname = lname\n",
    "        self.email = email\n",
    "        self.pay = pay\n",
    "\n",
    "    def raise_pay(self, amount):\n",
    "        self.pay += amount\n",
    "        print(f\"New pay for {self.fname} {self.lname}: {self.pay}\")\n",
    "\n",
    "class FacultyStaff(Staff):\n",
    "    def __init__(self, fname, lname, email, pay, designation, courses=None):\n",
    "        super().__init__(fname, lname, email, pay)\n",
    "        self.designation = designation\n",
    "        self.courses = courses if courses else []\n",
    "\n",
    "    def assign_course(self, course):\n",
    "        self.courses.append(course)\n",
    "        print(f\"{course} has been assigned to {self.fname} {self.lname}.\")\n",
    "\n",
    "class AdminStaff(Staff):\n",
    "    def __init__(self, fname, lname, email, pay, team=None, tasks=None):\n",
    "        super().__init__(fname, lname, email, pay)\n",
    "        self.team = team\n",
    "        self.tasks = tasks if tasks else []\n",
    "\n",
    "    def assign_task(self, task):\n",
    "        self.tasks.append(task)\n",
    "        print(f\"Task '{task}' has been assigned to {self.fname} {self.lname}.\")\n",
    "\n",
    "class Lecturer(FacultyStaff):\n",
    "    def __init__(self, fname, lname, email, pay, courses=None):\n",
    "        super().__init__(fname, lname, email, pay, \"Lecturer\", courses)\n",
    "\n",
    "class AssistantProfessor(FacultyStaff):\n",
    "    def __init__(self, fname, lname, email, pay, courses=None):\n",
    "        super().__init__(fname, lname, email, pay, \"Assistant Professor\", courses)\n",
    "\n",
    "class AssociateProfessor(FacultyStaff):\n",
    "    def __init__(self, fname, lname, email, pay, courses=None):\n",
    "        super().__init__(fname, lname, email, pay, \"Associate Professor\", courses)\n",
    "\n",
    "class Professor(FacultyStaff):\n",
    "    def __init__(self, fname, lname, email, pay, courses=None):\n",
    "        super().__init__(fname, lname, email, pay, \"Professor\", courses)\n",
    "\n",
    "# Admin Subclasses\n",
    "class LabEngineer(AdminStaff):\n",
    "    def __init__(self, fname, lname, email, pay, team=None, tasks=None):\n",
    "        super().__init__(fname, lname, email, pay, team, tasks)\n",
    "\n",
    "class LabTechnician(AdminStaff):\n",
    "    def __init__(self, fname, lname, email, pay, team=None, tasks=None):\n",
    "        super().__init__(fname, lname, email, pay, team, tasks)\n",
    "\n",
    "class LabAssistant(AdminStaff):\n",
    "    def __init__(self, fname, lname, email, pay, team=None, tasks=None):\n",
    "        super().__init__(fname, lname, email, pay, team, tasks)\n",
    "\n",
    "class LabAttendant(AdminStaff):\n",
    "    def __init__(self, fname, lname, email, pay, team=None, tasks=None):\n",
    "        super().__init__(fname, lname, email, pay, team, tasks)\n"
   ]
  },
  {
   "cell_type": "code",
   "execution_count": 32,
   "id": "daa9fc54-7898-438a-8c06-85151f675711",
   "metadata": {},
   "outputs": [
    {
     "name": "stdout",
     "output_type": "stream",
     "text": [
      "Electrical Engineering 101 has been assigned to abbas khan.\n",
      "Task 'Maintain lab equipment' has been assigned to yahya ahmad.\n",
      "New pay for abbas khan: 95000\n",
      "New pay for yahya ahmad: 42000\n"
     ]
    }
   ],
   "source": [
    "if __name__ == \"__main__\":\n",
    "\n",
    "    prof = Professor(\"abbas\", \"khan\", \"jdoe@example.com\", 90000)\n",
    "    prof.assign_course(\"Electrical Engineering 101\")\n",
    "\n",
    "    lab_tech = LabTechnician(\"yahya\", \"ahmad\", \"jsmith@example.com\", 40000)\n",
    "    lab_tech.assign_task(\"Maintain lab equipment\")\n",
    "    \n",
    "    prof.raise_pay(5000)\n",
    "    lab_tech.raise_pay(2000)"
   ]
  },
  {
   "cell_type": "markdown",
   "id": "6136ae10-f06b-45a0-a4bc-4c09d720c122",
   "metadata": {},
   "source": [
    "______________________"
   ]
  }
 ],
 "metadata": {
  "kernelspec": {
   "display_name": "Python 3 (ipykernel)",
   "language": "python",
   "name": "python3"
  },
  "language_info": {
   "codemirror_mode": {
    "name": "ipython",
    "version": 3
   },
   "file_extension": ".py",
   "mimetype": "text/x-python",
   "name": "python",
   "nbconvert_exporter": "python",
   "pygments_lexer": "ipython3",
   "version": "3.9.19"
  }
 },
 "nbformat": 4,
 "nbformat_minor": 5
}
