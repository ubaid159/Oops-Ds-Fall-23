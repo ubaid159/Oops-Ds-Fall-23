{
 "cells": [
  {
   "cell_type": "markdown",
   "id": "1dfceede",
   "metadata": {},
   "source": [
    "<center><span style=\"\n",
    "    font-size: 30px;\n",
    "    font-family: castellar;\n",
    "    color: BLUE;\n",
    "    font-weight: bold;\n",
    "    letter-spacing: 1px;\n",
    "    text-shadow: 3px 1px 0px rgba(0, ,0, 1, 1)\n",
    "\">\n",
    "   LAB TASK NO.6\n",
    "</span></center>"
   ]
  },
  {
   "cell_type": "markdown",
   "id": "67017098-4fbb-4539-bc91-c088ea38c490",
   "metadata": {},
   "source": [
    "<center><span style=\"\n",
    "    font-size: 25px;\n",
    "    font-family: Arial Black;\n",
    "    color: red;\n",
    "    font-weight: bold;\n",
    "    letter-spacing: 1px;\n",
    "    text-shadow: 3px 1px 0px rgba(0, ,0, 1, 1)\n",
    "\">\n",
    "    Lab 6: Classes 3 @property and @property.setter, @property, @ staticmethod and \n",
    "@classmethod\"\n",
    "</span></center>"
   ]
  },
  {
   "cell_type": "markdown",
   "id": "93110b33",
   "metadata": {},
   "source": [
    "## Lab work tasks:"
   ]
  },
  {
   "cell_type": "markdown",
   "id": "9820e3a4-9d9a-444f-a399-1be0dd7fd1c0",
   "metadata": {},
   "source": [
    "<center><span style=\"color:yellow; \n",
    "font-family:Arial; \n",
    "font-weight:bold;\n",
    "font-size:35px;\">Task No # 01 </span></center>"
   ]
  },
  {
   "cell_type": "markdown",
   "id": "6adf0ea3-29b0-4114-9f31-a3e0f51455ee",
   "metadata": {},
   "source": [
    " 2. Define a class point in 2 dimension coordinate system. Your class must have the appropriate \n",
    " __init__ method.  \n",
    " i. Add appropriate property methods. (@property and @property.setter)\n",
    " ii. In addition, add instance method for the distance between points. \n",
    " iii.Add another instance method for calculating the distance from origin.   \n",
    " iv. Add another method with the name locate to display the coordinate in which \n",
    " the point is located.  \n",
    " v. Add __repr__ and __str__ to the class.  \n",
    " vi. Also add method with decoration @staticmethod, @property and \n",
    " @classmethod if possible. \n",
    " vii. Add proper annotation and doc string to every class and instance method."
   ]
  },
  {
   "cell_type": "code",
   "execution_count": 1,
   "id": "3c883d19",
   "metadata": {},
   "outputs": [],
   "source": [
    "import math\n",
    "\n",
    "class Point:\n",
    "    \n",
    "    def __init__(self, x: float = 0.0, y: float = 0.0):\n",
    "        self._x = x\n",
    "        self._y = y\n",
    "\n",
    "    @property\n",
    "    def x(self) -> float:\n",
    "        return self._x\n",
    "        \n",
    "    @x.setter\n",
    "    def x(self, value: float) -> None:\n",
    "        self._x = value\n",
    "\n",
    "    @property\n",
    "    def y(self) -> float:\n",
    "        return self._y\n",
    "    @y.setter\n",
    "    def y(self, value: float) -> None:\n",
    "        self._y = value\n",
    "\n",
    "    def distance_to(self, other: 'Point') -> float:\n",
    "        return math.sqrt((self.x - other.x) ** 2 + (self.y - other.y) ** 2)\n",
    "\n",
    "    def distance_from_origin(self) -> float:\n",
    "        return math.sqrt(self.x ** 2 + self.y ** 2)\n",
    "\n",
    "    def locate(self) -> str:\n",
    "        return f\"Point is located at ({self.x}, {self.y})\"\n",
    "\n",
    "    def __repr__(self) -> str:\n",
    "        return f\"Point(x={self.x}, y={self.y})\"\n",
    "\n",
    "    def __str__(self) -> str:\n",
    "        return f\"Point({self.x}, {self.y})\"\n",
    "        \n",
    "    @staticmethod\n",
    "    def origin() -> 'Point':\n",
    "        return Point(0, 0)\n",
    "\n",
    "    @classmethod\n",
    "    def from_coordinates(cls, coordinates: tuple) -> 'Point':\n",
    "        x, y = coordinates \n",
    "        return cls(x, y)\n",
    "\n"
   ]
  },
  {
   "cell_type": "markdown",
   "id": "88d9bbf5-5bbd-4b08-8121-be26e6a11f9c",
   "metadata": {},
   "source": [
    "  ***To Define and pass two numbers***"
   ]
  },
  {
   "cell_type": "code",
   "execution_count": 2,
   "id": "b96f80fe",
   "metadata": {},
   "outputs": [],
   "source": [
    "inst_1 = Point(8, 6)\n",
    "inst_2 = Point(8, 1)"
   ]
  },
  {
   "cell_type": "markdown",
   "id": "4b637757-38c3-453a-95d0-6b660ac8d55f",
   "metadata": {},
   "source": [
    " ***To Print inst_1 and inst_2, for this use the print command and pass the inst_1 and inst_2.***"
   ]
  },
  {
   "cell_type": "code",
   "execution_count": 3,
   "id": "23f77a00",
   "metadata": {},
   "outputs": [
    {
     "name": "stdout",
     "output_type": "stream",
     "text": [
      "Point(8, 6)\n",
      "Point(8, 1)\n"
     ]
    }
   ],
   "source": [
    "print(inst_1)\n",
    "print(inst_2) "
   ]
  },
  {
   "cell_type": "markdown",
   "id": "06f6dd0f-734b-4323-afa2-2523efc76e23",
   "metadata": {},
   "source": [
    " ***To print the location of both points. (Add a display method).***"
   ]
  },
  {
   "cell_type": "code",
   "execution_count": 4,
   "id": "9b0311a6",
   "metadata": {},
   "outputs": [
    {
     "name": "stdout",
     "output_type": "stream",
     "text": [
      "Point is located at (8, 6)\n",
      "Point is located at (8, 1)\n"
     ]
    }
   ],
   "source": [
    "print(inst_1.locate())\n",
    "print(inst_2.locate())"
   ]
  },
  {
   "cell_type": "markdown",
   "id": "c9493034-0a7c-4b1b-8cff-b823da8d63af",
   "metadata": {},
   "source": [
    " ***To Calculate the distance between these two pints.***"
   ]
  },
  {
   "cell_type": "code",
   "execution_count": 5,
   "id": "952ff940",
   "metadata": {},
   "outputs": [
    {
     "name": "stdout",
     "output_type": "stream",
     "text": [
      "Distance between inst_1 and inst_2: 5.00\n"
     ]
    }
   ],
   "source": [
    "distance = inst_1.distance_to(inst_2)\n",
    "print(f\"Distance between inst_1 and inst_2: {distance:.2f}\")"
   ]
  },
  {
   "cell_type": "markdown",
   "id": "0304b996-7f09-44ec-839d-08b78757e953",
   "metadata": {},
   "source": [
    "**To Call the __dict__ by the class name.**"
   ]
  },
  {
   "cell_type": "code",
   "execution_count": 6,
   "id": "7dcd8f3e",
   "metadata": {},
   "outputs": [
    {
     "name": "stdout",
     "output_type": "stream",
     "text": [
      "mappingproxy({'__dict__': <attribute '__dict__' of 'Point' objects>,\n",
      "              '__doc__': None,\n",
      "              '__init__': <function Point.__init__ at 0x0000019340C8D820>,\n",
      "              '__module__': '__main__',\n",
      "              '__repr__': <function Point.__repr__ at 0x0000019340CC0550>,\n",
      "              '__str__': <function Point.__str__ at 0x0000019340CC0A60>,\n",
      "              '__weakref__': <attribute '__weakref__' of 'Point' objects>,\n",
      "              'distance_from_origin': <function Point.distance_from_origin at 0x0000019340CC00D0>,\n",
      "              'distance_to': <function Point.distance_to at 0x0000019340CC0700>,\n",
      "              'from_coordinates': <classmethod object at 0x0000019340BE4A60>,\n",
      "              'locate': <function Point.locate at 0x0000019340CC0820>,\n",
      "              'origin': <staticmethod object at 0x0000019340BE45E0>,\n",
      "              'x': <property object at 0x0000019340CE1090>,\n",
      "              'y': <property object at 0x0000019340CE10E0>})\n"
     ]
    }
   ],
   "source": [
    "from pprint import pprint\n",
    "pprint(Point.__dict__)"
   ]
  },
  {
   "cell_type": "markdown",
   "id": "21c41d04-96af-48ea-a7e4-d120b8cc74da",
   "metadata": {},
   "source": [
    "***Also pass the class name to the vars built-in function.***"
   ]
  },
  {
   "cell_type": "code",
   "execution_count": 7,
   "id": "194948a6",
   "metadata": {},
   "outputs": [
    {
     "name": "stdout",
     "output_type": "stream",
     "text": [
      "mappingproxy({'__dict__': <attribute '__dict__' of 'Point' objects>,\n",
      "              '__doc__': None,\n",
      "              '__init__': <function Point.__init__ at 0x0000019340C8D820>,\n",
      "              '__module__': '__main__',\n",
      "              '__repr__': <function Point.__repr__ at 0x0000019340CC0550>,\n",
      "              '__str__': <function Point.__str__ at 0x0000019340CC0A60>,\n",
      "              '__weakref__': <attribute '__weakref__' of 'Point' objects>,\n",
      "              'distance_from_origin': <function Point.distance_from_origin at 0x0000019340CC00D0>,\n",
      "              'distance_to': <function Point.distance_to at 0x0000019340CC0700>,\n",
      "              'from_coordinates': <classmethod object at 0x0000019340BE4A60>,\n",
      "              'locate': <function Point.locate at 0x0000019340CC0820>,\n",
      "              'origin': <staticmethod object at 0x0000019340BE45E0>,\n",
      "              'x': <property object at 0x0000019340CE1090>,\n",
      "              'y': <property object at 0x0000019340CE10E0>})\n"
     ]
    }
   ],
   "source": [
    "pprint(vars(Point))"
   ]
  },
  {
   "cell_type": "markdown",
   "id": "b94d4e9e-a476-4126-bea7-78f1bf857fee",
   "metadata": {},
   "source": [
    "***To  Call the __dict__ on the object of the class.***"
   ]
  },
  {
   "cell_type": "code",
   "execution_count": 8,
   "id": "cf6febb2",
   "metadata": {},
   "outputs": [
    {
     "name": "stdout",
     "output_type": "stream",
     "text": [
      "{'_x': 8, '_y': 6}\n"
     ]
    }
   ],
   "source": [
    "print(inst_1.__dict__)"
   ]
  },
  {
   "cell_type": "markdown",
   "id": "8f2aaf12-3777-4926-befe-df75da69fd9b",
   "metadata": {},
   "source": [
    "**To Pass the class name to help.**"
   ]
  },
  {
   "cell_type": "code",
   "execution_count": 9,
   "id": "60340345",
   "metadata": {},
   "outputs": [
    {
     "name": "stdout",
     "output_type": "stream",
     "text": [
      "Help on class Point in module __main__:\n",
      "\n",
      "class Point(builtins.object)\n",
      " |  Point(x: float = 0.0, y: float = 0.0)\n",
      " |  \n",
      " |  Methods defined here:\n",
      " |  \n",
      " |  __init__(self, x: float = 0.0, y: float = 0.0)\n",
      " |      Initialize self.  See help(type(self)) for accurate signature.\n",
      " |  \n",
      " |  __repr__(self) -> str\n",
      " |      Return repr(self).\n",
      " |  \n",
      " |  __str__(self) -> str\n",
      " |      Return str(self).\n",
      " |  \n",
      " |  distance_from_origin(self) -> float\n",
      " |  \n",
      " |  distance_to(self, other: 'Point') -> float\n",
      " |  \n",
      " |  locate(self) -> str\n",
      " |  \n",
      " |  ----------------------------------------------------------------------\n",
      " |  Class methods defined here:\n",
      " |  \n",
      " |  from_coordinates(coordinates: tuple) -> 'Point' from builtins.type\n",
      " |  \n",
      " |  ----------------------------------------------------------------------\n",
      " |  Static methods defined here:\n",
      " |  \n",
      " |  origin() -> 'Point'\n",
      " |  \n",
      " |  ----------------------------------------------------------------------\n",
      " |  Data descriptors defined here:\n",
      " |  \n",
      " |  __dict__\n",
      " |      dictionary for instance variables (if defined)\n",
      " |  \n",
      " |  __weakref__\n",
      " |      list of weak references to the object (if defined)\n",
      " |  \n",
      " |  x\n",
      " |  \n",
      " |  y\n",
      "\n"
     ]
    }
   ],
   "source": [
    "help(Point)"
   ]
  },
  {
   "cell_type": "markdown",
   "id": "ebdab816-a721-4c3e-87d5-00f7d62992be",
   "metadata": {},
   "source": [
    "***To Print the doc-string and annotations of both the class and each instance method.***"
   ]
  },
  {
   "cell_type": "code",
   "execution_count": 10,
   "id": "76b0e051",
   "metadata": {},
   "outputs": [
    {
     "name": "stdout",
     "output_type": "stream",
     "text": [
      "None\n",
      "__init__:\n",
      "  Doc: None\n",
      "  Annotations: {'x': <class 'float'>, 'y': <class 'float'>}\n",
      "\n",
      "distance_to:\n",
      "  Doc: None\n",
      "  Annotations: {'other': 'Point', 'return': <class 'float'>}\n",
      "\n",
      "distance_from_origin:\n",
      "  Doc: None\n",
      "  Annotations: {'return': <class 'float'>}\n",
      "\n",
      "locate:\n",
      "  Doc: None\n",
      "  Annotations: {'return': <class 'str'>}\n",
      "\n",
      "__repr__:\n",
      "  Doc: None\n",
      "  Annotations: {'return': <class 'str'>}\n",
      "\n",
      "__str__:\n",
      "  Doc: None\n",
      "  Annotations: {'return': <class 'str'>}\n",
      "\n",
      "origin:\n",
      "  Doc: None\n",
      "  Annotations: {'return': 'Point'}\n",
      "\n",
      "from_coordinates:\n",
      "  Doc: None\n",
      "  Annotations: {'coordinates': <class 'tuple'>, 'return': 'Point'}\n",
      "\n"
     ]
    }
   ],
   "source": [
    "print(Point.__doc__)\n",
    "for method in [Point.__init__,\n",
    "               Point.distance_to,\n",
    "               Point.distance_from_origin,\n",
    "               Point.locate,\n",
    "               Point.__repr__,\n",
    "               Point.__str__,\n",
    "               Point.origin,\n",
    "               Point.from_coordinates]:\n",
    "    print(f\"{method.__name__}:\\n  Doc: {method.__doc__}\\n  Annotations: {method.__annotations__}\\n\")"
   ]
  },
  {
   "cell_type": "markdown",
   "id": "2cf76728-25fe-4e89-ac91-27a8181635f9",
   "metadata": {},
   "source": [
    "  **To  Modify the __init__ by by making its parameters default and verify by instances.**"
   ]
  },
  {
   "cell_type": "code",
   "execution_count": 11,
   "id": "28400ac8",
   "metadata": {},
   "outputs": [
    {
     "name": "stdout",
     "output_type": "stream",
     "text": [
      "Point(0.0, 0.0)\n"
     ]
    }
   ],
   "source": [
    "inst_3 = Point()\n",
    "print(inst_3)"
   ]
  },
  {
   "cell_type": "markdown",
   "id": "158ba206-a7a8-495f-8034-6813685fa617",
   "metadata": {},
   "source": [
    "<center><span style=\"color:yellow; \n",
    "font-family:Arial; \n",
    "font-weight:bold;\n",
    "font-size:35px;\">Task No # 02 </span></center>"
   ]
  },
  {
   "cell_type": "markdown",
   "id": "ed3b64df-360f-4d45-9ff5-0e80d1051684",
   "metadata": {},
   "source": [
    " Define a class circle. Your class must have the appropriate __init__ method.  \n",
    "i.Add appropriate property methods. (@property and @property.setter) \n",
    "ii.In addition, add an instance method for the volume of a cylinder with the given \n",
    "radius. \n",
    "iii.Add property method for area, circumference, and diameter.  \n",
    "iv. Add __repr__ and __str__ to the class.  \n",
    "v. Add proper annotation and doc string to every class and instance method.  \n",
    "vi. Also add method with decoration @staticmethod and @classmethod if possible. "
   ]
  },
  {
   "cell_type": "code",
   "execution_count": 12,
   "id": "3c6b73d6-1ba7-49d1-8692-3674b3910050",
   "metadata": {},
   "outputs": [],
   "source": [
    "import math\n",
    "\n",
    "class Circle:\n",
    "    def __init__(self, radius: float = 1.0):\n",
    "        self._radius = radius\n",
    "\n",
    "    @property\n",
    "    def radius(self) -> float:\n",
    "        return self._radius\n",
    "\n",
    "    @radius.setter\n",
    "    def radius(self, value: float) -> None:\n",
    "        self._radius = value\n",
    "\n",
    "    def volume(self, height: float) -> None:\n",
    "        return self.area * height\n",
    "\n",
    "    @property\n",
    "    def area(self) -> float:\n",
    "        return math.pi * (self._radius ** 2)\n",
    "\n",
    "    @property\n",
    "    def circumference(self) -> float:\n",
    "        return 2 * math.pi * self._radius\n",
    "\n",
    "    @property\n",
    "    def diameter(self) -> float:\n",
    "        return self._radius * 2\n",
    "        \n",
    "    @staticmethod\n",
    "    def from_diameter(diameter: float):\n",
    "        return Circle(diameter / 2)\n",
    "\n",
    "    @classmethod\n",
    "    def unit_circle(cls) -> 'Circle':\n",
    "        return cls(1)\n",
    "\n",
    "        \n",
    "    def __repr__(self) -> str:\n",
    "        return f\"Circle(radius={self._radius})\"\n",
    "\n",
    "    def __str__(self) -> str:\n",
    "        return f\"Circle with radius: {self._radius}\""
   ]
  },
  {
   "cell_type": "markdown",
   "id": "3d4e05ac-16fe-4ccb-aaa8-e6804263a033",
   "metadata": {},
   "source": [
    "Define inst_1 , inst_2 and pass two numbers. "
   ]
  },
  {
   "cell_type": "code",
   "execution_count": 13,
   "id": "3bd5024b-ae9d-455e-9d58-bd3de81628be",
   "metadata": {},
   "outputs": [],
   "source": [
    "inst_1 = Circle(4)\n",
    "inst_2 = Circle(8)"
   ]
  },
  {
   "cell_type": "markdown",
   "id": "ec133746-ccde-49d7-b85d-be64940e0d26",
   "metadata": {},
   "source": [
    " To Print inst_1 and inst_2 , for this use the print command and pass the inst_1 and inst_2."
   ]
  },
  {
   "cell_type": "code",
   "execution_count": 14,
   "id": "407c123e-545a-4406-a5ad-467371be61f5",
   "metadata": {},
   "outputs": [
    {
     "name": "stdout",
     "output_type": "stream",
     "text": [
      "Circle with radius: 4\n",
      "Circle with radius: 8\n"
     ]
    }
   ],
   "source": [
    "print(inst_1)\n",
    "print(inst_2)"
   ]
  },
  {
   "cell_type": "markdown",
   "id": "783da8ae-3686-498e-8324-ab83478df46b",
   "metadata": {},
   "source": [
    " To Demonstrate the property, staticmethod and classmethod methods on the instances."
   ]
  },
  {
   "cell_type": "code",
   "execution_count": 15,
   "id": "ec5cd07a-ab64-46ae-94e5-ef117064290c",
   "metadata": {},
   "outputs": [
    {
     "name": "stdout",
     "output_type": "stream",
     "text": [
      "Area of inst_1: 50.265\n",
      "Circumference of inst_1: 25.133\n",
      "Diameter of inst_1: 8.000\n"
     ]
    }
   ],
   "source": [
    "print(f\"Area of inst_1: {inst_1.area:.3f}\")\n",
    "print(f\"Circumference of inst_1: {inst_1.circumference:.3f}\")\n",
    "print(f\"Diameter of inst_1: {inst_1.diameter:.3f}\")"
   ]
  },
  {
   "cell_type": "code",
   "execution_count": 16,
   "id": "4d142bbf-c3a5-45e8-8cb7-4d6f0ecd1b7c",
   "metadata": {},
   "outputs": [
    {
     "name": "stdout",
     "output_type": "stream",
     "text": [
      "Circle with radius: 10.0\n"
     ]
    }
   ],
   "source": [
    "circle_from_diameter = Circle.from_diameter(20)\n",
    "print(circle_from_diameter)"
   ]
  },
  {
   "cell_type": "code",
   "execution_count": 17,
   "id": "aee254d7-cfad-4f76-a138-82d15531988e",
   "metadata": {},
   "outputs": [
    {
     "name": "stdout",
     "output_type": "stream",
     "text": [
      "Circle with radius: 1\n"
     ]
    }
   ],
   "source": [
    "unit_circle = Circle.unit_circle()\n",
    "print(unit_circle)"
   ]
  },
  {
   "cell_type": "markdown",
   "id": "63d39a3c-3dfe-4eff-8b8b-6de23b04ab81",
   "metadata": {},
   "source": [
    "  To Call the __dict__ by the class name."
   ]
  },
  {
   "cell_type": "code",
   "execution_count": 18,
   "id": "db433c3b-23c5-4c7d-998f-e9bbfc781f41",
   "metadata": {},
   "outputs": [
    {
     "name": "stdout",
     "output_type": "stream",
     "text": [
      "mappingproxy({'__dict__': <attribute '__dict__' of 'Circle' objects>,\n",
      "              '__doc__': None,\n",
      "              '__init__': <function Circle.__init__ at 0x0000019340CC0430>,\n",
      "              '__module__': '__main__',\n",
      "              '__repr__': <function Circle.__repr__ at 0x0000019340CC0E50>,\n",
      "              '__str__': <function Circle.__str__ at 0x0000019340CC0EE0>,\n",
      "              '__weakref__': <attribute '__weakref__' of 'Circle' objects>,\n",
      "              'area': <property object at 0x0000019340C9FB30>,\n",
      "              'circumference': <property object at 0x0000019340CF2360>,\n",
      "              'diameter': <property object at 0x0000019340CF2400>,\n",
      "              'from_diameter': <staticmethod object at 0x0000019340CD0370>,\n",
      "              'radius': <property object at 0x0000019340CF23B0>,\n",
      "              'unit_circle': <classmethod object at 0x0000019340CD0970>,\n",
      "              'volume': <function Circle.volume at 0x0000019340CC0AF0>})\n"
     ]
    }
   ],
   "source": [
    "from pprint import pprint\n",
    "pprint(Circle.__dict__)"
   ]
  },
  {
   "cell_type": "markdown",
   "id": "bdf6dc80-ae1d-486d-93ec-d5c4ab10a30c",
   "metadata": {},
   "source": [
    " Also pass the class name to the vars built-in function."
   ]
  },
  {
   "cell_type": "code",
   "execution_count": 19,
   "id": "65f065ec-99cc-4946-9eb1-550adcca7710",
   "metadata": {},
   "outputs": [
    {
     "name": "stdout",
     "output_type": "stream",
     "text": [
      "mappingproxy({'__dict__': <attribute '__dict__' of 'Circle' objects>,\n",
      "              '__doc__': None,\n",
      "              '__init__': <function Circle.__init__ at 0x0000019340CC0430>,\n",
      "              '__module__': '__main__',\n",
      "              '__repr__': <function Circle.__repr__ at 0x0000019340CC0E50>,\n",
      "              '__str__': <function Circle.__str__ at 0x0000019340CC0EE0>,\n",
      "              '__weakref__': <attribute '__weakref__' of 'Circle' objects>,\n",
      "              'area': <property object at 0x0000019340C9FB30>,\n",
      "              'circumference': <property object at 0x0000019340CF2360>,\n",
      "              'diameter': <property object at 0x0000019340CF2400>,\n",
      "              'from_diameter': <staticmethod object at 0x0000019340CD0370>,\n",
      "              'radius': <property object at 0x0000019340CF23B0>,\n",
      "              'unit_circle': <classmethod object at 0x0000019340CD0970>,\n",
      "              'volume': <function Circle.volume at 0x0000019340CC0AF0>})\n"
     ]
    }
   ],
   "source": [
    "pprint(vars(Circle))"
   ]
  },
  {
   "cell_type": "markdown",
   "id": "2fa2bf40-ab9a-4fd4-ab4b-6cb06bd3323e",
   "metadata": {},
   "source": [
    " To  Call the __dict__ on the object of the class."
   ]
  },
  {
   "cell_type": "code",
   "execution_count": 20,
   "id": "a553fa2a",
   "metadata": {},
   "outputs": [
    {
     "name": "stdout",
     "output_type": "stream",
     "text": [
      "{'_radius': 4}\n"
     ]
    }
   ],
   "source": [
    "print(inst_1.__dict__)"
   ]
  },
  {
   "cell_type": "code",
   "execution_count": 21,
   "id": "f8300cf6",
   "metadata": {},
   "outputs": [
    {
     "name": "stdout",
     "output_type": "stream",
     "text": [
      "{'_radius': 8}\n"
     ]
    }
   ],
   "source": [
    "print(inst_2.__dict__)"
   ]
  },
  {
   "cell_type": "markdown",
   "id": "1c2dd84b-50fc-4a81-a646-29668f9e7d2b",
   "metadata": {},
   "source": [
    " To Pass the class name to help."
   ]
  },
  {
   "cell_type": "code",
   "execution_count": 22,
   "id": "ae8c8ae7-0465-48c3-9346-66f34b4c2ae6",
   "metadata": {},
   "outputs": [
    {
     "name": "stdout",
     "output_type": "stream",
     "text": [
      "Help on class Circle in module __main__:\n",
      "\n",
      "class Circle(builtins.object)\n",
      " |  Circle(radius: float = 1.0)\n",
      " |  \n",
      " |  Methods defined here:\n",
      " |  \n",
      " |  __init__(self, radius: float = 1.0)\n",
      " |      Initialize self.  See help(type(self)) for accurate signature.\n",
      " |  \n",
      " |  __repr__(self) -> str\n",
      " |      Return repr(self).\n",
      " |  \n",
      " |  __str__(self) -> str\n",
      " |      Return str(self).\n",
      " |  \n",
      " |  volume(self, height: float) -> None\n",
      " |  \n",
      " |  ----------------------------------------------------------------------\n",
      " |  Class methods defined here:\n",
      " |  \n",
      " |  unit_circle() -> 'Circle' from builtins.type\n",
      " |  \n",
      " |  ----------------------------------------------------------------------\n",
      " |  Static methods defined here:\n",
      " |  \n",
      " |  from_diameter(diameter: float)\n",
      " |  \n",
      " |  ----------------------------------------------------------------------\n",
      " |  Readonly properties defined here:\n",
      " |  \n",
      " |  area\n",
      " |  \n",
      " |  circumference\n",
      " |  \n",
      " |  diameter\n",
      " |  \n",
      " |  ----------------------------------------------------------------------\n",
      " |  Data descriptors defined here:\n",
      " |  \n",
      " |  __dict__\n",
      " |      dictionary for instance variables (if defined)\n",
      " |  \n",
      " |  __weakref__\n",
      " |      list of weak references to the object (if defined)\n",
      " |  \n",
      " |  radius\n",
      "\n"
     ]
    }
   ],
   "source": [
    "help(Circle)"
   ]
  },
  {
   "cell_type": "markdown",
   "id": "181d05b6-03b8-45c0-a0c2-7463bdf4d697",
   "metadata": {},
   "source": [
    " To Print the doc-string and annotations of both the class and each instance method."
   ]
  },
  {
   "cell_type": "code",
   "execution_count": 23,
   "id": "ddc9c1e7-54c7-482f-a0ac-5671f4ee2f61",
   "metadata": {},
   "outputs": [
    {
     "name": "stdout",
     "output_type": "stream",
     "text": [
      "None\n",
      "Method: __init__, Docstring: None, Annotations: {'radius': <class 'float'>}\n",
      "Method: volume, Docstring: None, Annotations: {'height': <class 'float'>, 'return': None}\n",
      "Method: area, Docstring: None, Annotations: {'return': <class 'float'>}\n",
      "Method: circumference, Docstring: None, Annotations: {'return': <class 'float'>}\n",
      "Method: diameter, Docstring: None, Annotations: {'return': <class 'float'>}\n",
      "Method: __repr__, Docstring: None, Annotations: {'return': <class 'str'>}\n",
      "Method: __str__, Docstring: None, Annotations: {'return': <class 'str'>}\n",
      "Method: from_diameter, Docstring: None, Annotations: {'diameter': <class 'float'>}\n",
      "Method: unit_circle, Docstring: None, Annotations: {'return': 'Circle'}\n"
     ]
    }
   ],
   "source": [
    "print(Circle.__doc__)\n",
    "for method in [\n",
    "    Circle.__init__,\n",
    "    Circle.volume,\n",
    "    Circle.area,\n",
    "    Circle.circumference,\n",
    "    Circle.diameter,\n",
    "    Circle.__repr__,\n",
    "    Circle.__str__,\n",
    "    Circle.from_diameter,\n",
    "    Circle.unit_circle,\n",
    "]:\n",
    "    if isinstance(method, property):\n",
    "        print(f\"Method: {method.fget.__name__}, Docstring: {method.__doc__}, Annotations: {method.fget.__annotations__}\")\n",
    "    else:\n",
    "        print(f\"Method: {method.__name__}, Docstring: {method.__doc__}, Annotations: {method.__annotations__}\")"
   ]
  },
  {
   "cell_type": "markdown",
   "id": "c0dd9988-7b16-4b32-9822-7333e2984ba5",
   "metadata": {},
   "source": [
    " To  Modify the __init__ by by making its parameters default and verify by instances."
   ]
  },
  {
   "cell_type": "code",
   "execution_count": 24,
   "id": "04af3950-0d2d-4898-b1c2-df001efd3527",
   "metadata": {},
   "outputs": [
    {
     "name": "stdout",
     "output_type": "stream",
     "text": [
      "Circle with radius: 1.0\n"
     ]
    }
   ],
   "source": [
    "inst_3 = Circle()\n",
    "print(inst_3)"
   ]
  },
  {
   "cell_type": "markdown",
   "id": "d23c9242-946a-4c04-bab4-571fcf4cec54",
   "metadata": {},
   "source": [
    "<center><span style=\"color:yellow; \n",
    "font-family:Arial; \n",
    "font-weight:bold;\n",
    "font-size:35px;\">Task No # 03 </span></center>"
   ]
  },
  {
   "cell_type": "markdown",
   "id": "172e9ea5-1c64-4b77-80a0-9a9d69fb5a72",
   "metadata": {},
   "source": [
    "Define a class RLC for a series RLC circuit. Your class must have the appropriate __init__ method.  \n",
    "i. Add appropriate property methods. (@property and @property.setter) \n",
    "\n",
    "ii. Add property method for impedance, phase, and power factor.   \n",
    "iii. In addition, add an instance method for the current in the circuit with a given \n",
    "input voltage. \n",
    "\n",
    "iv. Add __repr__ and __str__ to the class.  \n",
    "\n",
    "v. Also add method with decoration @staticmethod and @classmethod if possible. \n",
    "vi. Add proper annotation and doc string to every class and instance method. "
   ]
  },
  {
   "cell_type": "code",
   "execution_count": 25,
   "id": "d759e9a9-7119-45c3-a335-900bfe486746",
   "metadata": {},
   "outputs": [],
   "source": [
    "import math\n",
    "\n",
    "class RLC:\n",
    "\n",
    "    def __init__(self, resistance: float = 1.0, inductance: float = 1.0, capacitance: float = 1.0):\n",
    "        self._resistance = resistance\n",
    "        self._inductance = inductance\n",
    "        self._capacitance = capacitance\n",
    "\n",
    "    @property\n",
    "    def resistance(self) -> float:\n",
    "        return self._resistance\n",
    "\n",
    "    @resistance.setter\n",
    "    def resistance(self, value: float) -> None:\n",
    "        self._resistance = value\n",
    "\n",
    "    @property\n",
    "    def inductance(self) -> float:\n",
    "        return self._inductance\n",
    "\n",
    "    @inductance.setter\n",
    "    def inductance(self, value: float) -> None:\n",
    "        self._inductance = value\n",
    "\n",
    "    @property\n",
    "    def capacitance(self) -> float:\n",
    "        return self._capacitance\n",
    "\n",
    "    @capacitance.setter\n",
    "    def capacitance(self, value: float) -> None:\n",
    "        self._capacitance = value\n",
    "\n",
    "    @property\n",
    "    def impedance(self) -> float:\n",
    "        reactance = (1 / (self._capacitance * 2 * math.pi * 50)) + (self._inductance * 2 * math.pi * 50) \n",
    "        return math.sqrt(self._resistance ** 2 + reactance**2)\n",
    "\n",
    "    @property\n",
    "    def phase(self) -> float:\n",
    "        reactance = (self._inductance * 2 * math.pi * 50) - (1 / (self._capacitance * 2 * math.pi * 50))\n",
    "        return math.atan(reactance / self._resistance)\n",
    "\n",
    "    @property\n",
    "    def power_factor(self) -> float:\n",
    "        return round(math.cos(self.phase), 2)\n",
    "\n",
    "    def current(self, voltage: float) -> float:\n",
    "        return voltage / self.impedance\n",
    "\n",
    "    def __repr__(self) -> str:\n",
    "        return (f\"RLC(resistance={self._resistance} ohm, inductance={self._inductance} H,capacitance={self._capacitance}  F) \")\n",
    "\n",
    "    def __str__(self) -> str:\n",
    "        return (f\"RLC Circuit with Resistance: {self._resistance} ohm, Inductance: {self._inductance} H, Capacitance: {self._capacitance} F\")\n",
    "\n",
    "    @staticmethod\n",
    "    def series_RLC_from_values(resistance: float, inductance: float, capacitance: float):\n",
    "        return RLC(resistance, inductance, capacitance)\n",
    "\n",
    "    @classmethod\n",
    "    def default_RLC(cls):\n",
    "        return cls()"
   ]
  },
  {
   "cell_type": "markdown",
   "id": "facd90f6-8d4b-4ea7-b9ce-e8338a8161ac",
   "metadata": {},
   "source": [
    "Define inst_1 , inst_2 and pass two numbers."
   ]
  },
  {
   "cell_type": "code",
   "execution_count": 26,
   "id": "0ca5d619-6c3e-4825-8863-6747065c83c4",
   "metadata": {},
   "outputs": [],
   "source": [
    "inst_1 = RLC(40, 0.2, 0.002)\n",
    "inst_2 = RLC(80, 0.4, 0.004)"
   ]
  },
  {
   "cell_type": "markdown",
   "id": "f2feb035-df60-4eae-a9c5-17f3712d522d",
   "metadata": {},
   "source": [
    " To Print inst_1 and inst_2 for this use the print command and pass the inst_1 and inst_2."
   ]
  },
  {
   "cell_type": "code",
   "execution_count": 27,
   "id": "10cb7af3-d263-4029-a437-fad212f78725",
   "metadata": {},
   "outputs": [
    {
     "name": "stdout",
     "output_type": "stream",
     "text": [
      "RLC Circuit with Resistance: 40 ohm, Inductance: 0.2 H, Capacitance: 0.002 F\n",
      "RLC Circuit with Resistance: 80 ohm, Inductance: 0.4 H, Capacitance: 0.004 F\n"
     ]
    }
   ],
   "source": [
    "print(inst_1)\n",
    "print(inst_2)"
   ]
  },
  {
   "cell_type": "code",
   "execution_count": 28,
   "id": "54c00a29",
   "metadata": {},
   "outputs": [
    {
     "data": {
      "text/plain": [
       "RLC(resistance=40 ohm, inductance=0.2 H,capacitance=0.002  F) "
      ]
     },
     "execution_count": 28,
     "metadata": {},
     "output_type": "execute_result"
    }
   ],
   "source": [
    "inst_1"
   ]
  },
  {
   "cell_type": "code",
   "execution_count": 29,
   "id": "890bdbf5",
   "metadata": {},
   "outputs": [
    {
     "data": {
      "text/plain": [
       "RLC(resistance=80 ohm, inductance=0.4 H,capacitance=0.004  F) "
      ]
     },
     "execution_count": 29,
     "metadata": {},
     "output_type": "execute_result"
    }
   ],
   "source": [
    "inst_2"
   ]
  },
  {
   "cell_type": "markdown",
   "id": "29621a5c-b243-49b2-9397-28f41e7e7cc8",
   "metadata": {},
   "source": [
    "To Demonstrate the property, staticmethod and classmethod methods on the instances."
   ]
  },
  {
   "cell_type": "code",
   "execution_count": 30,
   "id": "b93ea2e8-13c6-40b1-ba8c-e9cd9a622104",
   "metadata": {},
   "outputs": [
    {
     "name": "stdout",
     "output_type": "stream",
     "text": [
      "Impedance of inst_1: 75.83 ohm\n",
      "Phase of inst_1: 0.99 radians\n",
      "Power Factor of inst_1: 0.55 W\n"
     ]
    }
   ],
   "source": [
    "print(f\"Impedance of inst_1: {inst_1.impedance:.2f} ohm\")\n",
    "print(f\"Phase of inst_1: {inst_1.phase:.2f} radians\")\n",
    "print(f\"Power Factor of inst_1: {inst_1.power_factor} W\")"
   ]
  },
  {
   "cell_type": "code",
   "execution_count": 31,
   "id": "2781e16a-dfb4-48af-894b-4f8a47c6b711",
   "metadata": {},
   "outputs": [
    {
     "name": "stdout",
     "output_type": "stream",
     "text": [
      "Impedance of inst_2: 149.64 ohm\n",
      "Phase of inst_2: 1.00 radians\n",
      "Power Factor of inst_2: 0.54 W\n"
     ]
    }
   ],
   "source": [
    "print(f\"Impedance of inst_2: {inst_2.impedance:.2f} ohm\")\n",
    "print(f\"Phase of inst_2: {inst_2.phase:.2f} radians\")\n",
    "print(f\"Power Factor of inst_2: {inst_2.power_factor:.2f} W\")"
   ]
  },
  {
   "cell_type": "markdown",
   "id": "71784145-26dd-450a-a53b-9ac5e20f9a55",
   "metadata": {},
   "source": [
    " Current with a given voltage,"
   ]
  },
  {
   "cell_type": "code",
   "execution_count": 32,
   "id": "b943e2a1-52a6-4fb4-b304-9d74e2494a12",
   "metadata": {},
   "outputs": [
    {
     "name": "stdout",
     "output_type": "stream",
     "text": [
      "Current through inst_1 with voltage 240V: 3.16A\n"
     ]
    }
   ],
   "source": [
    "voltage = 240\n",
    "print(f\"Current through inst_1 with voltage {voltage}V: {inst_1.current(voltage):.2f}A\")"
   ]
  },
  {
   "cell_type": "code",
   "execution_count": 33,
   "id": "bb3606a2-ef21-4684-8a15-89d42a073278",
   "metadata": {},
   "outputs": [
    {
     "name": "stdout",
     "output_type": "stream",
     "text": [
      "Current through inst_2 with voltage 130V: 0.87A\n"
     ]
    }
   ],
   "source": [
    "voltage = 130\n",
    "print(f\"Current through inst_2 with voltage {voltage}V: {inst_2.current(voltage):.2f}A\")"
   ]
  },
  {
   "cell_type": "markdown",
   "id": "477fb651-bd2a-4a08-bb49-a19c616b505b",
   "metadata": {},
   "source": [
    " Using the static method."
   ]
  },
  {
   "cell_type": "code",
   "execution_count": 34,
   "id": "67965ef8-39c1-4dd7-b3ff-8bda03fe9c70",
   "metadata": {},
   "outputs": [
    {
     "name": "stdout",
     "output_type": "stream",
     "text": [
      "RLC Circuit with Resistance: 75 ohm, Inductance: 0.15 H, Capacitance: 0.0015 F\n"
     ]
    },
    {
     "data": {
      "text/plain": [
       "RLC(resistance=75 ohm, inductance=0.15 H,capacitance=0.0015  F) "
      ]
     },
     "execution_count": 34,
     "metadata": {},
     "output_type": "execute_result"
    }
   ],
   "source": [
    "custom_RLC = RLC.series_RLC_from_values(75, 0.15, 0.0015)\n",
    "print(custom_RLC)\n",
    "custom_RLC"
   ]
  },
  {
   "cell_type": "markdown",
   "id": "27f7192b-03eb-48e8-af6d-77d192ad6b4b",
   "metadata": {},
   "source": [
    " Using the class method."
   ]
  },
  {
   "cell_type": "code",
   "execution_count": 35,
   "id": "d1677ffd-d5a5-481b-9860-d6b515c825fc",
   "metadata": {},
   "outputs": [
    {
     "name": "stdout",
     "output_type": "stream",
     "text": [
      "RLC Circuit with Resistance: 1.0 ohm, Inductance: 1.0 H, Capacitance: 1.0 F\n"
     ]
    },
    {
     "data": {
      "text/plain": [
       "RLC(resistance=1.0 ohm, inductance=1.0 H,capacitance=1.0  F) "
      ]
     },
     "execution_count": 35,
     "metadata": {},
     "output_type": "execute_result"
    }
   ],
   "source": [
    "default_RLC = RLC.default_RLC()\n",
    "print(default_RLC)\n",
    "default_RLC"
   ]
  },
  {
   "cell_type": "markdown",
   "id": "1b80b6bb-eb4c-425a-b3b9-fbe2c8377d4e",
   "metadata": {},
   "source": [
    "To Call the __dict__ by the class name."
   ]
  },
  {
   "cell_type": "code",
   "execution_count": 36,
   "id": "0a7eb010-9793-4e81-9ddb-82e5570905f4",
   "metadata": {},
   "outputs": [
    {
     "name": "stdout",
     "output_type": "stream",
     "text": [
      "mappingproxy({'__dict__': <attribute '__dict__' of 'RLC' objects>,\n",
      "              '__doc__': None,\n",
      "              '__init__': <function RLC.__init__ at 0x0000019340CC0160>,\n",
      "              '__module__': '__main__',\n",
      "              '__repr__': <function RLC.__repr__ at 0x0000019340CFC3A0>,\n",
      "              '__str__': <function RLC.__str__ at 0x0000019340CFC430>,\n",
      "              '__weakref__': <attribute '__weakref__' of 'RLC' objects>,\n",
      "              'capacitance': <property object at 0x0000019340CFB180>,\n",
      "              'current': <function RLC.current at 0x0000019340CFC310>,\n",
      "              'default_RLC': <classmethod object at 0x0000019340C42FA0>,\n",
      "              'impedance': <property object at 0x0000019340CF1F40>,\n",
      "              'inductance': <property object at 0x0000019340CFB130>,\n",
      "              'phase': <property object at 0x0000019340CFB090>,\n",
      "              'power_factor': <property object at 0x0000019340CFB1D0>,\n",
      "              'resistance': <property object at 0x0000019340CFB0E0>,\n",
      "              'series_RLC_from_values': <staticmethod object at 0x0000019340C86070>})\n"
     ]
    }
   ],
   "source": [
    "from pprint import pprint\n",
    "pprint(RLC.__dict__)"
   ]
  },
  {
   "cell_type": "markdown",
   "id": "c7289c00-4c06-4185-8af2-d6c9ea8b7593",
   "metadata": {},
   "source": [
    " Also pass the class name to the vars built-in function."
   ]
  },
  {
   "cell_type": "code",
   "execution_count": 37,
   "id": "2d7e4f3a-3e3f-4d3f-869b-1a23e8a391d4",
   "metadata": {},
   "outputs": [
    {
     "name": "stdout",
     "output_type": "stream",
     "text": [
      "mappingproxy({'__dict__': <attribute '__dict__' of 'RLC' objects>,\n",
      "              '__doc__': None,\n",
      "              '__init__': <function RLC.__init__ at 0x0000019340CC0160>,\n",
      "              '__module__': '__main__',\n",
      "              '__repr__': <function RLC.__repr__ at 0x0000019340CFC3A0>,\n",
      "              '__str__': <function RLC.__str__ at 0x0000019340CFC430>,\n",
      "              '__weakref__': <attribute '__weakref__' of 'RLC' objects>,\n",
      "              'capacitance': <property object at 0x0000019340CFB180>,\n",
      "              'current': <function RLC.current at 0x0000019340CFC310>,\n",
      "              'default_RLC': <classmethod object at 0x0000019340C42FA0>,\n",
      "              'impedance': <property object at 0x0000019340CF1F40>,\n",
      "              'inductance': <property object at 0x0000019340CFB130>,\n",
      "              'phase': <property object at 0x0000019340CFB090>,\n",
      "              'power_factor': <property object at 0x0000019340CFB1D0>,\n",
      "              'resistance': <property object at 0x0000019340CFB0E0>,\n",
      "              'series_RLC_from_values': <staticmethod object at 0x0000019340C86070>})\n"
     ]
    }
   ],
   "source": [
    "pprint(vars(RLC))"
   ]
  },
  {
   "cell_type": "markdown",
   "id": "444fe631-b240-4d45-940d-a245ed05a33f",
   "metadata": {},
   "source": [
    "To  Call the __dict__ on the object of the class."
   ]
  },
  {
   "cell_type": "code",
   "execution_count": 38,
   "id": "0d805f6c-432d-4fbb-8766-7972b44a4735",
   "metadata": {},
   "outputs": [
    {
     "name": "stdout",
     "output_type": "stream",
     "text": [
      "{'_resistance': 40, '_inductance': 0.2, '_capacitance': 0.002}\n",
      "{'_resistance': 80, '_inductance': 0.4, '_capacitance': 0.004}\n"
     ]
    }
   ],
   "source": [
    "print(inst_1.__dict__)\n",
    "print(inst_2.__dict__)"
   ]
  },
  {
   "cell_type": "markdown",
   "id": "5263bc9c-909d-497d-90f5-8dc02fc5775e",
   "metadata": {},
   "source": [
    "  To Pass the class name to help."
   ]
  },
  {
   "cell_type": "code",
   "execution_count": 39,
   "id": "a200d4fb-7dd2-4c5c-b3e9-f16f01e0d768",
   "metadata": {},
   "outputs": [
    {
     "name": "stdout",
     "output_type": "stream",
     "text": [
      "Help on class RLC in module __main__:\n",
      "\n",
      "class RLC(builtins.object)\n",
      " |  RLC(resistance: float = 1.0, inductance: float = 1.0, capacitance: float = 1.0)\n",
      " |  \n",
      " |  Methods defined here:\n",
      " |  \n",
      " |  __init__(self, resistance: float = 1.0, inductance: float = 1.0, capacitance: float = 1.0)\n",
      " |      Initialize self.  See help(type(self)) for accurate signature.\n",
      " |  \n",
      " |  __repr__(self) -> str\n",
      " |      Return repr(self).\n",
      " |  \n",
      " |  __str__(self) -> str\n",
      " |      Return str(self).\n",
      " |  \n",
      " |  current(self, voltage: float) -> float\n",
      " |  \n",
      " |  ----------------------------------------------------------------------\n",
      " |  Class methods defined here:\n",
      " |  \n",
      " |  default_RLC() from builtins.type\n",
      " |  \n",
      " |  ----------------------------------------------------------------------\n",
      " |  Static methods defined here:\n",
      " |  \n",
      " |  series_RLC_from_values(resistance: float, inductance: float, capacitance: float)\n",
      " |  \n",
      " |  ----------------------------------------------------------------------\n",
      " |  Readonly properties defined here:\n",
      " |  \n",
      " |  impedance\n",
      " |  \n",
      " |  phase\n",
      " |  \n",
      " |  power_factor\n",
      " |  \n",
      " |  ----------------------------------------------------------------------\n",
      " |  Data descriptors defined here:\n",
      " |  \n",
      " |  __dict__\n",
      " |      dictionary for instance variables (if defined)\n",
      " |  \n",
      " |  __weakref__\n",
      " |      list of weak references to the object (if defined)\n",
      " |  \n",
      " |  capacitance\n",
      " |  \n",
      " |  inductance\n",
      " |  \n",
      " |  resistance\n",
      "\n"
     ]
    }
   ],
   "source": [
    "help(RLC)"
   ]
  },
  {
   "cell_type": "markdown",
   "id": "5397c378-475c-4a12-a0a0-e619186fddf3",
   "metadata": {},
   "source": [
    "To Print the doc-string and annotations of both the class and each instance method."
   ]
  },
  {
   "cell_type": "code",
   "execution_count": 40,
   "id": "9bd88f15-bb07-48d3-8740-6c2343025e7c",
   "metadata": {},
   "outputs": [
    {
     "name": "stdout",
     "output_type": "stream",
     "text": [
      "None\n",
      "Method: __init__, Docstring: None, Annotations: {'resistance': <class 'float'>, 'inductance': <class 'float'>, 'capacitance': <class 'float'>}\n",
      "Method: impedance, Docstring: None, Annotations: {'return': <class 'float'>}\n",
      "Method: phase, Docstring: None, Annotations: {'return': <class 'float'>}\n",
      "Method: power_factor, Docstring: None, Annotations: {'return': <class 'float'>}\n",
      "Method: series_RLC_from_values, Docstring: None, Annotations: {'resistance': <class 'float'>, 'inductance': <class 'float'>, 'capacitance': <class 'float'>}\n",
      "Method: __repr__, Docstring: None, Annotations: {'return': <class 'str'>}\n",
      "Method: __str__, Docstring: None, Annotations: {'return': <class 'str'>}\n",
      "Method: default_RLC, Docstring: None, Annotations: {}\n"
     ]
    }
   ],
   "source": [
    "print(RLC.__doc__)\n",
    "for method in [\n",
    "    RLC.__init__,\n",
    "    RLC.impedance,\n",
    "    RLC.phase,\n",
    "    RLC.power_factor,\n",
    "    RLC.series_RLC_from_values,\n",
    "    RLC.__repr__,\n",
    "    RLC.__str__,\n",
    "    RLC.default_RLC,\n",
    "]:\n",
    "    if isinstance(method, property):\n",
    "        print(f\"Method: {method.fget.__name__}, Docstring: {method.__doc__}, Annotations: {method.fget.__annotations__}\")\n",
    "    else:\n",
    "        print(f\"Method: {method.__name__}, Docstring: {method.__doc__}, Annotations: {method.__annotations__}\")"
   ]
  },
  {
   "cell_type": "markdown",
   "id": "0b950902-f289-4713-ac2c-2f52d60f262d",
   "metadata": {},
   "source": [
    " To  Modify the __init__3 by by making its parameters default and verify by instances."
   ]
  },
  {
   "cell_type": "markdown",
   "id": "6313f81f-c378-490a-8785-dd8d73f81780",
   "metadata": {},
   "source": [
    " To  Modify the __init__3 by by making its parameters default and verify by instances."
   ]
  },
  {
   "cell_type": "code",
   "execution_count": 41,
   "id": "ed241be5-36ac-426f-93e5-0d48dd562d52",
   "metadata": {},
   "outputs": [
    {
     "name": "stdout",
     "output_type": "stream",
     "text": [
      "RLC Circuit with Resistance: 1.0 ohm, Inductance: 1.0 H, Capacitance: 1.0 F\n"
     ]
    }
   ],
   "source": [
    "inst_3 = RLC() \n",
    "print(inst_3)"
   ]
  },
  {
   "cell_type": "markdown",
   "id": "1793218a-7cbd-4234-909e-ea77ba7cd2b3",
   "metadata": {},
   "source": [
    "<center><span style=\"color:yellow; \n",
    "font-family:Arial; \n",
    "font-weight:bold;\n",
    "font-size:35px;\">Task No # 04 </span></center>"
   ]
  },
  {
   "cell_type": "markdown",
   "id": "6f471c33-b3bc-4445-a9a1-f3edf3ecbea0",
   "metadata": {},
   "source": [
    "# Note: Please make a class for each of the following using the detail procedure from the above tasks."
   ]
  },
  {
   "cell_type": "markdown",
   "id": "baf91f1f-4cc9-45ec-aadc-067bbe785b55",
   "metadata": {},
   "source": [
    "***Math:*** \n",
    "\n",
    "5. Square: A four-sided polygon (quadrilateral) with all sides of equal length and all angles 90 degrees. \n",
    "\n",
    "6. Rectangle: A four-sided polygon where opposite sides are equal in length and all angles are 90 degrees.\n",
    "  \n",
    "8. Triangle: A three-sided polygon with three edges and three vertices. There are various types of triangles (e.g., equilateral, isosceles, scalene).\n",
    "\n",
    "10. Trapezoid (US) / Trapezium (UK): A four-sided figure with at least one pair of parallel sides.\n",
    "  \n",
    "12. Parallelogram: A four-sided shape with opposite sides that are equal and parallel.\n",
    " \n",
    "14. Rhombus: A parallelogram where all sides are of equal length, but the angles are not necessarily 90 degrees.\n",
    " \n",
    "16. These shapes serve as building blocks for more complex forms in geometry and design."
   ]
  },
  {
   "cell_type": "markdown",
   "id": "fe4dc66f-3e63-43db-be14-a31d592cdc00",
   "metadata": {},
   "source": [
    "<center><span style=\"color:red; \n",
    "font-family:COPPER BLACK; \n",
    "font-weight:bold;\n",
    "font-size:35px;\">1. Square</span></center"
   ]
  },
  {
   "cell_type": "code",
   "execution_count": 42,
   "id": "b50aac3f-41f0-46ff-818c-1e4cc94a5709",
   "metadata": {},
   "outputs": [],
   "source": [
    "class Square:\n",
    "    def __init__(self, side_length: float = 1.0) -> None:\n",
    "        self.side_length = side_length\n",
    "    @property\n",
    "    def side_length(self) -> float:\n",
    "        return self._side_length\n",
    "    @side_length.setter\n",
    "    def side_length(self, value: float) -> None:\n",
    "        self._side_length = value\n",
    "    @property\n",
    "    def area(self) -> float:\n",
    "        return self.side_length ** 2\n",
    "    @property\n",
    "    def perimeter(self) -> float:\n",
    "        return 4 * self.side_length\n",
    "    def __repr__(self) -> str:\n",
    "        return f\"Square(side_length={self.side_length})\"\n",
    "    def __str__(self) -> str:\n",
    "        return f\"Square with side length: {self.side_length}, area: {self.area}, perimeter: {self.perimeter}\""
   ]
  },
  {
   "cell_type": "code",
   "execution_count": 43,
   "id": "c2a14001-13fe-403f-a8f6-6dd95324d776",
   "metadata": {},
   "outputs": [],
   "source": [
    "s_1 = Square(side_length=5)\n",
    "s_2= Square(side_length = 9)"
   ]
  },
  {
   "cell_type": "code",
   "execution_count": 44,
   "id": "ce151ea3-df83-4c43-8e09-b43112392045",
   "metadata": {},
   "outputs": [
    {
     "name": "stdout",
     "output_type": "stream",
     "text": [
      "Square with side length: 5, area: 25, perimeter: 20\n",
      "Square with side length: 9, area: 81, perimeter: 36\n"
     ]
    }
   ],
   "source": [
    "print(s_1)\n",
    "print(s_2)"
   ]
  },
  {
   "cell_type": "code",
   "execution_count": 45,
   "id": "3a3ff87a-64d3-4654-90a1-3765e196e924",
   "metadata": {},
   "outputs": [
    {
     "data": {
      "text/plain": [
       "Square(side_length=5)"
      ]
     },
     "execution_count": 45,
     "metadata": {},
     "output_type": "execute_result"
    }
   ],
   "source": [
    "s_1"
   ]
  },
  {
   "cell_type": "code",
   "execution_count": 46,
   "id": "26308ec0-5c38-49e6-9782-a7e0dbc39563",
   "metadata": {},
   "outputs": [
    {
     "data": {
      "text/plain": [
       "Square(side_length=9)"
      ]
     },
     "execution_count": 46,
     "metadata": {},
     "output_type": "execute_result"
    }
   ],
   "source": [
    "s_2"
   ]
  },
  {
   "cell_type": "code",
   "execution_count": 47,
   "id": "7e8e393d-5d8d-4a5b-aeea-58803f80767b",
   "metadata": {},
   "outputs": [
    {
     "name": "stdout",
     "output_type": "stream",
     "text": [
      "mappingproxy({'__dict__': <attribute '__dict__' of 'Square' objects>,\n",
      "              '__doc__': None,\n",
      "              '__init__': <function Square.__init__ at 0x0000019340CFCCA0>,\n",
      "              '__module__': '__main__',\n",
      "              '__repr__': <function Square.__repr__ at 0x0000019340CFCDC0>,\n",
      "              '__str__': <function Square.__str__ at 0x0000019340CFCE50>,\n",
      "              '__weakref__': <attribute '__weakref__' of 'Square' objects>,\n",
      "              'area': <property object at 0x0000019340CFB9A0>,\n",
      "              'perimeter': <property object at 0x0000019340D06C20>,\n",
      "              'side_length': <property object at 0x0000019340D06C70>})\n"
     ]
    }
   ],
   "source": [
    "from pprint import pprint\n",
    "pprint(Square.__dict__)"
   ]
  },
  {
   "cell_type": "code",
   "execution_count": 48,
   "id": "29063510-b636-4fe4-890b-99f3d43c7dad",
   "metadata": {},
   "outputs": [
    {
     "name": "stdout",
     "output_type": "stream",
     "text": [
      "mappingproxy({'__dict__': <attribute '__dict__' of 'Square' objects>,\n",
      "              '__doc__': None,\n",
      "              '__init__': <function Square.__init__ at 0x0000019340CFCCA0>,\n",
      "              '__module__': '__main__',\n",
      "              '__repr__': <function Square.__repr__ at 0x0000019340CFCDC0>,\n",
      "              '__str__': <function Square.__str__ at 0x0000019340CFCE50>,\n",
      "              '__weakref__': <attribute '__weakref__' of 'Square' objects>,\n",
      "              'area': <property object at 0x0000019340CFB9A0>,\n",
      "              'perimeter': <property object at 0x0000019340D06C20>,\n",
      "              'side_length': <property object at 0x0000019340D06C70>})\n"
     ]
    }
   ],
   "source": [
    "pprint(vars(Square))"
   ]
  },
  {
   "cell_type": "code",
   "execution_count": 49,
   "id": "647f3356-3cdc-4b0d-9f76-4b1b7fe4a67b",
   "metadata": {},
   "outputs": [
    {
     "name": "stdout",
     "output_type": "stream",
     "text": [
      "{'_side_length': 5}\n",
      "{'_side_length': 9}\n"
     ]
    }
   ],
   "source": [
    "print(s_1.__dict__)\n",
    "print(s_2.__dict__)"
   ]
  },
  {
   "cell_type": "code",
   "execution_count": 50,
   "id": "017f0ed2-8e92-43c4-a830-1e5be20404d1",
   "metadata": {},
   "outputs": [
    {
     "name": "stdout",
     "output_type": "stream",
     "text": [
      "Help on class Square in module __main__:\n",
      "\n",
      "class Square(builtins.object)\n",
      " |  Square(side_length: float = 1.0) -> None\n",
      " |  \n",
      " |  Methods defined here:\n",
      " |  \n",
      " |  __init__(self, side_length: float = 1.0) -> None\n",
      " |      Initialize self.  See help(type(self)) for accurate signature.\n",
      " |  \n",
      " |  __repr__(self) -> str\n",
      " |      Return repr(self).\n",
      " |  \n",
      " |  __str__(self) -> str\n",
      " |      Return str(self).\n",
      " |  \n",
      " |  ----------------------------------------------------------------------\n",
      " |  Readonly properties defined here:\n",
      " |  \n",
      " |  area\n",
      " |  \n",
      " |  perimeter\n",
      " |  \n",
      " |  ----------------------------------------------------------------------\n",
      " |  Data descriptors defined here:\n",
      " |  \n",
      " |  __dict__\n",
      " |      dictionary for instance variables (if defined)\n",
      " |  \n",
      " |  __weakref__\n",
      " |      list of weak references to the object (if defined)\n",
      " |  \n",
      " |  side_length\n",
      "\n"
     ]
    }
   ],
   "source": [
    "help(Square)"
   ]
  },
  {
   "cell_type": "code",
   "execution_count": 51,
   "id": "7e5f5986-36c6-4232-b604-ba40c8b72f62",
   "metadata": {},
   "outputs": [
    {
     "name": "stdout",
     "output_type": "stream",
     "text": [
      "None\n",
      "Method: __init__, Docstring: None, Annotations: {'side_length': <class 'float'>, 'return': None}\n",
      "Method: area, Docstring: None, Annotations: {'return': <class 'float'>}\n",
      "Method: perimeter, Docstring: None, Annotations: {'return': <class 'float'>}\n",
      "Method: __repr__, Docstring: None, Annotations: {'return': <class 'str'>}\n",
      "Method: __str__, Docstring: None, Annotations: {'return': <class 'str'>}\n"
     ]
    }
   ],
   "source": [
    "print(Square.__doc__)\n",
    "for method in [\n",
    "    Square.__init__,\n",
    "    Square.area,\n",
    "    Square.perimeter,\n",
    "    Square.__repr__,\n",
    "    Square.__str__,\n",
    "]:\n",
    "    if isinstance(method, property):\n",
    "        print(f\"Method: {method.fget.__name__}, Docstring: {method.__doc__}, Annotations: {method.fget.__annotations__}\")\n",
    "    else:\n",
    "        print(f\"Method: {method.__name__}, Docstring: {method.__doc__}, Annotations: {method.__annotations__}\")"
   ]
  },
  {
   "cell_type": "code",
   "execution_count": 52,
   "id": "8c744b21-e9ef-44d7-bd0b-f41180d228c1",
   "metadata": {},
   "outputs": [],
   "source": [
    "s_3 = Square()"
   ]
  },
  {
   "cell_type": "code",
   "execution_count": 53,
   "id": "ec11ca86-014f-4b4f-b5a2-f0be69242bf9",
   "metadata": {},
   "outputs": [
    {
     "name": "stdout",
     "output_type": "stream",
     "text": [
      "Square with side length: 1.0, area: 1.0, perimeter: 4.0\n"
     ]
    },
    {
     "data": {
      "text/plain": [
       "Square(side_length=1.0)"
      ]
     },
     "execution_count": 53,
     "metadata": {},
     "output_type": "execute_result"
    }
   ],
   "source": [
    "print(s_3)\n",
    "s_3"
   ]
  },
  {
   "cell_type": "markdown",
   "id": "947c48f6-7d58-4f02-8316-cfa3479fe39d",
   "metadata": {},
   "source": [
    "<center><span style=\"color:red; \n",
    "font-family:COPPER BLACK; \n",
    "font-weight:bold;\n",
    "font-size:35px;\">2. Rectangle</span></center"
   ]
  },
  {
   "cell_type": "code",
   "execution_count": 54,
   "id": "491980d9-3db0-4f6b-9c94-a1c4874b2a3f",
   "metadata": {},
   "outputs": [],
   "source": [
    "class Rectangle:\n",
    "    def __init__(self, width: float = 1.0, height: float = 1.0) -> None:\n",
    "        self.width = width\n",
    "        self.height = height\n",
    "    @property\n",
    "    def width(self) -> float:\n",
    "        return self._width\n",
    "    @width.setter\n",
    "    def width(self, value: float) -> None:\n",
    "         self._width = value\n",
    "    @property\n",
    "    def height(self) -> float:\n",
    "        return self._height\n",
    "    @height.setter\n",
    "    def height(self, value: float) -> None:\n",
    "        self._height = value\n",
    "    @property\n",
    "    def area(self) -> float:\n",
    "        return self.width * self.height\n",
    "    @property\n",
    "    def perimeter(self) -> float:\n",
    "        return 2 * (self.width + self.height)\n",
    "\n",
    "    def __repr__(self) -> str:\n",
    "        return f\"Rectangle(width={self.width}, height={self.height})\"\n",
    "\n",
    "    def __str__(self) -> str:\n",
    "        return f\"Rectangle with width: {self.width}, height: {self.height}, area: {self.area}, perimeter: {self.perimeter}\""
   ]
  },
  {
   "cell_type": "code",
   "execution_count": 55,
   "id": "01649cd9-30b7-4e10-b8d6-8871da587fb8",
   "metadata": {},
   "outputs": [],
   "source": [
    "R_1 = Rectangle(width=8, height=4)\n",
    "R_2 = Rectangle(width = 5,height = 2)"
   ]
  },
  {
   "cell_type": "code",
   "execution_count": 56,
   "id": "49c6200e-7ea6-4fec-a5b1-b45638ce2733",
   "metadata": {},
   "outputs": [
    {
     "name": "stdout",
     "output_type": "stream",
     "text": [
      "Rectangle with width: 8, height: 4, area: 32, perimeter: 24\n",
      "Rectangle with width: 5, height: 2, area: 10, perimeter: 14\n"
     ]
    }
   ],
   "source": [
    "print(R_1)\n",
    "print(R_2)"
   ]
  },
  {
   "cell_type": "code",
   "execution_count": 57,
   "id": "fd196948-937f-4c1a-9f30-55eaae6120af",
   "metadata": {},
   "outputs": [
    {
     "data": {
      "text/plain": [
       "Rectangle(width=8, height=4)"
      ]
     },
     "execution_count": 57,
     "metadata": {},
     "output_type": "execute_result"
    }
   ],
   "source": [
    "R_1"
   ]
  },
  {
   "cell_type": "code",
   "execution_count": 58,
   "id": "b1de3655-b824-4b69-af81-a4879ae3166d",
   "metadata": {},
   "outputs": [
    {
     "data": {
      "text/plain": [
       "Rectangle(width=5, height=2)"
      ]
     },
     "execution_count": 58,
     "metadata": {},
     "output_type": "execute_result"
    }
   ],
   "source": [
    "R_2"
   ]
  },
  {
   "cell_type": "code",
   "execution_count": 59,
   "id": "671e07ad-9dc0-48aa-a9d2-53cf8c925fd7",
   "metadata": {},
   "outputs": [
    {
     "name": "stdout",
     "output_type": "stream",
     "text": [
      "mappingproxy({'__dict__': <attribute '__dict__' of 'Rectangle' objects>,\n",
      "              '__doc__': None,\n",
      "              '__init__': <function Rectangle.__init__ at 0x0000019340C2D550>,\n",
      "              '__module__': '__main__',\n",
      "              '__repr__': <function Rectangle.__repr__ at 0x0000019340D09670>,\n",
      "              '__str__': <function Rectangle.__str__ at 0x0000019340D09700>,\n",
      "              '__weakref__': <attribute '__weakref__' of 'Rectangle' objects>,\n",
      "              'area': <property object at 0x0000019340D069F0>,\n",
      "              'height': <property object at 0x0000019340D0DE50>,\n",
      "              'perimeter': <property object at 0x0000019340D0DDB0>,\n",
      "              'width': <property object at 0x0000019340D0DE00>})\n"
     ]
    }
   ],
   "source": [
    "from pprint import pprint\n",
    "pprint(Rectangle.__dict__)"
   ]
  },
  {
   "cell_type": "code",
   "execution_count": 60,
   "id": "083bf0f9-1912-4c32-98d5-bbcefd42f14f",
   "metadata": {},
   "outputs": [
    {
     "name": "stdout",
     "output_type": "stream",
     "text": [
      "mappingproxy({'__dict__': <attribute '__dict__' of 'Rectangle' objects>,\n",
      "              '__doc__': None,\n",
      "              '__init__': <function Rectangle.__init__ at 0x0000019340C2D550>,\n",
      "              '__module__': '__main__',\n",
      "              '__repr__': <function Rectangle.__repr__ at 0x0000019340D09670>,\n",
      "              '__str__': <function Rectangle.__str__ at 0x0000019340D09700>,\n",
      "              '__weakref__': <attribute '__weakref__' of 'Rectangle' objects>,\n",
      "              'area': <property object at 0x0000019340D069F0>,\n",
      "              'height': <property object at 0x0000019340D0DE50>,\n",
      "              'perimeter': <property object at 0x0000019340D0DDB0>,\n",
      "              'width': <property object at 0x0000019340D0DE00>})\n"
     ]
    }
   ],
   "source": [
    "pprint(vars(Rectangle))"
   ]
  },
  {
   "cell_type": "code",
   "execution_count": 61,
   "id": "6c6df217-fd1a-4e7e-b53e-dc0b2711acb1",
   "metadata": {},
   "outputs": [
    {
     "name": "stdout",
     "output_type": "stream",
     "text": [
      "{'_width': 8, '_height': 4}\n",
      "{'_width': 5, '_height': 2}\n"
     ]
    }
   ],
   "source": [
    "print(R_1.__dict__)\n",
    "print(R_2.__dict__)"
   ]
  },
  {
   "cell_type": "code",
   "execution_count": 62,
   "id": "cf6541d4-db53-4292-8a4a-20bd0298c80c",
   "metadata": {},
   "outputs": [
    {
     "name": "stdout",
     "output_type": "stream",
     "text": [
      "Help on class Rectangle in module __main__:\n",
      "\n",
      "class Rectangle(builtins.object)\n",
      " |  Rectangle(width: float = 1.0, height: float = 1.0) -> None\n",
      " |  \n",
      " |  Methods defined here:\n",
      " |  \n",
      " |  __init__(self, width: float = 1.0, height: float = 1.0) -> None\n",
      " |      Initialize self.  See help(type(self)) for accurate signature.\n",
      " |  \n",
      " |  __repr__(self) -> str\n",
      " |      Return repr(self).\n",
      " |  \n",
      " |  __str__(self) -> str\n",
      " |      Return str(self).\n",
      " |  \n",
      " |  ----------------------------------------------------------------------\n",
      " |  Readonly properties defined here:\n",
      " |  \n",
      " |  area\n",
      " |  \n",
      " |  perimeter\n",
      " |  \n",
      " |  ----------------------------------------------------------------------\n",
      " |  Data descriptors defined here:\n",
      " |  \n",
      " |  __dict__\n",
      " |      dictionary for instance variables (if defined)\n",
      " |  \n",
      " |  __weakref__\n",
      " |      list of weak references to the object (if defined)\n",
      " |  \n",
      " |  height\n",
      " |  \n",
      " |  width\n",
      "\n"
     ]
    }
   ],
   "source": [
    "help(Rectangle)"
   ]
  },
  {
   "cell_type": "code",
   "execution_count": 63,
   "id": "8844912f-90f9-4730-bb0c-cb4a3bd6d0cc",
   "metadata": {},
   "outputs": [
    {
     "name": "stdout",
     "output_type": "stream",
     "text": [
      "None\n",
      "Method: __init__,   Docstring: None,   Annotations: {'width': <class 'float'>, 'height': <class 'float'>, 'return': None}\n",
      "Method: area,    Docstring: None,     Annotations: {'return': <class 'float'>}\n",
      "Method: perimeter,    Docstring: None,     Annotations: {'return': <class 'float'>}\n",
      "Method: __repr__,   Docstring: None,   Annotations: {'return': <class 'str'>}\n",
      "Method: __str__,   Docstring: None,   Annotations: {'return': <class 'str'>}\n"
     ]
    }
   ],
   "source": [
    "print(Rectangle.__doc__)\n",
    "for method in [\n",
    "    Rectangle.__init__,\n",
    "    Rectangle.area,\n",
    "    Rectangle.perimeter,\n",
    "    Rectangle.__repr__,\n",
    "    Rectangle.__str__,\n",
    "]:\n",
    "    if isinstance(method, property):\n",
    "        print(f\"Method: {method.fget.__name__},    Docstring: {method.__doc__},     Annotations: {method.fget.__annotations__}\")\n",
    "    else:\n",
    "        print(f\"Method: {method.__name__},   Docstring: {method.__doc__},   Annotations: {method.__annotations__}\")"
   ]
  },
  {
   "cell_type": "code",
   "execution_count": 64,
   "id": "4b221328-a9a0-4f3c-b865-e9108c5bb384",
   "metadata": {},
   "outputs": [
    {
     "name": "stdout",
     "output_type": "stream",
     "text": [
      "Rectangle with width: 1.0, height: 1.0, area: 1.0, perimeter: 4.0\n"
     ]
    },
    {
     "data": {
      "text/plain": [
       "Rectangle(width=1.0, height=1.0)"
      ]
     },
     "execution_count": 64,
     "metadata": {},
     "output_type": "execute_result"
    }
   ],
   "source": [
    "R_3 = Rectangle()\n",
    "print(R_3)\n",
    "R_3"
   ]
  },
  {
   "cell_type": "markdown",
   "id": "607d42f5-bae3-4e44-bae1-639e5d0b6f80",
   "metadata": {},
   "source": [
    "<center><span style=\"color:red; \n",
    "font-family:COPPER BLACK; \n",
    "font-weight:bold;\n",
    "font-size:35px;\">3. Triangle</span></center"
   ]
  },
  {
   "cell_type": "code",
   "execution_count": 65,
   "id": "d41b6b0b-47b3-4590-9506-b7c6d16ea8b8",
   "metadata": {},
   "outputs": [],
   "source": [
    "import math\n",
    "class Triangle:\n",
    "    def __init__(self, a: float = 1.0, b: float = 1.0, c: float = 1.0) -> None:\n",
    "        self.a = a\n",
    "        self.b = b\n",
    "        self.c = c\n",
    "\n",
    "    @property\n",
    "    def a(self) -> float:\n",
    "        return self._a\n",
    "\n",
    "    @a.setter\n",
    "    def a(self, value: float) -> None:\n",
    "        self._a = value\n",
    "\n",
    "    @property\n",
    "    def b(self) -> float:\n",
    "        return self._b\n",
    "\n",
    "    @b.setter\n",
    "    def b(self, value: float) -> None:\n",
    "        self._b = value\n",
    "\n",
    "    @property\n",
    "    def c(self) -> float:\n",
    "        return self._c\n",
    "\n",
    "    @c.setter\n",
    "    def c(self, value: float) -> None:\n",
    "        self._c = value\n",
    "\n",
    "    @property\n",
    "    def area(self) -> float:\n",
    "        s = (self.a + self.b + self.c) / 2\n",
    "        return math.sqrt(s * (s - self.a) * (s - self.b) * (s - self.c))\n",
    "\n",
    "    @property\n",
    "    def perimeter(self) -> float:\n",
    "        return self.a + self.b + self.c\n",
    "\n",
    "    def __repr__(self) -> str:\n",
    "        return f\"Triangle(a={self.a}, b={self.b}, c={self.c})\"\n",
    "\n",
    "    def __str__(self) -> str:\n",
    "        return (f\"Triangle with sides: a={self.a}, b={self.b}, c={self.c},area: {self.area:.2f}, perimeter: {self.perimeter}\")"
   ]
  },
  {
   "cell_type": "code",
   "execution_count": 66,
   "id": "fc8216c3-de20-42b7-a836-10cbfd4b06aa",
   "metadata": {},
   "outputs": [],
   "source": [
    "T_1= Triangle(a=3, b=4, c=5)\n",
    "T_2 = Triangle(a = 7, b = 3, c=6)"
   ]
  },
  {
   "cell_type": "code",
   "execution_count": 67,
   "id": "5538f4c1-9249-4786-88ff-29b3339fbafc",
   "metadata": {},
   "outputs": [
    {
     "name": "stdout",
     "output_type": "stream",
     "text": [
      "Triangle with sides: a=3, b=4, c=5,area: 6.00, perimeter: 12\n",
      "Triangle with sides: a=7, b=3, c=6,area: 8.94, perimeter: 16\n"
     ]
    }
   ],
   "source": [
    "print(T_1)\n",
    "print(T_2)"
   ]
  },
  {
   "cell_type": "code",
   "execution_count": 68,
   "id": "3eb54e71-5b4f-4ebd-a858-bf581822dc9c",
   "metadata": {},
   "outputs": [
    {
     "data": {
      "text/plain": [
       "Triangle(a=3, b=4, c=5)"
      ]
     },
     "execution_count": 68,
     "metadata": {},
     "output_type": "execute_result"
    }
   ],
   "source": [
    "T_1"
   ]
  },
  {
   "cell_type": "code",
   "execution_count": 69,
   "id": "67b9958c-dba2-4eee-af89-d813ba54aa00",
   "metadata": {},
   "outputs": [
    {
     "data": {
      "text/plain": [
       "Triangle(a=7, b=3, c=6)"
      ]
     },
     "execution_count": 69,
     "metadata": {},
     "output_type": "execute_result"
    }
   ],
   "source": [
    "T_2"
   ]
  },
  {
   "cell_type": "code",
   "execution_count": 70,
   "id": "7ee71621-b881-44c6-bda0-5246cff87a90",
   "metadata": {},
   "outputs": [
    {
     "name": "stdout",
     "output_type": "stream",
     "text": [
      "mappingproxy({'__dict__': <attribute '__dict__' of 'Triangle' objects>,\n",
      "              '__doc__': None,\n",
      "              '__init__': <function Triangle.__init__ at 0x0000019340CFC9D0>,\n",
      "              '__module__': '__main__',\n",
      "              '__repr__': <function Triangle.__repr__ at 0x0000019340D099D0>,\n",
      "              '__str__': <function Triangle.__str__ at 0x0000019340D090D0>,\n",
      "              '__weakref__': <attribute '__weakref__' of 'Triangle' objects>,\n",
      "              'a': <property object at 0x0000019340D1B6D0>,\n",
      "              'area': <property object at 0x0000019340D0D540>,\n",
      "              'b': <property object at 0x0000019340D1B720>,\n",
      "              'c': <property object at 0x0000019340D1B770>,\n",
      "              'perimeter': <property object at 0x0000019340D1B680>})\n"
     ]
    }
   ],
   "source": [
    "from pprint import pprint\n",
    "pprint(Triangle.__dict__)"
   ]
  },
  {
   "cell_type": "code",
   "execution_count": 71,
   "id": "ec4e8b14-a43f-4aac-8b96-c7d2e3b02c51",
   "metadata": {},
   "outputs": [
    {
     "name": "stdout",
     "output_type": "stream",
     "text": [
      "mappingproxy({'__dict__': <attribute '__dict__' of 'Triangle' objects>,\n",
      "              '__doc__': None,\n",
      "              '__init__': <function Triangle.__init__ at 0x0000019340CFC9D0>,\n",
      "              '__module__': '__main__',\n",
      "              '__repr__': <function Triangle.__repr__ at 0x0000019340D099D0>,\n",
      "              '__str__': <function Triangle.__str__ at 0x0000019340D090D0>,\n",
      "              '__weakref__': <attribute '__weakref__' of 'Triangle' objects>,\n",
      "              'a': <property object at 0x0000019340D1B6D0>,\n",
      "              'area': <property object at 0x0000019340D0D540>,\n",
      "              'b': <property object at 0x0000019340D1B720>,\n",
      "              'c': <property object at 0x0000019340D1B770>,\n",
      "              'perimeter': <property object at 0x0000019340D1B680>})\n"
     ]
    }
   ],
   "source": [
    "pprint(vars(Triangle))"
   ]
  },
  {
   "cell_type": "code",
   "execution_count": 72,
   "id": "ac1fb2e6-6a60-4299-82b4-7567be575710",
   "metadata": {},
   "outputs": [
    {
     "name": "stdout",
     "output_type": "stream",
     "text": [
      "{'_a': 3, '_b': 4, '_c': 5}\n",
      "{'_a': 7, '_b': 3, '_c': 6}\n"
     ]
    }
   ],
   "source": [
    "print(T_1.__dict__)\n",
    "print(T_2.__dict__)"
   ]
  },
  {
   "cell_type": "code",
   "execution_count": 73,
   "id": "df74b09d-a3ef-4265-8603-f9e176c52b3a",
   "metadata": {},
   "outputs": [
    {
     "name": "stdout",
     "output_type": "stream",
     "text": [
      "Help on class Triangle in module __main__:\n",
      "\n",
      "class Triangle(builtins.object)\n",
      " |  Triangle(a: float = 1.0, b: float = 1.0, c: float = 1.0) -> None\n",
      " |  \n",
      " |  Methods defined here:\n",
      " |  \n",
      " |  __init__(self, a: float = 1.0, b: float = 1.0, c: float = 1.0) -> None\n",
      " |      Initialize self.  See help(type(self)) for accurate signature.\n",
      " |  \n",
      " |  __repr__(self) -> str\n",
      " |      Return repr(self).\n",
      " |  \n",
      " |  __str__(self) -> str\n",
      " |      Return str(self).\n",
      " |  \n",
      " |  ----------------------------------------------------------------------\n",
      " |  Readonly properties defined here:\n",
      " |  \n",
      " |  area\n",
      " |  \n",
      " |  perimeter\n",
      " |  \n",
      " |  ----------------------------------------------------------------------\n",
      " |  Data descriptors defined here:\n",
      " |  \n",
      " |  __dict__\n",
      " |      dictionary for instance variables (if defined)\n",
      " |  \n",
      " |  __weakref__\n",
      " |      list of weak references to the object (if defined)\n",
      " |  \n",
      " |  a\n",
      " |  \n",
      " |  b\n",
      " |  \n",
      " |  c\n",
      "\n"
     ]
    }
   ],
   "source": [
    "help(Triangle)"
   ]
  },
  {
   "cell_type": "code",
   "execution_count": 74,
   "id": "7c2deff8-552f-4f20-9418-50202dd73717",
   "metadata": {},
   "outputs": [
    {
     "name": "stdout",
     "output_type": "stream",
     "text": [
      "None\n",
      "Method: __init__,   Docstring: None,   Annotations: {'a': <class 'float'>, 'b': <class 'float'>, 'c': <class 'float'>, 'return': None}\n",
      "Method: area,   Docstring: None,   Annotations: {'return': <class 'float'>}\n",
      "Method: perimeter,   Docstring: None,   Annotations: {'return': <class 'float'>}\n",
      "Method: __repr__,   Docstring: None,   Annotations: {'return': <class 'str'>}\n",
      "Method: __str__,   Docstring: None,   Annotations: {'return': <class 'str'>}\n"
     ]
    }
   ],
   "source": [
    "print(Triangle.__doc__)\n",
    "for method in [\n",
    "    Triangle.__init__,\n",
    "    Triangle.area,\n",
    "    Triangle.perimeter,\n",
    "    Triangle.__repr__,\n",
    "    Triangle.__str__,\n",
    "]:\n",
    "    if isinstance(method, property):\n",
    "        print(f\"Method: {method.fget.__name__},   Docstring: {method.__doc__},   Annotations: {method.fget.__annotations__}\")\n",
    "    else:\n",
    "        print(f\"Method: {method.__name__},   Docstring: {method.__doc__},   Annotations: {method.__annotations__}\")"
   ]
  },
  {
   "cell_type": "code",
   "execution_count": 75,
   "id": "43d767ab-28a8-4c44-9d8e-4ec22acae776",
   "metadata": {},
   "outputs": [
    {
     "name": "stdout",
     "output_type": "stream",
     "text": [
      "Triangle with sides: a=1.0, b=1.0, c=1.0,area: 0.43, perimeter: 3.0\n"
     ]
    },
    {
     "data": {
      "text/plain": [
       "Triangle(a=1.0, b=1.0, c=1.0)"
      ]
     },
     "execution_count": 75,
     "metadata": {},
     "output_type": "execute_result"
    }
   ],
   "source": [
    "T_3 = Triangle()\n",
    "print(T_3)\n",
    "T_3"
   ]
  },
  {
   "cell_type": "markdown",
   "id": "0bcf8f0a-1f6e-487f-becf-82a01879f979",
   "metadata": {},
   "source": [
    "<center><span style=\"color:red; \n",
    "font-family:COPPER BLACK; \n",
    "font-weight:bold;\n",
    "font-size:35px;\">4. Trapezoid</span></center"
   ]
  },
  {
   "cell_type": "code",
   "execution_count": 76,
   "id": "f324d118-0bda-4fa5-bcb8-081b769cbfba",
   "metadata": {},
   "outputs": [],
   "source": [
    "class Trapezoid:\n",
    "    def __init__(self, base1: float = 1.0, base2: float = 1.0, height: float = 1.0) -> None:\n",
    "        self.base1 = base1\n",
    "        self.base2 = base2\n",
    "        self.height = height\n",
    "\n",
    "    @property\n",
    "    def base1(self) -> float:\n",
    "        return self._base1\n",
    "\n",
    "    @base1.setter\n",
    "    def base1(self, value: float) -> None:\n",
    "        self._base1 = value\n",
    "\n",
    "    @property\n",
    "    def base2(self) -> float:\n",
    "        return self._base2\n",
    "\n",
    "    @base2.setter\n",
    "    def base2(self, value: float) -> None:\n",
    "        self._base2 = value\n",
    "\n",
    "    @property\n",
    "    def height(self) -> float:\n",
    "        return self._height\n",
    "\n",
    "    @height.setter\n",
    "    def height(self, value: float) -> None:\n",
    "        self._height = value\n",
    "\n",
    "    @property\n",
    "    def area(self) -> float:\n",
    "        return (self.base1 + self.base2) * self.height / 2\n",
    "\n",
    "    @property\n",
    "    def perimeter(self) -> float:\n",
    "        raise NotImplementedError\n",
    "\n",
    "    def __repr__(self) -> str:\n",
    "        return f\"Trapezoid(base1={self.base1}, base2={self.base2}, height={self.height})\"\n",
    "\n",
    "    def __str__(self) -> str:\n",
    "        return (f\"Trapezoid with base1: {self.base1}, base2: {self.base2},height: {self.height}, area: {self.area}\")"
   ]
  },
  {
   "cell_type": "code",
   "execution_count": 77,
   "id": "1dde9609-952f-4c32-901d-55bb33f49376",
   "metadata": {},
   "outputs": [],
   "source": [
    "tr_1 = Trapezoid(4, 7, 11)\n",
    "tr_2 = Trapezoid(2, 8, 7)"
   ]
  },
  {
   "cell_type": "code",
   "execution_count": 78,
   "id": "bdf13e4c-78be-4130-a339-929f7d2db8b6",
   "metadata": {},
   "outputs": [
    {
     "name": "stdout",
     "output_type": "stream",
     "text": [
      "Trapezoid with base1: 4, base2: 7,height: 11, area: 60.5\n",
      "Trapezoid with base1: 2, base2: 8,height: 7, area: 35.0\n"
     ]
    }
   ],
   "source": [
    "print(tr_1)\n",
    "print(tr_2)"
   ]
  },
  {
   "cell_type": "code",
   "execution_count": 79,
   "id": "d5f83fed-dcee-4f85-91d1-3234406655c0",
   "metadata": {},
   "outputs": [
    {
     "data": {
      "text/plain": [
       "Trapezoid(base1=4, base2=7, height=11)"
      ]
     },
     "execution_count": 79,
     "metadata": {},
     "output_type": "execute_result"
    }
   ],
   "source": [
    "tr_1"
   ]
  },
  {
   "cell_type": "code",
   "execution_count": 80,
   "id": "b3dcec49-622d-479f-95b4-1ab4d6153cc0",
   "metadata": {},
   "outputs": [
    {
     "data": {
      "text/plain": [
       "Trapezoid(base1=2, base2=8, height=7)"
      ]
     },
     "execution_count": 80,
     "metadata": {},
     "output_type": "execute_result"
    }
   ],
   "source": [
    "tr_2"
   ]
  },
  {
   "cell_type": "code",
   "execution_count": 81,
   "id": "37c822fc-10ec-4b61-8a54-1739eee3e457",
   "metadata": {},
   "outputs": [
    {
     "name": "stdout",
     "output_type": "stream",
     "text": [
      "mappingproxy({'__dict__': <attribute '__dict__' of 'Trapezoid' objects>,\n",
      "              '__doc__': None,\n",
      "              '__init__': <function Trapezoid.__init__ at 0x0000019340D09A60>,\n",
      "              '__module__': '__main__',\n",
      "              '__repr__': <function Trapezoid.__repr__ at 0x0000019340D1C310>,\n",
      "              '__str__': <function Trapezoid.__str__ at 0x0000019340D1C3A0>,\n",
      "              '__weakref__': <attribute '__weakref__' of 'Trapezoid' objects>,\n",
      "              'area': <property object at 0x0000019340D0D090>,\n",
      "              'base1': <property object at 0x0000019340D21770>,\n",
      "              'base2': <property object at 0x0000019340D217C0>,\n",
      "              'height': <property object at 0x0000019340D21810>,\n",
      "              'perimeter': <property object at 0x0000019340D21720>})\n"
     ]
    }
   ],
   "source": [
    "from pprint import pprint\n",
    "pprint(Trapezoid.__dict__)"
   ]
  },
  {
   "cell_type": "code",
   "execution_count": 82,
   "id": "470d2826-ffc7-4777-bca9-9668fbed871c",
   "metadata": {},
   "outputs": [
    {
     "name": "stdout",
     "output_type": "stream",
     "text": [
      "mappingproxy({'__dict__': <attribute '__dict__' of 'Trapezoid' objects>,\n",
      "              '__doc__': None,\n",
      "              '__init__': <function Trapezoid.__init__ at 0x0000019340D09A60>,\n",
      "              '__module__': '__main__',\n",
      "              '__repr__': <function Trapezoid.__repr__ at 0x0000019340D1C310>,\n",
      "              '__str__': <function Trapezoid.__str__ at 0x0000019340D1C3A0>,\n",
      "              '__weakref__': <attribute '__weakref__' of 'Trapezoid' objects>,\n",
      "              'area': <property object at 0x0000019340D0D090>,\n",
      "              'base1': <property object at 0x0000019340D21770>,\n",
      "              'base2': <property object at 0x0000019340D217C0>,\n",
      "              'height': <property object at 0x0000019340D21810>,\n",
      "              'perimeter': <property object at 0x0000019340D21720>})\n"
     ]
    }
   ],
   "source": [
    "pprint(vars(Trapezoid))"
   ]
  },
  {
   "cell_type": "code",
   "execution_count": 83,
   "id": "070a0863-6b8b-45c7-9f8e-d656aed10212",
   "metadata": {},
   "outputs": [
    {
     "name": "stdout",
     "output_type": "stream",
     "text": [
      "{'_base1': 4, '_base2': 7, '_height': 11}\n",
      "{'_base1': 2, '_base2': 8, '_height': 7}\n"
     ]
    }
   ],
   "source": [
    "print(tr_1.__dict__)\n",
    "print(tr_2.__dict__)"
   ]
  },
  {
   "cell_type": "code",
   "execution_count": 84,
   "id": "81ee7bcc-553a-4eb2-a094-a86ba03228af",
   "metadata": {},
   "outputs": [
    {
     "name": "stdout",
     "output_type": "stream",
     "text": [
      "Help on class Trapezoid in module __main__:\n",
      "\n",
      "class Trapezoid(builtins.object)\n",
      " |  Trapezoid(base1: float = 1.0, base2: float = 1.0, height: float = 1.0) -> None\n",
      " |  \n",
      " |  Methods defined here:\n",
      " |  \n",
      " |  __init__(self, base1: float = 1.0, base2: float = 1.0, height: float = 1.0) -> None\n",
      " |      Initialize self.  See help(type(self)) for accurate signature.\n",
      " |  \n",
      " |  __repr__(self) -> str\n",
      " |      Return repr(self).\n",
      " |  \n",
      " |  __str__(self) -> str\n",
      " |      Return str(self).\n",
      " |  \n",
      " |  ----------------------------------------------------------------------\n",
      " |  Readonly properties defined here:\n",
      " |  \n",
      " |  area\n",
      " |  \n",
      " |  perimeter\n",
      " |  \n",
      " |  ----------------------------------------------------------------------\n",
      " |  Data descriptors defined here:\n",
      " |  \n",
      " |  __dict__\n",
      " |      dictionary for instance variables (if defined)\n",
      " |  \n",
      " |  __weakref__\n",
      " |      list of weak references to the object (if defined)\n",
      " |  \n",
      " |  base1\n",
      " |  \n",
      " |  base2\n",
      " |  \n",
      " |  height\n",
      "\n"
     ]
    }
   ],
   "source": [
    "help(Trapezoid)"
   ]
  },
  {
   "cell_type": "code",
   "execution_count": 85,
   "id": "52b41547-76ba-48aa-bd9f-edbc96631fa0",
   "metadata": {},
   "outputs": [
    {
     "name": "stdout",
     "output_type": "stream",
     "text": [
      "None\n",
      "Method: __init__,   Docstring: None,   Annotations: {'base1': <class 'float'>, 'base2': <class 'float'>, 'height': <class 'float'>, 'return': None}\n",
      "(Method: area),  (Docstring: None),  (Annotations: {'return': <class 'float'>})\n",
      "(Method: perimeter),  (Docstring: None),  (Annotations: {'return': <class 'float'>})\n",
      "Method: __repr__,   Docstring: None,   Annotations: {'return': <class 'str'>}\n",
      "Method: __str__,   Docstring: None,   Annotations: {'return': <class 'str'>}\n"
     ]
    }
   ],
   "source": [
    "print(Trapezoid.__doc__)\n",
    "for method in [\n",
    "    Trapezoid.__init__,\n",
    "    Trapezoid.area,\n",
    "    Trapezoid.perimeter,\n",
    "    Trapezoid.__repr__,\n",
    "    Trapezoid.__str__,\n",
    "]:\n",
    "    if isinstance(method, property):\n",
    "        print(f\"(Method: {method.fget.__name__}),  (Docstring: {method.__doc__}),  (Annotations: {method.fget.__annotations__})\")\n",
    "    else:\n",
    "        print(f\"Method: {method.__name__},   Docstring: {method.__doc__},   Annotations: {method.__annotations__}\")"
   ]
  },
  {
   "cell_type": "code",
   "execution_count": 86,
   "id": "a0b53add-4661-4af2-9761-d5667840f58b",
   "metadata": {},
   "outputs": [
    {
     "name": "stdout",
     "output_type": "stream",
     "text": [
      "Trapezoid with base1: 5, base2: 9,height: 2, area: 14.0\n"
     ]
    },
    {
     "data": {
      "text/plain": [
       "Trapezoid(base1=5, base2=9, height=2)"
      ]
     },
     "execution_count": 86,
     "metadata": {},
     "output_type": "execute_result"
    }
   ],
   "source": [
    "tr_3 = Trapezoid(5, 9, 2)\n",
    "print(tr_3)\n",
    "tr_3"
   ]
  },
  {
   "cell_type": "markdown",
   "id": "ceedbb8f-4de4-433a-9e02-cc72187a3667",
   "metadata": {},
   "source": [
    "<center><span style=\"color:red; \n",
    "font-family:COPPER BLACK; \n",
    "font-weight:bold;\n",
    "font-size:35px;\">5. Parallelogram</span></center"
   ]
  },
  {
   "cell_type": "code",
   "execution_count": 87,
   "id": "bd8cc511-e7fe-4434-9d6b-161eb3c4ee7a",
   "metadata": {},
   "outputs": [],
   "source": [
    "class Parallelogram:\n",
    "    def __init__(self, base: float = 1.0, height: float = 1.0) -> None:\n",
    "        self.base = base\n",
    "        self.height = height\n",
    "\n",
    "    @property\n",
    "    def base(self) -> float:\n",
    "        return self._base\n",
    "\n",
    "    @base.setter\n",
    "    def base(self, value: float) -> None:\n",
    "        self._base = value\n",
    "\n",
    "    @property\n",
    "    def height(self) -> float:\n",
    "        return self._height\n",
    "\n",
    "    @height.setter\n",
    "    def height(self, value: float) -> None:\n",
    "        self._height = value\n",
    "\n",
    "    @property\n",
    "    def area(self) -> float:\n",
    "        return self.base * self.height\n",
    "\n",
    "    @property\n",
    "    def perimeter(self) -> float:\n",
    "        return 2 * (self.base + self.height)\n",
    "    @staticmethod\n",
    "    def calculate_area(base: float, height: float) -> float:\n",
    "        return base * height\n",
    "    @classmethod\n",
    "    def from_side_and_angle(cls, side: float, angle_degrees: float) -> 'Parallelogram':\n",
    "       \n",
    "        height = side * math.sin(math.radians(angle_degrees))\n",
    "        return cls(base=side, height=height)   \n",
    "    def __repr__(self) -> str:\n",
    "        return f\"Parallelogram(base={self.base}, height={self.height})\"\n",
    "    def __str__(self) -> str:\n",
    "        return (f\"Parallelogram with base: {self.base}, height: {self.height}, \"\n",
    "                f\"area: {self.area}\")"
   ]
  },
  {
   "cell_type": "code",
   "execution_count": 88,
   "id": "02f6dd8c-f0f0-4152-b6d5-1090b8050c09",
   "metadata": {},
   "outputs": [],
   "source": [
    "p_1 = Parallelogram(8, 8)\n",
    "p_2 = Parallelogram(7, 7)"
   ]
  },
  {
   "cell_type": "code",
   "execution_count": 89,
   "id": "be3fac51-d274-465c-8910-ab4e5d0e427b",
   "metadata": {},
   "outputs": [
    {
     "name": "stdout",
     "output_type": "stream",
     "text": [
      "Parallelogram with base: 8, height: 8, area: 64\n",
      "Parallelogram with base: 7, height: 7, area: 49\n"
     ]
    }
   ],
   "source": [
    "print(p_1)\n",
    "print(p_2)"
   ]
  },
  {
   "cell_type": "code",
   "execution_count": 90,
   "id": "6eb0aacc-c30e-403f-a464-d55f8747ba2c",
   "metadata": {},
   "outputs": [
    {
     "data": {
      "text/plain": [
       "Parallelogram(base=8, height=8)"
      ]
     },
     "execution_count": 90,
     "metadata": {},
     "output_type": "execute_result"
    }
   ],
   "source": [
    "p_1"
   ]
  },
  {
   "cell_type": "code",
   "execution_count": 91,
   "id": "cf33688f-b656-4b5d-b4a5-bcee85ea9fc8",
   "metadata": {},
   "outputs": [
    {
     "data": {
      "text/plain": [
       "Parallelogram(base=7, height=7)"
      ]
     },
     "execution_count": 91,
     "metadata": {},
     "output_type": "execute_result"
    }
   ],
   "source": [
    "p_2"
   ]
  },
  {
   "cell_type": "code",
   "execution_count": 92,
   "id": "397b143a-0fe6-4dbd-a74e-c513db5ebce1",
   "metadata": {},
   "outputs": [
    {
     "name": "stdout",
     "output_type": "stream",
     "text": [
      "mappingproxy({'__dict__': <attribute '__dict__' of 'Parallelogram' objects>,\n",
      "              '__doc__': None,\n",
      "              '__init__': <function Parallelogram.__init__ at 0x0000019340CC05E0>,\n",
      "              '__module__': '__main__',\n",
      "              '__repr__': <function Parallelogram.__repr__ at 0x0000019340D1CAF0>,\n",
      "              '__str__': <function Parallelogram.__str__ at 0x0000019340D1CB80>,\n",
      "              '__weakref__': <attribute '__weakref__' of 'Parallelogram' objects>,\n",
      "              'area': <property object at 0x0000019340D17540>,\n",
      "              'base': <property object at 0x0000019340D2C540>,\n",
      "              'calculate_area': <staticmethod object at 0x0000019340D26F70>,\n",
      "              'from_side_and_angle': <classmethod object at 0x0000019340D26FA0>,\n",
      "              'height': <property object at 0x0000019340D2C590>,\n",
      "              'perimeter': <property object at 0x0000019340D2C4F0>})\n"
     ]
    }
   ],
   "source": [
    "from pprint  import pprint\n",
    "pprint(Parallelogram.__dict__)"
   ]
  },
  {
   "cell_type": "code",
   "execution_count": 93,
   "id": "1a020dee-5463-4b03-b6ce-63a7f956b475",
   "metadata": {},
   "outputs": [
    {
     "name": "stdout",
     "output_type": "stream",
     "text": [
      "mappingproxy({'__dict__': <attribute '__dict__' of 'Parallelogram' objects>,\n",
      "              '__doc__': None,\n",
      "              '__init__': <function Parallelogram.__init__ at 0x0000019340CC05E0>,\n",
      "              '__module__': '__main__',\n",
      "              '__repr__': <function Parallelogram.__repr__ at 0x0000019340D1CAF0>,\n",
      "              '__str__': <function Parallelogram.__str__ at 0x0000019340D1CB80>,\n",
      "              '__weakref__': <attribute '__weakref__' of 'Parallelogram' objects>,\n",
      "              'area': <property object at 0x0000019340D17540>,\n",
      "              'base': <property object at 0x0000019340D2C540>,\n",
      "              'calculate_area': <staticmethod object at 0x0000019340D26F70>,\n",
      "              'from_side_and_angle': <classmethod object at 0x0000019340D26FA0>,\n",
      "              'height': <property object at 0x0000019340D2C590>,\n",
      "              'perimeter': <property object at 0x0000019340D2C4F0>})\n"
     ]
    }
   ],
   "source": [
    "pprint(vars(Parallelogram))"
   ]
  },
  {
   "cell_type": "code",
   "execution_count": 94,
   "id": "14f73672-a47b-40a6-9dc3-4a75b8cccaba",
   "metadata": {},
   "outputs": [
    {
     "name": "stdout",
     "output_type": "stream",
     "text": [
      "Help on class Parallelogram in module __main__:\n",
      "\n",
      "class Parallelogram(builtins.object)\n",
      " |  Parallelogram(base: float = 1.0, height: float = 1.0) -> None\n",
      " |  \n",
      " |  Methods defined here:\n",
      " |  \n",
      " |  __init__(self, base: float = 1.0, height: float = 1.0) -> None\n",
      " |      Initialize self.  See help(type(self)) for accurate signature.\n",
      " |  \n",
      " |  __repr__(self) -> str\n",
      " |      Return repr(self).\n",
      " |  \n",
      " |  __str__(self) -> str\n",
      " |      Return str(self).\n",
      " |  \n",
      " |  ----------------------------------------------------------------------\n",
      " |  Class methods defined here:\n",
      " |  \n",
      " |  from_side_and_angle(side: float, angle_degrees: float) -> 'Parallelogram' from builtins.type\n",
      " |  \n",
      " |  ----------------------------------------------------------------------\n",
      " |  Static methods defined here:\n",
      " |  \n",
      " |  calculate_area(base: float, height: float) -> float\n",
      " |  \n",
      " |  ----------------------------------------------------------------------\n",
      " |  Readonly properties defined here:\n",
      " |  \n",
      " |  area\n",
      " |  \n",
      " |  perimeter\n",
      " |  \n",
      " |  ----------------------------------------------------------------------\n",
      " |  Data descriptors defined here:\n",
      " |  \n",
      " |  __dict__\n",
      " |      dictionary for instance variables (if defined)\n",
      " |  \n",
      " |  __weakref__\n",
      " |      list of weak references to the object (if defined)\n",
      " |  \n",
      " |  base\n",
      " |  \n",
      " |  height\n",
      "\n"
     ]
    }
   ],
   "source": [
    "help(Parallelogram)"
   ]
  },
  {
   "cell_type": "code",
   "execution_count": 95,
   "id": "27f9e5a2-d3a4-4968-954f-ffd68a061ce1",
   "metadata": {},
   "outputs": [
    {
     "name": "stdout",
     "output_type": "stream",
     "text": [
      "{'_base': 8, '_height': 8}\n",
      "{'_base': 7, '_height': 7}\n"
     ]
    }
   ],
   "source": [
    "print(p_1.__dict__)\n",
    "print(p_2.__dict__)"
   ]
  },
  {
   "cell_type": "code",
   "execution_count": 96,
   "id": "d8fbd2d3-a6da-4e43-8ae5-e5392d0519c3",
   "metadata": {},
   "outputs": [
    {
     "name": "stdout",
     "output_type": "stream",
     "text": [
      "None\n",
      "\n",
      "Method: __init__,   Docstring: None,   Annotations: {'base': <class 'float'>, 'height': <class 'float'>, 'return': None}\n",
      "(Method: area),  (Docstring: None),  (Annotations: {'return': <class 'float'>})\n",
      "(Method: perimeter),  (Docstring: None),  (Annotations: {'return': <class 'float'>})\n",
      "Method: calculate_area,   Docstring: None,   Annotations: {'base': <class 'float'>, 'height': <class 'float'>, 'return': <class 'float'>}\n",
      "Method: from_side_and_angle,   Docstring: None,   Annotations: {'side': <class 'float'>, 'angle_degrees': <class 'float'>, 'return': 'Parallelogram'}\n",
      "Method: __repr__,   Docstring: None,   Annotations: {'return': <class 'str'>}\n",
      "Method: __str__,   Docstring: None,   Annotations: {'return': <class 'str'>}\n"
     ]
    }
   ],
   "source": [
    "print(Parallelogram.__doc__)\n",
    "print()\n",
    "for method in [\n",
    "    Parallelogram.__init__,\n",
    "    Parallelogram.area,\n",
    "    Parallelogram.perimeter,\n",
    "    Parallelogram.calculate_area,\n",
    "    Parallelogram.from_side_and_angle,\n",
    "    Parallelogram.__repr__,    \n",
    "    Parallelogram.__str__,\n",
    "]:\n",
    "    if isinstance(method, property):\n",
    "        print(f\"(Method: {method.fget.__name__}),  (Docstring: {method.__doc__}),  (Annotations: {method.fget.__annotations__})\")\n",
    "    else:\n",
    "        print(f\"Method: {method.__name__},   Docstring: {method.__doc__},   Annotations: {method.__annotations__}\")"
   ]
  },
  {
   "cell_type": "code",
   "execution_count": 97,
   "id": "be1fb7f1-69a4-49b8-a2d5-403ee5ffeb83",
   "metadata": {},
   "outputs": [
    {
     "name": "stdout",
     "output_type": "stream",
     "text": [
      "Parallelogram with base: 8, height: 8, area: 64\n"
     ]
    },
    {
     "data": {
      "text/plain": [
       "Parallelogram(base=8, height=8)"
      ]
     },
     "execution_count": 97,
     "metadata": {},
     "output_type": "execute_result"
    }
   ],
   "source": [
    "p_3 = Parallelogram(8,8)\n",
    "print(p_3)\n",
    "p_3"
   ]
  },
  {
   "cell_type": "markdown",
   "id": "3f9ed1a7-f972-4751-bac3-e7407752c678",
   "metadata": {},
   "source": [
    "<center><span style=\"color:red; \n",
    "font-family:COPPER BLACK; \n",
    "font-weight:bold;\n",
    "font-size:35px;\">6. Rhombus</span></center"
   ]
  },
  {
   "cell_type": "code",
   "execution_count": 98,
   "id": "3f840207-53b5-4770-9114-9df3a5120af2",
   "metadata": {},
   "outputs": [],
   "source": [
    "class Rhombus:\n",
    "    def __init__(self, side_length: float = 1.0, height: float = 1.0) -> None:\n",
    "        self.side_length = side_length\n",
    "        self.height = height\n",
    "\n",
    "    @property\n",
    "    def side_length(self) -> float:\n",
    "        return self._side_length\n",
    "\n",
    "    @side_length.setter\n",
    "    def side_length(self, value: float) -> None:\n",
    "        self._side_length = value\n",
    "\n",
    "    @property\n",
    "    def height(self) -> float:\n",
    "        return self._height\n",
    "\n",
    "    @height.setter\n",
    "    def height(self, value: float) -> None:\n",
    "        self._height = value\n",
    "\n",
    "    @property\n",
    "    def area(self) -> float:\n",
    "        return self.side_length * self.height\n",
    "\n",
    "    @property\n",
    "    def perimeter(self) -> float:\n",
    "        return 4 * self.side_length\n",
    "\n",
    "    def __repr__(self) -> str:\n",
    "        return f\"Rhombus(side_length={self.side_length}, height={self.height})\"\n",
    "\n",
    "    def __str__(self) -> str:\n",
    "        return f\"Rhombus with side length {self.side_length} and height {self.height}\""
   ]
  },
  {
   "cell_type": "code",
   "execution_count": 99,
   "id": "7f28d765-1011-4825-84e0-b2b60538e68b",
   "metadata": {},
   "outputs": [],
   "source": [
    "R_1 = Rhombus(8,3 )\n",
    "R_2 = Rhombus(6,2)"
   ]
  },
  {
   "cell_type": "code",
   "execution_count": 100,
   "id": "4ff9f66c-ae17-4079-b8eb-797a64bd5c8a",
   "metadata": {},
   "outputs": [
    {
     "name": "stdout",
     "output_type": "stream",
     "text": [
      "Rhombus with side length 8 and height 3\n",
      "Rhombus with side length 6 and height 2\n"
     ]
    }
   ],
   "source": [
    "print(R_1)\n",
    "print(R_2)"
   ]
  },
  {
   "cell_type": "code",
   "execution_count": 101,
   "id": "2c0cf5d5-573f-4dc3-8cc4-2e8ae35b9ba2",
   "metadata": {},
   "outputs": [
    {
     "data": {
      "text/plain": [
       "Rhombus(side_length=8, height=3)"
      ]
     },
     "execution_count": 101,
     "metadata": {},
     "output_type": "execute_result"
    }
   ],
   "source": [
    "R_1"
   ]
  },
  {
   "cell_type": "code",
   "execution_count": 102,
   "id": "d4730515-5f4e-4970-a913-6c1bbe679ae7",
   "metadata": {},
   "outputs": [
    {
     "data": {
      "text/plain": [
       "Rhombus(side_length=6, height=2)"
      ]
     },
     "execution_count": 102,
     "metadata": {},
     "output_type": "execute_result"
    }
   ],
   "source": [
    "R_2"
   ]
  },
  {
   "cell_type": "code",
   "execution_count": 103,
   "id": "daec2f1a-7737-4462-bc0b-ac961add631d",
   "metadata": {},
   "outputs": [
    {
     "name": "stdout",
     "output_type": "stream",
     "text": [
      "mappingproxy({'__dict__': <attribute '__dict__' of 'Rhombus' objects>,\n",
      "              '__doc__': None,\n",
      "              '__init__': <function Rhombus.__init__ at 0x0000019340D241F0>,\n",
      "              '__module__': '__main__',\n",
      "              '__repr__': <function Rhombus.__repr__ at 0x0000019340D24550>,\n",
      "              '__str__': <function Rhombus.__str__ at 0x0000019340D245E0>,\n",
      "              '__weakref__': <attribute '__weakref__' of 'Rhombus' objects>,\n",
      "              'area': <property object at 0x0000019340D25090>,\n",
      "              'height': <property object at 0x0000019340D280E0>,\n",
      "              'perimeter': <property object at 0x0000019340D28040>,\n",
      "              'side_length': <property object at 0x0000019340D28090>})\n"
     ]
    }
   ],
   "source": [
    "from pprint import pprint \n",
    "pprint(Rhombus.__dict__)"
   ]
  },
  {
   "cell_type": "code",
   "execution_count": 104,
   "id": "e5fca0bf-0f7d-46c3-a493-6c4d35b44f11",
   "metadata": {},
   "outputs": [
    {
     "name": "stdout",
     "output_type": "stream",
     "text": [
      "mappingproxy({'__dict__': <attribute '__dict__' of 'Rhombus' objects>,\n",
      "              '__doc__': None,\n",
      "              '__init__': <function Rhombus.__init__ at 0x0000019340D241F0>,\n",
      "              '__module__': '__main__',\n",
      "              '__repr__': <function Rhombus.__repr__ at 0x0000019340D24550>,\n",
      "              '__str__': <function Rhombus.__str__ at 0x0000019340D245E0>,\n",
      "              '__weakref__': <attribute '__weakref__' of 'Rhombus' objects>,\n",
      "              'area': <property object at 0x0000019340D25090>,\n",
      "              'height': <property object at 0x0000019340D280E0>,\n",
      "              'perimeter': <property object at 0x0000019340D28040>,\n",
      "              'side_length': <property object at 0x0000019340D28090>})\n"
     ]
    }
   ],
   "source": [
    "pprint(vars(Rhombus))"
   ]
  },
  {
   "cell_type": "code",
   "execution_count": 105,
   "id": "796960f3-0dab-4968-89c9-8766d00b6e85",
   "metadata": {},
   "outputs": [
    {
     "name": "stdout",
     "output_type": "stream",
     "text": [
      "Help on class Rhombus in module __main__:\n",
      "\n",
      "class Rhombus(builtins.object)\n",
      " |  Rhombus(side_length: float = 1.0, height: float = 1.0) -> None\n",
      " |  \n",
      " |  Methods defined here:\n",
      " |  \n",
      " |  __init__(self, side_length: float = 1.0, height: float = 1.0) -> None\n",
      " |      Initialize self.  See help(type(self)) for accurate signature.\n",
      " |  \n",
      " |  __repr__(self) -> str\n",
      " |      Return repr(self).\n",
      " |  \n",
      " |  __str__(self) -> str\n",
      " |      Return str(self).\n",
      " |  \n",
      " |  ----------------------------------------------------------------------\n",
      " |  Readonly properties defined here:\n",
      " |  \n",
      " |  area\n",
      " |  \n",
      " |  perimeter\n",
      " |  \n",
      " |  ----------------------------------------------------------------------\n",
      " |  Data descriptors defined here:\n",
      " |  \n",
      " |  __dict__\n",
      " |      dictionary for instance variables (if defined)\n",
      " |  \n",
      " |  __weakref__\n",
      " |      list of weak references to the object (if defined)\n",
      " |  \n",
      " |  height\n",
      " |  \n",
      " |  side_length\n",
      "\n"
     ]
    }
   ],
   "source": [
    "help(Rhombus)"
   ]
  },
  {
   "cell_type": "code",
   "execution_count": 106,
   "id": "70f07f59-6627-4779-bf67-643b5b003497",
   "metadata": {},
   "outputs": [
    {
     "name": "stdout",
     "output_type": "stream",
     "text": [
      "{'_side_length': 8, '_height': 3}\n",
      "{'_side_length': 6, '_height': 2}\n"
     ]
    }
   ],
   "source": [
    "print(R_1.__dict__)\n",
    "print(R_2.__dict__)"
   ]
  },
  {
   "cell_type": "code",
   "execution_count": 107,
   "id": "8281fa54-ec1f-4a5e-8efd-fcb34afbc553",
   "metadata": {},
   "outputs": [
    {
     "name": "stdout",
     "output_type": "stream",
     "text": [
      "None\n",
      "Method: __init__,   Docstring: None,   Annotations: {'side_length': <class 'float'>, 'height': <class 'float'>, 'return': None}\n",
      "(Method: area),  (Docstring: None),  (Annotations: {'return': <class 'float'>})\n",
      "(Method: perimeter),  (Docstring: None),  (Annotations: {'return': <class 'float'>})\n",
      "Method: __repr__,   Docstring: None,   Annotations: {'return': <class 'str'>}\n",
      "Method: __str__,   Docstring: None,   Annotations: {'return': <class 'str'>}\n"
     ]
    }
   ],
   "source": [
    "print(Rhombus.__doc__)\n",
    "for method in [\n",
    "    Rhombus.__init__,\n",
    "    Rhombus.area,\n",
    "    Rhombus.perimeter,\n",
    "    Rhombus.__repr__,\n",
    "    Rhombus.__str__,\n",
    "]:\n",
    "    if isinstance(method, property):\n",
    "        print(f\"(Method: {method.fget.__name__}),  (Docstring: {method.__doc__}),  (Annotations: {method.fget.__annotations__})\")\n",
    "    else:\n",
    "        print(f\"Method: {method.__name__},   Docstring: {method.__doc__},   Annotations: {method.__annotations__}\")"
   ]
  },
  {
   "cell_type": "code",
   "execution_count": 108,
   "id": "76a4d3c2-07f3-4383-9a10-8edc8a50a4d3",
   "metadata": {},
   "outputs": [
    {
     "name": "stdout",
     "output_type": "stream",
     "text": [
      "Rhombus with side length 3 and height 6\n"
     ]
    },
    {
     "data": {
      "text/plain": [
       "Rhombus(side_length=3, height=6)"
      ]
     },
     "execution_count": 108,
     "metadata": {},
     "output_type": "execute_result"
    }
   ],
   "source": [
    "R_3 = Rhombus(3, 6)\n",
    "print(R_3)\n",
    "R_3"
   ]
  },
  {
   "cell_type": "markdown",
   "id": "e004ceeb-d3c3-4154-9172-0c36f987f4ef",
   "metadata": {},
   "source": [
    "<center><span style=\"color:yellow; \n",
    "font-family:Arial; \n",
    "font-weight:bold;\n",
    "font-size:35px;\">Task No # 05 </span></center>"
   ]
  },
  {
   "cell_type": "markdown",
   "id": "2f9d2d8e-e5ea-471f-81d8-0f0e530183ad",
   "metadata": {},
   "source": [
    "Circuit: \n",
    "12. Make a class for a circuit with only one resistor.  \n",
    "13. Making a class for the RL circuit.  \n",
    "14. Making a class for the RC circuits.  \n",
    "15. Making a class for RLC parallel circuits.  \n",
    "16. Modify the RLC series for the series resonance case.  \n",
    "17. Modify the RLC parallel for the parallel resonance case.  "
   ]
  },
  {
   "cell_type": "markdown",
   "id": "6e238839-40a1-4f41-84a4-7efd6072565b",
   "metadata": {},
   "source": [
    "<center><span style=\"color:blue; \n",
    "font-family:COPPER BLACK; \n",
    "font-weight:bold;\n",
    "font-size:35px;\">1. Resister </span></center"
   ]
  },
  {
   "cell_type": "code",
   "execution_count": 109,
   "id": "f2680953-d7c6-400b-bfc7-af6b22e6953b",
   "metadata": {},
   "outputs": [],
   "source": [
    "class Resistor:\n",
    "    \n",
    "    def __init__(self, resistance: float = 1.0) -> None:\n",
    "        self.resistance = resistance\n",
    "\n",
    "    @property\n",
    "    def resistance(self) -> float:\n",
    "        return self._resistance\n",
    "\n",
    "    @resistance.setter\n",
    "    def resistance(self, value: float):\n",
    "        self._resistance = value\n",
    "    @staticmethod\n",
    "    def calculate_power(resistance: float, current: float) -> float:\n",
    "        return resistance * (current ** 2)\n",
    "    @classmethod\n",
    "    def with_standard_resistance(cls, standard_value: float = 10.0):\n",
    "        return cls(resistance=standard_value)\n",
    "    def __repr__(self) -> str:\n",
    "        return f\"Resistor(resistance={self.resistance} ohm)\"\n",
    "    def __str__(self) -> str:\n",
    "        return f\"Resistor with resistancae: {self.resistance} ohms\""
   ]
  },
  {
   "cell_type": "code",
   "execution_count": 110,
   "id": "b534ba66-fdd2-4a81-b1dc-5fb3d11ee0b6",
   "metadata": {},
   "outputs": [],
   "source": [
    "resistor = Resistor(7)"
   ]
  },
  {
   "cell_type": "code",
   "execution_count": 111,
   "id": "7455c937-8bf1-465d-9547-8e5233a3d765",
   "metadata": {},
   "outputs": [
    {
     "name": "stdout",
     "output_type": "stream",
     "text": [
      "Resistor with resistancae: 7 ohms\n"
     ]
    }
   ],
   "source": [
    "print(resistor)"
   ]
  },
  {
   "cell_type": "code",
   "execution_count": 112,
   "id": "a93cb6e2-f26e-4572-b9eb-73d45420e5a0",
   "metadata": {},
   "outputs": [
    {
     "data": {
      "text/plain": [
       "Resistor(resistance=7 ohm)"
      ]
     },
     "execution_count": 112,
     "metadata": {},
     "output_type": "execute_result"
    }
   ],
   "source": [
    "resistor"
   ]
  },
  {
   "cell_type": "code",
   "execution_count": 113,
   "id": "e3303b31-07a1-4c8d-8b8f-707d5f29e71e",
   "metadata": {},
   "outputs": [
    {
     "name": "stdout",
     "output_type": "stream",
     "text": [
      "mappingproxy({'__dict__': <attribute '__dict__' of 'Resistor' objects>,\n",
      "              '__doc__': None,\n",
      "              '__init__': <function Resistor.__init__ at 0x0000019340D09D30>,\n",
      "              '__module__': '__main__',\n",
      "              '__repr__': <function Resistor.__repr__ at 0x0000019340D24A60>,\n",
      "              '__str__': <function Resistor.__str__ at 0x0000019340D24B80>,\n",
      "              '__weakref__': <attribute '__weakref__' of 'Resistor' objects>,\n",
      "              'calculate_power': <staticmethod object at 0x0000019340D26BE0>,\n",
      "              'resistance': <property object at 0x0000019340D327C0>,\n",
      "              'with_standard_resistance': <classmethod object at 0x0000019340D26DF0>})\n"
     ]
    }
   ],
   "source": [
    "from pprint import pprint \n",
    "pprint(Resistor.__dict__)"
   ]
  },
  {
   "cell_type": "code",
   "execution_count": 114,
   "id": "e7d438a5-64c7-48f2-8836-70f0da65f66e",
   "metadata": {},
   "outputs": [
    {
     "name": "stdout",
     "output_type": "stream",
     "text": [
      "mappingproxy({'__dict__': <attribute '__dict__' of 'Resistor' objects>,\n",
      "              '__doc__': None,\n",
      "              '__init__': <function Resistor.__init__ at 0x0000019340D09D30>,\n",
      "              '__module__': '__main__',\n",
      "              '__repr__': <function Resistor.__repr__ at 0x0000019340D24A60>,\n",
      "              '__str__': <function Resistor.__str__ at 0x0000019340D24B80>,\n",
      "              '__weakref__': <attribute '__weakref__' of 'Resistor' objects>,\n",
      "              'calculate_power': <staticmethod object at 0x0000019340D26BE0>,\n",
      "              'resistance': <property object at 0x0000019340D327C0>,\n",
      "              'with_standard_resistance': <classmethod object at 0x0000019340D26DF0>})\n"
     ]
    }
   ],
   "source": [
    "pprint(vars(Resistor))"
   ]
  },
  {
   "cell_type": "code",
   "execution_count": 115,
   "id": "9cf6c70f-fc3a-4167-ab88-ea9b6a5c2686",
   "metadata": {},
   "outputs": [
    {
     "name": "stdout",
     "output_type": "stream",
     "text": [
      "Help on class Resistor in module __main__:\n",
      "\n",
      "class Resistor(builtins.object)\n",
      " |  Resistor(resistance: float = 1.0) -> None\n",
      " |  \n",
      " |  Methods defined here:\n",
      " |  \n",
      " |  __init__(self, resistance: float = 1.0) -> None\n",
      " |      Initialize self.  See help(type(self)) for accurate signature.\n",
      " |  \n",
      " |  __repr__(self) -> str\n",
      " |      Return repr(self).\n",
      " |  \n",
      " |  __str__(self) -> str\n",
      " |      Return str(self).\n",
      " |  \n",
      " |  ----------------------------------------------------------------------\n",
      " |  Class methods defined here:\n",
      " |  \n",
      " |  with_standard_resistance(standard_value: float = 10.0) from builtins.type\n",
      " |  \n",
      " |  ----------------------------------------------------------------------\n",
      " |  Static methods defined here:\n",
      " |  \n",
      " |  calculate_power(resistance: float, current: float) -> float\n",
      " |  \n",
      " |  ----------------------------------------------------------------------\n",
      " |  Data descriptors defined here:\n",
      " |  \n",
      " |  __dict__\n",
      " |      dictionary for instance variables (if defined)\n",
      " |  \n",
      " |  __weakref__\n",
      " |      list of weak references to the object (if defined)\n",
      " |  \n",
      " |  resistance\n",
      "\n"
     ]
    }
   ],
   "source": [
    "help(Resistor)"
   ]
  },
  {
   "cell_type": "code",
   "execution_count": 116,
   "id": "88e308e9-428e-4e9b-a4bd-a17e02f5103e",
   "metadata": {},
   "outputs": [
    {
     "name": "stdout",
     "output_type": "stream",
     "text": [
      "{'_resistance': 7}\n"
     ]
    }
   ],
   "source": [
    "print(resistor.__dict__)"
   ]
  },
  {
   "cell_type": "code",
   "execution_count": 117,
   "id": "5271c2a7-b749-46fb-b4d3-6a747897f663",
   "metadata": {},
   "outputs": [
    {
     "name": "stdout",
     "output_type": "stream",
     "text": [
      "None\n",
      "Method: __init__,   Docstring: None,   Annotations: {'resistance': <class 'float'>, 'return': None}\n",
      "Method: with_standard_resistance,   Docstring: None,   Annotations: {'standard_value': <class 'float'>}\n",
      "Method: calculate_power,   Docstring: None,   Annotations: {'resistance': <class 'float'>, 'current': <class 'float'>, 'return': <class 'float'>}\n",
      "Method: __repr__,   Docstring: None,   Annotations: {'return': <class 'str'>}\n",
      "Method: __str__,   Docstring: None,   Annotations: {'return': <class 'str'>}\n"
     ]
    }
   ],
   "source": [
    "print(Resistor.__doc__)\n",
    "for method in [\n",
    "    Resistor.__init__,\n",
    "    Resistor.with_standard_resistance,\n",
    "    Resistor.calculate_power,\n",
    "    Resistor.__repr__,\n",
    "    Resistor.__str__,\n",
    "]:\n",
    "    if isinstance(method, property):\n",
    "        print(f\"(Method: {method.fget.__name__}),  (Docstring: {method.__doc__}),  (Annotations: {method.fget.__annotations__})\")\n",
    "    else:\n",
    "        print(f\"Method: {method.__name__},   Docstring: {method.__doc__},   Annotations: {method.__annotations__}\")"
   ]
  },
  {
   "cell_type": "markdown",
   "id": "4d634962-6d92-4e46-ac4b-78a05c946873",
   "metadata": {},
   "source": [
    "<center><span style=\"color:blue; \n",
    "font-family:COPPER BLACK; \n",
    "font-weight:bold;\n",
    "font-size:35px;\">2. RL circuit </span></center"
   ]
  },
  {
   "cell_type": "code",
   "execution_count": 118,
   "id": "e83b92fe-3bb8-4fdb-86bc-9b674afb40e3",
   "metadata": {},
   "outputs": [],
   "source": [
    "import math\n",
    "\n",
    "class RLCircuit:\n",
    "    \n",
    "    def __init__(self, resistance: float = 1.0, inductance: float = 1.0):\n",
    "        self.resistance = resistance\n",
    "        self.inductance = inductance\n",
    "\n",
    "    @property\n",
    "    def resistance(self) -> float:\n",
    "        return self._resistance\n",
    "\n",
    "    @resistance.setter\n",
    "    def resistance(self, value: float):\n",
    "        self._resistance = value\n",
    "\n",
    "    @property\n",
    "    def inductance(self) -> float:\n",
    "        return self._inductance\n",
    "\n",
    "    @inductance.setter\n",
    "    def inductance(self, value: float):\n",
    "        self._inductance = value\n",
    "    \n",
    "    def impedance(self, frequency: float = 50.0) -> float:\n",
    "        return math.sqrt(self.resistance**2 + (2 * math.pi * frequency * self.inductance)**2)\n",
    "\n",
    "    @classmethod\n",
    "    def with_standard_values(cls):\n",
    "        return cls(resistance=10.0, inductance=0.05)\n",
    "\n",
    "    @staticmethod\n",
    "    def calculate_reactance(inductance: float, frequency: float) -> float:\n",
    "        return 2 * math.pi * frequency * inductance\n",
    "\n",
    "    def __repr__(self) -> str:\n",
    "        return f\"RLCircuit(resistance={self.resistance}, inductance={self.inductance} H)\"\n",
    "\n",
    "    def __str__(self) -> str:\n",
    "        return f\"RL Circuit with resistance: {self.resistance} ohms, inductance: {self.inductance} H\""
   ]
  },
  {
   "cell_type": "code",
   "execution_count": 119,
   "id": "b1655079-7955-48be-8f61-ae2f6c77a0fa",
   "metadata": {},
   "outputs": [],
   "source": [
    "RL_1 = RLCircuit(10, 0.001)\n",
    "RL_2 = RLCircuit(20, 0.1)"
   ]
  },
  {
   "cell_type": "code",
   "execution_count": 120,
   "id": "dc34e3a4-e209-4df8-b2d6-b729d0788ab1",
   "metadata": {},
   "outputs": [
    {
     "name": "stdout",
     "output_type": "stream",
     "text": [
      "RL Circuit with resistance: 10 ohms, inductance: 0.001 H\n",
      "RL Circuit with resistance: 20 ohms, inductance: 0.1 H\n"
     ]
    }
   ],
   "source": [
    "print(RL_1)\n",
    "print(RL_2)"
   ]
  },
  {
   "cell_type": "code",
   "execution_count": 121,
   "id": "0e2a23e1-bca7-4254-9801-dba3399c72af",
   "metadata": {},
   "outputs": [
    {
     "data": {
      "text/plain": [
       "RLCircuit(resistance=10, inductance=0.001 H)"
      ]
     },
     "execution_count": 121,
     "metadata": {},
     "output_type": "execute_result"
    }
   ],
   "source": [
    "RL_1"
   ]
  },
  {
   "cell_type": "code",
   "execution_count": 122,
   "id": "40022b61-1cf3-45bf-9b1e-3f628f0be0fb",
   "metadata": {},
   "outputs": [
    {
     "data": {
      "text/plain": [
       "RLCircuit(resistance=20, inductance=0.1 H)"
      ]
     },
     "execution_count": 122,
     "metadata": {},
     "output_type": "execute_result"
    }
   ],
   "source": [
    "RL_2"
   ]
  },
  {
   "cell_type": "code",
   "execution_count": 123,
   "id": "7cb4f307-0254-4614-97da-b700cbbe31ee",
   "metadata": {},
   "outputs": [
    {
     "name": "stdout",
     "output_type": "stream",
     "text": [
      "mappingproxy({'__dict__': <attribute '__dict__' of 'RLCircuit' objects>,\n",
      "              '__doc__': None,\n",
      "              '__init__': <function RLCircuit.__init__ at 0x0000019340D1C430>,\n",
      "              '__module__': '__main__',\n",
      "              '__repr__': <function RLCircuit.__repr__ at 0x0000019340D24E50>,\n",
      "              '__str__': <function RLCircuit.__str__ at 0x0000019340D24D30>,\n",
      "              '__weakref__': <attribute '__weakref__' of 'RLCircuit' objects>,\n",
      "              'calculate_reactance': <staticmethod object at 0x0000019340D3B7C0>,\n",
      "              'impedance': <function RLCircuit.impedance at 0x0000019340D24C10>,\n",
      "              'inductance': <property object at 0x0000019340D3A630>,\n",
      "              'resistance': <property object at 0x0000019340D3A5E0>,\n",
      "              'with_standard_values': <classmethod object at 0x0000019340D3B6A0>})\n"
     ]
    }
   ],
   "source": [
    "from pprint import pprint\n",
    "pprint(RLCircuit.__dict__)"
   ]
  },
  {
   "cell_type": "code",
   "execution_count": 124,
   "id": "01d501da-14dd-4e74-ae3c-59f86a499508",
   "metadata": {},
   "outputs": [
    {
     "name": "stdout",
     "output_type": "stream",
     "text": [
      "mappingproxy({'__dict__': <attribute '__dict__' of 'RLCircuit' objects>,\n",
      "              '__doc__': None,\n",
      "              '__init__': <function RLCircuit.__init__ at 0x0000019340D1C430>,\n",
      "              '__module__': '__main__',\n",
      "              '__repr__': <function RLCircuit.__repr__ at 0x0000019340D24E50>,\n",
      "              '__str__': <function RLCircuit.__str__ at 0x0000019340D24D30>,\n",
      "              '__weakref__': <attribute '__weakref__' of 'RLCircuit' objects>,\n",
      "              'calculate_reactance': <staticmethod object at 0x0000019340D3B7C0>,\n",
      "              'impedance': <function RLCircuit.impedance at 0x0000019340D24C10>,\n",
      "              'inductance': <property object at 0x0000019340D3A630>,\n",
      "              'resistance': <property object at 0x0000019340D3A5E0>,\n",
      "              'with_standard_values': <classmethod object at 0x0000019340D3B6A0>})\n"
     ]
    }
   ],
   "source": [
    "pprint(vars(RLCircuit))"
   ]
  },
  {
   "cell_type": "code",
   "execution_count": 125,
   "id": "02a48776-389b-487d-b201-d0611a831219",
   "metadata": {},
   "outputs": [
    {
     "name": "stdout",
     "output_type": "stream",
     "text": [
      "Help on class RLCircuit in module __main__:\n",
      "\n",
      "class RLCircuit(builtins.object)\n",
      " |  RLCircuit(resistance: float = 1.0, inductance: float = 1.0)\n",
      " |  \n",
      " |  Methods defined here:\n",
      " |  \n",
      " |  __init__(self, resistance: float = 1.0, inductance: float = 1.0)\n",
      " |      Initialize self.  See help(type(self)) for accurate signature.\n",
      " |  \n",
      " |  __repr__(self) -> str\n",
      " |      Return repr(self).\n",
      " |  \n",
      " |  __str__(self) -> str\n",
      " |      Return str(self).\n",
      " |  \n",
      " |  impedance(self, frequency: float = 50.0) -> float\n",
      " |  \n",
      " |  ----------------------------------------------------------------------\n",
      " |  Class methods defined here:\n",
      " |  \n",
      " |  with_standard_values() from builtins.type\n",
      " |  \n",
      " |  ----------------------------------------------------------------------\n",
      " |  Static methods defined here:\n",
      " |  \n",
      " |  calculate_reactance(inductance: float, frequency: float) -> float\n",
      " |  \n",
      " |  ----------------------------------------------------------------------\n",
      " |  Data descriptors defined here:\n",
      " |  \n",
      " |  __dict__\n",
      " |      dictionary for instance variables (if defined)\n",
      " |  \n",
      " |  __weakref__\n",
      " |      list of weak references to the object (if defined)\n",
      " |  \n",
      " |  inductance\n",
      " |  \n",
      " |  resistance\n",
      "\n"
     ]
    }
   ],
   "source": [
    "help(RLCircuit)"
   ]
  },
  {
   "cell_type": "code",
   "execution_count": 126,
   "id": "d8093016-8960-439e-a0da-bbe1984425c9",
   "metadata": {},
   "outputs": [
    {
     "name": "stdout",
     "output_type": "stream",
     "text": [
      "{'_resistance': 10, '_inductance': 0.001}\n",
      "{'_resistance': 20, '_inductance': 0.1}\n"
     ]
    }
   ],
   "source": [
    "print(RL_1.__dict__)\n",
    "print(RL_2.__dict__)"
   ]
  },
  {
   "cell_type": "code",
   "execution_count": 127,
   "id": "8b0e2e9e-79f9-4d9f-a70d-b5a0df2b9f5a",
   "metadata": {},
   "outputs": [
    {
     "name": "stdout",
     "output_type": "stream",
     "text": [
      "None\n",
      "Method: __init__,   Docstring: None,   Annotations: {'resistance': <class 'float'>, 'inductance': <class 'float'>}\n",
      "Method: impedance,   Docstring: None,   Annotations: {'frequency': <class 'float'>, 'return': <class 'float'>}\n",
      "Method: with_standard_values,   Docstring: None,   Annotations: {}\n",
      "Method: calculate_reactance,   Docstring: None,   Annotations: {'inductance': <class 'float'>, 'frequency': <class 'float'>, 'return': <class 'float'>}\n",
      "Method: __repr__,   Docstring: None,   Annotations: {'return': <class 'str'>}\n",
      "Method: __str__,   Docstring: None,   Annotations: {'return': <class 'str'>}\n"
     ]
    }
   ],
   "source": [
    "print(RLCircuit.__doc__)\n",
    "for method in [\n",
    "    RLCircuit.__init__,\n",
    "    RLCircuit.impedance,\n",
    "    RLCircuit.with_standard_values,\n",
    "    RLCircuit.calculate_reactance,\n",
    "    RLCircuit.__repr__,\n",
    "    RLCircuit.__str__,\n",
    "]:\n",
    "    if isinstance(method, property):\n",
    "        print(f\"(Method: {method.fget.__name__}),  (Docstring: {method.__doc__}),  (Annotations: {method.fget.__annotations__})\")\n",
    "    else:\n",
    "        print(f\"Method: {method.__name__},   Docstring: {method.__doc__},   Annotations: {method.__annotations__}\")"
   ]
  },
  {
   "cell_type": "code",
   "execution_count": 128,
   "id": "b55c1f12-3b13-415c-902d-efd8444a64e4",
   "metadata": {},
   "outputs": [
    {
     "name": "stdout",
     "output_type": "stream",
     "text": [
      "RL Circuit with resistance: 1.0 ohms, inductance: 1.0 H\n"
     ]
    },
    {
     "data": {
      "text/plain": [
       "RLCircuit(resistance=1.0, inductance=1.0 H)"
      ]
     },
     "execution_count": 128,
     "metadata": {},
     "output_type": "execute_result"
    }
   ],
   "source": [
    "RL_3 = RLCircuit()\n",
    "print(RL_3)\n",
    "RL_3"
   ]
  },
  {
   "cell_type": "markdown",
   "id": "0c658a86-65af-4fdd-a9ef-4a6061d4ad01",
   "metadata": {},
   "source": [
    "<center><span style=\"color:blue; \n",
    "font-family:COPPER BLACK; \n",
    "font-weight:bold;\n",
    "font-size:35px;\">3. RC circuit </span></center"
   ]
  },
  {
   "cell_type": "code",
   "execution_count": 129,
   "id": "70f56c07-632f-487f-ab84-71df9a018ba1",
   "metadata": {},
   "outputs": [],
   "source": [
    "import math\n",
    "class RC_Circuit:\n",
    "\n",
    "    def __init__(self, resistance: float = 1.0, capacitance: float = 1.0) -> None:\n",
    "        self._resistance = resistance\n",
    "        self._capacitance = capacitance\n",
    "\n",
    "    @property\n",
    "    def resistance(self) -> float:\n",
    "        return self._resistance\n",
    "\n",
    "    @resistance.setter\n",
    "    def resistance(self, value: float) -> None:\n",
    "        self.resistance = value\n",
    "    @property\n",
    "    def capacitance(self) -> float:\n",
    "        return self._capacitance\n",
    "\n",
    "    @capacitance.setter\n",
    "    def capacitance(self, value: float) -> None:\n",
    "        self._capacitance = value\n",
    "    # instance method\n",
    "    def impedance(self, frequency: float) -> float:\n",
    "        reactance_c = 1 / (2 * math.pi * frequency * self.capacitance)\n",
    "        return math.sqrt(self.resistance**2 + reactance_c**2)\n",
    "\n",
    "    @classmethod\n",
    "    def with_standard_values(cls) -> 'RCSCircuit':\n",
    "        return cls(resistance=10.0, capacitance=0.001)\n",
    "\n",
    "    @staticmethod\n",
    "    def calculate_reactance(capacitance: float, frequency: float) -> float:\n",
    "        return 1 / (2 * math.pi * frequency * capacitance)\n",
    "    def __repr__(self) -> str:\n",
    "        return f\"RCSCircuit(resistance={self.resistance}, capacitance={self.capacitance})\"\n",
    "\n",
    "    def __str__(self) -> str:\n",
    "        return (f\"RC Series Circuit with resistance: {self.resistance} ohms,capacitance: {self.capacitance} F\")"
   ]
  },
  {
   "cell_type": "code",
   "execution_count": 130,
   "id": "9d9d5fbd-aedd-4688-b068-3f4c23a68a81",
   "metadata": {},
   "outputs": [],
   "source": [
    "RC_1 = RC_Circuit(8, 0.000001)\n",
    "RC_2 = RC_Circuit(16,0.001)"
   ]
  },
  {
   "cell_type": "code",
   "execution_count": 131,
   "id": "84ff2065-9044-44ae-9640-3b9b9a2fc4e5",
   "metadata": {},
   "outputs": [
    {
     "name": "stdout",
     "output_type": "stream",
     "text": [
      "RC Series Circuit with resistance: 8 ohms,capacitance: 1e-06 F\n",
      "RL Circuit with resistance: 20 ohms, inductance: 0.1 H\n"
     ]
    }
   ],
   "source": [
    "print(RC_1)\n",
    "print(RL_2)"
   ]
  },
  {
   "cell_type": "code",
   "execution_count": 132,
   "id": "70fda03d-0415-49ff-b3d5-c57d20e7362f",
   "metadata": {},
   "outputs": [
    {
     "data": {
      "text/plain": [
       "RCSCircuit(resistance=8, capacitance=1e-06)"
      ]
     },
     "execution_count": 132,
     "metadata": {},
     "output_type": "execute_result"
    }
   ],
   "source": [
    "RC_1"
   ]
  },
  {
   "cell_type": "code",
   "execution_count": 133,
   "id": "07e41ecf-33f6-4dfd-96a7-fd18f41fa22b",
   "metadata": {},
   "outputs": [
    {
     "data": {
      "text/plain": [
       "RCSCircuit(resistance=16, capacitance=0.001)"
      ]
     },
     "execution_count": 133,
     "metadata": {},
     "output_type": "execute_result"
    }
   ],
   "source": [
    "RC_2"
   ]
  },
  {
   "cell_type": "code",
   "execution_count": 134,
   "id": "bc4b05ad-4da2-49e3-857b-4e0ea8b3e2a6",
   "metadata": {},
   "outputs": [
    {
     "name": "stdout",
     "output_type": "stream",
     "text": [
      "mappingproxy({'__dict__': <attribute '__dict__' of 'RC_Circuit' objects>,\n",
      "              '__doc__': None,\n",
      "              '__init__': <function RC_Circuit.__init__ at 0x0000019340D1CDC0>,\n",
      "              '__module__': '__main__',\n",
      "              '__repr__': <function RC_Circuit.__repr__ at 0x0000019340D403A0>,\n",
      "              '__str__': <function RC_Circuit.__str__ at 0x0000019340D40430>,\n",
      "              '__weakref__': <attribute '__weakref__' of 'RC_Circuit' objects>,\n",
      "              'calculate_reactance': <staticmethod object at 0x0000019340CEDF40>,\n",
      "              'capacitance': <property object at 0x0000019340D3E220>,\n",
      "              'impedance': <function RC_Circuit.impedance at 0x0000019340D401F0>,\n",
      "              'resistance': <property object at 0x0000019340D3E1D0>,\n",
      "              'with_standard_values': <classmethod object at 0x0000019340CEDFD0>})\n"
     ]
    }
   ],
   "source": [
    "pprint(RC_Circuit.__dict__)"
   ]
  },
  {
   "cell_type": "code",
   "execution_count": 135,
   "id": "54e88c48-8e7d-41aa-a7cc-f8338e7e8f5b",
   "metadata": {},
   "outputs": [
    {
     "name": "stdout",
     "output_type": "stream",
     "text": [
      "mappingproxy({'__dict__': <attribute '__dict__' of 'RC_Circuit' objects>,\n",
      "              '__doc__': None,\n",
      "              '__init__': <function RC_Circuit.__init__ at 0x0000019340D1CDC0>,\n",
      "              '__module__': '__main__',\n",
      "              '__repr__': <function RC_Circuit.__repr__ at 0x0000019340D403A0>,\n",
      "              '__str__': <function RC_Circuit.__str__ at 0x0000019340D40430>,\n",
      "              '__weakref__': <attribute '__weakref__' of 'RC_Circuit' objects>,\n",
      "              'calculate_reactance': <staticmethod object at 0x0000019340CEDF40>,\n",
      "              'capacitance': <property object at 0x0000019340D3E220>,\n",
      "              'impedance': <function RC_Circuit.impedance at 0x0000019340D401F0>,\n",
      "              'resistance': <property object at 0x0000019340D3E1D0>,\n",
      "              'with_standard_values': <classmethod object at 0x0000019340CEDFD0>})\n"
     ]
    }
   ],
   "source": [
    "pprint(vars(RC_Circuit))"
   ]
  },
  {
   "cell_type": "code",
   "execution_count": 136,
   "id": "79c66c0f",
   "metadata": {},
   "outputs": [
    {
     "name": "stdout",
     "output_type": "stream",
     "text": [
      "{'_resistance': 8, '_capacitance': 1e-06}\n"
     ]
    }
   ],
   "source": [
    "print(RC_1.__dict__)"
   ]
  },
  {
   "cell_type": "code",
   "execution_count": 137,
   "id": "b09d18bb-7d05-473e-a46c-e160ca9d5883",
   "metadata": {},
   "outputs": [
    {
     "name": "stdout",
     "output_type": "stream",
     "text": [
      "{'_resistance': 16, '_capacitance': 0.001}\n"
     ]
    }
   ],
   "source": [
    "print(RC_2.__dict__)"
   ]
  },
  {
   "cell_type": "code",
   "execution_count": 138,
   "id": "35172c4d-100a-476e-9a9d-38e99c649a79",
   "metadata": {},
   "outputs": [
    {
     "name": "stdout",
     "output_type": "stream",
     "text": [
      "Help on class RC_Circuit in module __main__:\n",
      "\n",
      "class RC_Circuit(builtins.object)\n",
      " |  RC_Circuit(resistance: float = 1.0, capacitance: float = 1.0) -> None\n",
      " |  \n",
      " |  Methods defined here:\n",
      " |  \n",
      " |  __init__(self, resistance: float = 1.0, capacitance: float = 1.0) -> None\n",
      " |      Initialize self.  See help(type(self)) for accurate signature.\n",
      " |  \n",
      " |  __repr__(self) -> str\n",
      " |      Return repr(self).\n",
      " |  \n",
      " |  __str__(self) -> str\n",
      " |      Return str(self).\n",
      " |  \n",
      " |  impedance(self, frequency: float) -> float\n",
      " |      # instance method\n",
      " |  \n",
      " |  ----------------------------------------------------------------------\n",
      " |  Class methods defined here:\n",
      " |  \n",
      " |  with_standard_values() -> 'RCSCircuit' from builtins.type\n",
      " |  \n",
      " |  ----------------------------------------------------------------------\n",
      " |  Static methods defined here:\n",
      " |  \n",
      " |  calculate_reactance(capacitance: float, frequency: float) -> float\n",
      " |  \n",
      " |  ----------------------------------------------------------------------\n",
      " |  Data descriptors defined here:\n",
      " |  \n",
      " |  __dict__\n",
      " |      dictionary for instance variables (if defined)\n",
      " |  \n",
      " |  __weakref__\n",
      " |      list of weak references to the object (if defined)\n",
      " |  \n",
      " |  capacitance\n",
      " |  \n",
      " |  resistance\n",
      "\n"
     ]
    }
   ],
   "source": [
    "help(RC_Circuit)"
   ]
  },
  {
   "cell_type": "code",
   "execution_count": 139,
   "id": "e9fa1a55-b334-4a34-9fbf-5c0e2bb086c5",
   "metadata": {},
   "outputs": [
    {
     "name": "stdout",
     "output_type": "stream",
     "text": [
      "None\n",
      "Method: __init__,   Docstring: None,   Annotations: {'resistance': <class 'float'>, 'capacitance': <class 'float'>, 'return': None}\n",
      "Method: impedance,   Docstring: None,   Annotations: {'frequency': <class 'float'>, 'return': <class 'float'>}\n",
      "Method: with_standard_values,   Docstring: None,   Annotations: {'return': 'RCSCircuit'}\n",
      "Method: calculate_reactance,   Docstring: None,   Annotations: {'capacitance': <class 'float'>, 'frequency': <class 'float'>, 'return': <class 'float'>}\n",
      "Method: __repr__,   Docstring: None,   Annotations: {'return': <class 'str'>}\n",
      "Method: __str__,   Docstring: None,   Annotations: {'return': <class 'str'>}\n"
     ]
    }
   ],
   "source": [
    "print(RC_Circuit.__doc__)\n",
    "for method in [\n",
    "    RC_Circuit.__init__,\n",
    "    RC_Circuit.impedance,\n",
    "    RC_Circuit.with_standard_values,\n",
    "    RC_Circuit.calculate_reactance,\n",
    "    RC_Circuit.__repr__,\n",
    "    RC_Circuit.__str__,\n",
    "]:\n",
    "    if isinstance(method, property):\n",
    "        print(f\"(Method: {method.fget.__name__}),  (Docstring: {method.__doc__}),  (Annotations: {method.fget.__annotations__})\")\n",
    "    else:\n",
    "        print(f\"Method: {method.__name__},   Docstring: {method.__doc__},   Annotations: {method.__annotations__}\")"
   ]
  },
  {
   "cell_type": "code",
   "execution_count": 140,
   "id": "6cbb1cdd-ed25-4d58-bfde-f4c2b722ccb8",
   "metadata": {},
   "outputs": [
    {
     "name": "stdout",
     "output_type": "stream",
     "text": [
      "RC Series Circuit with resistance: 1.0 ohms,capacitance: 1.0 F\n"
     ]
    },
    {
     "data": {
      "text/plain": [
       "RCSCircuit(resistance=1.0, capacitance=1.0)"
      ]
     },
     "execution_count": 140,
     "metadata": {},
     "output_type": "execute_result"
    }
   ],
   "source": [
    "RC_3 = RC_Circuit()\n",
    "print(RC_3)\n",
    "RC_3"
   ]
  },
  {
   "cell_type": "markdown",
   "id": "2465ab32-3b42-4f95-a19b-b684b23b9a9f",
   "metadata": {},
   "source": [
    "<center><span style=\"color:blue; \n",
    "font-family:COPPER BLACK; \n",
    "font-weight:bold;\n",
    "font-size:35px;\">4. RLC circuit </span></center"
   ]
  },
  {
   "cell_type": "code",
   "execution_count": 22,
   "id": "27f135f3-a426-4aed-bbbb-7206ff0c4085",
   "metadata": {},
   "outputs": [],
   "source": [
    "import math\n",
    "class RLC_Circuit:\n",
    "    def __init__(self, resistance: float = 1.0, inductance: float = 1.0, capacitance: float = 1.0) -> None:\n",
    "        self.resistance = resistance\n",
    "        self.inductance = inductance\n",
    "        self.capacitance = capacitance\n",
    "    @property\n",
    "    def resistance(self) -> float:\n",
    "        return self._resistance\n",
    "    @resistance.setter\n",
    "    def resistance(self, value: float) -> None:\n",
    "        self._resistance = value\n",
    "    @property\n",
    "    def inductance(self) -> float:\n",
    "        return self._inductance\n",
    "    @inductance.setter\n",
    "    def inductance(self, value: float) -> None:\n",
    "        self._inductance = value\n",
    "        \n",
    "    @property\n",
    "    def capacitance(self) -> float:\n",
    "        return self._capacitance\n",
    "\n",
    "    @capacitance.setter\n",
    "    def capacitance(self, value: float) -> None:\n",
    "        self._capacitance = value\n",
    "        \n",
    "    def total_impedance(self, frequency: float) -> complex:        \n",
    "        omega = 2 * math.pi * frequency\n",
    "        Z_R = self.resistance\n",
    "        Z_L = math.pi * 2 * frequency * self.inductance\n",
    "        Z_C = math.pi * 2 * frequency * self.capacitance\n",
    "        total_impedance = 1 / (1 / Z_R) + (1 / Z_L) + (1 / Z_C)\n",
    "        return total_impedance\n",
    "    @classmethod\n",
    "    def from_standard_values(cls) -> 'RLCCircuitParallel':\n",
    "        return cls(1.0, 1.0, 1.0)\n",
    "        return  1 / (2 * math.pi * math.sqrt(inductance * capacitance))\n",
    "    def __repr__(self) -> str:\n",
    "        return (f\"RLC CircuitParallel(resistance={self.resistance}, inductance={self.inductance},capacitance={self.capacitance})\")\n",
    "\n",
    "    def __str__(self) -> str:\n",
    "        return (f\"RLC Parallel Circuit with resistance: {self.resistance} ohm, inductance: {self.inductance} H, capacitance: {self.capacitance} F\")"
   ]
  },
  {
   "cell_type": "code",
   "execution_count": 23,
   "id": "74d8e575-a8e8-4377-802c-5f7e03f3fc62",
   "metadata": {},
   "outputs": [],
   "source": [
    "RLC = RLC_Circuit(10, 0.1, 0.001)"
   ]
  },
  {
   "cell_type": "code",
   "execution_count": 25,
   "id": "9d5c572e-b97c-477d-8a84-1be8ee02b2bd",
   "metadata": {},
   "outputs": [
    {
     "name": "stdout",
     "output_type": "stream",
     "text": [
      "RLC Parallel Circuit with resistance: 10 ohm, inductance: 0.1 H, capacitance: 0.001 F\n"
     ]
    }
   ],
   "source": [
    "print(RLC)"
   ]
  },
  {
   "cell_type": "code",
   "execution_count": 26,
   "id": "04472749-a705-4bbc-be2c-df9195f79204",
   "metadata": {},
   "outputs": [
    {
     "data": {
      "text/plain": [
       "RLC CircuitParallel(resistance=10, inductance=0.1,capacitance=0.001)"
      ]
     },
     "execution_count": 26,
     "metadata": {},
     "output_type": "execute_result"
    }
   ],
   "source": [
    "RLC"
   ]
  },
  {
   "cell_type": "code",
   "execution_count": 27,
   "id": "be2a17ab-14d4-4db4-a5f6-f2ca8399e696",
   "metadata": {},
   "outputs": [
    {
     "data": {
      "text/plain": [
       "mappingproxy({'__module__': '__main__',\n",
       "              '__init__': <function __main__.RLC_Circuit.__init__(self, resistance: float = 1.0, inductance: float = 1.0, capacitance: float = 1.0) -> None>,\n",
       "              'resistance': <property at 0x2292a999360>,\n",
       "              'inductance': <property at 0x2292a9993b0>,\n",
       "              'capacitance': <property at 0x2292a999400>,\n",
       "              'total_impedance': <function __main__.RLC_Circuit.total_impedance(self, frequency: float) -> complex>,\n",
       "              'from_standard_values': <classmethod at 0x2292a0c5340>,\n",
       "              '__repr__': <function __main__.RLC_Circuit.__repr__(self) -> str>,\n",
       "              '__str__': <function __main__.RLC_Circuit.__str__(self) -> str>,\n",
       "              '__dict__': <attribute '__dict__' of 'RLC_Circuit' objects>,\n",
       "              '__weakref__': <attribute '__weakref__' of 'RLC_Circuit' objects>,\n",
       "              '__doc__': None})"
      ]
     },
     "execution_count": 27,
     "metadata": {},
     "output_type": "execute_result"
    }
   ],
   "source": [
    "RLC_Circuit.__dict__"
   ]
  },
  {
   "cell_type": "code",
   "execution_count": 28,
   "id": "ec11907a-5705-4071-9d3e-60c58c4a6427",
   "metadata": {},
   "outputs": [
    {
     "data": {
      "text/plain": [
       "mappingproxy({'__module__': '__main__',\n",
       "              '__init__': <function __main__.RLC_Circuit.__init__(self, resistance: float = 1.0, inductance: float = 1.0, capacitance: float = 1.0) -> None>,\n",
       "              'resistance': <property at 0x2292a999360>,\n",
       "              'inductance': <property at 0x2292a9993b0>,\n",
       "              'capacitance': <property at 0x2292a999400>,\n",
       "              'total_impedance': <function __main__.RLC_Circuit.total_impedance(self, frequency: float) -> complex>,\n",
       "              'from_standard_values': <classmethod at 0x2292a0c5340>,\n",
       "              '__repr__': <function __main__.RLC_Circuit.__repr__(self) -> str>,\n",
       "              '__str__': <function __main__.RLC_Circuit.__str__(self) -> str>,\n",
       "              '__dict__': <attribute '__dict__' of 'RLC_Circuit' objects>,\n",
       "              '__weakref__': <attribute '__weakref__' of 'RLC_Circuit' objects>,\n",
       "              '__doc__': None})"
      ]
     },
     "execution_count": 28,
     "metadata": {},
     "output_type": "execute_result"
    }
   ],
   "source": [
    "vars(RLC_Circuit)"
   ]
  },
  {
   "cell_type": "code",
   "execution_count": 29,
   "id": "1a8c203a-27e8-4087-8e76-d4914ad6fe3c",
   "metadata": {},
   "outputs": [
    {
     "name": "stdout",
     "output_type": "stream",
     "text": [
      "Help on class RLC_Circuit in module __main__:\n",
      "\n",
      "class RLC_Circuit(builtins.object)\n",
      " |  RLC_Circuit(resistance: float = 1.0, inductance: float = 1.0, capacitance: float = 1.0) -> None\n",
      " |  \n",
      " |  Methods defined here:\n",
      " |  \n",
      " |  __init__(self, resistance: float = 1.0, inductance: float = 1.0, capacitance: float = 1.0) -> None\n",
      " |      Initialize self.  See help(type(self)) for accurate signature.\n",
      " |  \n",
      " |  __repr__(self) -> str\n",
      " |      Return repr(self).\n",
      " |  \n",
      " |  __str__(self) -> str\n",
      " |      Return str(self).\n",
      " |  \n",
      " |  total_impedance(self, frequency: float) -> complex\n",
      " |  \n",
      " |  ----------------------------------------------------------------------\n",
      " |  Class methods defined here:\n",
      " |  \n",
      " |  from_standard_values() -> 'RLCCircuitParallel' from builtins.type\n",
      " |  \n",
      " |  ----------------------------------------------------------------------\n",
      " |  Data descriptors defined here:\n",
      " |  \n",
      " |  __dict__\n",
      " |      dictionary for instance variables (if defined)\n",
      " |  \n",
      " |  __weakref__\n",
      " |      list of weak references to the object (if defined)\n",
      " |  \n",
      " |  capacitance\n",
      " |  \n",
      " |  inductance\n",
      " |  \n",
      " |  resistance\n",
      "\n"
     ]
    }
   ],
   "source": [
    "help(RLC_Circuit)"
   ]
  },
  {
   "cell_type": "code",
   "execution_count": 30,
   "id": "59955c34-0923-43b3-8b48-d9b6818bfc4a",
   "metadata": {},
   "outputs": [
    {
     "name": "stdout",
     "output_type": "stream",
     "text": [
      "{'_resistance': 10, '_inductance': 0.1, '_capacitance': 0.001}\n"
     ]
    }
   ],
   "source": [
    "print(RLC.__dict__)"
   ]
  },
  {
   "cell_type": "code",
   "execution_count": 37,
   "id": "e7792c40-c618-4c9c-98b4-3982af045fba",
   "metadata": {},
   "outputs": [
    {
     "name": "stdout",
     "output_type": "stream",
     "text": [
      "None\n",
      "Method: __init__,   Docstring: None,   Annotations: {'resistance': <class 'float'>, 'inductance': <class 'float'>, 'capacitance': <class 'float'>, 'return': None}\n",
      "Method: total_impedance,   Docstring: None,   Annotations: {'frequency': <class 'float'>, 'return': <class 'complex'>}\n",
      "Method: from_standard_values,   Docstring: None,   Annotations: {'return': 'RLCCircuitParallel'}\n",
      "Method: __repr__,   Docstring: None,   Annotations: {'return': <class 'str'>}\n",
      "Method: __str__,   Docstring: None,   Annotations: {'return': <class 'str'>}\n"
     ]
    }
   ],
   "source": [
    "print(RLC_Circuit.__doc__)\n",
    "for method in [\n",
    "    RLC_Circuit.__init__,\n",
    "    RLC_Circuit.total_impedance,\n",
    "    RLC_Circuit.from_standard_values,\n",
    "    RLC_Circuit.__repr__,\n",
    "    RLC_Circuit.__str__,\n",
    "]:\n",
    "    if isinstance(method, property):\n",
    "        print(f\"(Method: {method.fget.__name__}),  (Docstring: {method.__doc__}),  (Annotations: {method.fget.__annotations__})\")\n",
    "    else:\n",
    "        print(f\"Method: {method.__name__},   Docstring: {method.__doc__},   Annotations: {method.__annotations__}\")"
   ]
  },
  {
   "cell_type": "code",
   "execution_count": 32,
   "id": "13114006-1a1b-46dc-bc66-38655c0f701d",
   "metadata": {},
   "outputs": [
    {
     "name": "stdout",
     "output_type": "stream",
     "text": [
      "RLC Parallel Circuit with resistance: 1.0 ohm, inductance: 1.0 H, capacitance: 1.0 F\n"
     ]
    },
    {
     "data": {
      "text/plain": [
       "RLC CircuitParallel(resistance=1.0, inductance=1.0,capacitance=1.0)"
      ]
     },
     "execution_count": 32,
     "metadata": {},
     "output_type": "execute_result"
    }
   ],
   "source": [
    "RLC = RLC_Circuit()\n",
    "print(RLC)\n",
    "RLC"
   ]
  },
  {
   "cell_type": "markdown",
   "id": "ec6e49de-1bc1-4cbf-9b63-a818eaa2bcdf",
   "metadata": {},
   "source": [
    "<center><span style=\"color:blue; \n",
    "font-family:COPPER BLACK; \n",
    "font-weight:bold;\n",
    "font-size:35px;\">5. RLC series circuit </span></center"
   ]
  },
  {
   "cell_type": "code",
   "execution_count": 151,
   "id": "f49c53a1-5d79-4e66-8ab2-535c98844e73",
   "metadata": {},
   "outputs": [],
   "source": [
    "import math\n",
    "class RLC_Series_Circuit: \n",
    "    def __init__(self, resistance: float = 1.0, inductance: float = 1.0, capacitance: float = 1.0) -> None:\n",
    "        self.resistance = resistance\n",
    "        self.inductance = inductance\n",
    "        self.capacitance = capacitance\n",
    "    @property\n",
    "    def resistance(self) -> float:\n",
    "        return self._resistance\n",
    "\n",
    "    @resistance.setter\n",
    "    def resistance(self, value: float) -> None:\n",
    "        self._resistance = value\n",
    "    @property\n",
    "    def inductance(self) -> float:\n",
    "        return self._inductance\n",
    "    @inductance.setter\n",
    "    def inductance(self, value: float) -> None:\n",
    "        self._inductance = value\n",
    "    @property\n",
    "    def capacitance(self) -> float:\n",
    "        return self._capacitance\n",
    "    @capacitance.setter\n",
    "    def capacitance(self, value: float) -> None:\n",
    "        self._capacitance = value\n",
    "\n",
    "    def total_impedance(self, frequency: float) -> complex:\n",
    "        Z_R = self.resistance\n",
    "        Z_L = 1j * 2 * math.p1 * frequency * self.inductance\n",
    "        Z_C = -1j / (2 * math.pi * frequency * self.capacitance)\n",
    "        Z_R + Z_L + Z_C\n",
    "        return total_impedance\n",
    "\n",
    "    @classmethod\n",
    "    def from_standard_values(cls) -> 'RLC_Circuit':\n",
    "        return cls(1.0, 1.0, 1.0)\n",
    "    @staticmethod\n",
    "    def resonant_frequency(inductance: float, capacitance: float) -> float:\n",
    "        return 1 / (2 * math.pi * math.sqrt(inductance * capacitance))\n",
    "    def __repr__(self) -> str:\n",
    "        return (f\"RLC Series Circuit(resistance={self.resistance}, inductance={self.inductance},capacitance={self.capacitance})\")\n",
    "    def __str__(self) -> str:\n",
    "        return (f\"RLC Series Circuit with resistance: {self.resistance} ohm,inductance: {self.inductance} H, capacitance: {self.capacitance} F\")"
   ]
  },
  {
   "cell_type": "code",
   "execution_count": 152,
   "id": "684fb0b0-66d0-43c8-aa1d-d20138f0e57d",
   "metadata": {},
   "outputs": [],
   "source": [
    "RLC_series_circuit = RLC_Series_Circuit(resistance=10, inductance=0.1, capacitance=0.001)"
   ]
  },
  {
   "cell_type": "code",
   "execution_count": 153,
   "id": "8d084d03-0192-43fa-954f-9729ee254aa4",
   "metadata": {},
   "outputs": [
    {
     "name": "stdout",
     "output_type": "stream",
     "text": [
      "RLC Series Circuit with resistance: 10 ohm,inductance: 0.1 H, capacitance: 0.001 F\n"
     ]
    }
   ],
   "source": [
    "print(RLC_series_circuit)"
   ]
  },
  {
   "cell_type": "code",
   "execution_count": 154,
   "id": "c209ea33-906a-4854-af7a-5731a180fda4",
   "metadata": {},
   "outputs": [
    {
     "data": {
      "text/plain": [
       "RLC Series Circuit(resistance=10, inductance=0.1,capacitance=0.001)"
      ]
     },
     "execution_count": 154,
     "metadata": {},
     "output_type": "execute_result"
    }
   ],
   "source": [
    "RLC_series_circuit"
   ]
  },
  {
   "cell_type": "code",
   "execution_count": 155,
   "id": "f519d042-40c1-4bbf-a9fc-a1bfc0d2bfc1",
   "metadata": {},
   "outputs": [
    {
     "name": "stdout",
     "output_type": "stream",
     "text": [
      "mappingproxy({'__dict__': <attribute '__dict__' of 'RLC_Series_Circuit' objects>,\n",
      "              '__doc__': None,\n",
      "              '__init__': <function RLC_Series_Circuit.__init__ at 0x0000019340D40E50>,\n",
      "              '__module__': '__main__',\n",
      "              '__repr__': <function RLC_Series_Circuit.__repr__ at 0x0000019340D1CC10>,\n",
      "              '__str__': <function RLC_Series_Circuit.__str__ at 0x0000019340D4D040>,\n",
      "              '__weakref__': <attribute '__weakref__' of 'RLC_Series_Circuit' objects>,\n",
      "              'capacitance': <property object at 0x0000019340D32D60>,\n",
      "              'from_standard_values': <classmethod object at 0x0000019340CCD6A0>,\n",
      "              'inductance': <property object at 0x0000019340D32A90>,\n",
      "              'resistance': <property object at 0x0000019340D219F0>,\n",
      "              'resonant_frequency': <staticmethod object at 0x0000019340CCD3A0>,\n",
      "              'total_impedance': <function RLC_Series_Circuit.total_impedance at 0x0000019340D24EE0>})\n"
     ]
    }
   ],
   "source": [
    "pprint(RLC_Series_Circuit.__dict__)"
   ]
  },
  {
   "cell_type": "code",
   "execution_count": 156,
   "id": "bcac6537-91c5-4a65-b717-edf3e2be4f4f",
   "metadata": {},
   "outputs": [
    {
     "name": "stdout",
     "output_type": "stream",
     "text": [
      "mappingproxy({'__dict__': <attribute '__dict__' of 'RLC_Series_Circuit' objects>,\n",
      "              '__doc__': None,\n",
      "              '__init__': <function RLC_Series_Circuit.__init__ at 0x0000019340D40E50>,\n",
      "              '__module__': '__main__',\n",
      "              '__repr__': <function RLC_Series_Circuit.__repr__ at 0x0000019340D1CC10>,\n",
      "              '__str__': <function RLC_Series_Circuit.__str__ at 0x0000019340D4D040>,\n",
      "              '__weakref__': <attribute '__weakref__' of 'RLC_Series_Circuit' objects>,\n",
      "              'capacitance': <property object at 0x0000019340D32D60>,\n",
      "              'from_standard_values': <classmethod object at 0x0000019340CCD6A0>,\n",
      "              'inductance': <property object at 0x0000019340D32A90>,\n",
      "              'resistance': <property object at 0x0000019340D219F0>,\n",
      "              'resonant_frequency': <staticmethod object at 0x0000019340CCD3A0>,\n",
      "              'total_impedance': <function RLC_Series_Circuit.total_impedance at 0x0000019340D24EE0>})\n"
     ]
    }
   ],
   "source": [
    "pprint(vars((RLC_Series_Circuit)))"
   ]
  },
  {
   "cell_type": "code",
   "execution_count": 157,
   "id": "5042a64e-5ed8-4a0a-b862-f34c68ae9715",
   "metadata": {},
   "outputs": [
    {
     "name": "stdout",
     "output_type": "stream",
     "text": [
      "{'_capacitance': 0.001, '_inductance': 0.1, '_resistance': 10}\n"
     ]
    }
   ],
   "source": [
    "pprint(RLC_series_circuit.__dict__)"
   ]
  },
  {
   "cell_type": "code",
   "execution_count": 158,
   "id": "d0866352-135b-4226-acca-fe6bc842df3e",
   "metadata": {},
   "outputs": [
    {
     "name": "stdout",
     "output_type": "stream",
     "text": [
      "None\n",
      "Method: __init__,   Docstring: None,   Annotations: {'resistance': <class 'float'>, 'inductance': <class 'float'>, 'capacitance': <class 'float'>, 'return': None}\n",
      "Method: total_impedance,   Docstring: None,   Annotations: {'frequency': <class 'float'>, 'return': <class 'complex'>}\n",
      "Method: from_standard_values,   Docstring: None,   Annotations: {'return': 'RLC_Circuit'}\n",
      "Method: resonant_frequency,   Docstring: None,   Annotations: {'inductance': <class 'float'>, 'capacitance': <class 'float'>, 'return': <class 'float'>}\n",
      "Method: __repr__,   Docstring: None,   Annotations: {'return': <class 'str'>}\n",
      "Method: __str__,   Docstring: None,   Annotations: {'return': <class 'str'>}\n"
     ]
    }
   ],
   "source": [
    "print(RLC_Series_Circuit.__doc__)\n",
    "for method in [\n",
    "    RLC_Series_Circuit.__init__,\n",
    "    RLC_Series_Circuit.total_impedance,\n",
    "    RLC_Series_Circuit.from_standard_values,\n",
    "    RLC_Series_Circuit.resonant_frequency,\n",
    "    RLC_Series_Circuit.__repr__,\n",
    "    RLC_Series_Circuit.__str__,\n",
    "]:\n",
    "    if isinstance(method, property):\n",
    "        print(f\"(Method: {method.fget.__name__}),  (Docstring: {method.__doc__}),  (Annotations: {method.fget.__annotations__})\")\n",
    "    else:\n",
    "        print(f\"Method: {method.__name__},   Docstring: {method.__doc__},   Annotations: {method.__annotations__}\")"
   ]
  },
  {
   "cell_type": "code",
   "execution_count": 159,
   "id": "0ddf15fa-4d4d-44be-905a-8eefe860c2b7",
   "metadata": {},
   "outputs": [
    {
     "name": "stdout",
     "output_type": "stream",
     "text": [
      "RLC Series Circuit with resistance: 1.0 ohm,inductance: 1.0 H, capacitance: 1.0 F\n"
     ]
    },
    {
     "data": {
      "text/plain": [
       "RLC Series Circuit(resistance=1.0, inductance=1.0,capacitance=1.0)"
      ]
     },
     "execution_count": 159,
     "metadata": {},
     "output_type": "execute_result"
    }
   ],
   "source": [
    "RLC_Series_Circuit1 = RLC_Series_Circuit()\n",
    "print(RLC_Series_Circuit1)\n",
    "RLC_Series_Circuit1"
   ]
  },
  {
   "cell_type": "markdown",
   "id": "27429407-add6-4361-90c4-1e74baa15a59",
   "metadata": {},
   "source": [
    "<center><span style=\"color:blue; \n",
    "font-family:COPPER BLACK; \n",
    "font-weight:bold;\n",
    "font-size:35px;\">5. RLC parallel resonance circuit </span></center"
   ]
  },
  {
   "cell_type": "code",
   "execution_count": 49,
   "id": "e59279dd-2370-4df9-813f-d0aade72e32e",
   "metadata": {},
   "outputs": [],
   "source": [
    "import cmath\n",
    "\n",
    "class RLC_Parallel_resonance_Circuit:\n",
    "    def __init__(self, resistance=1, inductance=1, capacitance=1):\n",
    "        self.resistance = resistance\n",
    "        self.inductance = inductance\n",
    "        self.capacitance = capacitance\n",
    "\n",
    "    @property\n",
    "    def resistance(self) -> float:\n",
    "        return self._resistance\n",
    "\n",
    "    @resistance.setter\n",
    "    def resistance(self, value: float) -> None:\n",
    "        self._resistance = value\n",
    "\n",
    "    @property\n",
    "    def inductance(self) -> float:\n",
    "        return self._inductance\n",
    "\n",
    "    @inductance.setter\n",
    "    def inductance(self, value: float) -> None:\n",
    "        self._inductance = value\n",
    "\n",
    "    @property\n",
    "    def capacitance(self) -> float:\n",
    "        return self._capacitance\n",
    "\n",
    "    @capacitance.setter\n",
    "    def capacitance(self, value: float) -> None:\n",
    "        self._capacitance = value\n",
    "\n",
    "    def total_impedance(self, frequency: float) -> complex:\n",
    "        Y_R = 1 / self.resistance\n",
    "        Y_L = 1 / (1j * 2 * math.pi * frequency * self.inductance)\n",
    "        Y_C = 1j * 2 * math.pi * frequency * self.capacitance\n",
    "        Y_total = Y_R + Y_L + Y_C\n",
    "        Z_total = 1 / Y_total\n",
    "        return Z_total\n",
    "        \n",
    "    def resonance_frequency(self) -> float:\n",
    "        return 1 / (2 * math.pi * math.sqrt(self.inductance * self.capacitance))\n",
    "\n",
    "    @classmethod\n",
    "    def from_standard_values(cls):\n",
    "        return cls(1.0, 1.0, 1.0)\n",
    "\n",
    "    def __repr__(self) -> str:\n",
    "        return (f\"RLC_Circuit(resistance={self.resistance}, inductance={self.inductance}, capacitance={self.capacitance})\")\n",
    "\n",
    "    def __str__(self) -> str:\n",
    "        return (f\"RLC Parallel Circuit with resistance: {self.resistance} ohm, inductance: {self.inductance} H, capacitance: {self.capacitance} F\")\n",
    "\n",
    "\n",
    "    def __repr__(self) -> str:\n",
    "        return (f\"RLC_Circuit(resistance={self.resistance}, inductance={self.inductance},capacitance={self.capacitance})\")\n",
    "    def __str__(self) -> str:   \n",
    "        return (f\"RLC Parallel Circuit with resistance: {self.resistance} ohm,inductance: {self.inductance} H, capacitance: {self.capacitance} F\")"
   ]
  },
  {
   "cell_type": "code",
   "execution_count": 50,
   "id": "c088b7f2-cd62-41ae-a83b-71fcacf6403b",
   "metadata": {},
   "outputs": [],
   "source": [
    "C1=RLC_Parallel_resonance_Circuit (1,2,3)"
   ]
  },
  {
   "cell_type": "code",
   "execution_count": 51,
   "id": "32779a51-3fd9-4a48-ad0b-0ebfc46623d3",
   "metadata": {},
   "outputs": [
    {
     "data": {
      "text/plain": [
       "RLC_Circuit(resistance=1, inductance=2,capacitance=3)"
      ]
     },
     "execution_count": 51,
     "metadata": {},
     "output_type": "execute_result"
    }
   ],
   "source": [
    "C1"
   ]
  },
  {
   "cell_type": "code",
   "execution_count": 52,
   "id": "337b2d2a-986b-4e5c-9659-3e4db577b5e6",
   "metadata": {},
   "outputs": [
    {
     "data": {
      "text/plain": [
       "mappingproxy({'__module__': '__main__',\n",
       "              '__init__': <function __main__.RLC_Parallel_resonance_Circuit.__init__(self, resistance=1, inductance=1, capacitance=1)>,\n",
       "              'resistance': <property at 0x2292aa823b0>,\n",
       "              'inductance': <property at 0x2292aa824a0>,\n",
       "              'capacitance': <property at 0x2292aa82400>,\n",
       "              'total_impedance': <function __main__.RLC_Parallel_resonance_Circuit.total_impedance(self, frequency: float) -> complex>,\n",
       "              'resonance_frequency': <function __main__.RLC_Parallel_resonance_Circuit.resonance_frequency(self) -> float>,\n",
       "              'from_standard_values': <classmethod at 0x22928eb8850>,\n",
       "              '__repr__': <function __main__.RLC_Parallel_resonance_Circuit.__repr__(self) -> str>,\n",
       "              '__str__': <function __main__.RLC_Parallel_resonance_Circuit.__str__(self) -> str>,\n",
       "              '__dict__': <attribute '__dict__' of 'RLC_Parallel_resonance_Circuit' objects>,\n",
       "              '__weakref__': <attribute '__weakref__' of 'RLC_Parallel_resonance_Circuit' objects>,\n",
       "              '__doc__': None})"
      ]
     },
     "execution_count": 52,
     "metadata": {},
     "output_type": "execute_result"
    }
   ],
   "source": [
    "RLC_Parallel_resonance_Circuit.__dict__"
   ]
  },
  {
   "cell_type": "code",
   "execution_count": 59,
   "id": "6679f5b5-00f2-4148-be19-c94c08843c7f",
   "metadata": {},
   "outputs": [],
   "source": [
    "c2=RLC_Parallel_resonance_Circuit (4,3,7)"
   ]
  },
  {
   "cell_type": "code",
   "execution_count": 60,
   "id": "584d6692-f315-4adc-a6a0-7487ef39fc81",
   "metadata": {},
   "outputs": [
    {
     "name": "stdout",
     "output_type": "stream",
     "text": [
      "RLC Parallel Circuit with resistance: 4 ohm,inductance: 3 H, capacitance: 7 F\n"
     ]
    }
   ],
   "source": [
    "print(c2)"
   ]
  },
  {
   "cell_type": "code",
   "execution_count": 61,
   "id": "34f0b1fb-45e2-4268-b130-76fbf861f5d9",
   "metadata": {},
   "outputs": [
    {
     "name": "stdout",
     "output_type": "stream",
     "text": [
      "<bound method RLC_Parallel_resonance_Circuit.resonance_frequency of RLC_Circuit(resistance=4, inductance=3,capacitance=7)>\n"
     ]
    }
   ],
   "source": [
    "print (c2.resonance_frequency)"
   ]
  },
  {
   "cell_type": "code",
   "execution_count": 43,
   "id": "35ad2f6d-6ee7-4441-9544-00f648b8a99f",
   "metadata": {},
   "outputs": [
    {
     "data": {
      "text/plain": [
       "mappingproxy({'__module__': '__main__',\n",
       "              '__init__': <function __main__.RLC_Parallel_resonance_Circuit.__init__(self, resistance=1, inductance=1, capacitance=1)>,\n",
       "              'resistance': <property at 0x2292aa43770>,\n",
       "              'inductance': <property at 0x2292aa437c0>,\n",
       "              'capacitance': <property at 0x2292aa43860>,\n",
       "              'total_impedance': <function __main__.RLC_Parallel_resonance_Circuit.total_impedance(self, frequency: float) -> complex>,\n",
       "              'resonance_frequency': <function __main__.RLC_Parallel_resonance_Circuit.resonance_frequency(self) -> float>,\n",
       "              'from_standard_values': <classmethod at 0x2292aa3e490>,\n",
       "              '__repr__': <function __main__.RLC_Parallel_resonance_Circuit.__repr__(self) -> str>,\n",
       "              '__str__': <function __main__.RLC_Parallel_resonance_Circuit.__str__(self) -> str>,\n",
       "              '__dict__': <attribute '__dict__' of 'RLC_Parallel_resonance_Circuit' objects>,\n",
       "              '__weakref__': <attribute '__weakref__' of 'RLC_Parallel_resonance_Circuit' objects>,\n",
       "              '__doc__': None})"
      ]
     },
     "execution_count": 43,
     "metadata": {},
     "output_type": "execute_result"
    }
   ],
   "source": [
    "vars(RLC_Parallel_resonance_Circuit)"
   ]
  },
  {
   "cell_type": "code",
   "execution_count": 7,
   "id": "a4926f42-e038-4422-8e1c-8bdda9e0a907",
   "metadata": {},
   "outputs": [
    {
     "name": "stdout",
     "output_type": "stream",
     "text": [
      "Help on class RLC_Parallel_resonance_Circuit in module __main__:\n",
      "\n",
      "class RLC_Parallel_resonance_Circuit(builtins.object)\n",
      " |  RLC_Parallel_resonance_Circuit(resistance=1, inductance=1, capacitance=1)\n",
      " |  \n",
      " |  Methods defined here:\n",
      " |  \n",
      " |  __init__(self, resistance=1, inductance=1, capacitance=1)\n",
      " |      Initialize self.  See help(type(self)) for accurate signature.\n",
      " |  \n",
      " |  __repr__(self) -> str\n",
      " |      Return repr(self).\n",
      " |  \n",
      " |  __str__(self) -> str\n",
      " |      Return str(self).\n",
      " |  \n",
      " |  resonance_frequency(self) -> float\n",
      " |  \n",
      " |  total_impedance(self, frequency: float) -> complex\n",
      " |  \n",
      " |  ----------------------------------------------------------------------\n",
      " |  Class methods defined here:\n",
      " |  \n",
      " |  from_standard_values() from builtins.type\n",
      " |  \n",
      " |  ----------------------------------------------------------------------\n",
      " |  Data descriptors defined here:\n",
      " |  \n",
      " |  __dict__\n",
      " |      dictionary for instance variables (if defined)\n",
      " |  \n",
      " |  __weakref__\n",
      " |      list of weak references to the object (if defined)\n",
      " |  \n",
      " |  capacitance\n",
      " |  \n",
      " |  inductance\n",
      " |  \n",
      " |  resistance\n",
      "\n"
     ]
    }
   ],
   "source": [
    "help(RLC_Parallel_resonance_Circuit)"
   ]
  },
  {
   "cell_type": "code",
   "execution_count": 8,
   "id": "dcd0b5cd-3356-40db-9faf-79d1db7f6590",
   "metadata": {},
   "outputs": [
    {
     "name": "stdout",
     "output_type": "stream",
     "text": [
      "None\n",
      "Method: __init__,   Docstring: None,   Annotations: {}\n",
      "Method: total_impedance,   Docstring: None,   Annotations: {'frequency': <class 'float'>, 'return': <class 'complex'>}\n",
      "Method: from_standard_values,   Docstring: None,   Annotations: {}\n",
      "Method: resonance_frequency,   Docstring: None,   Annotations: {'return': <class 'float'>}\n",
      "Method: __repr__,   Docstring: None,   Annotations: {'return': <class 'str'>}\n",
      "Method: __str__,   Docstring: None,   Annotations: {'return': <class 'str'>}\n"
     ]
    }
   ],
   "source": [
    "print(RLC_Parallel_resonance_Circuit.__doc__)\n",
    "for method in [\n",
    "    RLC_Parallel_resonance_Circuit.__init__,\n",
    "    RLC_Parallel_resonance_Circuit.total_impedance,\n",
    "    RLC_Parallel_resonance_Circuit.from_standard_values,\n",
    "    RLC_Parallel_resonance_Circuit.resonance_frequency,\n",
    "    RLC_Parallel_resonance_Circuit.__repr__,\n",
    "    RLC_Parallel_resonance_Circuit.__str__,\n",
    "]:\n",
    "    if isinstance(method, property):\n",
    "        print(f\"(Method: {method.fget.__name__}),  (Docstring: {method.__doc__}),  (Annotations: {method.fget.__annotations__})\")\n",
    "    else:\n",
    "        print(f\"Method: {method.__name__},   Docstring: {method.__doc__},   Annotations: {method.__annotations__}\")"
   ]
  },
  {
   "cell_type": "code",
   "execution_count": 10,
   "id": "2613bd4b-4e20-4c72-a541-5c9a1082839d",
   "metadata": {},
   "outputs": [
    {
     "name": "stdout",
     "output_type": "stream",
     "text": [
      "RLC Parallel Circuit with resistance: 1 ohm,inductance: 1 H, capacitance: 1 F\n"
     ]
    },
    {
     "data": {
      "text/plain": [
       "RLC_Circuit(resistance=1, inductance=1,capacitance=1)"
      ]
     },
     "execution_count": 10,
     "metadata": {},
     "output_type": "execute_result"
    }
   ],
   "source": [
    "RLC_parallel_resonance1 = RLC_Parallel_resonance_Circuit()\n",
    "print(RLC_parallel_resonance1)\n",
    "RLC_parallel_resonance1"
   ]
  },
  {
   "cell_type": "code",
   "execution_count": null,
   "id": "b3a91df0-3831-487e-be77-ba381ff92047",
   "metadata": {},
   "outputs": [],
   "source": []
  },
  {
   "cell_type": "code",
   "execution_count": null,
   "id": "3f7f36f4-8183-4a05-8a03-62eaca7b4757",
   "metadata": {},
   "outputs": [],
   "source": []
  }
 ],
 "metadata": {
  "kernelspec": {
   "display_name": "Python 3 (ipykernel)",
   "language": "python",
   "name": "python3"
  },
  "language_info": {
   "codemirror_mode": {
    "name": "ipython",
    "version": 3
   },
   "file_extension": ".py",
   "mimetype": "text/x-python",
   "name": "python",
   "nbconvert_exporter": "python",
   "pygments_lexer": "ipython3",
   "version": "3.11.5"
  }
 },
 "nbformat": 4,
 "nbformat_minor": 5
}
