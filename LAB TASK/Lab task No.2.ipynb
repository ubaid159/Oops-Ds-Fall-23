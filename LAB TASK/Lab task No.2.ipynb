{
 "cells": [
  {
   "cell_type": "markdown",
   "id": "a8e1ff36-7853-4e40-9221-7ac72bb1a029",
   "metadata": {},
   "source": [
    "# **LAB TASK** \n"
   ]
  },
  {
   "cell_type": "markdown",
   "id": "3f2620cb-65b9-4c80-9adc-0f26a3c4dc1a",
   "metadata": {},
   "source": [
    "| MUHAMMAD KASHIF |\n",
    "|------------------------|\n",
    "|REG.NO : 23JZELE0517   |\n"
   ]
  },
  {
   "cell_type": "code",
   "execution_count": 62,
   "id": "298231a8-1c94-47cd-9ad1-3fd359a0e473",
   "metadata": {},
   "outputs": [
    {
     "name": "stdout",
     "output_type": "stream",
     "text": [
      "Hello, Khan\n",
      "Hey Khan, there is a 0xbadc0ffee error!\n",
      "Hey Khan, there is a 0xbadc0ffee error!\n"
     ]
    }
   ],
   "source": [
    "errno = 50159747054\n",
    "name = 'Khan'\n",
    "print('Hello, %s' % name)\n",
    "print('Hey %s, there is a 0x%x error!' % (name, errno))\n",
    "print('Hey %(name)s, there is a 0x%(errno)x error!' % { \"name\": name, \"errno\": errno })"
   ]
  },
  {
   "cell_type": "code",
   "execution_count": 63,
   "id": "614a200c-4608-4684-8649-3eb057e0c8d2",
   "metadata": {},
   "outputs": [
    {
     "name": "stdout",
     "output_type": "stream",
     "text": [
      "Hello, Khan\n"
     ]
    }
   ],
   "source": [
    "# a.\n",
    "print('Hello, {}'.format(name))\n"
   ]
  },
  {
   "cell_type": "code",
   "execution_count": 64,
   "id": "79c2a217-370f-4fcc-9532-a33b681f5bd7",
   "metadata": {},
   "outputs": [
    {
     "name": "stdout",
     "output_type": "stream",
     "text": [
      "Hello, Khan!\n"
     ]
    }
   ],
   "source": [
    "# a.\n",
    "print(f'Hello, {name}!')\n"
   ]
  },
  {
   "cell_type": "markdown",
   "id": "f609fc46-8f25-4f53-b539-6653794060f8",
   "metadata": {},
   "source": [
    "___"
   ]
  },
  {
   "cell_type": "markdown",
   "id": "a26b96cb-fc8c-4f98-a038-8a1882031fae",
   "metadata": {},
   "source": [
    "**Define a function that will take the name and registration number of a student and print it Include appropriate docstrings.**  \n",
    "- a. The argument pass will like positional arguments.  \n",
    "- b. The arguments passing will like keyword arguments. \n",
    "- c. The arguments passing will like default arguments.  \n",
    "- d. Pass the arguments of one style to the other.  \n",
    "- e. Passing less number of arguments and check the error message.  \n",
    "- f. Verify that whether positional argument follows keyword argument "
   ]
  },
  {
   "cell_type": "code",
   "execution_count": 1,
   "id": "6ac03d31-b040-40df-888e-508cb609d021",
   "metadata": {},
   "outputs": [
    {
     "name": "stdout",
     "output_type": "stream",
     "text": [
      "Name: M.KASHIF, Registration Number: 517\n",
      "Name: M.KASHIF, Registration Number: 517\n",
      "Name: empty, Registration Number: 0\n"
     ]
    }
   ],
   "source": [
    "def student_info(name='empty', reg_no=0):\n",
    "    print(f\"Name: {name}, Registration Number: {reg_no}\")\n",
    "\n",
    "student_info('M.KASHIF', 517)\n",
    "student_info(name='M.KASHIF', reg_no=517)\n",
    "student_info()\n"
   ]
  },
  {
   "cell_type": "markdown",
   "id": "9b3624b0-eac7-43f4-bbec-2f536379f97e",
   "metadata": {},
   "source": [
    "___"
   ]
  },
  {
   "cell_type": "markdown",
   "id": "4e1909ed-cc5c-4b82-89fe-2b2e4ef3e3fa",
   "metadata": {},
   "source": [
    "> Define a function that will take the parameters as current and resistance and will output the \n",
    "voltage across the resistance. Include appropriate docstrings. \n",
    "- a. The argument pass will like positional arguments.  \n",
    "- b. The arguments passing will like keyword arguments. \n",
    "- c. The arguments passing will like default arguments.  \n",
    "- d. Pass the arguments of one style to the other.  \n",
    "- e. Passing less number of arguments and check the error message.  \n",
    "- f. Verify that whether positional argument follows keyword argument."
   ]
  },
  {
   "cell_type": "code",
   "execution_count": 2,
   "id": "8b2d483e-8474-46a5-bca9-269a16b4f103",
   "metadata": {},
   "outputs": [
    {
     "name": "stdout",
     "output_type": "stream",
     "text": [
      "(Total Voltage = 10.0)\n",
      "(Total Voltage = 18.0)\n"
     ]
    }
   ],
   "source": [
    "def calculate_voltage(current, resistance):\n",
    "    return f\"(Total Voltage = {current * resistance})\"\n",
    "\n",
    "print(calculate_voltage(2.0, 5.0))\n",
    "print(calculate_voltage(resistance=9.0, current=2.0))\n",
    "\n"
   ]
  },
  {
   "cell_type": "markdown",
   "id": "b1fcb068-f95b-4235-9c3c-cd8727f63d33",
   "metadata": {},
   "source": [
    "***iii. Define a function with name  charge_from_solar and pass the state of charge (SOC) to the \n",
    "function. If SOC is less than 20% display charging if it is above 90% do nothing and return and if it \n",
    "is in between display that battery will be charge and there is --- % of charge in the battery. Include  \n",
    "appropriate docstrings. Print the doc string. Also add annotation to the function parameters and \n",
    "return type.***"
   ]
  },
  {
   "cell_type": "code",
   "execution_count": 12,
   "id": "b31a1650-1051-4f40-8adf-e4c6557e1fc7",
   "metadata": {},
   "outputs": [],
   "source": [
    "def charge_from_solar(soc):\n",
    "    if soc < 20:\n",
    "        print(\"Charging...\")\n",
    "    elif soc > 90:\n",
    "        return\n",
    "    else:\n",
    "        print(f\"Battery will be charged. Current SOC: {soc}%\")\n",
    "        "
   ]
  },
  {
   "cell_type": "code",
   "execution_count": 14,
   "id": "ba09b6f4-c998-41bb-8857-aa794768e2f7",
   "metadata": {},
   "outputs": [
    {
     "name": "stdout",
     "output_type": "stream",
     "text": [
      "Charging...\n"
     ]
    }
   ],
   "source": [
    "charge_from_solar(12)"
   ]
  },
  {
   "cell_type": "code",
   "execution_count": 15,
   "id": "a58563c2-c9c0-4866-a87c-86cc54561974",
   "metadata": {},
   "outputs": [
    {
     "name": "stdout",
     "output_type": "stream",
     "text": [
      "Battery will be charged. Current SOC: 67%\n"
     ]
    }
   ],
   "source": [
    "charge_from_solar(67)"
   ]
  },
  {
   "cell_type": "markdown",
   "id": "13a4ea45-33f6-4a75-a098-120c2cf02c97",
   "metadata": {},
   "source": [
    "---"
   ]
  },
  {
   "cell_type": "markdown",
   "id": "a18edd88-cd49-4da3-808e-bc54999aefdb",
   "metadata": {},
   "source": [
    "**Define three function. Function one name is resistance which will return a list of five resistances. \n",
    "The second function name is voltage which will return a list of voltage across each of these \n",
    "resisters.  Include appropriate docstrings. Print the doc string. Also add annotation to the function \n",
    "parameters and return type.**\n",
    "- a. Pass these two lists to a third function name current which will calculate the current \n",
    "flowing through each resister and will return that list to the main program. The main \n",
    "program will print all the three lists in well formatting.  \n",
    "- b. In part a return the data in tuple.  \n",
    "- c. Return the data from current function as dictionary with keys current_1 to current_5. "
   ]
  },
  {
   "cell_type": "code",
   "execution_count": 7,
   "id": "7595f971-52f2-44a3-a494-a3d325de508a",
   "metadata": {},
   "outputs": [],
   "source": [
    "def resistance() -> list:\n",
    "    return [10, 20, 30, 40, 50]\n",
    "\n",
    "\n",
    "def voltage() -> list:\n",
    "    return [5, 10, 15, 20, 25]\n",
    "\n",
    "\n",
    "def current(resistances: list, voltages: list) -> list:\n",
    "    return [v / r for v, r in zip(voltages, resistances)]\n",
    "\n",
    "\n",
    "def current_as_tuple(resistances: list, voltages: list) -> tuple:\n",
    "    return tuple(v / r for v, r in zip(voltages, resistances))\n",
    "\n",
    "\n",
    "def current_as_dict(resistances: list, voltages: list) -> dict:\n",
    "    return {f\"current_{i+1}\": v / r for i, (v, r) in enumerate(zip(voltages, resistances))}"
   ]
  },
  {
   "cell_type": "code",
   "execution_count": 8,
   "id": "52a5b6a3-5d90-4442-bcb2-c9f0ab5cd6b1",
   "metadata": {},
   "outputs": [],
   "source": [
    "    resistances = resistance()\n",
    "    voltages = voltage()"
   ]
  },
  {
   "cell_type": "code",
   "execution_count": 9,
   "id": "1b0b8711-c35d-4a30-bae4-f300a9242405",
   "metadata": {},
   "outputs": [],
   "source": [
    "    currents_list = current(resistances, voltages)\n",
    "    currents_tuple = current_as_tuple(resistances, voltages)\n",
    "    currents_dict = current_as_dict(resistances, voltages)"
   ]
  },
  {
   "cell_type": "code",
   "execution_count": 10,
   "id": "56254f41-4d92-4326-9df6-5de49b330b90",
   "metadata": {},
   "outputs": [
    {
     "name": "stdout",
     "output_type": "stream",
     "text": [
      "[10, 20, 30, 40, 50]\n",
      "[5, 10, 15, 20, 25]\n",
      "[0.5, 0.5, 0.5, 0.5, 0.5]\n",
      "(0.5, 0.5, 0.5, 0.5, 0.5)\n",
      "{'current_1': 0.5, 'current_2': 0.5, 'current_3': 0.5, 'current_4': 0.5, 'current_5': 0.5}\n"
     ]
    }
   ],
   "source": [
    "    print(resistances)\n",
    "    print(voltages)\n",
    "    print(currents_list)\n",
    "    print(currents_tuple)\n",
    "    print(currents_dict)"
   ]
  },
  {
   "cell_type": "code",
   "execution_count": 11,
   "id": "52e1d1a6-3484-4e0c-b71d-7869fd023399",
   "metadata": {},
   "outputs": [
    {
     "name": "stdout",
     "output_type": "stream",
     "text": [
      "\n",
      "None\n",
      "None\n",
      "None\n"
     ]
    }
   ],
   "source": [
    "    print()\n",
    "    print(resistance.__doc__)\n",
    "    print(voltage.__doc__)\n",
    "    print(current.__doc__)"
   ]
  },
  {
   "cell_type": "code",
   "execution_count": 12,
   "id": "d9cd36ad-af27-48a2-a03f-f16c8b801748",
   "metadata": {},
   "outputs": [
    {
     "name": "stdout",
     "output_type": "stream",
     "text": [
      "\n",
      "{'return': <class 'list'>}\n",
      "{'return': <class 'list'>}\n",
      "{'resistances': <class 'list'>, 'voltages': <class 'list'>, 'return': <class 'list'>}\n",
      "{'resistances': <class 'list'>, 'voltages': <class 'list'>, 'return': <class 'tuple'>}\n",
      "{'resistances': <class 'list'>, 'voltages': <class 'list'>, 'return': <class 'dict'>}\n"
     ]
    }
   ],
   "source": [
    "    print()\n",
    "    print(resistance.__annotations__)\n",
    "    print(voltage.__annotations__)\n",
    "    print(current.__annotations__)\n",
    "    print( current_as_tuple.__annotations__)\n",
    "    print(current_as_dict.__annotations__)\n"
   ]
  },
  {
   "cell_type": "markdown",
   "id": "450011d3-89be-4efe-b8bc-30cac8ad1d3a",
   "metadata": {},
   "source": [
    "---"
   ]
  },
  {
   "cell_type": "markdown",
   "id": "46c7e617-26f0-46eb-bb26-98448e13a030",
   "metadata": {},
   "source": [
    ">**Define a function with name series. The function will take a list or tuple of resisters. The function \n",
    "will return the net resistance. Note that your function must be capable for any number of \n",
    "resisters. Note: Use elegant approach. Include appropriate docstrings. Print the doc string. Also \n",
    "add annotation to the function parameters and return type. In addition, display annotation using \n",
    "special dunder attribute of the function called __annotations__.**"
   ]
  },
  {
   "cell_type": "code",
   "execution_count": 13,
   "id": "54762d81-0e45-4b46-bd5b-29ea6b1a0936",
   "metadata": {},
   "outputs": [],
   "source": [
    "def series(resistors):\n",
    "    return sum(resistors)"
   ]
  },
  {
   "cell_type": "code",
   "execution_count": 14,
   "id": "99eff9cc-4bb6-408a-8d6d-871c3bd63e0a",
   "metadata": {},
   "outputs": [
    {
     "name": "stdout",
     "output_type": "stream",
     "text": [
      "None\n"
     ]
    }
   ],
   "source": [
    "print(series.__doc__)"
   ]
  },
  {
   "cell_type": "code",
   "execution_count": 15,
   "id": "f455548b-e544-47f8-b964-6638ad9f4516",
   "metadata": {},
   "outputs": [
    {
     "name": "stdout",
     "output_type": "stream",
     "text": [
      "{}\n"
     ]
    }
   ],
   "source": [
    "print(series.__annotations__)"
   ]
  },
  {
   "cell_type": "code",
   "execution_count": 16,
   "id": "5663cbf5-1d47-4da8-87af-96efa12f25e0",
   "metadata": {},
   "outputs": [],
   "source": [
    "resistor_list = [10, 20, 30, 40, 50]\n",
    "resistor_tuple = (5, 15, 25, 35, 45)"
   ]
  },
  {
   "cell_type": "code",
   "execution_count": 17,
   "id": "2cd21887-733e-4db6-a529-1785ff867e9b",
   "metadata": {},
   "outputs": [
    {
     "name": "stdout",
     "output_type": "stream",
     "text": [
      "Net resistance (list): 150 ohms\n"
     ]
    }
   ],
   "source": [
    "print(f\"Net resistance (list): {series(resistor_list)} ohms\")"
   ]
  },
  {
   "cell_type": "code",
   "execution_count": 18,
   "id": "013652fc-04f3-48f2-a702-1c908823d691",
   "metadata": {},
   "outputs": [
    {
     "name": "stdout",
     "output_type": "stream",
     "text": [
      "Net resistance (tuple): 125 ohms\n"
     ]
    }
   ],
   "source": [
    "print(f\"Net resistance (tuple): {series(resistor_tuple)} ohms\")"
   ]
  },
  {
   "cell_type": "markdown",
   "id": "6365c592-b78e-4f9b-ac64-55cabbb5d26a",
   "metadata": {},
   "source": [
    "___"
   ]
  },
  {
   "cell_type": "markdown",
   "id": "009f18f3-b968-4eee-9e36-c2173b071f5b",
   "metadata": {},
   "source": [
    "***Define a function with name parallel. The function will take a list or tuple of resisters. The function \n",
    "will return the net resistance. Note that your function must be capable for any number of \n",
    "resisters. Note: Use elegant approach. Include appropriate docstrings. Print the doc string. Also \n",
    "add annotation to the function parameters and return type. In addition, display annotation using \n",
    "special dunder attribute of the function called __annotations__.***  "
   ]
  },
  {
   "cell_type": "code",
   "execution_count": 19,
   "id": "8a05370f-4fa1-4c31-b839-4ba1a73b912c",
   "metadata": {},
   "outputs": [],
   "source": [
    "def parallel(resistors):\n",
    "    if not resistors:\n",
    "        raise ValueError()\n",
    "    return 1 / sum(1 / r for r in resistors)"
   ]
  },
  {
   "cell_type": "code",
   "execution_count": 20,
   "id": "2f6a3953-8b0d-4e77-adca-cc167442d7fa",
   "metadata": {},
   "outputs": [
    {
     "name": "stdout",
     "output_type": "stream",
     "text": [
      "None\n"
     ]
    }
   ],
   "source": [
    "print(parallel.__doc__)"
   ]
  },
  {
   "cell_type": "code",
   "execution_count": 21,
   "id": "030b07b8-0cec-44b8-9695-00e5a176d734",
   "metadata": {},
   "outputs": [
    {
     "name": "stdout",
     "output_type": "stream",
     "text": [
      "{}\n"
     ]
    }
   ],
   "source": [
    "print(parallel.__annotations__)"
   ]
  },
  {
   "cell_type": "code",
   "execution_count": 22,
   "id": "1b53aa55-c727-4265-8fb3-e82faa0722e8",
   "metadata": {},
   "outputs": [],
   "source": [
    "resistors_list = [10, 20, 30]\n",
    "resistors_tuple = (5, 15, 25)"
   ]
  },
  {
   "cell_type": "code",
   "execution_count": 23,
   "id": "129d19c3-c850-44e0-b7d7-01c9d012d39e",
   "metadata": {},
   "outputs": [
    {
     "name": "stdout",
     "output_type": "stream",
     "text": [
      "Net resistance (list): 5.454545454545454\n",
      "Net resistance (tuple): 3.2608695652173916\n"
     ]
    }
   ],
   "source": [
    "print(f\"Net resistance (list): {parallel(resistors_list)}\")\n",
    "print(f\"Net resistance (tuple): {parallel(resistors_tuple)}\")"
   ]
  },
  {
   "cell_type": "markdown",
   "id": "99860830-50f6-4253-b173-630032d6ed39",
   "metadata": {},
   "source": [
    ">**The more elegant approach is to pass dictionary and use dictionary unpacking. Consider a \n",
    "scenario in which you receive the data of battery SOC (% age), solar generation (Kw) and market \n",
    "price (per unit in rupees) from a hybrid solar inverter that are connected with green meter in a \n",
    "dictionary like {‘SOC’: 60, ‘solar generation’: 2, ‘price’: 60}. Design a function that will receive \n",
    "this dictionary and print these values in a well format. Include appropriate docstrings. Also add \n",
    "annotation to the function parameters and return type. In addition, display annotation using \n",
    "special dunder attribute of the function called __annotations__.** "
   ]
  },
  {
   "cell_type": "code",
   "execution_count": 24,
   "id": "ec8eb1d6-7bd8-40d0-b58a-ea640fd6b712",
   "metadata": {},
   "outputs": [
    {
     "name": "stdout",
     "output_type": "stream",
     "text": [
      "{}\n",
      "Battery SOC: 60%\n",
      "Solar Generation: 2 kW\n",
      "Market Price: 60 rupees/unit\n",
      "Battery SOC: 80%\n",
      "Solar Generation: 3 kW\n",
      "Market Price: 70 rupees/unit\n"
     ]
    }
   ],
   "source": [
    "def display_inverter_data(data):\n",
    "    soc, solar_gen, price = data\n",
    "    print(f\"Battery SOC: {soc}%\")\n",
    "    print(f\"Solar Generation: {solar_gen} kW\")\n",
    "    print(f\"Market Price: {price} rupees/unit\")\n",
    "\n",
    "print(display_inverter_data.__annotations__)\n",
    "\n",
    "data_list = [60, 2, 60]\n",
    "data_tuple = (80, 3, 70)\n",
    "\n",
    "display_inverter_data(data_list)\n",
    "display_inverter_data(data_tuple)\n"
   ]
  },
  {
   "cell_type": "markdown",
   "id": "e3ce7bf1-6311-42be-972b-8c459833dc6a",
   "metadata": {},
   "source": [
    ">***Change the scenario while keep the more elegant approach of pass dictionary and use dictionary \n",
    "packing. Consider a scenario in which you receive the data of battery SOC (% age), solar \n",
    "generation (Kw) and market price (per unit in rupees) from a hybrid solar inverter that are \n",
    "connected with green meter in a dictionary like {‘SOC’: 60, ‘solar generation’: 2, ‘price’: 60}. Let \n",
    "you pass these value in a function call like solar (SOC = 60, solar generation =  2, price =  60). \n",
    "Design a function that will receive these argument as a dictionary and print these values in a \n",
    "well format. Include appropriate docstrings. Also add annotation to the function parameters and \n",
    "return type. In addition, display annotation using special dunder attribute of the function \n",
    "called __annotations__.*** "
   ]
  },
  {
   "cell_type": "code",
   "execution_count": 3,
   "id": "9aa26247-2288-4613-9155-fc190072c886",
   "metadata": {},
   "outputs": [
    {
     "name": "stdout",
     "output_type": "stream",
     "text": [
      "None\n",
      "{'data': <class 'dict'>, 'return': None}\n",
      "Battery SOC: 60%\n",
      "Solar Generation: N/A kW\n",
      "Market Price: 60 rupees/unit\n",
      "Battery SOC: 75%\n",
      "Solar Generation: N/A kW\n",
      "Market Price: 65 rupees/unit\n"
     ]
    }
   ],
   "source": [
    "def solar(**data: dict) -> None:\n",
    "    print(f\"Battery SOC: {data.get('SOC', 'N/A')}%\")\n",
    "    print(f\"Solar Generation: {data.get('solar generation', 'N/A')} kW\")\n",
    "    print(f\"Market Price: {data.get('price', 'N/A')} rupees/unit\")\n",
    "\n",
    "\n",
    "print(solar.__doc__)\n",
    "\n",
    "print(solar.__annotations__)\n",
    "\n",
    "solar(SOC=60, solar_generation=2, price=60)\n",
    "solar(SOC=75, solar_generation=3.5, price=65)\n"
   ]
  },
  {
   "cell_type": "code",
   "execution_count": null,
   "id": "b02ca85f-726c-41f3-a4d5-5b299a4ed0cc",
   "metadata": {},
   "outputs": [],
   "source": []
  }
 ],
 "metadata": {
  "kernelspec": {
   "display_name": "Python 3 (ipykernel)",
   "language": "python",
   "name": "python3"
  },
  "language_info": {
   "codemirror_mode": {
    "name": "ipython",
    "version": 3
   },
   "file_extension": ".py",
   "mimetype": "text/x-python",
   "name": "python",
   "nbconvert_exporter": "python",
   "pygments_lexer": "ipython3",
   "version": "3.9.19"
  }
 },
 "nbformat": 4,
 "nbformat_minor": 5
}
