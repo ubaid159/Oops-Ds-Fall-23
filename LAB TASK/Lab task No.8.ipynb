{
 "cells": [
  {
   "cell_type": "markdown",
   "id": "e59e75b7-9877-404b-8dad-f497a2f5f9b0",
   "metadata": {},
   "source": [
    "<center><span style=\"\n",
    "    font-size: 30px;\n",
    "    font-family: castellar;\n",
    "    color: BLUE;\n",
    "    font-weight: bold;\n",
    "    letter-spacing: 1px;\n",
    "    text-shadow: 3px 1px 0px rgba(0, ,0, 1, 1)\n",
    "\">\n",
    "    LAB TASK NO.8\n",
    "</span></center>"
   ]
  },
  {
   "cell_type": "markdown",
   "id": "d9a013a6-0206-4d47-b017-afac063598ed",
   "metadata": {},
   "source": [
    "<center><span style=\"\n",
    "    font-size: 25px;\n",
    "    font-family: Arial Black;\n",
    "    color: light green;\n",
    "    font-weight: bold;\n",
    "    letter-spacing: 1px;\n",
    "    text-shadow: 3px 1px 0px rgba(0, ,0, 1, 1)\n",
    "\">\n",
    "    Multi-Level Inheritance\n",
    "</span></center>"
   ]
  },
  {
   "cell_type": "markdown",
   "id": "24b09d5a-f353-446e-bc18-fa2384e25a48",
   "metadata": {},
   "source": [
    "## Problem 1:\n",
    "#### e.\tConstruct a rectangle class \n",
    "#### f.\tInherit a square class from the rectangle class.\n",
    "#### g.\tCreate a class Cube that inherits from Square and extends the functionality of .area () (inherited from the Rectangle class through Square) to calculate the surface area and volume of Cube.\n",
    "#### h.\tCreate two instances of the cube class and call both the instance methods. "
   ]
  },
  {
   "cell_type": "code",
   "execution_count": 3,
   "id": "f3182bb6-29ac-4ae2-948b-3e07abdff0d0",
   "metadata": {},
   "outputs": [],
   "source": [
    "class Rectangle:\n",
    "    def __init__(self, width, height):\n",
    "        self.width = width\n",
    "        self.height = height\n",
    "\n",
    "    def area(self):\n",
    "        return self.width * self.height\n",
    "\n",
    "class Square(Rectangle):\n",
    "    def __init__(self, side_length):\n",
    "        super().__init__(side_length, side_length)\n",
    "\n",
    "class Cube(Square):\n",
    "    def __init__(self, side_length):\n",
    "        super().__init__(side_length)\n",
    "        self.side_length = side_length\n",
    "\n",
    "    def surface_area(self):\n",
    "        return 6 * (self.side_length ** 2)\n",
    "\n",
    "    def volume(self):\n",
    "        return self.side_length ** 3"
   ]
  },
  {
   "cell_type": "code",
   "execution_count": 4,
   "id": "ac54f581-d84d-4006-8308-639e900b212e",
   "metadata": {},
   "outputs": [],
   "source": [
    "cube1 = Cube(3)  \n",
    "cube2 = Cube(5)  "
   ]
  },
  {
   "cell_type": "code",
   "execution_count": 5,
   "id": "df06d7ae-5a48-4a76-9afc-3f4d4f043358",
   "metadata": {},
   "outputs": [
    {
     "name": "stdout",
     "output_type": "stream",
     "text": [
      "Cube 1: Surface Area = 54 | Volume = 27\n"
     ]
    }
   ],
   "source": [
    "print(f\"Cube 1: Surface Area = {cube1.surface_area()} | Volume = {cube1.volume()}\")"
   ]
  },
  {
   "cell_type": "code",
   "execution_count": 6,
   "id": "a19ad178-bb09-4e32-a8d4-3042105a3d9e",
   "metadata": {},
   "outputs": [
    {
     "name": "stdout",
     "output_type": "stream",
     "text": [
      "Cube 2: Surface Area = 150 | Volume = 125\n"
     ]
    }
   ],
   "source": [
    "print(f\"Cube 2: Surface Area = {cube2.surface_area()} | Volume = {cube2.volume()}\")"
   ]
  },
  {
   "cell_type": "markdown",
   "id": "0876924c-6374-4b85-9247-c8f180bebb61",
   "metadata": {},
   "source": [
    "## Problem 2:\n",
    "### 1.\tStart adding the new classes to the existing class. \n",
    "#### ProductivitySystem tracks productivity based on employee roles. There are different employee roles:\n",
    "#### •\tManagers: They walk around yelling at people, telling them what to do. They’re salaried employees and make more money.\n",
    "#### •\tSecretaries: They do all the paperwork for managers and ensure that everything gets billed and paid on time. They’re also salaried employees but make less money.\n",
    "#### •\tSales employees: They make a lot of phone calls to sell products. They have a salary, but they also get commissions for sales.\n",
    "#### •\tFactory workers: They manufacture the products for the company. They’re paid by the hour.\n",
    "#### First, you add a Manager class that derives from SalaryEmployee. The class exposes a .work () method that the productivity system will use. The method takes the hours that the employee worked.\n",
    "#### Then you add the Secretary, SalesPerson, and FactoryWorker and then implement the .work () interface, so they can be used by the productivity system\n"
   ]
  },
  {
   "cell_type": "code",
   "execution_count": 36,
   "id": "05a58786-3725-4a22-a324-4d1f4c2e18a4",
   "metadata": {},
   "outputs": [],
   "source": [
    "class SalaryEmployee:\n",
    "    def __init__(self, name, salary):\n",
    "        self.name = name\n",
    "        self.salary = salary\n",
    "\n",
    "    def work(self, hours):\n",
    "        print(f\"{self.name} worked {hours} hours, fixed salary: ${self.salary}\")\n",
    "\n",
    "\n",
    "class Manager(SalaryEmployee):\n",
    "    def __init__(self, name, salary):\n",
    "        super().__init__(name, salary)\n",
    "\n",
    "    def work(self, hours):\n",
    "        print(f\"Manager {self.name} worked {hours} hours. They make $ {self.salary}.\")\n",
    " \n",
    "class Secretary(SalaryEmployee):\n",
    "    def __init__(self, name, salary):\n",
    "        super().__init__(name, salary)\n",
    "\n",
    "    def work(self, hours):\n",
    "        print(f\"Secretary {self.name} worked {hours} hours. Their salary is ${self.salary}.\")\n",
    "\n",
    "\n",
    "class SalesPerson(SalaryEmployee):\n",
    "    def __init__(self, name, salary, commission_rate):\n",
    "        super().__init__(name, salary)\n",
    "        self.commission_rate = commission_rate\n",
    "        self.sales = 0  \n",
    "        \n",
    "    def work(self, hours):\n",
    "        commission = self.sales * self.commission_rate\n",
    "        total_pay = self.salary + commission\n",
    "        print(f\"Salesperson {self.name} worked {hours} hours. Salary: ${self.salary}, Commission: ${commission}, Total pay: ${total_pay}\")\n",
    "\n",
    "    def make_sale(self, sale_amount):\n",
    "        self.sales += sale_amount\n",
    "        print(f\"Salesperson {self.name} made a sale of ${sale_amount}\")\n",
    "\n",
    "\n",
    "class FactoryWorker:\n",
    "    def __init__(self, name, hourly_rate):\n",
    "        self.name = name\n",
    "        self.hourly_rate = hourly_rate\n",
    "\n",
    "    def work(self, hours):\n",
    "        payment = self.hourly_rate * hours\n",
    "        print(f\"Factory Worker {self.name} worked {hours} hours. Total earned: ${payment}\")"
   ]
  },
  {
   "cell_type": "code",
   "execution_count": 39,
   "id": "0c735bcb-e14a-43da-bac0-304b1167889b",
   "metadata": {},
   "outputs": [],
   "source": [
    "manager = Manager(\"abbas\", 80000)\n",
    "secretary = Secretary(\"kashif\", 50000) \n",
    "salesperson = SalesPerson(\"ubaid\", 40000, 0.1)  \n",
    "worker = FactoryWorker(\"asim\", 15)  "
   ]
  },
  {
   "cell_type": "code",
   "execution_count": 40,
   "id": "e11a8096-4dce-44e6-b18c-563660a04e02",
   "metadata": {},
   "outputs": [
    {
     "name": "stdout",
     "output_type": "stream",
     "text": [
      "Secretary kashif worked 40 hours. Their salary is $50000.\n",
      "Salesperson ubaid worked 40 hours. Salary: $40000, Commission: $0.0, Total pay: $40000.0\n",
      "Salesperson ubaid made a sale of $2000\n",
      "Salesperson ubaid worked 40 hours. Salary: $40000, Commission: $200.0, Total pay: $40200.0\n",
      "Factory Worker asim worked 40 hours. Total earned: $600\n"
     ]
    }
   ],
   "source": [
    "secretary.work(40)\n",
    "salesperson.work(40)  \n",
    "salesperson.make_sale(2000)  \n",
    "salesperson.work(40)  \n",
    "worker.work(40)"
   ]
  },
  {
   "cell_type": "code",
   "execution_count": null,
   "id": "ab25a653-0c60-42e1-91a3-e640d02cb299",
   "metadata": {},
   "outputs": [],
   "source": []
  }
 ],
 "metadata": {
  "kernelspec": {
   "display_name": "Python 3 (ipykernel)",
   "language": "python",
   "name": "python3"
  },
  "language_info": {
   "codemirror_mode": {
    "name": "ipython",
    "version": 3
   },
   "file_extension": ".py",
   "mimetype": "text/x-python",
   "name": "python",
   "nbconvert_exporter": "python",
   "pygments_lexer": "ipython3",
   "version": "3.9.19"
  }
 },
 "nbformat": 4,
 "nbformat_minor": 5
}
