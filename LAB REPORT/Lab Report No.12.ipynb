{
 "cells": [
  {
   "cell_type": "markdown",
   "id": "b8aed599-b25b-452e-bf08-7e097950c92d",
   "metadata": {},
   "source": [
    "# <center><span style=\"font-family: Arial, sans-serif; font-size: 24px; font-weight: bold;\">Fall EE-271 OOP and Data Structures Lab</span></Center>\n"
   ]
  },
  {
   "cell_type": "markdown",
   "id": "58ca3e3b-7d75-465e-9123-22ca5be4cc9c",
   "metadata": {},
   "source": [
    "# Lab Report Details\n",
    "\n",
    "| **Field**        | **Details**         |\n",
    "|-------------------|---------------------|\n",
    "| **Name**         | MUHAMMAD Ubaid        |\n",
    "| **Req No**       | 23jzele 0556         |\n",
    "| **Lab Report No**| 12                 |"
   ]
  },
  {
   "cell_type": "markdown",
   "id": "2f9ed388-6bc1-448e-92b8-a2de909ae008",
   "metadata": {},
   "source": [
    "# Understanding the Concept of Queue Algorithms in OOP (Python)\n",
    "\n",
    "## Aim:\n",
    "To understand the concept of queue algorithms in Object-Oriented Programming (OOP) using Python.\n",
    "\n",
    "## Introduction:\n",
    "A **queue** is a fundamental data structure in computer science that operates on the **First-In-First-Out (FIFO)** principle. In a queue, elements are added at the **rear** (enqueue) and removed from the **front** (dequeue). This ensures that the **oldest element** in the queue is processed first.\n",
    "\n",
    "## Types of Queue:\n",
    "1. **List Queue**  \n",
    "   A queue implementation using Python's built-in list, where elements are appended at the end and removed from the front.\n",
    "\n",
    "2. **Deque Queue**  \n",
    "   A queue implemented using Python's `collections.deque` module, which is optimized for fast appends and pops from both ends.\n",
    "\n",
    "3. **Node-Based Queue**  \n",
    "   A queue implemented using a linked list, where each element (node) contains a value and a reference to the next node.\n"
   ]
  },
  {
   "cell_type": "markdown",
   "id": "141f294c-ef58-45d0-b62e-07c292988657",
   "metadata": {},
   "source": [
    "# List Queue in Python\n",
    "1) ### `__init__(self)` Method\n",
    "\n",
    "##### This is the constructor method that initializes a new instance of the `Queue` class. It creates an empty list (`self.items`) to store the elements of the queue.\n",
    "\n",
    "2) ### `is_empty(self)` Method\n",
    "\n",
    "##### This method checks whether the queue is empty.\n",
    "\n",
    "3) ### `dequeue(self)` Method\n",
    "\n",
    "##### This method removes and returns the item from the front of the queue. It uses the `pop(0)` method to remove and return the first element in the list. Before attempting to dequeue, it checks if the queue is empty using the `is_empty` method to avoid errors.\n",
    "\n",
    "4) ### Example: Basic Functionality of a Queue\n",
    "\n",
    "#### This example demonstrates the creation of a `Queue` object, adding elements to the queue (`enqueue`), removing elements from the queue (`dequeue`), and checking if the queue is empty.\n",
    "\n",
    "## Code:"
   ]
  },
  {
   "cell_type": "code",
   "execution_count": 1,
   "id": "c1fdd15b-4d2d-496a-9c8b-4ac6da9df389",
   "metadata": {},
   "outputs": [],
   "source": [
    "class Queue:\n",
    "    def __init__(self):\n",
    "        self.items = []\n",
    "\n",
    "    def is_empty(self):\n",
    "        return len(self.items) == 0\n",
    "    \n",
    "    def enqueue(self, item):\n",
    "        self.items.append(item)\n",
    "\n",
    "    def dequeue(self):\n",
    "        if not self.is_empty():\n",
    "            return self.items.pop(0)\n",
    "        else:\n",
    "            print(\"Queue is empty. Cannot dequeue.\")"
   ]
  },
  {
   "cell_type": "code",
   "execution_count": 2,
   "id": "247aec3c-8340-4c7f-b0c7-25997eb138d7",
   "metadata": {},
   "outputs": [],
   "source": [
    "my_queue = Queue()\n",
    "my_queue.enqueue(1)\n",
    "my_queue.enqueue(2)\n",
    "my_queue.enqueue(3)"
   ]
  },
  {
   "cell_type": "markdown",
   "id": "b20cb157-640c-474e-bfc2-91de8080a3b9",
   "metadata": {},
   "source": [
    "### 2. DEQUE QUEUE\n",
    "\n",
    "A **deque** (double-ended queue) is a data structure that allows elements to be added or removed from both ends. It provides greater flexibility than a standard queue and is ideal for use cases like maintaining sliding windows, palindromes, or implementing algorithms that require access to both ends of a collection.\n",
    "\n",
    "In Python, the `collections.deque` class provides an efficient implementation of a deque.\n",
    "\n",
    "1) ### `__init__(self)` Method\n",
    "\n",
    "##### This is the constructor method that initializes a new instance of the `Queue` class. It creates an empty list (`self.items`) to store the elements of the queue.\n",
    "\n",
    "2) ### `is_empty(self)` Method\n",
    "\n",
    "##### This method checks whether the queue is empty.\n",
    "\n",
    "3) ### `dequeue(self)` Method\n",
    "\n",
    "##### This method removes and returns the item from the front of the queue. It uses the `pop(0)` method to remove and return the first element in the list. Before attempting to dequeue, it checks if the queue is empty using the `is_empty` method to avoid errors.\n",
    "\n",
    "4) ### Example: Basic Functionality of a Queue\n",
    "\n",
    "#### This example demonstrates the creation of a `Queue` object, adding elements to the queue (`enqueue`), removing elements from the queue (`dequeue`), and checking if the queue is empty.\n"
   ]
  },
  {
   "cell_type": "code",
   "execution_count": 3,
   "id": "43246d9f-543d-4bf8-8a60-0256a86d7cc2",
   "metadata": {},
   "outputs": [],
   "source": [
    "from collections import deque\n",
    "\n",
    "class DequeQueue:\n",
    "    def __init__(self):\n",
    "        self.items = deque()\n",
    "\n",
    "    def is_empty(self):\n",
    "        return len(self.items) == 0\n",
    "\n",
    "    def enqueue(self, item):\n",
    "        self.items.append(item)\n",
    "\n",
    "    def dequeue(self):\n",
    "        if not self.is_empty():\n",
    "            return self.items.popleft()\n",
    "        else:\n",
    "            print(\"Queue is empty. Cannot dequeue.\")\n",
    "\n",
    "def __init__(self):\n",
    "    self.items = deque()\n",
    "\n",
    "def is_empty(self):\n",
    "    return len(self.items) == 0\n",
    "\n",
    "def enqueue(self, item):\n",
    "    self.items.append(item)\n",
    "\n",
    "def dequeue(self):\n",
    "    if not self.is_empty():\n",
    "        return self.items.popleft()\n",
    "    else:\n",
    "        print(\"Queue is empty. Cannot dequeue.\")"
   ]
  },
  {
   "cell_type": "code",
   "execution_count": 4,
   "id": "a4b3b28d-c3e2-4d95-918a-508198391242",
   "metadata": {},
   "outputs": [],
   "source": [
    "my_queue = DequeQueue()"
   ]
  },
  {
   "cell_type": "code",
   "execution_count": 5,
   "id": "0ceb40ec-7767-491e-bc0f-4023bfb97c0b",
   "metadata": {},
   "outputs": [],
   "source": [
    "# Enqueue elements\n",
    "my_queue.enqueue(1)\n",
    "my_queue.enqueue(2)\n",
    "my_queue.enqueue(3)"
   ]
  },
  {
   "cell_type": "code",
   "execution_count": 6,
   "id": "51eea946-9d88-483b-be82-d6b2b7666e30",
   "metadata": {},
   "outputs": [
    {
     "name": "stdout",
     "output_type": "stream",
     "text": [
      "Current Queue: [1, 2, 3]\n"
     ]
    }
   ],
   "source": [
    "# Print the queue (for demonstration purposes, not a standard queue method)\n",
    "print(\"Current Queue:\", list(my_queue.items)) "
   ]
  },
  {
   "cell_type": "code",
   "execution_count": 7,
   "id": "794462e5-d8af-4928-a495-3763be166c59",
   "metadata": {},
   "outputs": [
    {
     "name": "stdout",
     "output_type": "stream",
     "text": [
      "Dequeued: 1\n",
      "Dequeued: 2\n"
     ]
    }
   ],
   "source": [
    "# Dequeue two elements\n",
    "print(\"Dequeued:\", my_queue.dequeue())\n",
    "print(\"Dequeued:\", my_queue.dequeue())"
   ]
  },
  {
   "cell_type": "code",
   "execution_count": 8,
   "id": "4cb0bffe-7721-433a-8d8c-3866ee2df32e",
   "metadata": {},
   "outputs": [
    {
     "name": "stdout",
     "output_type": "stream",
     "text": [
      "Is the queue empty? False\n"
     ]
    }
   ],
   "source": [
    "# Check if the queue is empty\n",
    "print(\"Is the queue empty?\", my_queue.is_empty())"
   ]
  },
  {
   "cell_type": "markdown",
   "id": "1526d9bd-cd79-4926-9e64-4fe666169a9a",
   "metadata": {},
   "source": [
    "### 3. Node-Based Queue\n",
    "\n",
    "A **Node-Based Queue** is implemented using a linked list structure where each node contains two parts:\n",
    "1. **Data**: The value stored in the node.\n",
    "2. **Next Pointer**: A reference to the next node in the queue.\n",
    "\n",
    "This implementation uses a `front` pointer to indicate the first node and a `rear` pointer to indicate the last node. Operations like enqueue and dequeue are performed by manipulating these pointers.\n",
    "\n",
    "---\n",
    "\n",
    "\n",
    "### i. Node Class\n",
    "\n",
    "The `Node` class represents a single element in a node-based queue. Each node contains two attributes:  \n",
    "1. **`data`**: The value or data stored in the node.  \n",
    "2. **`next`**: A reference to the next node in the queue (or `None` if it's the last node).\n",
    "\n",
    "\n",
    "1) ### `__init__(self)` Method\n",
    "\n",
    "##### This is the constructor method that initializes a new instance of the `Queue` class. It creates an empty list (`self.items`) to store the elements of the queue.\n",
    "\n",
    "2) ### `is_empty(self)` Method\n",
    "\n",
    "##### This method checks whether the queue is empty.\n",
    "\n",
    "3) ### `dequeue(self)` Method\n",
    "\n",
    "##### This method removes and returns the item from the front of the queue. It uses the `pop(0)` method to remove and return the first element in the list. Before attempting to dequeue, it checks if the queue is empty using the `is_empty` method to avoid errors.\n",
    "\n",
    "4) ### Example: Basic Functionality of a Queue\n",
    "\n",
    "#### This example demonstrates the creation of a `Queue` object, adding elements to the queue (`enqueue`), removing elements from the queue (`dequeue`), and checking if the queue is empty.\n"
   ]
  },
  {
   "cell_type": "code",
   "execution_count": 9,
   "id": "2ce9afcb-84e5-4e10-a605-e8189515cb27",
   "metadata": {},
   "outputs": [
    {
     "name": "stdout",
     "output_type": "stream",
     "text": [
      "Dequeue: 1\n",
      "Dequeue: 2\n",
      "Is the queue empty? False\n"
     ]
    }
   ],
   "source": [
    "class Node:\n",
    "    def __init__(self, data=None):\n",
    "        self.data = data\n",
    "        self.next = None\n",
    "\n",
    "class NodeQueue:\n",
    "    def __init__(self):\n",
    "        self.front = None\n",
    "        self.rear = None\n",
    "        \n",
    "    def is_empty(self):\n",
    "        return self.front is None\n",
    "\n",
    "    def enqueue(self, data):\n",
    "        new_node = Node(data)\n",
    "        if self.rear is None:\n",
    "            self.front = self.rear = new_node\n",
    "        else:\n",
    "            self.rear.next = new_node\n",
    "            self.rear = new_node\n",
    "\n",
    "    def dequeue(self):\n",
    "        if self.is_empty():\n",
    "            print(\"Queue is empty. Cannot dequeue.\")\n",
    "            return None\n",
    "        else:\n",
    "            removed_data = self.front.data\n",
    "            self.front = self.front.next\n",
    "        if self.front is None:\n",
    "            self.rear = None\n",
    "        return removed_data\n",
    "\n",
    "# Example usage:\n",
    "my_node_queue = NodeQueue()\n",
    "\n",
    "my_node_queue.enqueue(1)\n",
    "my_node_queue.enqueue(2)\n",
    "my_node_queue.enqueue(3)\n",
    "\n",
    "print(\"Dequeue:\", my_node_queue.dequeue())\n",
    "print(\"Dequeue:\", my_node_queue.dequeue())\n",
    "\n",
    "print(\"Is the queue empty?\", my_node_queue.is_empty())"
   ]
  },
  {
   "cell_type": "code",
   "execution_count": 10,
   "id": "70e2f75e-05b5-4f06-b669-98bec9cb026f",
   "metadata": {},
   "outputs": [],
   "source": [
    "my_node_queue.enqueue(1)\n",
    "my_node_queue.enqueue(2)\n",
    "my_node_queue.enqueue(3)"
   ]
  },
  {
   "cell_type": "code",
   "execution_count": 11,
   "id": "28813b7a-e218-4626-9456-0c7e570d04ef",
   "metadata": {},
   "outputs": [
    {
     "name": "stdout",
     "output_type": "stream",
     "text": [
      "Dequeue: 3\n",
      "Dequeue: 1\n",
      "Is the queue empty? False\n"
     ]
    }
   ],
   "source": [
    "print(\"Dequeue:\", my_node_queue.dequeue())\n",
    "print(\"Dequeue:\", my_node_queue.dequeue())\n",
    "\n",
    "print(\"Is the queue empty?\", my_node_queue.is_empty())"
   ]
  },
  {
   "cell_type": "code",
   "execution_count": null,
   "id": "14e8a5f0-9d77-46fc-a9ba-2719a6d630e9",
   "metadata": {},
   "outputs": [],
   "source": []
  },
  {
   "cell_type": "code",
   "execution_count": null,
   "id": "ae004fda-e666-4bac-bf58-f0d43854d6d7",
   "metadata": {},
   "outputs": [],
   "source": []
  },
  {
   "cell_type": "code",
   "execution_count": null,
   "id": "9f7a2f48-3f3e-4b85-a8fe-24159fd9104b",
   "metadata": {},
   "outputs": [],
   "source": []
  },
  {
   "cell_type": "code",
   "execution_count": null,
   "id": "5c50b9a8-48c6-4296-ab9c-ca597e6a22e3",
   "metadata": {},
   "outputs": [],
   "source": []
  }
 ],
 "metadata": {
  "kernelspec": {
   "display_name": "Python 3 (ipykernel)",
   "language": "python",
   "name": "python3"
  },
  "language_info": {
   "codemirror_mode": {
    "name": "ipython",
    "version": 3
   },
   "file_extension": ".py",
   "mimetype": "text/x-python",
   "name": "python",
   "nbconvert_exporter": "python",
   "pygments_lexer": "ipython3",
   "version": "3.9.19"
  }
 },
 "nbformat": 4,
 "nbformat_minor": 5
}
