{
 "cells": [
  {
   "cell_type": "markdown",
   "id": "145de1cb-c061-4acb-a39d-4d9e815f5a00",
   "metadata": {},
   "source": [
    "<center><span style=\"\n",
    "    font-size: 30px;\n",
    "    font-family: castellar;\n",
    "    color: BLUE;\n",
    "    font-weight: bold;\n",
    "    letter-spacing: 1px;\n",
    "    text-shadow: 3px 1px 0px rgba(0, ,0, 1, 1)\n",
    "\">\n",
    "    LAB REPORT OF OOP AND DATA STRUCTARE\n",
    "</span></center>"
   ]
  },
  {
   "cell_type": "markdown",
   "id": "5780e336-a59a-4c60-b5e6-8f66aae94c1f",
   "metadata": {},
   "source": [
    "<center><span style=\"\n",
    "    font-size: 25px;\n",
    "    font-family: Arial Black;\n",
    "    color: light green;\n",
    "    font-weight: bold;\n",
    "    letter-spacing: 1px;\n",
    "    text-shadow: 3px 1px 0px rgba(0, ,0, 1, 1)\n",
    "\">\n",
    "    Lab 4: Classes, objects, and instances\"\n",
    "</span></center>"
   ]
  },
  {
   "cell_type": "markdown",
   "id": "7fc7764e-112f-42b7-8a13-e5e51418b999",
   "metadata": {},
   "source": [
    "<center><span style=\"\n",
    "    font-size: 25px;\n",
    "    font-family: castellar;\n",
    "    color: red;\n",
    "    font-weight: bold;\n",
    "    letter-spacing: 1px;\n",
    "    text-shadow: 3px 1px 0px rgba(0, ,0, 1, 1)\n",
    "\">\n",
    " Lab Title: EE-271 “OOP & Data Structures Lab”  \n",
    "</span></center>"
   ]
  },
  {
   "cell_type": "markdown",
   "id": "a6f0a50b-1d47-415e-8903-d54c62add66e",
   "metadata": {},
   "source": [
    "### Lab report task:"
   ]
  },
  {
   "cell_type": "markdown",
   "id": "3b89894d-ed54-472e-9989-095bdd7ec5e0",
   "metadata": {},
   "source": [
    "**a. Make an object and print its x and y coordinates.**"
   ]
  },
  {
   "cell_type": "code",
   "execution_count": 1,
   "id": "e77e50f5-828c-48a2-9139-44c62b6c451e",
   "metadata": {},
   "outputs": [],
   "source": [
    "import math\n",
    "\n",
    "class Point:\n",
    "\n",
    "    def __init__(self, x: float, y: float) -> None:\n",
    "        self.x = x\n",
    "        self.y = y\n",
    "\n",
    "    def distance(self, p2) -> float:\n",
    "        return math.sqrt((self.x - p2.x)**2 + (self.y - p2.y)**2)\n",
    "    \n",
    "    def print_point(self) -> None:\n",
    "        print(f\"Point({self.x}, {self.y})\")"
   ]
  },
  {
   "cell_type": "code",
   "execution_count": 2,
   "id": "21c7f078-cbb0-42fa-b164-9ec3d92890cf",
   "metadata": {},
   "outputs": [],
   "source": [
    "# a. Define point1 and pass two numbers.\n",
    "p1 = Point(3, 4)"
   ]
  },
  {
   "cell_type": "code",
   "execution_count": 3,
   "id": "b888ef53-45b4-4c44-8020-eb5c20a78810",
   "metadata": {},
   "outputs": [],
   "source": [
    "# b. Make another instance of the point class, say its name is p2.\n",
    "p2 = Point(6, 8)"
   ]
  },
  {
   "cell_type": "code",
   "execution_count": 4,
   "id": "868b2b1a-0046-41ec-9e38-2ea3e719b871",
   "metadata": {},
   "outputs": [
    {
     "name": "stdout",
     "output_type": "stream",
     "text": [
      "p1: <__main__.Point object at 0x000001A5F1F080A0>\n",
      "p2: <__main__.Point object at 0x000001A5F1F892E0>\n"
     ]
    }
   ],
   "source": [
    "# c. Print p1 and p2, for this use the print command and pass the point as input.\n",
    "print(f\"p1: {p1}\") \n",
    "print(f\"p2: {p2}\")  \n"
   ]
  },
  {
   "cell_type": "code",
   "execution_count": 5,
   "id": "87bd3543-1dac-421e-aced-75f5e627acc5",
   "metadata": {},
   "outputs": [
    {
     "name": "stdout",
     "output_type": "stream",
     "text": [
      "p1 Coordinates: (3, 4)\n",
      "p2 Coordinates: (6, 8)\n"
     ]
    }
   ],
   "source": [
    "# d. Print the coordinates by using the object and dot operator.\n",
    "print(f\"p1 Coordinates: ({p1.x}, {p1.y})\")  \n",
    "print(f\"p2 Coordinates: ({p2.x}, {p2.y})\") "
   ]
  },
  {
   "cell_type": "code",
   "execution_count": 6,
   "id": "b5760ec6-5200-415f-99af-1e60fe9d08b6",
   "metadata": {},
   "outputs": [
    {
     "name": "stdout",
     "output_type": "stream",
     "text": [
      "Using print_point method:\n",
      "Point(3, 4)\n",
      "Point(6, 8)\n"
     ]
    }
   ],
   "source": [
    "# Print both the points using the new method.\n",
    "print(\"Using print_point method:\")\n",
    "p1.print_point()\n",
    "p2.print_point()"
   ]
  },
  {
   "cell_type": "code",
   "execution_count": 7,
   "id": "9e6b4f3d-9ec7-41d2-8ecb-6404456fbd29",
   "metadata": {},
   "outputs": [
    {
     "name": "stdout",
     "output_type": "stream",
     "text": [
      "Distance between p1 and p2: 5.00\n"
     ]
    }
   ],
   "source": [
    "# f. Calculate the distance between p1 and p2.\n",
    "distance = p1.distance(p2)\n",
    "print(f\"Distance between p1 and p2: {distance:.2f}\")"
   ]
  },
  {
   "cell_type": "code",
   "execution_count": null,
   "id": "10e4ddcd-88df-4a33-927b-6e556c30d331",
   "metadata": {},
   "outputs": [],
   "source": []
  },
  {
   "cell_type": "code",
   "execution_count": null,
   "id": "c14d3d18-f1b1-453b-b772-84cdff47a54f",
   "metadata": {},
   "outputs": [],
   "source": []
  },
  {
   "cell_type": "code",
   "execution_count": null,
   "id": "ec2a25b4-f743-4a07-9d30-d85d1deb78d8",
   "metadata": {},
   "outputs": [],
   "source": []
  },
  {
   "cell_type": "code",
   "execution_count": null,
   "id": "04035824-7780-4282-adf4-bd1cd597558e",
   "metadata": {},
   "outputs": [],
   "source": []
  },
  {
   "cell_type": "code",
   "execution_count": null,
   "id": "023f5749-0436-4a26-942d-ad20eedc7565",
   "metadata": {},
   "outputs": [],
   "source": []
  }
 ],
 "metadata": {
  "kernelspec": {
   "display_name": "Python 3 (ipykernel)",
   "language": "python",
   "name": "python3"
  },
  "language_info": {
   "codemirror_mode": {
    "name": "ipython",
    "version": 3
   },
   "file_extension": ".py",
   "mimetype": "text/x-python",
   "name": "python",
   "nbconvert_exporter": "python",
   "pygments_lexer": "ipython3",
   "version": "3.9.19"
  }
 },
 "nbformat": 4,
 "nbformat_minor": 5
}
