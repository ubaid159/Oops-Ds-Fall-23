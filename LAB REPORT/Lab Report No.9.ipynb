{
 "cells": [
  {
   "cell_type": "markdown",
   "id": "8075a8e4-1ecd-4892-8249-1111aeeae2a8",
   "metadata": {},
   "source": [
    "# Lab Report Details\n",
    "\n",
    "| **Field**        | **Details**         |\n",
    "|-------------------|---------------------|\n",
    "| **Name**         | MUHAMMAD Ubaid     |\n",
    "| **Req No**       | 23jzele 0556        |\n",
    "| **Lab Report No**| 09                 |"
   ]
  },
  {
   "cell_type": "markdown",
   "id": "1e8135dd-c02b-4230-9f09-4bdf2d075559",
   "metadata": {},
   "source": [
    "<center><span style=\"\n",
    "    font-size: 30px;\n",
    "    font-family: castellar;\n",
    "    color: BLUE;\n",
    "    font-weight: bold;\n",
    "    letter-spacing: 1px;\n",
    "    text-shadow: 3px 1px 0px rgba(0, ,0, 1, 1)\n",
    "\">\n",
    "    LAB REPORT OF OOP AND DATA STRUCTARE\n",
    "</span></center>"
   ]
  },
  {
   "cell_type": "markdown",
   "id": "a4b69f55-bdd9-4b8c-92ce-8ed23fbc4cd1",
   "metadata": {},
   "source": [
    "<center><span style=\"\n",
    "    font-size: 25px;\n",
    "    font-family: Arial Black;\n",
    "    color: light green;\n",
    "    font-weight: bold;\n",
    "    letter-spacing: 1px;\n",
    "    text-shadow: 3px 1px 0px rgba(0, ,0, 1, 1)\n",
    "\">\n",
    "   Lab 9: Multiple Inheritance\n",
    "</span></center>"
   ]
  },
  {
   "cell_type": "markdown",
   "id": "056dc3d0-32d1-4295-9bd8-a223a09cdf9a",
   "metadata": {},
   "source": [
    "<center><span style=\"\n",
    "    font-size: 25px;\n",
    "    font-family: castellar;\n",
    "    color: red;\n",
    "    font-weight: bold;\n",
    "    letter-spacing: 1px;\n",
    "    text-shadow: 3px 1px 0px rgba(0, ,0, 1, 1)\n",
    "\">\n",
    "    Lab Title: EE-271 “OOP & Data Structures Lab” \n",
    "</span></center>  "
   ]
  },
  {
   "cell_type": "markdown",
   "id": "6c56ad3d-bc18-4177-8e16-447a1778b692",
   "metadata": {},
   "source": [
    "## Problem 1:\n",
    "#### 1.\tIt turns out that sometimes temporary secretaries are hired when there’s too much paperwork to do. The TemporarySecretary class performs the role of a Secretary in the context of the ProductivitySystem, but for payroll purposes, it’s an HourlyEmployee.\n",
    "#### a)\tDerive it from both Secretary and HourlyEmployee:\n"
   ]
  },
  {
   "cell_type": "code",
   "execution_count": 1,
   "id": "cfb8e6cd-93fb-4451-80a4-0b03e641368f",
   "metadata": {},
   "outputs": [
    {
     "ename": "NameError",
     "evalue": "name 'Secretary' is not defined",
     "output_type": "error",
     "traceback": [
      "\u001b[1;31m---------------------------------------------------------------------------\u001b[0m",
      "\u001b[1;31mNameError\u001b[0m                                 Traceback (most recent call last)",
      "Cell \u001b[1;32mIn[1], line 1\u001b[0m\n\u001b[1;32m----> 1\u001b[0m \u001b[38;5;28;01mclass\u001b[39;00m \u001b[38;5;21;01mTemporarySecretary\u001b[39;00m(\u001b[43mSecretary\u001b[49m, HourlyEmployee):\n\u001b[0;32m      2\u001b[0m     \u001b[38;5;28;01mpass\u001b[39;00m\n",
      "\u001b[1;31mNameError\u001b[0m: name 'Secretary' is not defined"
     ]
    }
   ],
   "source": [
    "class TemporarySecretary(Secretary, HourlyEmployee):\n",
    "    pass\n"
   ]
  },
  {
   "cell_type": "code",
   "execution_count": 2,
   "id": "8971ba30-3735-4f1a-a725-107875504039",
   "metadata": {},
   "outputs": [
    {
     "ename": "NameError",
     "evalue": "name 'TemporarySecretary' is not defined",
     "output_type": "error",
     "traceback": [
      "\u001b[1;31m---------------------------------------------------------------------------\u001b[0m",
      "\u001b[1;31mNameError\u001b[0m                                 Traceback (most recent call last)",
      "Cell \u001b[1;32mIn[2], line 1\u001b[0m\n\u001b[1;32m----> 1\u001b[0m temporary_secretary \u001b[38;5;241m=\u001b[39m \u001b[43mTemporarySecretary\u001b[49m(\u001b[38;5;241m5\u001b[39m, \u001b[38;5;124m\"\u001b[39m\u001b[38;5;124mRobin Williams\u001b[39m\u001b[38;5;124m\"\u001b[39m, \u001b[38;5;241m40\u001b[39m, \u001b[38;5;241m9\u001b[39m)\n",
      "\u001b[1;31mNameError\u001b[0m: name 'TemporarySecretary' is not defined"
     ]
    }
   ],
   "source": [
    "temporary_secretary = TemporarySecretary(5, \"Robin Williams\", 40, 9)"
   ]
  },
  {
   "cell_type": "markdown",
   "id": "09f96c46-ef7e-46e1-8b81-215c54ecdb08",
   "metadata": {},
   "source": [
    "## ii.\tModify the above class as "
   ]
  },
  {
   "cell_type": "code",
   "execution_count": 3,
   "id": "d1d6451a-6bbe-4640-bed7-07f9727fb06e",
   "metadata": {},
   "outputs": [
    {
     "ename": "NameError",
     "evalue": "name 'HourlyEmployee' is not defined",
     "output_type": "error",
     "traceback": [
      "\u001b[1;31m---------------------------------------------------------------------------\u001b[0m",
      "\u001b[1;31mNameError\u001b[0m                                 Traceback (most recent call last)",
      "Cell \u001b[1;32mIn[3], line 1\u001b[0m\n\u001b[1;32m----> 1\u001b[0m \u001b[38;5;28;01mclass\u001b[39;00m \u001b[38;5;21;01mTemporarySecretary\u001b[39;00m(\u001b[43mHourlyEmployee\u001b[49m, Secretary):\n\u001b[0;32m      2\u001b[0m     \u001b[38;5;28;01mpass\u001b[39;00m\n",
      "\u001b[1;31mNameError\u001b[0m: name 'HourlyEmployee' is not defined"
     ]
    }
   ],
   "source": [
    "class TemporarySecretary(HourlyEmployee, Secretary):\n",
    "    pass"
   ]
  },
  {
   "cell_type": "code",
   "execution_count": 4,
   "id": "5e2e6c59-64d3-4e5a-abb5-7eacc792f3f3",
   "metadata": {},
   "outputs": [
    {
     "ename": "NameError",
     "evalue": "name 'TemporarySecretary' is not defined",
     "output_type": "error",
     "traceback": [
      "\u001b[1;31m---------------------------------------------------------------------------\u001b[0m",
      "\u001b[1;31mNameError\u001b[0m                                 Traceback (most recent call last)",
      "Cell \u001b[1;32mIn[4], line 1\u001b[0m\n\u001b[1;32m----> 1\u001b[0m temporary_secretary \u001b[38;5;241m=\u001b[39m \u001b[43mTemporarySecretary\u001b[49m(\u001b[38;5;241m5\u001b[39m, \u001b[38;5;124m\"\u001b[39m\u001b[38;5;124mRobin Williams\u001b[39m\u001b[38;5;124m\"\u001b[39m, \u001b[38;5;241m40\u001b[39m, \u001b[38;5;241m9\u001b[39m)\n",
      "\u001b[1;31mNameError\u001b[0m: name 'TemporarySecretary' is not defined"
     ]
    }
   ],
   "source": [
    "temporary_secretary = TemporarySecretary(5, \"Robin Williams\", 40, 9)"
   ]
  },
  {
   "cell_type": "code",
   "execution_count": 5,
   "id": "280ecfe5-4e8d-4f29-89b2-a99b67b13c55",
   "metadata": {},
   "outputs": [
    {
     "ename": "NameError",
     "evalue": "name 'TemporarySecretary' is not defined",
     "output_type": "error",
     "traceback": [
      "\u001b[1;31m---------------------------------------------------------------------------\u001b[0m",
      "\u001b[1;31mNameError\u001b[0m                                 Traceback (most recent call last)",
      "Cell \u001b[1;32mIn[5], line 1\u001b[0m\n\u001b[1;32m----> 1\u001b[0m \u001b[43mTemporarySecretary\u001b[49m\u001b[38;5;241m.\u001b[39m\u001b[38;5;18m__mro__\u001b[39m\n",
      "\u001b[1;31mNameError\u001b[0m: name 'TemporarySecretary' is not defined"
     ]
    }
   ],
   "source": [
    "TemporarySecretary.__mro__"
   ]
  },
  {
   "cell_type": "markdown",
   "id": "309c3cbc-ec38-4d95-a248-e76671d59a94",
   "metadata": {},
   "source": [
    "## iii.\tModify the above class as "
   ]
  },
  {
   "cell_type": "code",
   "execution_count": 6,
   "id": "19977659-21e9-4414-a4fc-859fba818c94",
   "metadata": {},
   "outputs": [
    {
     "ename": "NameError",
     "evalue": "name 'HourlyEmployee' is not defined",
     "output_type": "error",
     "traceback": [
      "\u001b[1;31m---------------------------------------------------------------------------\u001b[0m",
      "\u001b[1;31mNameError\u001b[0m                                 Traceback (most recent call last)",
      "Cell \u001b[1;32mIn[6], line 1\u001b[0m\n\u001b[1;32m----> 1\u001b[0m \u001b[38;5;28;01mclass\u001b[39;00m \u001b[38;5;21;01mTemporarySecretary\u001b[39;00m(\u001b[43mHourlyEmployee\u001b[49m, Secretary):\n\u001b[0;32m      2\u001b[0m     \u001b[38;5;28;01mdef\u001b[39;00m \u001b[38;5;21m__init__\u001b[39m(\u001b[38;5;28mself\u001b[39m, \u001b[38;5;28mid\u001b[39m, name, hours_worked, hourly_rate):\n\u001b[0;32m      3\u001b[0m         \u001b[38;5;28msuper\u001b[39m()\u001b[38;5;241m.\u001b[39m\u001b[38;5;21m__init__\u001b[39m(\u001b[38;5;28mid\u001b[39m, name, hours_worked, hourly_rate)\n",
      "\u001b[1;31mNameError\u001b[0m: name 'HourlyEmployee' is not defined"
     ]
    }
   ],
   "source": [
    "class TemporarySecretary(HourlyEmployee, Secretary):\n",
    "    def __init__(self, id, name, hours_worked, hourly_rate):\n",
    "        super().__init__(id, name, hours_worked, hourly_rate)"
   ]
  },
  {
   "cell_type": "code",
   "execution_count": 7,
   "id": "36337fd2-1c62-442f-b124-02f7d56554e8",
   "metadata": {},
   "outputs": [
    {
     "ename": "NameError",
     "evalue": "name 'TemporarySecretary' is not defined",
     "output_type": "error",
     "traceback": [
      "\u001b[1;31m---------------------------------------------------------------------------\u001b[0m",
      "\u001b[1;31mNameError\u001b[0m                                 Traceback (most recent call last)",
      "Cell \u001b[1;32mIn[7], line 1\u001b[0m\n\u001b[1;32m----> 1\u001b[0m temporary_secretary \u001b[38;5;241m=\u001b[39m \u001b[43mTemporarySecretary\u001b[49m(\u001b[38;5;241m5\u001b[39m, \u001b[38;5;124m\"\u001b[39m\u001b[38;5;124mRobin Williams\u001b[39m\u001b[38;5;124m\"\u001b[39m, \u001b[38;5;241m40\u001b[39m, \u001b[38;5;241m9\u001b[39m)\n",
      "\u001b[1;31mNameError\u001b[0m: name 'TemporarySecretary' is not defined"
     ]
    }
   ],
   "source": [
    "temporary_secretary = TemporarySecretary(5, \"Robin Williams\", 40, 9)"
   ]
  },
  {
   "cell_type": "code",
   "execution_count": 8,
   "id": "11f02fd3-629d-4b20-91bc-9f5761a16666",
   "metadata": {},
   "outputs": [
    {
     "ename": "NameError",
     "evalue": "name 'TemporarySecretary' is not defined",
     "output_type": "error",
     "traceback": [
      "\u001b[1;31m---------------------------------------------------------------------------\u001b[0m",
      "\u001b[1;31mNameError\u001b[0m                                 Traceback (most recent call last)",
      "Cell \u001b[1;32mIn[8], line 1\u001b[0m\n\u001b[1;32m----> 1\u001b[0m \u001b[43mTemporarySecretary\u001b[49m\u001b[38;5;241m.\u001b[39m\u001b[38;5;18m__mro__\u001b[39m\n",
      "\u001b[1;31mNameError\u001b[0m: name 'TemporarySecretary' is not defined"
     ]
    }
   ],
   "source": [
    "TemporarySecretary.__mro__"
   ]
  },
  {
   "cell_type": "markdown",
   "id": "b56ba2b7-e4fe-4e58-ad7c-aad2e94c17c2",
   "metadata": {},
   "source": [
    "## iv.\tModify the above class as "
   ]
  },
  {
   "cell_type": "code",
   "execution_count": 9,
   "id": "fb09b898-9c46-44c7-b92e-e0ab43a3fe1a",
   "metadata": {},
   "outputs": [
    {
     "ename": "SyntaxError",
     "evalue": "unmatched ')' (1166317408.py, line 3)",
     "output_type": "error",
     "traceback": [
      "\u001b[1;36m  Cell \u001b[1;32mIn[9], line 3\u001b[1;36m\u001b[0m\n\u001b[1;33m    HourlyEmployee.__init__(self, id, name, hours_worked, hourly_rate))\u001b[0m\n\u001b[1;37m                                                                      ^\u001b[0m\n\u001b[1;31mSyntaxError\u001b[0m\u001b[1;31m:\u001b[0m unmatched ')'\n"
     ]
    }
   ],
   "source": [
    "class TemporarySecretary(Secretary, HourlyEmployee):\n",
    "    def __init__(self, id, name, hours_worked, hourly_rate):\n",
    "        HourlyEmployee.__init__(self, id, name, hours_worked, hourly_rate))"
   ]
  },
  {
   "cell_type": "code",
   "execution_count": 10,
   "id": "756a9cab-8366-43b2-ad15-857741cb9b74",
   "metadata": {},
   "outputs": [
    {
     "ename": "NameError",
     "evalue": "name 'TemporarySecretary' is not defined",
     "output_type": "error",
     "traceback": [
      "\u001b[1;31m---------------------------------------------------------------------------\u001b[0m",
      "\u001b[1;31mNameError\u001b[0m                                 Traceback (most recent call last)",
      "Cell \u001b[1;32mIn[10], line 1\u001b[0m\n\u001b[1;32m----> 1\u001b[0m temporary_secretary \u001b[38;5;241m=\u001b[39m \u001b[43mTemporarySecretary\u001b[49m(\u001b[38;5;241m5\u001b[39m, \u001b[38;5;124m\"\u001b[39m\u001b[38;5;124mRobin Williams\u001b[39m\u001b[38;5;124m\"\u001b[39m, \u001b[38;5;241m40\u001b[39m, \u001b[38;5;241m9\u001b[39m)\n\u001b[0;32m      2\u001b[0m company_employees \u001b[38;5;241m=\u001b[39m [temporary_secretary]\n\u001b[0;32m      3\u001b[0m productivity_system \u001b[38;5;241m=\u001b[39m productivity\u001b[38;5;241m.\u001b[39mProductivitySystem()\n",
      "\u001b[1;31mNameError\u001b[0m: name 'TemporarySecretary' is not defined"
     ]
    }
   ],
   "source": [
    "temporary_secretary = TemporarySecretary(5, \"Robin Williams\", 40, 9)\n",
    "company_employees = [temporary_secretary]\n",
    "productivity_system = productivity.ProductivitySystem()\n",
    "productivity_system.track(company_employees, 40)\n",
    "payroll_system = hr.PayrollSystem()\n",
    "payroll_system.calculate_payroll(company_employees)"
   ]
  },
  {
   "cell_type": "code",
   "execution_count": 11,
   "id": "a74e6a2e-53a6-4cb0-9ad4-e3df9432e580",
   "metadata": {},
   "outputs": [
    {
     "ename": "NameError",
     "evalue": "name 'TemporarySecretary' is not defined",
     "output_type": "error",
     "traceback": [
      "\u001b[1;31m---------------------------------------------------------------------------\u001b[0m",
      "\u001b[1;31mNameError\u001b[0m                                 Traceback (most recent call last)",
      "Cell \u001b[1;32mIn[11], line 1\u001b[0m\n\u001b[1;32m----> 1\u001b[0m \u001b[43mTemporarySecretary\u001b[49m\u001b[38;5;241m.\u001b[39m\u001b[38;5;18m__mro__\u001b[39m\n",
      "\u001b[1;31mNameError\u001b[0m: name 'TemporarySecretary' is not defined"
     ]
    }
   ],
   "source": [
    "TemporarySecretary.__mro__"
   ]
  },
  {
   "cell_type": "markdown",
   "id": "6968d782-001f-4111-851e-06eb840d857d",
   "metadata": {},
   "source": [
    "## v.\tModify the above class as "
   ]
  },
  {
   "cell_type": "code",
   "execution_count": 12,
   "id": "c4ef283a-c7bf-445a-93df-e4221aa3985e",
   "metadata": {},
   "outputs": [
    {
     "ename": "NameError",
     "evalue": "name 'Secretary' is not defined",
     "output_type": "error",
     "traceback": [
      "\u001b[1;31m---------------------------------------------------------------------------\u001b[0m",
      "\u001b[1;31mNameError\u001b[0m                                 Traceback (most recent call last)",
      "Cell \u001b[1;32mIn[12], line 1\u001b[0m\n\u001b[1;32m----> 1\u001b[0m \u001b[38;5;28;01mclass\u001b[39;00m \u001b[38;5;21;01mTemporarySecretary\u001b[39;00m(\u001b[43mSecretary\u001b[49m, HourlyEmployee):\n\u001b[0;32m      2\u001b[0m     \u001b[38;5;28;01mdef\u001b[39;00m \u001b[38;5;21m__init__\u001b[39m(\u001b[38;5;28mself\u001b[39m, \u001b[38;5;28mid\u001b[39m, name, hours_worked, hourly_rate):\n\u001b[0;32m      3\u001b[0m         HourlyEmployee\u001b[38;5;241m.\u001b[39m\u001b[38;5;21m__init__\u001b[39m(\u001b[38;5;28mself\u001b[39m, \u001b[38;5;28mid\u001b[39m, name, hours_worked, hourly_rate)\n",
      "\u001b[1;31mNameError\u001b[0m: name 'Secretary' is not defined"
     ]
    }
   ],
   "source": [
    "class TemporarySecretary(Secretary, HourlyEmployee):\n",
    "    def __init__(self, id, name, hours_worked, hourly_rate):\n",
    "        HourlyEmployee.__init__(self, id, name, hours_worked, hourly_rate)\n",
    "    def calculate_payroll(self):\n",
    "        return HourlyEmployee.calculate_payroll(self)"
   ]
  },
  {
   "cell_type": "code",
   "execution_count": 13,
   "id": "94f98842-d0e7-4645-bbf8-bd701b4874b9",
   "metadata": {},
   "outputs": [
    {
     "ename": "NameError",
     "evalue": "name 'TemporarySecretary' is not defined",
     "output_type": "error",
     "traceback": [
      "\u001b[1;31m---------------------------------------------------------------------------\u001b[0m",
      "\u001b[1;31mNameError\u001b[0m                                 Traceback (most recent call last)",
      "Cell \u001b[1;32mIn[13], line 1\u001b[0m\n\u001b[1;32m----> 1\u001b[0m temporary_secretary \u001b[38;5;241m=\u001b[39m \u001b[43mTemporarySecretary\u001b[49m(\u001b[38;5;241m5\u001b[39m, \u001b[38;5;124m\"\u001b[39m\u001b[38;5;124mRobin Williams\u001b[39m\u001b[38;5;124m\"\u001b[39m, \u001b[38;5;241m40\u001b[39m, \u001b[38;5;241m9\u001b[39m)\n\u001b[0;32m      2\u001b[0m company_employees \u001b[38;5;241m=\u001b[39m [temporary_secretary]\n",
      "\u001b[1;31mNameError\u001b[0m: name 'TemporarySecretary' is not defined"
     ]
    }
   ],
   "source": [
    "temporary_secretary = TemporarySecretary(5, \"Robin Williams\", 40, 9)\n",
    "company_employees = [temporary_secretary]"
   ]
  },
  {
   "cell_type": "code",
   "execution_count": 14,
   "id": "a25025a3-28b5-450a-8362-f04891136d07",
   "metadata": {},
   "outputs": [
    {
     "ename": "NameError",
     "evalue": "name 'productivity' is not defined",
     "output_type": "error",
     "traceback": [
      "\u001b[1;31m---------------------------------------------------------------------------\u001b[0m",
      "\u001b[1;31mNameError\u001b[0m                                 Traceback (most recent call last)",
      "Cell \u001b[1;32mIn[14], line 1\u001b[0m\n\u001b[1;32m----> 1\u001b[0m productivity_system \u001b[38;5;241m=\u001b[39m \u001b[43mproductivity\u001b[49m\u001b[38;5;241m.\u001b[39mProductivitySystem()\n\u001b[0;32m      2\u001b[0m productivity_system\u001b[38;5;241m.\u001b[39mtrack(company_employees, \u001b[38;5;241m40\u001b[39m)\n\u001b[0;32m      3\u001b[0m payroll_system \u001b[38;5;241m=\u001b[39m hr\u001b[38;5;241m.\u001b[39mPayrollSystem()\n",
      "\u001b[1;31mNameError\u001b[0m: name 'productivity' is not defined"
     ]
    }
   ],
   "source": [
    "productivity_system = productivity.ProductivitySystem()\n",
    "productivity_system.track(company_employees, 40)\n",
    "payroll_system = hr.PayrollSystem()\n",
    "payroll_system.calculate_payroll(company_employees)"
   ]
  },
  {
   "cell_type": "code",
   "execution_count": 15,
   "id": "b2e02d95-3fb6-4f30-9f42-fc7da33906dc",
   "metadata": {},
   "outputs": [
    {
     "ename": "NameError",
     "evalue": "name 'TemporarySecretary' is not defined",
     "output_type": "error",
     "traceback": [
      "\u001b[1;31m---------------------------------------------------------------------------\u001b[0m",
      "\u001b[1;31mNameError\u001b[0m                                 Traceback (most recent call last)",
      "Cell \u001b[1;32mIn[15], line 1\u001b[0m\n\u001b[1;32m----> 1\u001b[0m \u001b[43mTemporarySecretary\u001b[49m\u001b[38;5;241m.\u001b[39m__mro_\n",
      "\u001b[1;31mNameError\u001b[0m: name 'TemporarySecretary' is not defined"
     ]
    }
   ],
   "source": [
    " TemporarySecretary.__mro_"
   ]
  },
  {
   "cell_type": "markdown",
   "id": "f9be73a6-f2bc-4ebc-8881-3faaf14f8c34",
   "metadata": {},
   "source": [
    "________________________________"
   ]
  },
  {
   "cell_type": "markdown",
   "id": "d8999989-22e6-4afa-af93-eb2de5d7f8b8",
   "metadata": {},
   "source": [
    "## Problem 2:\n",
    "## Understand the following code with the help of the concepts of multiple Inheritance in Python"
   ]
  },
  {
   "cell_type": "code",
   "execution_count": 16,
   "id": "ddba1af5-c9a9-4a6f-b419-46cbee6fe06b",
   "metadata": {},
   "outputs": [],
   "source": [
    "class Rectangle:\n",
    "    def __init__(self, length, width, **kwargs):\n",
    "        self.length = length\n",
    "        self.width = width\n",
    "        super().__init__(**kwargs)\n",
    "\n",
    "    def area(self):\n",
    "        return self.length * self.width\n",
    "\n",
    "    def perimeter(self):\n",
    "        return 2 * self.length + 2 * self.width\n",
    "\n",
    "class Square(Rectangle):\n",
    "    def __init__(self, length, **kwargs):\n",
    "        super().__init__(length=length, width=length, **kwargs)\n",
    "\n",
    "class Triangle:\n",
    "    def __init__(self, base, height, **kwargs):\n",
    "        self.base = base\n",
    "        self.height = height\n",
    "        super().__init__(**kwargs)\n",
    "\n",
    "    def tri_area(self):\n",
    "        return 0.5 * self.base * self.height\n",
    "\n",
    "class RightPyramid(Square, Triangle):\n",
    "    def __init__(self, base, slant_height, **kwargs):\n",
    "        self.base = base\n",
    "        self.slant_height = slant_height\n",
    "        kwargs[\"height\"] = slant_height\n",
    "        kwargs[\"length\"] = base\n",
    "        super().__init__(base=base, **kwargs)\n",
    "\n",
    "    def area(self):\n",
    "        base_area = super().area()\n",
    "        perimeter = super().perimeter()\n",
    "        return 0.5 * perimeter * self.slant_height + base_area\n",
    "\n",
    "    def area_2(self):\n",
    "        base_area = super().area()\n",
    "        triangle_area = super().tri_area()\n",
    "        return triangle_area * 4 + base_area\n",
    "class SurfaceAreaMixin:\n",
    "    def surface_area(self):\n",
    "        surface_area = 0\n",
    "        for surface in self.surfaces:\n",
    "            surface_area += surface.area(self)\n",
    "\n",
    "        return surface_area\n",
    "\n",
    "class Cube(Square, SurfaceAreaMixin):\n",
    "    def __init__(self, length):\n",
    "        super().__init__(length)\n",
    "        self.surfaces = [Square, Square, Square, Square, Square, Square]\n",
    "\n",
    "class RightPyramid(Square, Triangle, SurfaceAreaMixin):\n",
    "    def __init__(self, base, slant_height):\n",
    "        self.base = base\n",
    "        self.slant_height = slant_height\n",
    "        self.height = slant_height\n",
    "        self.length = base\n",
    "        self.width = base\n",
    "\n",
    "        self.surfaces = [Square, Triangle, Triangle, Triangle, Triangle]"
   ]
  },
  {
   "cell_type": "markdown",
   "id": "08954998-cc64-4693-af64-a1a4dfd83785",
   "metadata": {},
   "source": [
    "### a.\tRun the following code and track the code flow. "
   ]
  },
  {
   "cell_type": "code",
   "execution_count": 17,
   "id": "b1b17a5d-1e86-45d6-a311-3f9ae4b56276",
   "metadata": {},
   "outputs": [
    {
     "data": {
      "text/plain": [
       "54"
      ]
     },
     "execution_count": 17,
     "metadata": {},
     "output_type": "execute_result"
    }
   ],
   "source": [
    "cube = Cube(3)\n",
    "cube.surface_area()"
   ]
  },
  {
   "cell_type": "markdown",
   "id": "862f55c1-84c7-44a5-a0b1-c2594417e869",
   "metadata": {},
   "source": [
    "## Problem 3:"
   ]
  },
  {
   "cell_type": "markdown",
   "id": "ffff98ae-4ede-48c7-a86d-122e7cba260d",
   "metadata": {},
   "source": [
    "#### Design a class for the employees of the electrical department. \n",
    "#### a.\tBase class on the name of staff.\n",
    "#### b.\tThere are admin and faculty staff. \n",
    "#### c.\tThe faculty contains Lecturers, Assistant professors, Associate Professors, and Professors.\n",
    "#### d.\tThe admin staff contains Lab Engineers, Lab technicians, Lab assistants, and lab attendants. \n",
    "#### e.\tChairman and semester coordinator have both roles.  "
   ]
  },
  {
   "cell_type": "code",
   "execution_count": 18,
   "id": "7fc26c30-f511-415a-8988-c822fbd07f39",
   "metadata": {},
   "outputs": [],
   "source": [
    "class Staff:\n",
    "    def __init__(self, name, staff_id, role):\n",
    "        self.name = name\n",
    "        self.staff_id = staff_id\n",
    "        self.role = role\n",
    "\n",
    "    def display(self):\n",
    "        return f\"Name: {self.name}, ID: {self.staff_id}, Role: {self.role}\"\n",
    "\n",
    "\n",
    "class Faculty(Staff):\n",
    "    def __init__(self, name, staff_id, role, department):\n",
    "        super().__init__(name, staff_id, role)  \n",
    "        self.department = department \n",
    "\n",
    "    def display(self):\n",
    "        return f\"{super().display()}, Department: {self.department}\"\n",
    "\n",
    "\n",
    "class Lecturer(Faculty):\n",
    "    def __init__(self, name, staff_id, department):\n",
    "        super().__init__(name, staff_id, \"Lecturer\", department)\n",
    "\n",
    "class AssistantProfessor(Faculty):\n",
    "    def __init__(self, name, staff_id, department):\n",
    "        super().__init__(name, staff_id, \"Assistant Professor\", department)\n",
    "\n",
    "class AssociateProfessor(Faculty):\n",
    "    def __init__(self, name, staff_id, department):\n",
    "        super().__init__(name, staff_id, \"Associate Professor\", department)\n",
    "\n",
    "class Professor(Faculty):\n",
    "    def __init__(self, name, staff_id, department):\n",
    "        super().__init__(name, staff_id, \"Professor\", department)\n",
    "\n",
    "\n",
    "class Admin(Staff):\n",
    "    def __init__(self, name, staff_id, role):\n",
    "        super().__init__(name, staff_id, role)  \n",
    "\n",
    "    def display(self):\n",
    "        return super().display()\n",
    "\n",
    "\n",
    "class LabEngineer(Admin):\n",
    "    def __init__(self, name, staff_id):\n",
    "        super().__init__(name, staff_id, \"Lab Engineer\")\n",
    "\n",
    "class LabTechnician(Admin):\n",
    "    def __init__(self, name, staff_id):\n",
    "        super().__init__(name, staff_id, \"Lab Technician\")\n",
    "\n",
    "class LabAssistant(Admin):\n",
    "    def __init__(self, name, staff_id):\n",
    "        super().__init__(name, staff_id, \"Lab Assistant\")\n",
    "\n",
    "class LabAttendant(Admin):\n",
    "    def __init__(self, name, staff_id):\n",
    "        super().__init__(name, staff_id, \"Lab Attendant\")\n",
    "\n",
    "\n",
    "class Chairman(Staff):\n",
    "    def __init__(self, name, staff_id, department, role=\"Chairman\"):\n",
    "        super().__init__(name, staff_id, role)\n",
    "        self.department = department\n",
    "\n",
    "    def display(self):\n",
    "        return f\"{super().display()}, Department: {self.department}\"\n",
    "\n",
    "\n",
    "class SemesterCoordinator(Staff):\n",
    "    def __init__(self, name, staff_id, department, role=\"Semester Coordinator\"):\n",
    "        super().__init__(name, staff_id, role)\n",
    "        self.department = department\n",
    "\n",
    "    def display(self):\n",
    "        return f\"{super().display()}, Department: {self.department}\"\n",
    "\n",
    "class ChairmanAndSemesterCoordinator(Chairman, SemesterCoordinator):\n",
    "    def __init__(self, name, staff_id, department):\n",
    "        Chairman.__init__(self, name, staff_id, department)\n",
    "        SemesterCoordinator.__init__(self, name, staff_id, department)\n",
    "\n",
    "    def display(self):\n",
    "        return f\"{self.name} serves as both Chairman and Semester Coordinator in the {self.department} department.\""
   ]
  },
  {
   "cell_type": "code",
   "execution_count": 19,
   "id": "dfa9fc47-015e-4550-8ea2-3a6a4ef50960",
   "metadata": {},
   "outputs": [],
   "source": [
    "lecturer = Lecturer(\"Alice Johnson\", \"F001\", \"Electrical Engineering\")\n",
    "assistant_prof = AssistantProfessor(\"Bob Smith\", \"F002\", \"Electrical Engineering\")\n",
    "associate_prof = AssociateProfessor(\"Clara Williams\", \"F003\", \"Electrical Engineering\")\n",
    "professor = Professor(\"David Brown\", \"F004\", \"Electrical Engineering\")"
   ]
  },
  {
   "cell_type": "code",
   "execution_count": 20,
   "id": "600dee49-ae4a-423e-b90e-3d6788270693",
   "metadata": {},
   "outputs": [],
   "source": [
    "lab_engineer = LabEngineer(\"Eve White\", \"A001\")\n",
    "lab_technician = LabTechnician(\"Frank Green\", \"A002\")\n",
    "lab_assistant = LabAssistant(\"Grace Lee\", \"A003\")\n",
    "lab_attendant = LabAttendant(\"Hank Miller\", \"A004\")"
   ]
  },
  {
   "cell_type": "code",
   "execution_count": 21,
   "id": "b705e36d-94c8-437a-aa30-f3b736fd226c",
   "metadata": {},
   "outputs": [],
   "source": [
    "chairman = Chairman(\"Dr. John Doe\", \"A005\", \"Electrical Engineering\")\n",
    "semester_coordinator = SemesterCoordinator(\"Dr. Jane Doe\", \"A006\", \"Electrical Engineering\")\n",
    "\n",
    "chairman_and_coordinator = ChairmanAndSemesterCoordinator(\"Dr. Sam Taylor\", \"A007\", \"Electrical Engineering\")"
   ]
  },
  {
   "cell_type": "code",
   "execution_count": 22,
   "id": "eb3a9d03-2020-45b4-8a42-34538e08fb32",
   "metadata": {},
   "outputs": [
    {
     "name": "stdout",
     "output_type": "stream",
     "text": [
      "Name: Alice Johnson, ID: F001, Role: Lecturer, Department: Electrical Engineering\n",
      "Name: Bob Smith, ID: F002, Role: Assistant Professor, Department: Electrical Engineering\n",
      "Name: Clara Williams, ID: F003, Role: Associate Professor, Department: Electrical Engineering\n",
      "Name: David Brown, ID: F004, Role: Professor, Department: Electrical Engineering\n"
     ]
    }
   ],
   "source": [
    "print(lecturer.display())\n",
    "print(assistant_prof.display())\n",
    "print(associate_prof.display())\n",
    "print(professor.display())"
   ]
  },
  {
   "cell_type": "code",
   "execution_count": 23,
   "id": "d325b96d-cf7e-4ad8-9f12-995990b37760",
   "metadata": {},
   "outputs": [
    {
     "name": "stdout",
     "output_type": "stream",
     "text": [
      "Name: Eve White, ID: A001, Role: Lab Engineer\n",
      "Name: Frank Green, ID: A002, Role: Lab Technician\n",
      "Name: Grace Lee, ID: A003, Role: Lab Assistant\n",
      "Name: Hank Miller, ID: A004, Role: Lab Attendant\n"
     ]
    }
   ],
   "source": [
    "print(lab_engineer.display())\n",
    "print(lab_technician.display())\n",
    "print(lab_assistant.display())\n",
    "print(lab_attendant.display())"
   ]
  },
  {
   "cell_type": "code",
   "execution_count": 24,
   "id": "30d0adb4-23f9-4c10-96c0-8792fdc1c3e1",
   "metadata": {},
   "outputs": [
    {
     "name": "stdout",
     "output_type": "stream",
     "text": [
      "Name: Dr. John Doe, ID: A005, Role: Chairman, Department: Electrical Engineering\n",
      "Name: Dr. Jane Doe, ID: A006, Role: Semester Coordinator, Department: Electrical Engineering\n",
      "Dr. Sam Taylor serves as both Chairman and Semester Coordinator in the Electrical Engineering department.\n"
     ]
    }
   ],
   "source": [
    "print(chairman.display())\n",
    "print(semester_coordinator.display())\n",
    "print(chairman_and_coordinator.display())"
   ]
  },
  {
   "cell_type": "code",
   "execution_count": null,
   "id": "2ab589e9-eb6a-4a23-8079-218dc1640e48",
   "metadata": {},
   "outputs": [],
   "source": []
  },
  {
   "cell_type": "code",
   "execution_count": null,
   "id": "ac58ef08-71ea-4b17-8367-64be30f8196d",
   "metadata": {},
   "outputs": [],
   "source": []
  },
  {
   "cell_type": "code",
   "execution_count": null,
   "id": "42478abe-dfc3-4215-99de-bf8a4d60e012",
   "metadata": {},
   "outputs": [],
   "source": []
  },
  {
   "cell_type": "code",
   "execution_count": null,
   "id": "66ba086d-f752-4a7e-ab0c-887c93e3e566",
   "metadata": {},
   "outputs": [],
   "source": []
  },
  {
   "cell_type": "code",
   "execution_count": null,
   "id": "331bdf19-63f3-472f-ac06-ded966b82e28",
   "metadata": {},
   "outputs": [],
   "source": []
  },
  {
   "cell_type": "code",
   "execution_count": null,
   "id": "efb4df1e-1e10-4381-ad4d-739c2ab4059f",
   "metadata": {},
   "outputs": [],
   "source": []
  },
  {
   "cell_type": "code",
   "execution_count": null,
   "id": "585d0ece-9894-4939-93df-d15b8ffb471a",
   "metadata": {},
   "outputs": [],
   "source": []
  },
  {
   "cell_type": "code",
   "execution_count": null,
   "id": "10a52823-5473-49c1-bfc9-acae7fd8c181",
   "metadata": {},
   "outputs": [],
   "source": []
  },
  {
   "cell_type": "code",
   "execution_count": null,
   "id": "d164a5b1-24b8-4c4d-8527-a9439615f8cc",
   "metadata": {},
   "outputs": [],
   "source": []
  },
  {
   "cell_type": "code",
   "execution_count": null,
   "id": "5f61bda1-833b-4ec3-b5c3-9f84b533b7fd",
   "metadata": {},
   "outputs": [],
   "source": []
  },
  {
   "cell_type": "code",
   "execution_count": null,
   "id": "53078e3d-e779-4e06-8656-11c2f88db394",
   "metadata": {},
   "outputs": [],
   "source": []
  }
 ],
 "metadata": {
  "kernelspec": {
   "display_name": "Python 3 (ipykernel)",
   "language": "python",
   "name": "python3"
  },
  "language_info": {
   "codemirror_mode": {
    "name": "ipython",
    "version": 3
   },
   "file_extension": ".py",
   "mimetype": "text/x-python",
   "name": "python",
   "nbconvert_exporter": "python",
   "pygments_lexer": "ipython3",
   "version": "3.9.19"
  }
 },
 "nbformat": 4,
 "nbformat_minor": 5
}
