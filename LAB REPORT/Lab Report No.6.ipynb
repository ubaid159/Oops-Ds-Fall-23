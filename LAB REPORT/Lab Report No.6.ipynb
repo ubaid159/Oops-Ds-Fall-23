{
 "cells": [
  {
   "cell_type": "markdown",
   "id": "499b633f",
   "metadata": {},
   "source": [
    "<center><span style=\"\n",
    "    font-size: 30px;\n",
    "    font-family: castellar;\n",
    "    color: BLUE;\n",
    "    font-weight: bold;\n",
    "    letter-spacing: 1px;\n",
    "    text-shadow: 3px 1px 0px rgba(0, ,0, 1, 1)\n",
    "\">\n",
    "    LAB REPORT OF OOP AND DATA STRUCTARE\n",
    "</span></center>"
   ]
  },
  {
   "cell_type": "markdown",
   "id": "c12515e2",
   "metadata": {},
   "source": [
    "<center><span style=\"\n",
    "    font-size: 25px;\n",
    "    font-family: Arial Black;\n",
    "    color: light green;\n",
    "    font-weight: bold;\n",
    "    letter-spacing: 1px;\n",
    "    text-shadow: 3px 1px 0px rgba(0, ,0, 1, 1)\n",
    "\">\n",
    "    Lab 6: Classes 3 @property and @property.setter, @property, @ staticmethod and \n",
    "@classmethod\"\n",
    "</span></center>"
   ]
  },
  {
   "cell_type": "markdown",
   "id": "adea98d9",
   "metadata": {},
   "source": [
    "<center><span style=\"\n",
    "    font-size: 25px;\n",
    "    font-family: castellar;\n",
    "    color: red;\n",
    "    font-weight: bold;\n",
    "    letter-spacing: 1px;\n",
    "    text-shadow: 3px 1px 0px rgba(0, ,0, 1, 1)\n",
    "\">\n",
    " Lab Title: EE-271 “OOP & Data Structures Lab”   \n",
    "</span></center>"
   ]
  },
  {
   "cell_type": "markdown",
   "id": "4b47d4de",
   "metadata": {},
   "source": [
    "## LAB REPORT TASK:"
   ]
  },
  {
   "cell_type": "markdown",
   "id": "4c090016-75f7-406f-bde1-0fc8d73164f5",
   "metadata": {},
   "source": [
    "# 1. Define a class circle. Your class must have the appropriate __init__ method.  \n",
    "i. Add appropriate property methods. (@property and @property.setter)\n",
    "ii.In addition, add an instance method for the volume of a cylinder with the given \n",
    "radius. \n",
    "iii. Add property method for area, circumference, and diameter.   \n",
    "iv. Add __repr__ and __str__ to the class.  \n",
    "v. Add proper annotation and doc string to every class and instance method.  \n",
    "vi. Also add method with decoration @staticmethod and @classmethod if possible. \n",
    "a. Define inst_1 and pass two numbers.  \n",
    "b. Make another instance inst2.  \n",
    "c. Print inst_1 and inst_2, for this use the print command and pass the inst_1 and inst_2.  \n",
    "d. Demonstrate the property, staticmethod and  classmethod methods on the instances.  \n",
    "e. Call the __dict__ by the class name.  \n",
    "f. Also pass the class name to the vars built-in function. \n",
    "g. Call the __dict__ on the object of the class.  \n",
    "h. Pass the class name to help.  \n",
    "i. Print the doc-string and annotations of both the class and each instance method. \n",
    "j. Modify the __init__ by making its parameters default and verify by instances."
   ]
  },
  {
   "cell_type": "code",
   "execution_count": 137,
   "id": "f4b20899",
   "metadata": {},
   "outputs": [],
   "source": [
    "import math\n",
    "\n",
    "\n",
    "class Circle:\n",
    "\n",
    "\n",
    "    def __init__(self, radius):\n",
    "        self._radius = radius\n",
    "\n",
    "    @property\n",
    "    def radius(self):\n",
    "        return self._radius\n",
    "\n",
    "    @radius.setter\n",
    "    def radius(self, value):\n",
    "        if value <= 0:\n",
    "            raise ValueError()\n",
    "        self._radius = value\n",
    "\n",
    "    @property\n",
    "    def area(self):\n",
    "        return math.pi * self._radius**2\n",
    "\n",
    "    @property\n",
    "    def circumference(self):\n",
    "        return 2 * math.pi * self._radius\n",
    "\n",
    "    @property\n",
    "    def diameter(self):\n",
    "        return 2 * self._radius\n",
    "\n",
    "    def cylinder_volume(self, height):\n",
    "        return self.area * height\n",
    "\n",
    "    @staticmethod\n",
    "    def unit_circle():\n",
    "        return Circle(16)\n",
    "\n",
    "    @classmethod\n",
    "    def from_diameter(cls, diameter):\n",
    "        return cls(diameter / 2)\n",
    "\n",
    "    def __repr__(self):\n",
    "        return f\"Circle(radius={self._radius})\"\n",
    "\n",
    "    def __str__(self):\n",
    "        return f\"Circle with radius {self._radius}\""
   ]
  },
  {
   "cell_type": "code",
   "execution_count": 138,
   "id": "24d7d599",
   "metadata": {},
   "outputs": [],
   "source": [
    "c1 = Circle(8)\n",
    "c2 = Circle(5)"
   ]
  },
  {
   "cell_type": "code",
   "execution_count": 139,
   "id": "6ba42cb2",
   "metadata": {},
   "outputs": [
    {
     "name": "stdout",
     "output_type": "stream",
     "text": [
      "Circle with radius 8\n",
      "Circle with radius 8\n"
     ]
    }
   ],
   "source": [
    "# Print instances\n",
    "print(c1)\n",
    "print(c1)"
   ]
  },
  {
   "cell_type": "code",
   "execution_count": 145,
   "id": "1cbe7cb1",
   "metadata": {},
   "outputs": [
    {
     "name": "stdout",
     "output_type": "stream",
     "text": [
      "201.06192982974676\n",
      "50.26548245743669\n",
      "16\n"
     ]
    }
   ],
   "source": [
    "# Properties\n",
    "print(c1.area)\n",
    "print(c1.circumference)\n",
    "print(c1.diameter)"
   ]
  },
  {
   "cell_type": "code",
   "execution_count": 141,
   "id": "2c59d186",
   "metadata": {},
   "outputs": [
    {
     "name": "stdout",
     "output_type": "stream",
     "text": [
      "Circle with radius 16\n",
      "Circle with radius 10.0\n"
     ]
    }
   ],
   "source": [
    "# Static and Class Methods\n",
    "print(Circle.unit_circle())\n",
    "print(Circle.from_diameter(20))"
   ]
  },
  {
   "cell_type": "code",
   "execution_count": null,
   "id": "d2b7cd4b-5a20-42ab-bf6d-35eb5a305f3a",
   "metadata": {},
   "outputs": [],
   "source": []
  },
  {
   "cell_type": "code",
   "execution_count": null,
   "id": "aa5d0464-aaf6-4c84-8634-31ac8f7a14cd",
   "metadata": {},
   "outputs": [],
   "source": []
  },
  {
   "cell_type": "markdown",
   "id": "2fdb11a9-480b-4077-9051-3f8ccdad14f8",
   "metadata": {},
   "source": [
    "# __dict__ and vars\n",
    "print(Circle.__dict__)\n",
    "print(c1.__dict__)\n",
    "print(vars(Circle))\n",
    "\n"
   ]
  },
  {
   "cell_type": "markdown",
   "id": "4b037641-6556-4abf-9cc3-0d4a40867324",
   "metadata": {},
   "source": [
    "# __dict__ and vars\n",
    "print(Circle.__dict__)\n",
    "print(c1.__dict__)\n",
    "print(vars(Circle))\n",
    "\n"
   ]
  },
  {
   "cell_type": "code",
   "execution_count": 135,
   "id": "cb6bd211",
   "metadata": {},
   "outputs": [
    {
     "name": "stdout",
     "output_type": "stream",
     "text": [
      "Help on class Circle in module __main__:\n",
      "\n",
      "class Circle(builtins.object)\n",
      " |  Circle(radius)\n",
      " |  \n",
      " |  Methods defined here:\n",
      " |  \n",
      " |  __init__(self, radius)\n",
      " |      Initialize self.  See help(type(self)) for accurate signature.\n",
      " |  \n",
      " |  __repr__(self)\n",
      " |      Return repr(self).\n",
      " |  \n",
      " |  __str__(self)\n",
      " |      Return str(self).\n",
      " |  \n",
      " |  cylinder_volume(self, height)\n",
      " |  \n",
      " |  ----------------------------------------------------------------------\n",
      " |  Class methods defined here:\n",
      " |  \n",
      " |  from_diameter(diameter) from builtins.type\n",
      " |  \n",
      " |  ----------------------------------------------------------------------\n",
      " |  Static methods defined here:\n",
      " |  \n",
      " |  unit_circle()\n",
      " |  \n",
      " |  ----------------------------------------------------------------------\n",
      " |  Readonly properties defined here:\n",
      " |  \n",
      " |  area\n",
      " |  \n",
      " |  circumference\n",
      " |  \n",
      " |  diameter\n",
      " |  \n",
      " |  ----------------------------------------------------------------------\n",
      " |  Data descriptors defined here:\n",
      " |  \n",
      " |  __dict__\n",
      " |      dictionary for instance variables (if defined)\n",
      " |  \n",
      " |  __weakref__\n",
      " |      list of weak references to the object (if defined)\n",
      " |  \n",
      " |  radius\n",
      "\n",
      "None\n"
     ]
    }
   ],
   "source": [
    "# Help and docstrings\n",
    "help(Circle)\n",
    "print(Circle.__doc__)"
   ]
  },
  {
   "cell_type": "code",
   "execution_count": null,
   "id": "6d710ba9",
   "metadata": {},
   "outputs": [],
   "source": []
  },
  {
   "cell_type": "code",
   "execution_count": null,
   "id": "08999120-c7f9-436c-bbb9-f4a44a663b62",
   "metadata": {},
   "outputs": [],
   "source": []
  },
  {
   "cell_type": "code",
   "execution_count": null,
   "id": "72191e1d-f1d6-4330-87a0-8419ec89ceeb",
   "metadata": {},
   "outputs": [],
   "source": []
  },
  {
   "cell_type": "code",
   "execution_count": null,
   "id": "a66240f6-a7fb-41a4-b459-58283b92814a",
   "metadata": {},
   "outputs": [],
   "source": []
  }
 ],
 "metadata": {
  "kernelspec": {
   "display_name": "Python 3 (ipykernel)",
   "language": "python",
   "name": "python3"
  },
  "language_info": {
   "codemirror_mode": {
    "name": "ipython",
    "version": 3
   },
   "file_extension": ".py",
   "mimetype": "text/x-python",
   "name": "python",
   "nbconvert_exporter": "python",
   "pygments_lexer": "ipython3",
   "version": "3.9.19"
  }
 },
 "nbformat": 4,
 "nbformat_minor": 5
}
