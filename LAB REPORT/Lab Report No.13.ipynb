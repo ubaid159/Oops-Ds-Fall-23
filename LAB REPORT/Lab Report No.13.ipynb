{
 "cells": [
  {
   "cell_type": "markdown",
   "id": "499f73b0-3df6-4269-81ab-6b4726a5f856",
   "metadata": {},
   "source": [
    "# <center><span style=\"font-family: Arial, sans-serif; font-size: 24px; font-weight: bold;\">Fall EE-271 OOP and Data Structures Lab</span></Center>\n"
   ]
  },
  {
   "cell_type": "markdown",
   "id": "e4e5a156-ad2b-4de4-a81b-978228c15c3d",
   "metadata": {},
   "source": [
    "# Lab Report Details\n",
    "\n",
    "| **Field**        | **Details**         |\n",
    "|-------------------|---------------------|\n",
    "| **Name**         | MUHAMMAD Ubaid         |\n",
    "| **Req No**       | 23jzele 0556         |\n",
    "| **Lab Report No**| 13                 |"
   ]
  },
  {
   "cell_type": "code",
   "execution_count": 1,
   "id": "4761a048-c267-467b-8b12-f112dbc9b2a0",
   "metadata": {},
   "outputs": [],
   "source": [
    "import heapq"
   ]
  },
  {
   "cell_type": "code",
   "execution_count": 2,
   "id": "ba7c0c21-7729-4ca9-b0df-042abfa66500",
   "metadata": {},
   "outputs": [],
   "source": [
    "import heapq\n",
    "def enqueue(self, data, priority):\n",
    "    heapq.heappush(self.heap, (priority, data))"
   ]
  },
  {
   "cell_type": "code",
   "execution_count": 3,
   "id": "d7cd1f53-0a4d-41b2-a7d1-14c2eb825635",
   "metadata": {},
   "outputs": [],
   "source": [
    "from heapq import heappush\n",
    "fruits = []\n",
    "heappush(fruits, \"orange\")\n",
    "heappush(fruits, \"apple\")\n",
    "heappush(fruits, \"banana\")"
   ]
  },
  {
   "cell_type": "code",
   "execution_count": 4,
   "id": "047e2f8d-4d11-4eea-b76e-4af064de148f",
   "metadata": {},
   "outputs": [
    {
     "name": "stdout",
     "output_type": "stream",
     "text": [
      "['apple', 'orange', 'banana']\n"
     ]
    }
   ],
   "source": [
    "print(fruits)"
   ]
  },
  {
   "cell_type": "code",
   "execution_count": 5,
   "id": "8c2fa1b2-f6b8-423d-8543-b4e331e57622",
   "metadata": {},
   "outputs": [
    {
     "data": {
      "text/plain": [
       "['banana', 'orange']"
      ]
     },
     "execution_count": 5,
     "metadata": {},
     "output_type": "execute_result"
    }
   ],
   "source": [
    "from heapq import heappop\n",
    "heappop(fruits)\n",
    "fruits"
   ]
  },
  {
   "cell_type": "code",
   "execution_count": 6,
   "id": "e5856c1d-b57e-4ee6-92a0-8e9a0d0209de",
   "metadata": {},
   "outputs": [],
   "source": [
    "Person1 = (\"John\", \"Brown\", 42)\n",
    "person2 = (\"John\", \"Doe\", 42)\n",
    "person3 = (\"John\", \"Doe\", 24)"
   ]
  },
  {
   "cell_type": "code",
   "execution_count": 7,
   "id": "5171ccbd-df95-43cf-9f4c-4dee3753ff20",
   "metadata": {},
   "outputs": [
    {
     "data": {
      "text/plain": [
       "True"
      ]
     },
     "execution_count": 7,
     "metadata": {},
     "output_type": "execute_result"
    }
   ],
   "source": [
    "Person1 < person2"
   ]
  },
  {
   "cell_type": "code",
   "execution_count": 8,
   "id": "3b581b0b-ef97-4ad6-bb99-84413493822c",
   "metadata": {},
   "outputs": [
    {
     "data": {
      "text/plain": [
       "False"
      ]
     },
     "execution_count": 8,
     "metadata": {},
     "output_type": "execute_result"
    }
   ],
   "source": [
    "person2 < person3"
   ]
  },
  {
   "cell_type": "code",
   "execution_count": 9,
   "id": "5742343b-3766-4f6f-9b6e-f9ee842916fc",
   "metadata": {},
   "outputs": [],
   "source": [
    "from collections import deque\n",
    "from heapq import heappop, heappush\n",
    "\n",
    "class PriorityQueue:\n",
    "    def __init__(self):\n",
    "        self._elements = []\n",
    "\n",
    "    def enqueue_with_priority(self, priority, value):\n",
    "        heappush(self._elements, (priority, value))\n",
    "\n",
    "    def dequeue(self):\n",
    "        return heappop(self._elements)"
   ]
  },
  {
   "cell_type": "code",
   "execution_count": 10,
   "id": "ca934ca9-1142-4d0f-91ac-ec575ee01d49",
   "metadata": {},
   "outputs": [],
   "source": [
    "CRITICAL = 3\n",
    "IMPORTANT = 2\n",
    "NEUTRAL = 1\n",
    "\n",
    "messages = PriorityQueue()\n",
    "\n",
    "messages.enqueue_with_priority(IMPORTANT, \"Windshield wipers turned on\")\n",
    "messages.enqueue_with_priority(NEUTRAL, \"Radio station tuned in\")\n",
    "messages.enqueue_with_priority(CRITICAL, \"Brake pedal depressed\")\n",
    "messages.enqueue_with_priority(IMPORTANT, \"Hazard lights turned on\")"
   ]
  },
  {
   "cell_type": "code",
   "execution_count": 11,
   "id": "2d698c23-1e9d-47f2-9a50-820b6ad2a08a",
   "metadata": {},
   "outputs": [
    {
     "data": {
      "text/plain": [
       "[(1, 'Radio station tuned in'),\n",
       " (2, 'Hazard lights turned on'),\n",
       " (3, 'Brake pedal depressed'),\n",
       " (2, 'Windshield wipers turned on')]"
      ]
     },
     "execution_count": 11,
     "metadata": {},
     "output_type": "execute_result"
    }
   ],
   "source": [
    "messages._elements"
   ]
  },
  {
   "cell_type": "code",
   "execution_count": 12,
   "id": "62783354-8e40-4f46-a9ff-1b003c5a0062",
   "metadata": {},
   "outputs": [
    {
     "data": {
      "text/plain": [
       "(1, 'Radio station tuned in')"
      ]
     },
     "execution_count": 12,
     "metadata": {},
     "output_type": "execute_result"
    }
   ],
   "source": [
    "messages.dequeue()"
   ]
  },
  {
   "cell_type": "code",
   "execution_count": 13,
   "id": "e43da619-f0c0-41f8-9447-f863edf66b3c",
   "metadata": {},
   "outputs": [
    {
     "data": {
      "text/plain": [
       "(2, 'Hazard lights turned on')"
      ]
     },
     "execution_count": 13,
     "metadata": {},
     "output_type": "execute_result"
    }
   ],
   "source": [
    "messages.dequeue()"
   ]
  },
  {
   "cell_type": "code",
   "execution_count": 14,
   "id": "1e19d630-10f9-426b-ad53-61b1d522406c",
   "metadata": {},
   "outputs": [
    {
     "data": {
      "text/plain": [
       "(2, 'Windshield wipers turned on')"
      ]
     },
     "execution_count": 14,
     "metadata": {},
     "output_type": "execute_result"
    }
   ],
   "source": [
    "messages.dequeue()"
   ]
  },
  {
   "cell_type": "code",
   "execution_count": 15,
   "id": "a39cf949-feba-4a3f-8b0e-4dfa2e33cac1",
   "metadata": {},
   "outputs": [
    {
     "data": {
      "text/plain": [
       "(3, 'Brake pedal depressed')"
      ]
     },
     "execution_count": 15,
     "metadata": {},
     "output_type": "execute_result"
    }
   ],
   "source": [
    "messages.dequeue()"
   ]
  },
  {
   "cell_type": "code",
   "execution_count": 16,
   "id": "5c64d3e8-92b0-4195-8278-8400a18a0b09",
   "metadata": {},
   "outputs": [],
   "source": [
    "import heapq\n",
    "class PriorityQueue:\n",
    "    def __init__(self):\n",
    "        self._elements = []\n",
    "    def enqueue_with_priority(self, priority, value):\n",
    "        heapq.heappush(self._elements, (-priority, value))\n",
    "    def dequeue(self):\n",
    "        return heapq.heappop(self._elements)[1]"
   ]
  },
  {
   "cell_type": "code",
   "execution_count": 17,
   "id": "e80ca687-ad17-41f2-ba23-36794382c4d8",
   "metadata": {},
   "outputs": [
    {
     "ename": "TypeError",
     "evalue": "'<' not supported between instances of 'Message' and 'Message'",
     "output_type": "error",
     "traceback": [
      "\u001b[1;31m---------------------------------------------------------------------------\u001b[0m",
      "\u001b[1;31mTypeError\u001b[0m                                 Traceback (most recent call last)",
      "Cell \u001b[1;32mIn[17], line 13\u001b[0m\n\u001b[0;32m     10\u001b[0m messages\u001b[38;5;241m.\u001b[39menqueue_with_priority(CRITICAL, wipers)\n\u001b[0;32m     11\u001b[0m messages\u001b[38;5;241m.\u001b[39menqueue_with_priority(IMPORTANT, hazard_lights)\n\u001b[1;32m---> 13\u001b[0m \u001b[43mmessages\u001b[49m\u001b[38;5;241;43m.\u001b[39;49m\u001b[43menqueue_with_priority\u001b[49m\u001b[43m(\u001b[49m\u001b[43mCRITICAL\u001b[49m\u001b[43m,\u001b[49m\u001b[43m \u001b[49m\u001b[43mMessage\u001b[49m\u001b[43m(\u001b[49m\u001b[38;5;124;43m\"\u001b[39;49m\u001b[38;5;124;43mABS engaged\u001b[39;49m\u001b[38;5;124;43m\"\u001b[39;49m\u001b[43m)\u001b[49m\u001b[43m)\u001b[49m\n",
      "Cell \u001b[1;32mIn[16], line 6\u001b[0m, in \u001b[0;36mPriorityQueue.enqueue_with_priority\u001b[1;34m(self, priority, value)\u001b[0m\n\u001b[0;32m      5\u001b[0m \u001b[38;5;28;01mdef\u001b[39;00m \u001b[38;5;21menqueue_with_priority\u001b[39m(\u001b[38;5;28mself\u001b[39m, priority, value):\n\u001b[1;32m----> 6\u001b[0m     \u001b[43mheapq\u001b[49m\u001b[38;5;241;43m.\u001b[39;49m\u001b[43mheappush\u001b[49m\u001b[43m(\u001b[49m\u001b[38;5;28;43mself\u001b[39;49m\u001b[38;5;241;43m.\u001b[39;49m\u001b[43m_elements\u001b[49m\u001b[43m,\u001b[49m\u001b[43m \u001b[49m\u001b[43m(\u001b[49m\u001b[38;5;241;43m-\u001b[39;49m\u001b[43mpriority\u001b[49m\u001b[43m,\u001b[49m\u001b[43m \u001b[49m\u001b[43mvalue\u001b[49m\u001b[43m)\u001b[49m\u001b[43m)\u001b[49m\n",
      "\u001b[1;31mTypeError\u001b[0m: '<' not supported between instances of 'Message' and 'Message'"
     ]
    }
   ],
   "source": [
    "from dataclasses import dataclass\n",
    "@dataclass\n",
    "class Message:\n",
    "    event: str\n",
    "\n",
    "wipers = Message(\"Windshield wipers turned on\")\n",
    "hazard_lights = Message(\"Hazard lights turned on\")\n",
    "\n",
    "messages = PriorityQueue()\n",
    "messages.enqueue_with_priority(CRITICAL, wipers)\n",
    "messages.enqueue_with_priority(IMPORTANT, hazard_lights)\n",
    "\n",
    "messages.enqueue_with_priority(CRITICAL, Message(\"ABS engaged\"))"
   ]
  },
  {
   "cell_type": "code",
   "execution_count": null,
   "id": "5b9cece9-722d-49f4-bf01-d4fed2ec939c",
   "metadata": {},
   "outputs": [],
   "source": [
    "from collections import deque\n",
    "from heapq import heappop, heappush\n",
    "from itertools import count\n",
    "\n",
    "class PriorityQueue:\n",
    "    def __init__(self):\n",
    "        self._elements = []\n",
    "        self._counter = count()\n",
    "\n",
    "    def enqueue_with_priority(self, priority, value):\n",
    "        element = (-priority, next(self._counter), value)  # Use a tuple for priority, counter, and value\n",
    "        heappush(self._elements, element)\n",
    "\n",
    "    def dequeue(self):\n",
    "        return heappop(self._elements)[-1]  # Return the last element of the popped tuple (the value)"
   ]
  },
  {
   "cell_type": "code",
   "execution_count": null,
   "id": "e1b6468e-c29c-4dac-9b68-af16863f3aec",
   "metadata": {},
   "outputs": [],
   "source": [
    "class IterableMixin:\n",
    "    def __len__(self):\n",
    "        return len(self._elements)\n",
    "\n",
    "    def __iter__(self):\n",
    "        while len(self) > 0:\n",
    "            yield self.dequeue()"
   ]
  },
  {
   "cell_type": "code",
   "execution_count": null,
   "id": "feb2ac5a-8a41-4618-b252-4a73ff6b2010",
   "metadata": {},
   "outputs": [],
   "source": [
    "from collections import deque\n",
    "from heapq import heappop, heappush\n",
    "from itertools import count\n",
    "\n",
    "class Stack(Queue):\n",
    "    def dequeue(self):\n",
    "        return self._elements.pop()\n",
    "\n",
    "class PriorityQueue(IterableMixin):\n",
    "    def __init__(self):\n",
    "        self._elements = []\n",
    "        self._counter = count()\n",
    "\n",
    "    def enqueue_with_priority(self, priority, value):\n",
    "        element = (-priority, next(self._counter), value)\n",
    "        heappush(self._elements, element)\n",
    "\n",
    "    def dequeue(self):\n",
    "        return heappop(self._elements)[-1]\n",
    "\n",
    "class IterableMixin:\n",
    "    def __len__(self):\n",
    "        return len(self._elements)\n",
    "\n",
    "    def __iter__(self):\n",
    "        while len(self) > 0:\n",
    "            yield self.dequeue()\n",
    "\n",
    "class Queue(IterableMixin):\n",
    "    def __init__(self, *elements):\n",
    "        self._elements = deque(elements)\n",
    "\n",
    "    def enqueue(self, element):\n",
    "        self._elements.append(element)\n",
    "\n",
    "    def dequeue(self):\n",
    "        return self._elements.popleft()"
   ]
  },
  {
   "cell_type": "code",
   "execution_count": null,
   "id": "fa904017-229f-491c-895b-cab1d160de12",
   "metadata": {},
   "outputs": [],
   "source": []
  }
 ],
 "metadata": {
  "kernelspec": {
   "display_name": "Python 3 (ipykernel)",
   "language": "python",
   "name": "python3"
  },
  "language_info": {
   "codemirror_mode": {
    "name": "ipython",
    "version": 3
   },
   "file_extension": ".py",
   "mimetype": "text/x-python",
   "name": "python",
   "nbconvert_exporter": "python",
   "pygments_lexer": "ipython3",
   "version": "3.9.19"
  }
 },
 "nbformat": 4,
 "nbformat_minor": 5
}
