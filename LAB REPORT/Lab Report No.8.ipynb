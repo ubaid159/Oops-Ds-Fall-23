{
 "cells": [
  {
   "cell_type": "markdown",
   "id": "761abc7b-4fc1-422c-9cf5-97cf9a22a439",
   "metadata": {},
   "source": [
    "# Lab Report Details\n",
    "\n",
    "| **Field**        | **Details**         |\n",
    "|-------------------|---------------------|\n",
    "| **Name**         | MUHAMMAD Ubaid       |\n",
    "| **Req No**       | 23jzele 0556        |\n",
    "| **Lab Report No**| 08                 |"
   ]
  },
  {
   "cell_type": "markdown",
   "id": "5d42ec28-49ce-4061-a5d6-c70a7dc65995",
   "metadata": {},
   "source": [
    "<center><span style=\"\n",
    "    font-size: 30px;\n",
    "    font-family: castellar;\n",
    "    color: BLUE;\n",
    "    font-weight: bold;\n",
    "    letter-spacing: 1px;\n",
    "    text-shadow: 3px 1px 0px rgba(0, ,0, 1, 1)\n",
    "\">\n",
    "    LAB REPORT OF OOP AND DATA STRUCTARE\n",
    "</span></center>"
   ]
  },
  {
   "cell_type": "markdown",
   "id": "998504d5-2e22-4aab-8ba8-904c4df66755",
   "metadata": {},
   "source": [
    "<center><span style=\"\n",
    "    font-size: 25px;\n",
    "    font-family: Arial Black;\n",
    "    color: light green;\n",
    "    font-weight: bold;\n",
    "    letter-spacing: 1px;\n",
    "    text-shadow: 3px 1px 0px rgba(0, ,0, 1, 1)\n",
    "\">\n",
    "   Lab 8: Multi-Level Inheritance\n",
    "</span></center>"
   ]
  },
  {
   "cell_type": "markdown",
   "id": "ca5ff671-ba4b-428c-b801-8cd8ff2696ea",
   "metadata": {},
   "source": [
    "<center><span style=\"\n",
    "    font-size: 25px;\n",
    "    font-family: castellar;\n",
    "    color: red;\n",
    "    font-weight: bold;\n",
    "    letter-spacing: 1px;\n",
    "    text-shadow: 3px 1px 0px rgba(0, ,0, 1, 1)\n",
    "\">\n",
    "    Lab Title: EE-271 “OOP & Data Structures Lab” \n",
    "</span></center>  "
   ]
  },
  {
   "cell_type": "markdown",
   "id": "24498b7c-856b-4e68-b3ac-ed21c637a160",
   "metadata": {},
   "source": [
    "## Problem 1:\n",
    "#### a.\tConstruct a rectangle class \n",
    "#### b.\tInherit a square class from the rectangle class.\n",
    "#### c.\tCreate a class Cube that inherits from Square and extends the functionality of .area () (inherited from the Rectangle class through Square) to calculate the surface area and volume of Cube.\n",
    "#### d.\tCreate two instances of the cube class and call both the instance methods. "
   ]
  },
  {
   "cell_type": "code",
   "execution_count": 1,
   "id": "e5526433-fc72-4271-a588-68f314942dd2",
   "metadata": {},
   "outputs": [],
   "source": [
    "class Rectangle:\n",
    "    def __init__(self, length, width):\n",
    "        self.length = length  \n",
    "        self.width = width    \n",
    "\n",
    "    def area(self):\n",
    "        return self.length * self.width \n",
    "\n",
    "    def perimeter(self):\n",
    "        return 2 * (self.length + self.width)  \n",
    "    def display(self):\n",
    "        return f\"Length: {self.length}, Width: {self.width}, Area: {self.area()}, Perimeter: {self.perimeter()}\""
   ]
  },
  {
   "cell_type": "code",
   "execution_count": 2,
   "id": "41f10ad5-ff5f-46e8-9738-bbffd43fe77f",
   "metadata": {},
   "outputs": [],
   "source": [
    "class Square(Rectangle):\n",
    "    def __init__(self, side):\n",
    "        super().__init__(side, side)  \n",
    "\n",
    "    def display(self):\n",
    "        return f\"Side: {self.length}, Area: {self.area()}, Perimeter: {self.perimeter()}\""
   ]
  },
  {
   "cell_type": "code",
   "execution_count": 3,
   "id": "a9a18339-9684-48ab-9b09-282eef43ebec",
   "metadata": {},
   "outputs": [],
   "source": [
    "class Cube(Square):\n",
    "    def __init__(self, side):\n",
    "        super().__init__(side)  \n",
    "\n",
    "    def surface_area(self):\n",
    "        return 6 * (self.length ** 2)  \n",
    "\n",
    "    def volume(self):\n",
    "        return self.length ** 3  \n",
    "\n",
    "    def display(self):\n",
    "        return f\"Side: {self.length}, Surface Area: {self.surface_area()}, Volume: {self.volume()}\""
   ]
  },
  {
   "cell_type": "code",
   "execution_count": 4,
   "id": "024ca92a-f9d4-4a00-aa9e-6f672c82ea2e",
   "metadata": {},
   "outputs": [],
   "source": [
    "cube1 = Cube(4)\n",
    "cube2 = Cube(6)  "
   ]
  },
  {
   "cell_type": "code",
   "execution_count": 6,
   "id": "8d8a64d7-829e-449f-88a4-5a29ffdcee3b",
   "metadata": {},
   "outputs": [
    {
     "name": "stdout",
     "output_type": "stream",
     "text": [
      "Cube 1:\n",
      "Side: 4, Surface Area: 96, Volume: 64\n"
     ]
    }
   ],
   "source": [
    "print(\"Cube 1:\")\n",
    "print(cube1.display())  "
   ]
  },
  {
   "cell_type": "code",
   "execution_count": 7,
   "id": "e10f3eba-3113-46c4-81b5-3db94be79cd6",
   "metadata": {},
   "outputs": [
    {
     "name": "stdout",
     "output_type": "stream",
     "text": [
      "\n",
      "Cube 2:\n",
      "Side: 6, Surface Area: 216, Volume: 216\n"
     ]
    }
   ],
   "source": [
    "print(\"\\nCube 2:\")\n",
    "print(cube2.display()) "
   ]
  },
  {
   "cell_type": "code",
   "execution_count": null,
   "id": "4676ec19-5f0d-4c74-8d4e-9cc6b3b2c6c8",
   "metadata": {},
   "outputs": [],
   "source": []
  }
 ],
 "metadata": {
  "kernelspec": {
   "display_name": "Python 3 (ipykernel)",
   "language": "python",
   "name": "python3"
  },
  "language_info": {
   "codemirror_mode": {
    "name": "ipython",
    "version": 3
   },
   "file_extension": ".py",
   "mimetype": "text/x-python",
   "name": "python",
   "nbconvert_exporter": "python",
   "pygments_lexer": "ipython3",
   "version": "3.9.19"
  }
 },
 "nbformat": 4,
 "nbformat_minor": 5
}
