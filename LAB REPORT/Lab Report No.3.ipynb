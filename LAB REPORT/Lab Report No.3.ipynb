{
 "cells": [
  {
   "cell_type": "markdown",
   "id": "bc7bcc94-aff9-4415-bfde-6a756f58a9d2",
   "metadata": {},
   "source": [
    "<center><span style=\"\n",
    "    font-size: 30px;\n",
    "    font-family: castellar;\n",
    "    color: BLUE;\n",
    "    font-weight: bold;\n",
    "    letter-spacing: 1px;\n",
    "    text-shadow: 3px 1px 0px rgba(0, ,0, 1, 1)\n",
    "\">\n",
    "    LAB REPORT OF OOP AND DATA STRUCTARE\n",
    "</span></center>"
   ]
  },
  {
   "cell_type": "markdown",
   "id": "cfe70d89-baa2-4df4-9fec-24468e57b98d",
   "metadata": {},
   "source": [
    "<center><span style=\"\n",
    "    font-size: 25px;\n",
    "    font-family: Arial Black;\n",
    "    color: light green;\n",
    "    font-weight: bold;\n",
    "    letter-spacing: 1px;\n",
    "    text-shadow: 3px 1px 0px rgba(0, ,0, 1, 1)\n",
    "\">\n",
    "    Lab 3: List, Tuple, and Dictionary\"\n",
    "</span></center>"
   ]
  },
  {
   "cell_type": "markdown",
   "id": "4de165ea-ff97-4580-bd72-40640c9fb249",
   "metadata": {},
   "source": [
    "<center><span style=\"\n",
    "    font-size: 25px;\n",
    "    font-family: castellar;\n",
    "    color: red;\n",
    "    font-weight: bold;\n",
    "    letter-spacing: 1px;\n",
    "    text-shadow: 3px 1px 0px rgba(0, ,0, 1, 1)\n",
    "\">\n",
    "   Lab Title: EE-271 “OOP & Data Structures Lab” \n",
    "</span></center>"
   ]
  },
  {
   "cell_type": "markdown",
   "id": "1267f5de-f357-4593-9f90-ecb05445e4e3",
   "metadata": {},
   "source": [
    "**1. Make a list that contains the student name, the last four digits of the registration number as\n",
    "an integer, the CGPA as a float, and a list that contains GPA of all semesters. (Nested List)**"
   ]
  },
  {
   "cell_type": "code",
   "execution_count": 1,
   "id": "ce2dfdcf-f1fd-45f2-8535-fe68c62f00ca",
   "metadata": {},
   "outputs": [],
   "source": [
    "# list cantain student name, reg no and cgpa and all samester GPA\n",
    "student_info = ['M.KASHIF',517,3.91,[3.86,3.95]]"
   ]
  },
  {
   "cell_type": "code",
   "execution_count": 2,
   "id": "d8c3962b-9505-43bc-bd8a-ea11eb962314",
   "metadata": {},
   "outputs": [
    {
     "name": "stdout",
     "output_type": "stream",
     "text": [
      "['M.KASHIF', 517, 3.91, [3.86, 3.95]]\n"
     ]
    }
   ],
   "source": [
    "print(student_info)"
   ]
  },
  {
   "cell_type": "markdown",
   "id": "f4ab41be-ffbc-407b-8650-32d3f4c4faeb",
   "metadata": {},
   "source": [
    "--------------------"
   ]
  },
  {
   "cell_type": "markdown",
   "id": "e4be97c6-7cfb-483d-8162-1fb7ed72976d",
   "metadata": {},
   "source": [
    "**2. Use list inducing in the following nested list and access each and every element.**\n",
    "* **x = [\"a\", [\"bb\", [\"ccc\", \"ddd\"], \"ee\", \"ff\"], \"g\", [\"hh\", \"ii\"], \"j\"]**"
   ]
  },
  {
   "cell_type": "markdown",
   "id": "96c8e6d3-26ad-4fbb-b429-593ee2de0450",
   "metadata": {},
   "source": [
    "-------------"
   ]
  },
  {
   "cell_type": "code",
   "execution_count": 3,
   "id": "659eef76-20dc-44a8-9085-44770faaa294",
   "metadata": {},
   "outputs": [],
   "source": [
    "x = [\"a\", [\"bb\", [\"ccc\", \"ddd\"], \"ee\", \"ff\"], \"g\", [\"hh\", \"ii\"], \"j\"]"
   ]
  },
  {
   "cell_type": "code",
   "execution_count": 4,
   "id": "715a3176-9528-4f6c-ad50-496f08362099",
   "metadata": {},
   "outputs": [
    {
     "data": {
      "text/plain": [
       "'a'"
      ]
     },
     "execution_count": 4,
     "metadata": {},
     "output_type": "execute_result"
    }
   ],
   "source": [
    "x[0]"
   ]
  },
  {
   "cell_type": "code",
   "execution_count": 5,
   "id": "e39d6fe6-d808-411a-949c-3b8ec67b6bb7",
   "metadata": {},
   "outputs": [
    {
     "data": {
      "text/plain": [
       "'bb'"
      ]
     },
     "execution_count": 5,
     "metadata": {},
     "output_type": "execute_result"
    }
   ],
   "source": [
    "x[1][0]"
   ]
  },
  {
   "cell_type": "code",
   "execution_count": 6,
   "id": "414e9f98-b2b1-454d-96e6-d580eef3505a",
   "metadata": {},
   "outputs": [
    {
     "data": {
      "text/plain": [
       "'ccc'"
      ]
     },
     "execution_count": 6,
     "metadata": {},
     "output_type": "execute_result"
    }
   ],
   "source": [
    "x[1][1][0]"
   ]
  },
  {
   "cell_type": "code",
   "execution_count": 7,
   "id": "f1d274ae-eea4-45aa-b2fb-a22ffdd9d131",
   "metadata": {},
   "outputs": [
    {
     "data": {
      "text/plain": [
       "'ddd'"
      ]
     },
     "execution_count": 7,
     "metadata": {},
     "output_type": "execute_result"
    }
   ],
   "source": [
    "x[1][1][1]"
   ]
  },
  {
   "cell_type": "code",
   "execution_count": 8,
   "id": "e7b7ce40-d1b3-4d62-85a9-5b7f71c1bcdf",
   "metadata": {},
   "outputs": [
    {
     "data": {
      "text/plain": [
       "'ee'"
      ]
     },
     "execution_count": 8,
     "metadata": {},
     "output_type": "execute_result"
    }
   ],
   "source": [
    "x[1][2]"
   ]
  },
  {
   "cell_type": "code",
   "execution_count": 9,
   "id": "dd7afe69-89a4-4788-b551-8c6cf4a51c1c",
   "metadata": {},
   "outputs": [
    {
     "data": {
      "text/plain": [
       "'ff'"
      ]
     },
     "execution_count": 9,
     "metadata": {},
     "output_type": "execute_result"
    }
   ],
   "source": [
    "x[1][3]"
   ]
  },
  {
   "cell_type": "code",
   "execution_count": 10,
   "id": "0415efef-e4bd-417f-8a0b-8c16349c6961",
   "metadata": {},
   "outputs": [
    {
     "data": {
      "text/plain": [
       "'g'"
      ]
     },
     "execution_count": 10,
     "metadata": {},
     "output_type": "execute_result"
    }
   ],
   "source": [
    "x[2]"
   ]
  },
  {
   "cell_type": "code",
   "execution_count": 11,
   "id": "84e83319-4b45-414f-8007-141228c6b568",
   "metadata": {},
   "outputs": [
    {
     "data": {
      "text/plain": [
       "'hh'"
      ]
     },
     "execution_count": 11,
     "metadata": {},
     "output_type": "execute_result"
    }
   ],
   "source": [
    "x[3][0]"
   ]
  },
  {
   "cell_type": "code",
   "execution_count": 12,
   "id": "f3b7e3b3-c195-4777-8258-6bd137630890",
   "metadata": {},
   "outputs": [
    {
     "data": {
      "text/plain": [
       "'ii'"
      ]
     },
     "execution_count": 12,
     "metadata": {},
     "output_type": "execute_result"
    }
   ],
   "source": [
    "x[3][1]"
   ]
  },
  {
   "cell_type": "code",
   "execution_count": 13,
   "id": "6ca2f46c-97ac-4139-a7f9-dd0107e2e4f5",
   "metadata": {},
   "outputs": [
    {
     "data": {
      "text/plain": [
       "'j'"
      ]
     },
     "execution_count": 13,
     "metadata": {},
     "output_type": "execute_result"
    }
   ],
   "source": [
    "x[4]"
   ]
  },
  {
   "cell_type": "code",
   "execution_count": null,
   "id": "6b842e59-f1e2-4f5f-88d4-bb5cc5bfd246",
   "metadata": {},
   "outputs": [],
   "source": []
  },
  {
   "cell_type": "code",
   "execution_count": null,
   "id": "02d5c677-9075-41fe-ac86-16e3e8973633",
   "metadata": {},
   "outputs": [],
   "source": []
  },
  {
   "cell_type": "code",
   "execution_count": null,
   "id": "a81f8f6d-3060-422a-9227-c8670c6bf2bb",
   "metadata": {},
   "outputs": [],
   "source": []
  },
  {
   "cell_type": "code",
   "execution_count": null,
   "id": "5f45e2e1-b50d-4fbc-a3a0-c4b8cbbb6885",
   "metadata": {},
   "outputs": [],
   "source": []
  },
  {
   "cell_type": "code",
   "execution_count": null,
   "id": "396042f9-3e61-4c43-9864-484a6af7c7a5",
   "metadata": {},
   "outputs": [],
   "source": []
  }
 ],
 "metadata": {
  "kernelspec": {
   "display_name": "Python 3 (ipykernel)",
   "language": "python",
   "name": "python3"
  },
  "language_info": {
   "codemirror_mode": {
    "name": "ipython",
    "version": 3
   },
   "file_extension": ".py",
   "mimetype": "text/x-python",
   "name": "python",
   "nbconvert_exporter": "python",
   "pygments_lexer": "ipython3",
   "version": "3.9.19"
  }
 },
 "nbformat": 4,
 "nbformat_minor": 5
}
