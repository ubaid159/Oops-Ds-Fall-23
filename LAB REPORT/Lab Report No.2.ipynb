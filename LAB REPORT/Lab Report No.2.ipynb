{
 "cells": [
  {
   "cell_type": "markdown",
   "id": "b3755ae9-f75e-4dfa-9d4d-2fd2f6bbafb6",
   "metadata": {},
   "source": [
    "<center><span style=\"\n",
    "    font-size: 30px;\n",
    "    font-family: castellar;\n",
    "    color: BLUE;\n",
    "    font-weight: bold;\n",
    "    letter-spacing: 1px;\n",
    "    text-shadow: 3px 1px 0px rgba(0, ,0, 1, 1)\n",
    "\">\n",
    "    LAB REPORT OF OOP AND DATA STRUCTARE\n",
    "</span></center>"
   ]
  },
  {
   "cell_type": "markdown",
   "id": "1f61e019-dc7d-46e9-8bae-b8d877a89efc",
   "metadata": {},
   "source": [
    "<center><span style=\"\n",
    "    font-size: 25px;\n",
    "    font-family: Arial Black;\n",
    "    color: light green;\n",
    "    font-weight: bold;\n",
    "    letter-spacing: 1px;\n",
    "    text-shadow: 3px 1px 0px rgba(0, ,0, 1, 1)\n",
    "\">\n",
    "    Lab 2: Basic Python Data types, Built in Function and Function\"\n",
    "</span></center>"
   ]
  },
  {
   "cell_type": "markdown",
   "id": "21e8632d-f8b9-4887-9d70-134eec4d566c",
   "metadata": {},
   "source": [
    "<center><span style=\"\n",
    "    font-size: 25px;\n",
    "    font-family: castellar;\n",
    "    color: red;\n",
    "    font-weight: bold;\n",
    "    letter-spacing: 1px;\n",
    "    text-shadow: 3px 1px 0px rgba(0, ,0, 1, 1)\n",
    "\">\n",
    "    Lab Title: EE-271 “OOP & Data Structures Lab” \n",
    "</span></center>"
   ]
  },
  {
   "cell_type": "code",
   "execution_count": 1,
   "id": "38d34785-9916-4fe9-b8f0-68624b255e4e",
   "metadata": {},
   "outputs": [],
   "source": [
    "def calculate_voltage(current, resistance):\n",
    "    print(f\"current={current}A \\nresistance={resistance}ohms \\n voltage={current*resistance}v\")"
   ]
  },
  {
   "cell_type": "code",
   "execution_count": 2,
   "id": "60cd725b-8841-45ad-8b12-2fecededeffe",
   "metadata": {},
   "outputs": [
    {
     "name": "stdout",
     "output_type": "stream",
     "text": [
      "current=5A \n",
      "resistance=12ohms \n",
      " voltage=60v\n"
     ]
    }
   ],
   "source": [
    "calculate_voltage(5,12)\n"
   ]
  },
  {
   "cell_type": "code",
   "execution_count": 3,
   "id": "e122ea73-3775-42cd-af0a-2f82e41de995",
   "metadata": {},
   "outputs": [
    {
     "name": "stdout",
     "output_type": "stream",
     "text": [
      "current=6A \n",
      "resistance=9ohms \n",
      " voltage=54v\n"
     ]
    }
   ],
   "source": [
    "calculate_voltage(current=6,resistance=9)"
   ]
  },
  {
   "cell_type": "code",
   "execution_count": 4,
   "id": "863024cf-c22f-45eb-9ce0-851b524b7a28",
   "metadata": {},
   "outputs": [],
   "source": [
    "def calculate_voltage(current=1, resistance=1):\n",
    "    print(f\"current={current}A \\nresistance={resistance}ohms \\n voltage={current*resistance}v\")"
   ]
  },
  {
   "cell_type": "code",
   "execution_count": 5,
   "id": "4a9fee45-f871-4b9b-b41a-1312545b643e",
   "metadata": {},
   "outputs": [
    {
     "name": "stdout",
     "output_type": "stream",
     "text": [
      "current=1A \n",
      "resistance=1ohms \n",
      " voltage=1v\n"
     ]
    }
   ],
   "source": [
    "calculate_voltage()"
   ]
  },
  {
   "cell_type": "code",
   "execution_count": 6,
   "id": "2e34a235-1789-45e6-8a8b-312c28d8d212",
   "metadata": {},
   "outputs": [
    {
     "name": "stdout",
     "output_type": "stream",
     "text": [
      "current=7A \n",
      "resistance=1ohms \n",
      " voltage=7v\n"
     ]
    }
   ],
   "source": [
    "calculate_voltage(7)"
   ]
  },
  {
   "cell_type": "code",
   "execution_count": 7,
   "id": "fe823cc1-4c99-4aae-a5b0-cbc9a417dfc2",
   "metadata": {},
   "outputs": [
    {
     "name": "stdout",
     "output_type": "stream",
     "text": [
      "current=6A \n",
      "resistance=8ohms \n",
      " voltage=48v\n"
     ]
    }
   ],
   "source": [
    "calculate_voltage(6, resistance= 8)"
   ]
  },
  {
   "cell_type": "code",
   "execution_count": 8,
   "id": "59dd3c2a-5210-4460-b1ad-0973cc6fc1a2",
   "metadata": {},
   "outputs": [
    {
     "name": "stdout",
     "output_type": "stream",
     "text": [
      "current=9A \n",
      "resistance=4ohms \n",
      " voltage=36v\n"
     ]
    }
   ],
   "source": [
    "calculate_voltage(9,4)"
   ]
  },
  {
   "cell_type": "code",
   "execution_count": 9,
   "id": "58d1d839-b456-426d-967f-e53d002864d1",
   "metadata": {},
   "outputs": [
    {
     "name": "stdout",
     "output_type": "stream",
     "text": [
      "current=7A \n",
      "resistance=1ohms \n",
      " voltage=7v\n"
     ]
    }
   ],
   "source": [
    "calculate_voltage(7)"
   ]
  },
  {
   "cell_type": "code",
   "execution_count": 10,
   "id": "1ab72c66-c229-45f5-b331-0134b93a0dbd",
   "metadata": {},
   "outputs": [
    {
     "name": "stdout",
     "output_type": "stream",
     "text": [
      "current=4A \n",
      "resistance=1ohms \n",
      " voltage=4v\n"
     ]
    }
   ],
   "source": [
    "calculate_voltage(current=4)"
   ]
  },
  {
   "cell_type": "code",
   "execution_count": 11,
   "id": "d9911e7f-bcc4-4ae9-a8ba-c18ec0d20cf1",
   "metadata": {},
   "outputs": [
    {
     "name": "stdout",
     "output_type": "stream",
     "text": [
      "current=5A \n",
      "resistance=1ohms \n",
      " voltage=5v\n"
     ]
    }
   ],
   "source": [
    "calculate_voltage(5)"
   ]
  },
  {
   "cell_type": "code",
   "execution_count": 13,
   "id": "12b9e973-2cad-4038-80e9-4f952b552b20",
   "metadata": {},
   "outputs": [
    {
     "name": "stdout",
     "output_type": "stream",
     "text": [
      "current=7A \n",
      "resistance=1ohms \n",
      " voltage=7v\n"
     ]
    }
   ],
   "source": [
    "calculate_voltage(current=7)"
   ]
  },
  {
   "cell_type": "code",
   "execution_count": null,
   "id": "4950d7df-5dea-4d0e-9e7d-f0acff0b9cc2",
   "metadata": {},
   "outputs": [],
   "source": []
  },
  {
   "cell_type": "code",
   "execution_count": null,
   "id": "aaf81a1e-41dc-440e-aad2-f288a6e14a77",
   "metadata": {},
   "outputs": [],
   "source": []
  },
  {
   "cell_type": "code",
   "execution_count": null,
   "id": "365e5c44-b670-4f95-bd98-73da393e2762",
   "metadata": {},
   "outputs": [],
   "source": []
  },
  {
   "cell_type": "code",
   "execution_count": null,
   "id": "669e76ca-2ba9-4462-bb76-1dade820c020",
   "metadata": {},
   "outputs": [],
   "source": []
  },
  {
   "cell_type": "code",
   "execution_count": null,
   "id": "eacc6d40-4f5b-4e9b-8eb2-74a11da9d542",
   "metadata": {},
   "outputs": [],
   "source": []
  },
  {
   "cell_type": "code",
   "execution_count": null,
   "id": "75ea4178-2b39-445c-b9b0-77a31076a39d",
   "metadata": {},
   "outputs": [],
   "source": []
  },
  {
   "cell_type": "code",
   "execution_count": null,
   "id": "fee4026d-d535-4fdd-89ff-e937511f2a9f",
   "metadata": {},
   "outputs": [],
   "source": []
  },
  {
   "cell_type": "code",
   "execution_count": null,
   "id": "0dd32ef8-f7b3-4672-84a6-ab1712cec0ac",
   "metadata": {},
   "outputs": [],
   "source": []
  },
  {
   "cell_type": "code",
   "execution_count": null,
   "id": "1ebb88f1-9d2f-4c2d-ba02-5868a9032ae0",
   "metadata": {},
   "outputs": [],
   "source": []
  }
 ],
 "metadata": {
  "kernelspec": {
   "display_name": "Python 3 (ipykernel)",
   "language": "python",
   "name": "python3"
  },
  "language_info": {
   "codemirror_mode": {
    "name": "ipython",
    "version": 3
   },
   "file_extension": ".py",
   "mimetype": "text/x-python",
   "name": "python",
   "nbconvert_exporter": "python",
   "pygments_lexer": "ipython3",
   "version": "3.9.19"
  }
 },
 "nbformat": 4,
 "nbformat_minor": 5
}
