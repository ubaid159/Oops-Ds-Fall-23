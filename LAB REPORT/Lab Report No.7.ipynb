{
 "cells": [
  {
   "cell_type": "markdown",
   "id": "df998913-37f2-4d01-abc1-a853c8177688",
   "metadata": {},
   "source": [
    "# Lab Report Details\n",
    "\n",
    "| **Field**        | **Details**         |\n",
    "|-------------------|---------------------|\n",
    "| **Name**         | MUHAMMAD Ubaid        |\n",
    "| **Req No**       | 23jzele 0556         |\n",
    "| **Lab Report No**| 07                 |"
   ]
  },
  {
   "cell_type": "markdown",
   "id": "59b7b545-82c7-4c49-a671-1782eba72988",
   "metadata": {},
   "source": [
    "<center><span style=\"\n",
    "    font-size: 30px;\n",
    "    font-family: castellar;\n",
    "    color: BLUE;\n",
    "    font-weight: bold;\n",
    "    letter-spacing: 1px;\n",
    "    text-shadow: 3px 1px 0px rgba(0, ,0, 1, 1)\n",
    "\">\n",
    "    LAB REPORT OF OOP AND DATA STRUCTARE\n",
    "</span></center>"
   ]
  },
  {
   "cell_type": "markdown",
   "id": "fab5f624-ad32-4e06-bb4c-c0fe3b3c876d",
   "metadata": {},
   "source": [
    "<center><span style=\"\n",
    "    font-size: 25px;\n",
    "    font-family: Arial Black;\n",
    "    color: light green;\n",
    "    font-weight: bold;\n",
    "    letter-spacing: 1px;\n",
    "    text-shadow: 3px 1px 0px rgba(0, ,0, 1, 1)\n",
    "\">\n",
    "   Lab 7: Inheritance\n",
    "</span></center>"
   ]
  },
  {
   "cell_type": "markdown",
   "id": "53404630-71e6-4ba0-8586-e0ea03c646b5",
   "metadata": {},
   "source": [
    "<center><span style=\"\n",
    "    font-size: 25px;\n",
    "    font-family: castellar;\n",
    "    color: red;\n",
    "    font-weight: bold;\n",
    "    letter-spacing: 1px;\n",
    "    text-shadow: 3px 1px 0px rgba(0, ,0, 1, 1)\n",
    "\">\n",
    "    Lab Title: EE-271 “OOP & Data Structures Lab” \n",
    "</span></center>  "
   ]
  },
  {
   "cell_type": "markdown",
   "id": "b0d9937f-54d8-4a15-a686-822a33393183",
   "metadata": {},
   "source": [
    "## Problem 1:\n",
    "#### a.\tTake the example of the rectangle class in the last lab and inherit a square class from the rectangle class.  \n",
    "#### b.\tCreate two instances of the square class and call the instance methods."
   ]
  },
  {
   "cell_type": "code",
   "execution_count": 6,
   "id": "b617245f-b4b3-4185-b88b-f12476ead988",
   "metadata": {},
   "outputs": [],
   "source": [
    "class Rectangle:\n",
    "    def __init__(self, length, width):\n",
    "        self.length = length\n",
    "        self.width = width\n",
    "\n",
    "    def area(self):\n",
    "        return self.length * self.width  \n",
    "\n",
    "    def perimeter(self):\n",
    "        return 2 * (self.length + self.width) \n",
    "\n",
    "    def display(self):\n",
    "        return f\"Length: {self.length}, Width: {self.width}, Area: {self.area()}, Perimeter: {self.perimeter()}\""
   ]
  },
  {
   "cell_type": "code",
   "execution_count": 7,
   "id": "40c1a648-3864-4683-a6ed-0d6a735b8aa8",
   "metadata": {},
   "outputs": [],
   "source": [
    "class Square(Rectangle):\n",
    "    def __init__(self, side):\n",
    "        super().__init__(side, side)  \n",
    "\n",
    "    def display(self):\n",
    "        return f\"Side: {self.length}, Area: {self.area()}, Perimeter: {self.perimeter()}\"\n"
   ]
  },
  {
   "cell_type": "code",
   "execution_count": 8,
   "id": "62ecfc10-3030-43c6-85a8-325b0090f658",
   "metadata": {},
   "outputs": [],
   "source": [
    "square1 = Square(4)  \n",
    "square2 = Square(6)  "
   ]
  },
  {
   "cell_type": "code",
   "execution_count": 9,
   "id": "89d1f661-54c4-43ae-9aa5-ab102ba75673",
   "metadata": {},
   "outputs": [
    {
     "name": "stdout",
     "output_type": "stream",
     "text": [
      "Square 1:\n",
      "Side: 4, Area: 16, Perimeter: 16\n"
     ]
    }
   ],
   "source": [
    "print(\"Square 1:\")\n",
    "print(square1.display()) "
   ]
  },
  {
   "cell_type": "code",
   "execution_count": 10,
   "id": "3b16a8cc-a821-4141-a395-2fac3f28cfec",
   "metadata": {},
   "outputs": [
    {
     "name": "stdout",
     "output_type": "stream",
     "text": [
      "\n",
      "Square 2:\n",
      "Side: 6, Area: 36, Perimeter: 24\n"
     ]
    }
   ],
   "source": [
    "print(\"\\nSquare 2:\")\n",
    "print(square2.display())  "
   ]
  },
  {
   "cell_type": "code",
   "execution_count": null,
   "id": "f2173588-07cc-4e04-80e9-b49c5639c704",
   "metadata": {},
   "outputs": [],
   "source": []
  }
 ],
 "metadata": {
  "kernelspec": {
   "display_name": "Python 3 (ipykernel)",
   "language": "python",
   "name": "python3"
  },
  "language_info": {
   "codemirror_mode": {
    "name": "ipython",
    "version": 3
   },
   "file_extension": ".py",
   "mimetype": "text/x-python",
   "name": "python",
   "nbconvert_exporter": "python",
   "pygments_lexer": "ipython3",
   "version": "3.9.19"
  }
 },
 "nbformat": 4,
 "nbformat_minor": 5
}
